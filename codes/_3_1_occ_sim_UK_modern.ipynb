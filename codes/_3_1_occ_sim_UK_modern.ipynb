{
 "cells": [
  {
   "cell_type": "code",
   "execution_count": 28,
   "id": "c0332774-81be-4a93-be46-f8b4a7019d26",
   "metadata": {},
   "outputs": [],
   "source": [
    "import pandas as pd\n",
    "import numpy as np\n",
    "from sklearn.feature_extraction.text import CountVectorizer\n",
    "from sklearn.metrics.pairwise import cosine_similarity\n",
    "from scipy.sparse import csr_matrix\n",
    "from scipy.sparse import save_npz, load_npz\n",
    "from scipy.sparse import csr_matrix, save_npz, load_npz\n",
    "import dask.dataframe as dd\n",
    "import gc\n",
    "\n",
    "def batch_cosine_similarity(dtm, batch_size=1000):\n",
    "    num_rows = dtm.shape[0]\n",
    "    for start in range(0, num_rows, batch_size):\n",
    "        end = min(start + batch_size, num_rows)\n",
    "        yield cosine_similarity(dtm[start:end], dtm)\n",
    "\n",
    "import psutil\n",
    "def print_ram_usage(step = 0):\n",
    "    process = psutil.Process()\n",
    "    mem_info = process.memory_info()\n",
    "    print(f\"[{step}] RAM Usage: {mem_info.rss / (1024 ** 2):.2f} MB\")\n",
    "\n",
    "# # Load data (assuming data is in a CSV file, replace 'data.csv' with your actual file path)\n",
    "data = pd.read_csv('../int_data/Input_patent_matrix_UK_modern.csv')\n",
    "data = data.rename(columns = {\"publicationnumber\":\"i\"})\n",
    "data"
   ]
  },
  {
   "cell_type": "code",
   "execution_count": 4,
   "id": "e8405402-2184-4df6-9e28-a7ca0634221c",
   "metadata": {},
   "outputs": [],
   "source": [
    "# TODO: readme"
   ]
  },
  {
   "cell_type": "code",
   "execution_count": 8,
   "id": "c8e68e59-f631-48bd-8f8c-abc0acdf7c3b",
   "metadata": {},
   "outputs": [
    {
     "data": {
      "text/plain": [
       "(30646, 29819)"
      ]
     },
     "execution_count": 8,
     "metadata": {},
     "output_type": "execute_result"
    }
   ],
   "source": [
    "# data.i.nunique(), data.description.nunique(), data.recid.nunique(), data[['recid', 'i']].set_index(['recid', 'i']).index.is_unique, len(data[['recid', 'i']].set_index(['recid', 'i']))\n",
    "# unique 22,144 patent-inventor pairs\n",
    "\n",
    "data.i.nunique(), data.description.nunique()"
   ]
  },
  {
   "cell_type": "code",
   "execution_count": 9,
   "id": "0ea0dc73-534b-4ee7-b81e-a93ace43c68a",
   "metadata": {},
   "outputs": [
    {
     "data": {
      "text/html": [
       "<div>\n",
       "<style scoped>\n",
       "    .dataframe tbody tr th:only-of-type {\n",
       "        vertical-align: middle;\n",
       "    }\n",
       "\n",
       "    .dataframe tbody tr th {\n",
       "        vertical-align: top;\n",
       "    }\n",
       "\n",
       "    .dataframe thead th {\n",
       "        text-align: right;\n",
       "    }\n",
       "</style>\n",
       "<table border=\"1\" class=\"dataframe\">\n",
       "  <thead>\n",
       "    <tr style=\"text-align: right;\">\n",
       "      <th></th>\n",
       "      <th>i</th>\n",
       "      <th>publicationdate</th>\n",
       "      <th>title</th>\n",
       "      <th>description</th>\n",
       "      <th>industry_nacerev2</th>\n",
       "      <th>pos2</th>\n",
       "      <th>max</th>\n",
       "      <th>strcount</th>\n",
       "    </tr>\n",
       "  </thead>\n",
       "  <tbody>\n",
       "    <tr>\n",
       "      <th>0</th>\n",
       "      <td>GB2536787A</td>\n",
       "      <td>28/09/2016</td>\n",
       "      <td>PULTRUSION APPARATUS</td>\n",
       "      <td>APPARATUS FIELD INLET SPREADER PRODUCT USE PAR...</td>\n",
       "      <td>2229</td>\n",
       "      <td>-1</td>\n",
       "      <td>53757</td>\n",
       "      <td>470</td>\n",
       "    </tr>\n",
       "    <tr>\n",
       "      <th>1</th>\n",
       "      <td>GB2508787A8</td>\n",
       "      <td>10/09/2014</td>\n",
       "      <td>STABLE NON-AQUEOUS ELECTROLYTE PROMOTING IDEAL...</td>\n",
       "      <td>PRESENT LITHIUM BATTERY NEGATIVE ELECTRODE ACT...</td>\n",
       "      <td>4511</td>\n",
       "      <td>-1</td>\n",
       "      <td>426</td>\n",
       "      <td>14</td>\n",
       "    </tr>\n",
       "    <tr>\n",
       "      <th>2</th>\n",
       "      <td>GB2508787A</td>\n",
       "      <td>11/06/2014</td>\n",
       "      <td>STABLE NON-AQUEOUS ELECTROLYTE PROMOTING IDEAL...</td>\n",
       "      <td>PRESENT LITHIUM BATTERY NEGATIVE ELECTRODE ACT...</td>\n",
       "      <td>4511</td>\n",
       "      <td>-1</td>\n",
       "      <td>426</td>\n",
       "      <td>14</td>\n",
       "    </tr>\n",
       "    <tr>\n",
       "      <th>3</th>\n",
       "      <td>GB2501821B</td>\n",
       "      <td>14/09/2016</td>\n",
       "      <td>MS/MS ANALYSIS USING ECD OR ETD FRAGMENTATION</td>\n",
       "      <td>ANALYSIS FRAGMENTATION BACKGROUND PRESENT METH...</td>\n",
       "      <td>8541</td>\n",
       "      <td>-1</td>\n",
       "      <td>30934</td>\n",
       "      <td>346</td>\n",
       "    </tr>\n",
       "    <tr>\n",
       "      <th>4</th>\n",
       "      <td>GB2537930A</td>\n",
       "      <td>02/11/2016</td>\n",
       "      <td>A HYDRAULIC PUMP</td>\n",
       "      <td>HYDRAULIC PUMP KNOWN USE PROVIDE FLOW FLUID MA...</td>\n",
       "      <td>2910</td>\n",
       "      <td>-1</td>\n",
       "      <td>24512</td>\n",
       "      <td>276</td>\n",
       "    </tr>\n",
       "    <tr>\n",
       "      <th>...</th>\n",
       "      <td>...</td>\n",
       "      <td>...</td>\n",
       "      <td>...</td>\n",
       "      <td>...</td>\n",
       "      <td>...</td>\n",
       "      <td>...</td>\n",
       "      <td>...</td>\n",
       "      <td>...</td>\n",
       "    </tr>\n",
       "    <tr>\n",
       "      <th>23659</th>\n",
       "      <td>GB2462192B</td>\n",
       "      <td>31/10/2012</td>\n",
       "      <td>METHOD OF MANUFACTURING A COMPOSITE FILTER MEDIA</td>\n",
       "      <td>METHOD COMPOSITE FILTER MEDIA BACKGROUND FIELD...</td>\n",
       "      <td>2825</td>\n",
       "      <td>-1</td>\n",
       "      <td>23782</td>\n",
       "      <td>400</td>\n",
       "    </tr>\n",
       "    <tr>\n",
       "      <th>23660</th>\n",
       "      <td>GB2503578A</td>\n",
       "      <td>01/01/2014</td>\n",
       "      <td>METHOD AND SYSTEM FOR COUPLING RESERVOIR AND S...</td>\n",
       "      <td>TITLE METHOD SYSTEM COUPLING RESERVOIR SURFACE...</td>\n",
       "      <td>1920</td>\n",
       "      <td>-1</td>\n",
       "      <td>1003</td>\n",
       "      <td>24</td>\n",
       "    </tr>\n",
       "    <tr>\n",
       "      <th>23661</th>\n",
       "      <td>GB2487971A</td>\n",
       "      <td>15/08/2012</td>\n",
       "      <td>SKIN SUTURE INSERTION APPARATUS AND DRAIN SECU...</td>\n",
       "      <td>SUTURE INSERTION APPARATUS DRAIN PRESENT SKIN ...</td>\n",
       "      <td>3250</td>\n",
       "      <td>-1</td>\n",
       "      <td>21990</td>\n",
       "      <td>280</td>\n",
       "    </tr>\n",
       "    <tr>\n",
       "      <th>23662</th>\n",
       "      <td>GB2477687B</td>\n",
       "      <td>10/04/2013</td>\n",
       "      <td>X-RAY MARKER</td>\n",
       "      <td>MARKER PRESENT PARTICULAR DETERMINE MAGNIFICAT...</td>\n",
       "      <td>3250</td>\n",
       "      <td>-1</td>\n",
       "      <td>22918</td>\n",
       "      <td>360</td>\n",
       "    </tr>\n",
       "    <tr>\n",
       "      <th>23663</th>\n",
       "      <td>GB2487971B</td>\n",
       "      <td>09/11/2016</td>\n",
       "      <td>SKIN SUTURE INSERTION APPARATUS AND DRAIN SECU...</td>\n",
       "      <td>SUTURE INSERTION APPARATUS DRAIN PRESENT SKIN ...</td>\n",
       "      <td>3250</td>\n",
       "      <td>-1</td>\n",
       "      <td>21990</td>\n",
       "      <td>280</td>\n",
       "    </tr>\n",
       "  </tbody>\n",
       "</table>\n",
       "<p>23664 rows × 8 columns</p>\n",
       "</div>"
      ],
      "text/plain": [
       "                 i publicationdate  \\\n",
       "0       GB2536787A      28/09/2016   \n",
       "1      GB2508787A8      10/09/2014   \n",
       "2       GB2508787A      11/06/2014   \n",
       "3       GB2501821B      14/09/2016   \n",
       "4       GB2537930A      02/11/2016   \n",
       "...            ...             ...   \n",
       "23659   GB2462192B      31/10/2012   \n",
       "23660   GB2503578A      01/01/2014   \n",
       "23661   GB2487971A      15/08/2012   \n",
       "23662   GB2477687B      10/04/2013   \n",
       "23663   GB2487971B      09/11/2016   \n",
       "\n",
       "                                                   title  \\\n",
       "0                                   PULTRUSION APPARATUS   \n",
       "1      STABLE NON-AQUEOUS ELECTROLYTE PROMOTING IDEAL...   \n",
       "2      STABLE NON-AQUEOUS ELECTROLYTE PROMOTING IDEAL...   \n",
       "3          MS/MS ANALYSIS USING ECD OR ETD FRAGMENTATION   \n",
       "4                                       A HYDRAULIC PUMP   \n",
       "...                                                  ...   \n",
       "23659   METHOD OF MANUFACTURING A COMPOSITE FILTER MEDIA   \n",
       "23660  METHOD AND SYSTEM FOR COUPLING RESERVOIR AND S...   \n",
       "23661  SKIN SUTURE INSERTION APPARATUS AND DRAIN SECU...   \n",
       "23662                                       X-RAY MARKER   \n",
       "23663  SKIN SUTURE INSERTION APPARATUS AND DRAIN SECU...   \n",
       "\n",
       "                                             description  industry_nacerev2  \\\n",
       "0      APPARATUS FIELD INLET SPREADER PRODUCT USE PAR...               2229   \n",
       "1      PRESENT LITHIUM BATTERY NEGATIVE ELECTRODE ACT...               4511   \n",
       "2      PRESENT LITHIUM BATTERY NEGATIVE ELECTRODE ACT...               4511   \n",
       "3      ANALYSIS FRAGMENTATION BACKGROUND PRESENT METH...               8541   \n",
       "4      HYDRAULIC PUMP KNOWN USE PROVIDE FLOW FLUID MA...               2910   \n",
       "...                                                  ...                ...   \n",
       "23659  METHOD COMPOSITE FILTER MEDIA BACKGROUND FIELD...               2825   \n",
       "23660  TITLE METHOD SYSTEM COUPLING RESERVOIR SURFACE...               1920   \n",
       "23661  SUTURE INSERTION APPARATUS DRAIN PRESENT SKIN ...               3250   \n",
       "23662  MARKER PRESENT PARTICULAR DETERMINE MAGNIFICAT...               3250   \n",
       "23663  SUTURE INSERTION APPARATUS DRAIN PRESENT SKIN ...               3250   \n",
       "\n",
       "       pos2    max  strcount  \n",
       "0        -1  53757       470  \n",
       "1        -1    426        14  \n",
       "2        -1    426        14  \n",
       "3        -1  30934       346  \n",
       "4        -1  24512       276  \n",
       "...     ...    ...       ...  \n",
       "23659    -1  23782       400  \n",
       "23660    -1   1003        24  \n",
       "23661    -1  21990       280  \n",
       "23662    -1  22918       360  \n",
       "23663    -1  21990       280  \n",
       "\n",
       "[23664 rows x 8 columns]"
      ]
     },
     "execution_count": 9,
     "metadata": {},
     "output_type": "execute_result"
    }
   ],
   "source": [
    "# Count the number of words in the 'description' column\n",
    "data['strcount'] = data['description'].str.split().str.len()\n",
    "# Filter the data based on the word count\n",
    "# Too long or too short patents are filtered\n",
    "data = data[(data['strcount'] > 10) & (data['strcount'] <= 500)].reset_index(drop = True)\n",
    "data"
   ]
  },
  {
   "cell_type": "code",
   "execution_count": 10,
   "id": "ea9f77ee-4221-46cf-be7d-dd3753052ca0",
   "metadata": {},
   "outputs": [
    {
     "data": {
      "text/plain": [
       "(description_len\n",
       " 2516    26\n",
       " 2268    22\n",
       " 2902    21\n",
       " 3036    21\n",
       " 2147    21\n",
       "         ..\n",
       " 1229     1\n",
       " 4048     1\n",
       " 4008     1\n",
       " 773      1\n",
       " 4117     1\n",
       " Name: count, Length: 3624, dtype: int64,\n",
       " 0)"
      ]
     },
     "execution_count": 10,
     "metadata": {},
     "output_type": "execute_result"
    }
   ],
   "source": [
    "data['description_len'] = data.description.apply(len)\n",
    "data['description_len'].value_counts(), data['description_len'].isna().sum()"
   ]
  },
  {
   "cell_type": "markdown",
   "id": "c5eb7a1d-8126-4d4f-afd5-d86c52bb443c",
   "metadata": {},
   "source": [
    "- All description are present and longer than 0"
   ]
  },
  {
   "cell_type": "code",
   "execution_count": 11,
   "id": "e782a1e3-7e35-48f5-bb9a-8ed191aa885c",
   "metadata": {},
   "outputs": [
    {
     "data": {
      "text/plain": [
       "(23664, 23039)"
      ]
     },
     "execution_count": 11,
     "metadata": {},
     "output_type": "execute_result"
    }
   ],
   "source": [
    "# data.i.nunique(), data.description.nunique(), data.recid.nunique(), data[['recid', 'i']].set_index(['recid', 'i']).index.is_unique, len(data[['recid', 'i']].set_index(['recid', 'i']))\n",
    "# unique 22,120 patent-inventor pairs\n",
    "\n",
    "data.i.nunique(), data.description.nunique() # Two patents share the same description"
   ]
  },
  {
   "cell_type": "code",
   "execution_count": 12,
   "id": "e3d0a910-cb01-440b-8a41-d38d089b4879",
   "metadata": {
    "scrolled": true
   },
   "outputs": [
    {
     "data": {
      "text/plain": [
       "description\n",
       "DIFFUSER FIELD PRESENT HAIR BACKGROUND KNOWN FORM ATTACHMENT ATTACHED OUTLET REDUCE VELOCITY INCIDENT UPON GENERALLY BAFFLE GRILLE CONNECTED AIR INLET TAPERING WALL CHAMBER WITHIN SET UPSTANDING CONTACT USER SUMMARY FIRST LEAST ONE EXTERNAL PLURALITY PART INTERNAL SAID ARRAY PROVIDING PEAK FLOW IMPROVE WAY DISTRIBUTION PREFERABLY PERFORATED PLATE DIFFERENT CONCAVE WHEREAS SUBSTANTIALLY SIZE CIRCULAR TAPER INWARDLY TOWARDS SURFACE DIAMETER NOISE APERTURE PERIMETER SHARPER CURVATURE RADIUS RANGE MAY FORMED METALLIC CASE ETCHING PLASTICS MOLDING EVENLY ENTIRETY DEFINED OUTWARDLY DIRECTION EXTENDING SPACED PREFERRED MIDWAY LEDGE INHIBIT LEAKAGE CONNECTOR SECOND EXAMPLE MALE FEMALE LONGITUDINAL AXIS COMPRISE ANGULAR ALIGNMENT ANGULARLY ALIGN RELATIVE CENTRAL FIXED POSITION CONNECTION SINGLE CENTERED EMBODIMENT ANNULAR SUITABLE USE TYPE CONTENTS INCORPORATED HEREIN HOT SLOT ALTERNATIVE PATTERN CONCENTRIC PREVENT BECOMING CHANNEL EMIT RADIALLY INWARD OUTWARD EMISSION TWO DISTRIBUTE RELATIVELY THROUGHOUT WHEREIN INNER OUTER NUMBER FOUR EQUALLY OFFSET OVERLAP PROJECTION CONICAL PORTION THIRD SURROUNDING COVER REGION DEVOID PERIPHERAL ADJACENT SEPARATING WITHOUT ENHANCE EVENNESS FOURTH AREA CENTRALLY AROUND WIDTH RADIAL GREATER DISTANCE DENSE NEIGHBORING MAJORITY SHAPE ENCOURAGE WATER DROPLET FALLING DRYING WET MENISCUS TENSION ACCUMULATION OPPOSED PASSING ENTER FIFTH AMONGST BORE NECESSARILY CORRESPOND RESPECTIVE AXES PARALLEL REMOTE SIDE ANGLED TIP LENGTH HALF ELONGATE TIME DRY VARIOUS DIVIDED FACE SIXTH AWAY TWICE ALTERNATE EVENT DESIRABLE HEATING DRAINAGE SEVENTH HOLE SURROUND POSITIONED RECEIVE RUN ALONG DRAIN DIRECTLY EXPOSED RISK BLOCKED PORT DRAINED SHAPED OTHERWISE GUIDE ALSO THEREON EXTEND USED COMBINATION THUS TEMPERATURE ALLOW LEAVE AMBIENT SUBSEQUENTLY FOLLOWING FLUID COMMUNICATION EIGHTH DEFINE PROXIMATE ANOTHER SPACE ENGAGING PROVIDE MEMBER DISPOSED INTEGRAL NYLON TECHNIQUE JOINING ULTRASONIC CIRCUMFERENTIALLY WELD THEREFROM SHELF FLANGE RIM PLANAR OPPOSITE WELDING TOOL NINTH SIMULTANEOUSLY TENTH METHOD ENGAGE ELEVENTH ASPECT APPLICABLE VICE BRIEF DESCRIPTION LISA LEFT FRONT PERSPECTIVE RIGHT REAR TOP VIEW BOTTOM EXPLODED SECTIONAL TAKEN LINE DETAILED SIX CYLINDRICAL REGULARLY SPACING PARTICULAR SHOWN PROMOTE DIFFUSED ALTERNATIVELY HEIGHT APPROXIMATELY SMALLER TWELVE SIMILAR DISC PERIPHERY SHIELD DETAIL ASSEMBLY SERVE PLACE WARM COOL GLASS FILLED ASSEMBLE RECEIVED PAIR ENSURE ACCURATELY RIB SECURE UNDERSIDE JOINT BENEATH JOIN MAGNET                                                                                                                                                                                                                                                                                                                                                                                                                                                                                                                                                                                                                                                                                                                                                                                                                                                                                                                                                                                                                                                                                                                                                                                                                                                                                                                                                                                                                                                                                     7\n",
       "APPARATUS CONVERTING MOTION PRESENT ONE MAY USED STRAIGHT LINE PARTICULAR COMPONENT ROTATIONAL MOVEMENT SECOND DISPLACE ROTATE FIRST RESPECT KNOWN MEMBER ROTATABLE AXIS PASSING LINKED ASSOCIATED ARRANGEMENT EARLY INCLUDE MECHANISM DESIGN JAMES SERIES THREE LEVERS TWO FREE CAUSING MIDDLE LEVER FOLLOW CLOSE APPROXIMATION PORTION RELATED LINKAGE CONSTRAINED SEVEN CONVERSION CIRCULAR LINEAR VICE HALF BEAM CONVERTED PERPENDICULAR DESIGNED SCOTT ANALYSIS VARIETY PROVIDED ROBOT KINEMATICS ACADEMIC US DISCLOSED INDUSTRIAL MANIPULATOR LEAST SAID LINK PLURALITY PIVOTALLY CONNECTED LINKS SUPPORT ALTERNATELY DIRECTION ALONG PATH THEREAFTER OPPOSITE CURVED WEIGHT BALANCED USE COUNTER PROVIDE LIFTING CAM EMPLOYED CONTROL FORMED PAIR PARALLELOGRAM COMBINATION UNIFORM ANGULAR DISPLACEMENT TRANSFER DEVICE TRANSFERRING WORKPIECE LOCATION TROCHOIDAL ARC PICKUP ARM MOUNTED ROLL FLAT STATIC BASE PLATFORM ASSEMBLY MOVE ARMS RESPECTIVE PIVOT STILL WO RELATIVE ELEMENT CONNECTION FORM SYSTEM PLANE PARALLEL COUPLED ALLOW MUTUALLY ARTICULATED UNIT POWER APPLIED NEED PROVIDING RESPONSE WOULD ADVANTAGEOUS COULD COMPACT THEREBY SMALL VOLUME ROTARY FOUND UPON FIVE ACCORDING POSITION THEREON FIXED SPACED APART THIRD EXTENDING DISPOSED OPERATION ROTATION POINT NOTED SUBSTANTIALLY SINE WAVE HIGH LOW LYING DEPEND LENGTH PREFERRED DISTAL PREFERABLY EXTENT PRECISE DISTANCE EXCEEDING HEREIN PATTERN DEVIATION EMBODIMENT APPROXIMATE RETRACTED EXTENDED JOINING DISTANT MOVING MAXIMUM TRAVELLED GENERALLY INSIGNIFICANT CONTEXT PRACTICAL ANOTHER VARIED DEPENDING LONGER SLIGHTLY GREATER SHORTER CLOSER LESS NUMBER SIGNIFICANT AWAY CONSIDERED MOVABLE MANY ADVANTAGE PRIOR ART VERSATILE RANGE CONFINED SIDE EXTERIOR SURFACE BUILDING WITHOUT SPACE INTERIOR WITHIN ADJACENT PARTICULARLY DEFINED HEREINBEFORE UNDERSTOOD TERM GENERAL REGARDLESS SHAPE SPECIFIC USEFUL ABLE CONVERT LIMITED CONTINUED BEYOND SIMULTANEOUS ALSO EXAMPLE DESIRED ANGLE DRIVE ELONGATE BAR SUITABLE SPINDLE AXLE FUNCTION DRIVING FORCE THERETO DRIVEN ACTION EITHER RESULTING TURN RESULT APPLICATION SELECTED DETAIL RATIO THEREFORE LONG LARGE RADIUS TAKING DETERMINED TOGETHER EQUAL ALTERNATIVE ACTS ASSIST SUPPORTING LOAD REQUIREMENT MANNER FACTOR OVERALL STRENGTH STABILITY REDUCING LIMIT LIMITING FLEXIBLE TIE TETHER FOLDED CONDITION FULLY ACCORDANCE CRITERIA FOLD LIE HIGHLY WIDE SCALES WHEREIN EXTENSIVE ROTATING RELATIONSHIP OPPOSING SIDES STRUCTURE PART APARTMENT OFFICE MOBILE CARAVAN INSTALLATION FLOOR ROOF OPERATING PAST SUPER EXTEND TEMPORARY ROAD SOLAR PANEL ROTATED ORIENTATION ARRAY SIMPLIFIED DIAGRAMMATICAL REPRESENTATION B PARTIALLY C E F G PERSPECTIVE CONJOINED SHOWN TURNING RELATION H X EXEMPLARY SET TABLE DIMENSION FOURTH SEQUENCE FRAME MOUNTING APPROPRIATE MINIMUM AMOUNT LEFT FOLLOWING TRACING ARCUATE LEFTWARDS FINALLY CONFIGURATION RECTANGULAR UPRIGHT LOWER HORIZONTAL SIMPLE PIN SIMILARLY REMAIN SIZING RESTRICTED SIMILAR PIVOTAL FOLDABLE LEG CORNER MAJOR LIKE ATTACHED UPWARDS EFFECTIVE CASE LIKELY ACUTE UNFOLD GRAVITY INDIVIDUAL REVERSE VERTICAL ACCURATE ANALOGOUS DEPLOY                                                                                                                                                                                                                                                                                                                                                                                                                                                                                                                                                                                                                                                                                                                                                                                                                                                                                             6\n",
       "LIGHTING APPLICATION PASSENGER TRANSPORT CONCERNED AIRCRAFT CABIN EMBODIMENT LIGHT ELONGATE CASING HOUSING WHEREIN BASE COVER TOGETHER ALONG SIDES BRACKET MOUNTING CONNECTOR PORTION ADJUSTABLE CHANGE ORIENTATION SOURCE VIA INTERFACE INTENSITY COLOUR OUTPUT SYSTEM ELECTRICAL PHOTOLUMINESCENT CHARGE FOREGOING SUMMARY THUS NECESSITY SKILLED ART APPRECIATE ILLUSTRATIVE INTENDED WAY INVENTIVE HEREIN BECOME APPARENT DETAILED DESCRIPTION SET FORTH TAKEN CONJUNCTION SECTIONAL VIEW EXPLODED PERSPECTIVE CEILING UNIT SHOWN SHOWING ATTACHED FOUR SIMILAR DIFFERENT WALL FIRST SCHEMATIC INTERIOR WITHIN FUSELAGE PROVIDED CENTRAL AISLE MOVEMENT BOARDING LEAVING SPACED APART LENGTH OVERHEAD STORAGE EXTEND SIX THREE EITHER SIDE UNDERSTOOD HOWEVER NUMBER LAYOUT MAY VARY ACCORDING TYPE LIMITING SCOPE TOP UNDERSIDE PREFERABLY ILLUMINATE COMPRISE SUITABLE FLUORESCENT DIODE LED BRIGHTNESS POWER SUPPLY OPERATION FLIGHT CREW DETAIL PLURALITY MOUNTED SUPPORT MEMBER LEAST ONE PRINTED CIRCUIT INCLUDE PROVIDE VISIBLE WHITE CONNECTABLE RECEIVED OPENING CAP MATING CABLE CONNECT CONNECTED SEPARATE INDEPENDENTLY TRANSPARENT MADE METAL EXAMPLE ALTHOUGH USED PLASTICS EXTRUSION CUT LONGITUDINAL ENGAGE SECURE SNAP ACTION CLIPPED ONTO INTERNAL CHANNEL RECEIVE RETAIN EXTERNAL RIB LOCATE MOUNT WHOLLY ASSIST ILLUMINATION FASTENER ATTACH RECTANGULAR SURFACE RELEASABLE RANGE ADAPT DEPENDING ADEQUATE INSTALLATION ANGLE CHOSEN ORIENTATE CONTROL DIRECTION FIXED ANGLES INSTALLER SELECT FIT APPROPRIATE PIVOTAL RELATIVE ADJUST HINGE DEVICE PIVOT CONTINUOUS ADJUSTMENT SCREW ADJUSTER STEPWISE RATCHET ILLUSTRATION AREA COVERED REFLECTION REFLECTED CONCENTRATED COMBINATION EMERGENCY EMPLOY MATERIAL EXPOSED EMIT PERIOD TIME LONGER INCORPORATED NORMAL WORKING DUE LOSS WIRING BLOCKED PRESENCE SMOKE RESULT DEFINE PATH MOVE EXIT STRAIGHT NEAR FLOOR LEVEL EXPOSURE NECESSARY MAINTAIN DESIRABLE FULLY CONDITION DURATION INEFFECTIVE REGION REDUCED PRIOR LIKE INDICATE THEREFORE INTEGRAL COULD WITHOUT ALLOW TWO SERIES POWERED BLEND SUITE GIVEN REMOTE COMMUNICATE WIRELESS WIRED LINK TRANSMITTER RECEIVER CALIBRATION ACCESS MEMORY PREVENT INADVERTENT SEQUENCE CORRECT ORDER PERMITTED WINDOW USEFUL BROKEN NEW MATCH LOW MEDIUM HIGH SETTING LOCATION                                                                                                                                                                                                                                                                                                                                                                                                                                                                                                                                                                                                                                                                                                                                                                                                                                                                                                                                                                                                                                                                                                                                                                                                                                                                                                                                                                                                                                                                                                                                                                                                                                                                                                                                                              4\n",
       "VARIATOR BACKGROUND MECHANICAL TRANSMISSION COMPONENT TWO ROTATABLE ROTATIONAL RELATED ONE ANOTHER RATIO VARY MINIMUM MAXIMUM SUBSTANTIALLY STEPLESS FULL TOROIDAL RANGE KNOWN ELEMENT CONNECTED RESPECTIVE RACE WITHIN FIXED ROTATION ROTATE COMMON AXIS WORKING FACE DIRECTION PARALLEL ANNULAR RECESS ARCUATE FORMED COAXIAL RADIUS RESPECT CROSS LIE HYPOTHETICAL PLANE SPACED EQUALLY EXTENDING CIRCLE AROUND TORUS OPPOSITE BOUNDARY SPACE SEVERAL ROLLING PROVIDED SURFACE CONTACT DISCUSSION CARRIED CARRIAGE UPON TURN TORQUE APPLIED INPUT OUTPUT RESPONSE CIRCULAR LOCUS LOCI GENERALLY EQUAL SPEED GREATER LESSER ALTER MOVEMENT LEAST OPERATING EQUILIBRIUM RADII SYMMETRICALLY DISPOSED DESCRIPTION OPERATE TRACTION PARTIALLY PROPERTY VISCOSITY RAPIDLY PRESSURE FLUID DRAWN CREATE THIN LAYER LITERALLY ORDER ACHIEVE SATISFACTORY LOAD TOWARDS ALONG BALANCE REQUIREMENT PROVIDING SUFFICIENT LOADING PRODUCE ADEQUATE LOW ENOUGH COMPROMISE EFFICIENCY DURABILITY MANY MAY SLIGHT GENERAL ARRANGEMENT GREAT POSSIBLE CONCERNING MOUNTING NUMBER CONFIGURATION MODIFICATION TRAIN NOTED INCORPORATED USE DEFINE TAKEN FUNCTIONAL STRUCTURAL LIMITATION SIMPLY ENTIRELY SYMMETRICAL TYPICALLY CHOSEN PROVIDE CONCISE UNDERSTANDABLE PARTICULAR CASE PRIME FINAL DRIVE SYSTEM INDICATE NORMAL POWER FLOWING UNDERSTOOD VEHICLE OVERRUN ENGINE ACTUALLY CAUSE FLOW REMAINDER TERM REFER UNLESS CONTEXT CONTROL MAIN USED DIRECT EQUIVALENT FEATURE NATURE ENABLE PRESENT DESIGN FREEDOM REACTION SMALL ANGLE MOVE AXIALLY FORCE NOTE FIRST TILT DIRECTLY ACTS TANGENTIAL MUST ACTUATOR MAINTAIN CORRESPONDING STATIONARY ACTING BECOME AXES GEOMETRY COUPLE THEREFORE WAY REDUCE IMBALANCE NEW RETURN DUE ACCOMMODATE NEAREST SIMILARITY MULTIPLE ROLLER RESPONSIVE EXPERIENCED FUNDAMENTAL PRINCIPLE DESIRED CONDITION TARGET AIM WITHOUT POINT RADIALLY ACROSS SHEARING REGION HIGHLY LEVEL ACTUATION SIGNIFICANT COSTLY DELIVER HENCE COAXIALLY MOUNTED CAVITY DEFINED PLURALITY DRIVING ENGAGEMENT ASSEMBLY FREE PIVOT PASSING PERPENDICULAR WHEREBY CHANGE WHEREIN PIVOTAL PITCH MEMBER OPERATIVE UNDERTAKE SAID THEREBY URGING RELATIVE DISC INVOLVE SUBSTANTIAL TRANSLATIONAL WORK DONE CONSIDERING PATCH NECESSARILY MOVING VELOCITY ALSO ROTATING VECTOR GAINS DIRECTED AWAY RISE SHEAR ASYMPTOTICALLY APPROACH OPTIONALLY DISTANT ARC PREFERABLY OFFSET CASTOR ASSOCIATED CONSTRAINED COUPLING SECOND BEARING TOGETHER FOUR POSITION PITCHING STEER LOCATION OUTWARD CYLINDER PERIPHERY COMPRISE SINGLE PART MOVABLE OPERATIVELY COUPLED SLOT SLIDING STEM JOINT EITHER LONGITUDINALLY CARRIER LONGITUDINAL PRECESSION SIDE TYPICAL PREFERRED WHOLLY BORNE SEPARATELY PIVOTALLY INCLUDE DAMPER DAMPEN RADIAL LIMIT RESILIENT EFFECTIVELY LESS YET EXCLUSIVELY COINCIDENT EXTENDED ABLE RESULTING BEAR LINKED PARTICULARLY USEFUL AUXILIARY DRIVEN ESPECIALLY BENEFICIAL SUITABLY INTERNAL COMBUSTION SUPERCHARGER ACCORDING APPLICATION PASSENGER LIGHT ROAD COMPLEXITY WEIGHT KEPT RECEIVE SET EPICYCLIC GEARSET CENTRIFUGAL DETAIL LISA PERSPECTIVE VIEW EMBODIMENT SHOWN TOP ELEVATION THIRD TWIN BALANCING FOURTH THREE PER AXIAL FIFTH READING SUITABLE ATTENTION GIVEN FORTH INTRODUCTORY SHOW DIFFERENT SHAPED INNER DOTTED SIMILAR FACING THUS FORMING BOUNDED FORM APPROXIMATELY CYLINDRICAL OUTER OPERATION COULD ALTERNATIVELY FORK P SLIDER SUPPORT RECIPROCAL LINEAR PEG STOP TRAVEL BACK ARROW V ALTERNATIVE CONSTRAIN LINEARLY PROJECTING PIN CLOSE FIT ALLOW SMOOTH ENGAGING LOCATE MEAN STEERING SITUATED MOTION MOMENTARILY EXPERIENCE FIND PATH RESISTANCE REACH COMBINATION UNDERGO TILTING OPTIMAL SHAPE ONTO ALONE GIMBAL FREELY ILLUSTRATE TRANSMIT PURPOSE ELONGATE LINEAL MANNER CAUSING CONNECTION BODY APERTURE SHAFT PROJECT CASING BLOCK WOULD URGE RESTRAINING PORTION SPHERICAL CLEARANCE AVOID FOULING EXAMPLE SIDES HYDRAULIC ROD PRECEDING YOKE BAR SEEN CRADLE COMPRESSED DEFLECT CERTAIN EMPLOYED SIGNAL PLACE OUTWARDLY RESPONSIBLE MINIMAL INTRUSION EXTEND BEYOND LITTLE AVAILABLE PHYSICAL REMOTE    4\n",
       "FAN ASSEMBLY FIELD PRESENT FLOOR TOWER PEDESTAL BACKGROUND CONVENTIONAL DOMESTIC TYPICALLY SET MOUNTED ROTATION DRIVE APPARATUS ROTATING GENERATE AIR MOVEMENT CIRCULATION FLOW BREEZE USER COOLING HEAT DISSIPATED CONVECTION GENERALLY WITHIN CAGE HOUSING COMING CONTACT USE US CAGED PROJECT BASE IMPELLER DRAWING SERIES ANNULAR CONNECTED OUTLET FRONT NOZZLE BORE AXIS DEFINE SHAPE AIRFOIL MAY CONSIDERED LEADING EDGE REAR TRAILING CHORD LINE EXTENDING PARALLEL EMIT DIRECTION AWAY ALONG SUMMARY FIRST INNER WALL PROFILE PLANE PART SURFACE TOWARDS LEAST INTERIOR PASSAGE HEREAFTER PRIMARY SURROUNDING THUS ACTS AMPLIFIER SUPPLY SECONDARY DRAWN ROOM REGION EXTERNAL ENVIRONMENT FORM FORWARD NATIONAL ADVISORY COMMITTEE AERONAUTICS PREFERABLY SYMMETRICAL CASE STRAIGHT ASYMMETRICAL CURVED OUTER TOGETHER DESIRED INWARDLY TAPERING OUTWARDLY FOUND VARIATION VARY DEGREE ENTRAINMENT RATE COMBINED HEREIN ABSOLUTE RELATIVE MAXIMUM MADE RESPECT DISTANCE THREE TIMES DIAMETER WITHOUT WISHING BOUND CONSIDER RELATED MAGNITUDE AREA RELATIVELY INCREASING WHEREAS DECREASING VELOCITY SUITABLE GENERATING DESK RAPIDLY ANGLE INCLINATION SAID PREFERRED RANGE BOUNDED CIRCULAR COMPRISE PLURALITY SPACED RESPECTIVE ANGLED PORTION ADJACENT SHAPED DIRECT PROVIDED ALTERNATIVE UNDESIRABLY INCREASE SIZE EITHER UNDULY SECOND ASPECT SURROUNDED WHEREIN DEPENDING SUBSTANTIALLY EMBODIMENT MAJORITY SECTION ONE THIRD CONSTANT CURRENT SIGNIFICANT CHANGE VALUE MINIMUM REGULARLY IRREGULARLY EXTREMITY LOWER RATHER ALSO SIDE PARTICULARLY OFFICE DELIVER SIMULTANEOUSLY NUMBER PROXIMITY CONTINUOUSLY CONVEY FACILITATE CHANNEL TUBULAR CONVERGENT ORTHOGONAL EXTEND ALLOW FIFTH SIXTH SEVENTH DRIVEN MOTOR VARIABLE SPEED SELECTED EIGHTH CONNECTION EQUALLY APPLICABLE VICE BRIEF DESCRIPTION WAY EXAMPLE PERSPECTIVE VIEW SECTIONAL CLOSE Z FOURTH DETAILED BODY INLET CYLINDRICAL MAIN FLUSH HEIGHT ARRAY FORMED PROVIDE EXHAUSTED ADJUST MOVE INTERFACE BUTTONS DIAL CONTROL VARIOUS CIRCUIT ENGAGING RESPONSE OPERATION TRANSMIT APPROPRIATE OSCILLATING MECHANISM BUTTON OSCILLATION CYCLE AROUND PER MAINS POWER CABLE ELECTRICAL APERTURE PLUG MIXED ROTARY SHAFT BRUSHLESS MANIPULATION BUCKET DIFFUSER STATIONARY DISC SPIRAL ANGULARLY MEMBER BOTTOM FOAM REDUCING NOISE BENEATH FLEXIBLE SEALING PASSING LIP GUIDE GROMMET INTEGRAL SEPARATE ANOTHER CENTRAL X PARTICULAR CONICAL SLOT PERPENDICULAR WIDTH SHOWN NARROW OPERATE ACTION ROTATE THEREFORE SEQUENTIALLY ENTER PRESSURE DIVIDED TWO OPPOSITE EMISSION SPECIFICALLY PRODUCE SIMILAR C VOLUME COMPARISON GIVEN THEORY DUE GREATER THEREBY SLIGHTLY DIFFERENT RESULT WOULD LARGE                                                                                                                                                                                                                                                                                                                                                                                                                                                                                                                                                                                                                                                                                                                                                                                                                                                                                                                                                                                                                                                                                                                                                                                                                                                                                                                                                                                       4\n",
       "                                                                                                                                                                                                                                                                                                                                                                                                                                                                                                                                                                                                                                                                                                                                                                                                                                                                                                                                                                                                                                                                                                                                                                                                                                                                                                                                                                                                                                                                                                                                                                                                                                                                                                                                                                                                                                                                                                                                                                                                                                                                                                                                                                                                                                                                                                                                                                                                                                                                                                                                                                                                                                                                                                                                                                                                                                                                                                                                                                                                                                                                                                                                                                                                                                                                                                                                                                                                                                                                                                                                                                                                                                                                                                                                                                                                                                                                                                                                                                                                                                                                     ..\n",
       "METHOD OPERATION ENGINE EXHAUST FLUID RECIRCULATION APPARATUS TREATMENT TECHNICAL FIELD DISCLOSURE BACKGROUND ORDER COMPLY REGULATORY RELATION COMBUSTION KNOWN RECIRCULATE PROVIDE OPPORTUNITY ALSO RECEIVE TREAT DIESEL MAY INVOLVE INJECTION ONE ADDITION FUEL POST EVENT INTENTION WITHOUT TECHNIQUE USEFUL USED ALLOW UNBURNT DESIRE INCREASE TEMPERATURE BUM CARBON FORM SOOT COLLECT PARTICULATE FILTER DESIRABLE CONTROL SUPPLY INTENDED COMBUST MANAGEMENT EMISSION REDUCTION SYSTEM PROVIDED SUMMARY ACCORDING ASPECT PRESENT UNIT INLET CONDUIT COMMUNICATION OUTLET VALVE MOVABLE CLOSED WHEREIN PREVENT FLOWING CONTROLLER PRIMARY SIGNAL POSITION BASED INDICATION UPSTREAM DETERMINATION SECONDARY REMAIN STOPPING SAID DESIRED OVERRIDE FIRST BRIEF DESCRIPTION SCHEMATIC DRAWING DETAILED EXTERNAL APPEARANCE EMBODIMENT FLOW CHART APPLIED SHOWN RECEIPT GAS THEREIN POSSIBLY ATMOSPHERE COMPRISE PLURALITY MODULE SERIES SINCE APPLICABLE WIDE RANGE POSSIBLE ELEMENT FULLY ESTABLISH EXTENT EITHER BACK PROPORTION SMALL COMPARISON PRESSURE QUANTITY OXIDATION MANY REASON MIGHT CERTAIN PRIOR REGION CONSTITUTE REGENERATION TRAPPED NEED SEPARATE INJECTOR DOWNSTREAM AVOID ENTERING WOULD RESULT AIR RATIO INCLUDE DIFFERENT PURPOSE WISHING COATING INTERIOR THEREBY CAUSING UNEXPECTED OPENING ALONG ANOTHER PROTECT OVERSPEED TURBO ASSOCIATED DIVERTING ENERGY AWAY REDUCE GENERATION X HIGH LEVEL SPECIFY SECOND BEHAVIOUR REQUIREMENT RATE SIMPLY DETERMINE ACHIEVE OBJECTIVE CONFIRM PROVIDING MUST REGARDLESS MET SENT INJECT EFFECTIVELY ACT MOVING PROCEDURE ENDING FORTHCOMING CONDITION USE FUTURE WAITING PERIOD DEFINED TIME NECESSARY PREVIOUSLY LIKELY ALREADY FEATURE DISABLED MOVE RESPONSE RELATED VALUE INDICATIVE MASS SPACE VELOCITY DATA TAKEN DEPENDING LOCATION APPROPRIATE MODEL COMBINATION SENSOR INTAKE ACCOUNT VOLUME POTENTIAL RELEVANT ESTIMATE INSTEAD REAL TABLE MEASURING ADJACENT WITHIN GEOMETRY PATH LOOK SHOW EXAMPLE SEQUENTIALLY COUPLING THIRD SUBSTANTIALLY MUTUALLY CATALYST MIXER SELECTIVE CATALYTIC AMMONIA VIA DOC PORTION PALLADIUM SERVE CAUSE MONOXIDE PRODUCE DIOXIDE WATER DISTRIBUTED MANNER SURFACE AREA MATERIAL EFFECTIVENESS ONWARD PASSAGE THUS POINT ATTACHABLE PUMP ELECTRONIC TANK RESERVOIR UREA INFORMATION DERIVED WELL MIXED CREATE REACTION OCCUR DIATOMIC NITROGEN RESIDUAL REACT PARTICULAR IMMEDIATELY STATED VARIETY PART SULPHUR BURNING INCREASING PLACE INTERMITTENTLY OVERALL SOLID UNDERSTOOD CONSTITUENT                                                                                                                                                                                                                                                                                                                                                                                                                                                                                                                                                                                                                                                                                                                                                                                                                                                                                                                                                                                                                                                                                                                                                                                                                                                                                                                                                                                                                                                                                                                                                         1\n",
       "OPERATION MOTOR VALVE ASSEMBLY TECHNICAL FIELD CONTROLLER METHOD BACKGROUND KNOWN VARIETY AUTOMOTIVE MAY USED CONTROL RECIRCULATION EXHAUST BACK ENGINE GAS ELEMENT MOVABLE FIRST FULLY SECOND OPPOSITE POSITION EXTENT INCLUDE MECHANICAL STOP PREVENT MOVING BEYOND CURRENT POLARITY CAUSE MOVE TOWARDS DIRECTION CERTAIN ASSOCIATED BEHAVE HELPFUL ABLE CONFIRM REGULARLY EVENT UNEXPECTED BEHAVIOUR OBTAIN RAPID ACCURATE DIAGNOSIS LESS TIME WELL COSTLY SUMMARY DISCLOSURE CLOSED WHEREIN RESPONSE ELECTRIC SENSOR ACTUAL RECEIVE DATA CORRESPONDING DESIRED SUPPLY CALCULATED SIGNAL ORDER MOVEMENT MEASURING OUTPUT INPUT MEASURED IDENTIFY ALSO PORTION DETERMINE COMPARATOR COMPARE INDICATOR INDICATE WHETHER EMBODIMENT WAY EXAMPLE DRAWING BRIEF DESCRIPTION SCHEMATIC DIAGRAM SHOWING PRESENT CONTEXT DETAILED POSITIONED NEITHER RELATIVE SENSED ONE ROTATE ROTATIONAL THIRD FOURTH FINELY CALCULATE DISTANCE NECESSARY ROTATION SPRING SPRUNG APPLIED CALCULATING ACCOUNT ENERGY OVERCOME COMPRISE CALCULATOR VARIABLE CIRCUIT CHECK LIKELY SUFFICIENTLY TRUSTWORTHY STEADY PROVIDE RELIABLE WOULD NECESSARILY FLOW COUNTER RESULT NET READING APPROXIMATELY ZERO MIGHT POSITIVE INDICATION THEREFORE WHENEVER START MACHINE SYSTEM STATIONARY DIFFERENT FLOWING BIAS INSTANTANEOUS NOTWITHSTANDING THRESHOLD MAXIMUM NORMAL ASSUMED APPROPRIATE INTENDED COMMUNICATE USER PUT NOTICE ELECTRICAL CONTINUITY RELEVANT GREATER INVESTIGATE POSSIBLE FAULT ELIMINATE REDUCE TAKEN PRECISE SPECIFIC PART MODULE DEFAULT OPERATE MEAN VALUE REMAIN WITHIN SINCE TEST CARRIED ATTEMPT REPRESENT COMPARISON HIGHER LOWER NONSPECIFIC ALLOW ACCURATELY COMPONENT BENEFIT POINT GIVEN APPLICATION ERROR HIGH EXCEEDING STUCK TWO FORM ELECTRONIC SIMPLE LED SKILLED PERSON APPRECIATE DETECTABLE GENERAL READILY LIMITED VOLTAGE DEFINITION DETECTION PRESENCE ABSENCE MAGNITUDE MEASUREMENT TURN VIA CALCULATION DIRECTLY APPARATUS RESPECT INLET THROTTLE PRESSURE DIESEL PARTICULATE FILTER APPLICABLE USE                                                                                                                                                                                                                                                                                                                                                                                                                                                                                                                                                                                                                                                                                                                                                                                                                                                                                                                                                                                                                                                                                                                                                                                                                                                                                                                                                                                                                                                                                                                                                                                                                                                                                                                                                                                                                                                                                                                                                                                                                                                  1\n",
       "METHOD APPARATUS EXHAUST GAS AFTERTREATMENT DEVICE WARMING TECHNICAL FIELD PRESENT DISCLOSURE BACKGROUND MAY STREAM INTERNAL COMBUSTION EXAMPLE DIESEL ORDER REDUCE REMOVE NITROGEN OXIDE COLLECTIVELY KNOWN PARTICULATE MEET VARIOUS DIFFERENT OXIDATION CATALYST SELECTIVE CATALYTIC REDUCTION TREATMENT EMISSION OPERATION TEMPERATURE NEED MINIMUM THRESHOLD SYSTEM OPERATE DEPENDENT UPON NUMBER TYPE REDUCTANT USED WITHIN ADDITION ANHYDROUS AQUEOUS UREA SOLUTION FORM PASSING ADDED INJECTION MUST DECOMPOSITION HYDROLYSIS AMMONIA CASE SATISFACTORILY THEREBY ENGINE INITIALLY COLD GRADUALLY WARMED TIME EXCEED COMPLIANT PERIOD START WHETHER RELIANT OPERATING DESIRABLE DECREASE TAKEN REACH SUMMARY FIRST ASPECT PROVIDED STRATEGY INCREASING DEFINED CLAIM SECOND CONTROLLER BRIEF DESCRIPTION ACCORDANCE SHALL WAY FOLLOWING ARRANGEMENT RECIRCULATION VEHICLE DETAILED OUTLET DOWNSTREAM EFFECTIVE TREATING GASEOUS COMPOSITION SENSOR PATH UPSTREAM MEASURE MEASUREMENT SENT CONTROL LINE RELATIVELY ACTION RAISE QUICKLY FULLY TREAT CONSIDER DETERMINE COOLANT INDICATIVE LESS PREFERABLE INITIATE PROTECT DAMAGE LOW HEAT EXCHANGER ASSOCIATED FOULING EXCESSIVE CONDENSATE CONSIDERED SUFFICIENT SET SUITABLE LEVEL CONSIDERATION LEAST ONE DETERMINED TECHNIQUE WELL SKILLED MEASURED VALUE STARTING EITHER INCLUDE HELP INCREASE CYCLE TWO FUEL IGNITION PILOT MAIN DWELL NORMAL THEREFORE ALSO PLACE LATER CONSEQUENCE HOTTER VALVE TIMING SINGLE RELATIVE BEYOND TOP DEAD REGARDLESS DELAYING RETARDING THUS MAP AIR THROTTLE POSITION DEGREE DELAY POSSIBLE MISFIRE ADJUST TANDEM SIMILAR SHOWN INTAKE TURBINE DRIVEN OUTPUT COMPRESSOR ACT CONJUNCTION WASTE GATE OPENING AWAY REDUCING BOOST PRESSURE PART RATIO LEAN EVEN WORK DONE USE WHEREIN GREATER EXTENT DESIGNED RECIRCULATE AMOUNT HIGHER SPECIFIC CAPACITY ABSORB INLET LOWERING NET RESULT AFFECT ACHIEVE DESIRED BALANCE CHANGE UNWANTED SOOT IMPERFECT WHILST MUCH CONSEQUENTIAL STILL ACCEPTABLE GENERATION RAIL HOMOGENOUS MIXTURE IMPROVE STOP RETURN FALLING RUN LONG EFFICIENCY CLOSER MECHANICAL DURABILITY LIFE HIGH CAUSE REASONABLE LO EXIT QUANTITY BURNED SINCE WORKING POWERED VOLUME PER UNIT OCCUR HARD WARM SHORTER VARIABLE FORMING SPENT MIGHT FILTER FILL LEAD RADIO FREQUENCY ACROSS CONTENT DANGEROUS GOING SHOW IMPLEMENT INPUT INCORPORATED PERSON READILY APPRECIATE RATHER COMBINATION INSTEAD DRAWN POINT DIRECTLY COMPRISE WHICHEVER AVAILABLE ALTERNATIVE ALTERNATIVELY INDUSTRIAL APPLICABILITY ABLE ENOUGH                                                                                                                                                                                                                                                                                                                                                                                                                                                                                                                                                                                                                                                                                                                                                                                                                                                                                                                                                                                                                                                                                                                                                                                                                                                                                                                                                                                                                                                                                                                                   1\n",
       "EXHAUST FLUID TREATMENT APPARATUS FUNCTIONALITY CHECK TECHNICAL FIELD DISCLOSURE OPERATION DIESEL OXIDATION BACKGROUND MAY COMPRISE PLURALITY WHEREIN MODULE INTENDED TREAT ONE SERIES CATALYST PARTICULATE FILTER DOWNSTREAM SELECTIVE CATALYTIC REDUCTION APPROPRIATE PERIODIC INDIVIDUAL ENSURE PARTICULARLY IMPORTANT UNEXPECTED PERFORMANCE FLOW PATH LATER RESULT REDUCED MEAN OUTPUT LOWER TEMPERATURE ALSO EMISSION UNBURNT FUEL ARISE CONSEQUENCE SULPHUROUS CARBON ENTERING FORM SOOT LESS LIKELY KNOWN INJECT COMBUSTION EXAMPLE INCREASE CAUSE PARTICULAR WITHIN DESIRABLE REMOVE WITHOUT ORDER PROVIDED METHOD SUMMARY INLET INPUT DATA VALUE INDICATIVE FIRST QUANTITY UPSTREAM CALCULATING CALCULATED DIFFERENCE ASSOCIATED ACCEPTABLE MARGIN SECOND OUTSIDE RAISING GAS SPECIFIC WAY BRIEF DESCRIPTION SCHEMATIC DRAWING EMBODIMENT DETAILED EXTERNAL APPEARANCE CHART FOLLOWING EXPLANATION BROAD MIGHT SEQUENTIALLY VARIOUS CONDUIT COUPLING THIRD SUBSTANTIALLY MUTUALLY MIXER AMMONIA VIA DOC PORTION PRIOR RECEIPT PRESSURE BACK VALVE PALLADIUM SERVE MONOXIDE PRESENT PRODUCE DIOXIDE WATER CONVERT ACHIEVE RATIO DISTRIBUTED MANNER SURFACE AREA MATERIAL EFFECTIVENESS RESTRICT ONWARD PASSAGE THUS TRAPPED REGENERATION INVOLVE PROPORTION POINT PAST INJECTOR ATTACHABLE PUMP ELECTRONIC TANK UNIT PROVIDING RESERVOIR INCLUDE UREA CONTROLLER CONTROL VOLUME INFORMATION X DERIVED WELL MIXED CREATE REACTION OCCUR DIATOMIC NITROGEN RESIDUAL REACT OUTLET SHOWN SENSOR IMMEDIATELY POSSIBLY SHOWING ENGINE RECEIVED TRAVEL FLOWING DIRECTLY MEASURABLE DUE LOCATION THEREFORE PERHAPS PREDICTIVE WHETHER MEASURED CYLINDER ATTACHED TIME CYCLE UNLIKELY COMBUST LIBRARY DETERMINE RISE SINCE SPEED LOAD ACCOUNT INFLUENCE ADDITION ATTRIBUTABLE ONTO ARRIVE NET SEEKING EFFECTIVELY SUBTRACT TOTAL ISOLATE DIFFERENT PROVIDE WIDE RANGE CHANGE RESULTING VARY DEPENDING DELAY STEP DURATION DEPEND OPERATING CONTINUOUS ALLOW PERIOD EVENT ASSUME REDUCING RISK INCREASING MOVING TOWARDS CLOSED POSITION WORK THEREBY NUMBER LIMITED EXTENT POSSIBLE APPLICATION DESIRE UNNOTICEABLE APPROXIMATELY AGE CASE GREATER AMOUNT NEW FRESHLY ADDITIONAL ALTERNATIVE APPROACH DETERIORATION ACCORDING PERIODICALLY NORMAL LIMIT PREVENT EVIDENT USER STATED VARIETY PART PROCEDURE SULPHUR BURNING PLACE INTERMITTENTLY NEED OVERALL USED SOLID UNDERSTOOD CONSTITUENT TERM SUITABLE FACILITY STORAGE LOOK                                                                                                                                                                                                                                                                                                                                                                                                                                                                                                                                                                                                                                                                                                                                                                                                                                                                                                                                                                                                                                                                                                                                                                                                                                                                                                                                                                                                                                                                                                                                                                                                                                    1\n",
       "COMPANY LIMITED FRANK UNITED KINGDOM ANDREW US WO FIELD AGENT ADDRESS WADE INN TITLE METHOD ENGINE SYSTEM ABSTRACT CONTROL EXHAUST AFTERTREATMENT REDUCTANT INJECTOR GAS EXPEL DEPOSIT CONTROLLER MODULE INTERNAL COMBUSTION SELECTIVELY OPERABLE INJECT FLUID OUTLET INJECTION ONE PLURALITY DIFFERENT FIRST REGIME SET SUBSTANTIALLY SECOND SOLID FORMED NOZZLE TEMPERATURE THRESHOLD TECHNICAL DISCLOSURE DIRECTED TOWARDS REDUCE FORMATION LOW DUTY BACKGROUND LIKE MAY COMPRISE REMOVING UNWANTED GASEOUS SELECTIVE CATALYTIC REDUCTION PROVIDED STREAM NITROGEN UPSTREAM CATALYST LIQUID CONTACT SUITABLE INCLUDE ANHYDROUS AQUEOUS AMMONIA HIGH EVAPORATE UPON REACT FORM LOAD AROUND EDDY FLOW REDIRECT BACK ONTO UNDESIRABLY LEAK SMALL PARTICULARLY FULLY SINCE RELATIVELY SURFACE DUE CONDENSE SUBSEQUENTLY LEFT THEREFORE BECOME PARTIALLY LEAD GROWTH CAUSE POOR CONVERSION REMOVE RESIDUAL PARTIAL FULL EFFICIENCY PURGE FREEZE WITHIN DESIGNED DEPOSITION KEPT PREVENT RATE DESIGN ALSO LEAKAGE NEEDS WORK WHOLE RANGE MEDIUM HEAVY SUMMARY PRESENT ACCORDANCE WHEREIN COMPUTER PROGRAM EXECUTED LEAST MEMORY CARRYING COMMUNICATION STORE DETERMINE IMPLEMENTATION DETERMINED WAY EXAMPLE SHOWN DESCRIPTION SCHEMATIC CLOSED POSITION DETAILED GENERALLY ASSOCIATED EFFECTIVE OPERATION EXEMPLARY EMBODIMENT CONDUIT INTAKE ATMOSPHERIC COMPRESSOR CONNECTED DRIVEN TURBINE VIA SHAFT SUPERCHARGER DRIVE ARRANGEMENT DRIVING PROVIDE POWER MECHANICALLY THIRD COOLER BYPASS PETROL NATURAL COMBUST THEREBY ROTATING CRANKSHAFT PROVIDING OUTPUT TORQUE ALONG FIFTH PARTICULATE MATTER SULPHUR CARBON UNBURNT ORGANIC KNOWN DEPEND DIRECT SIXTH RECEIVE TREAT PRIOR ATMOSPHERE SEVENTH DETAIL DIESEL OXIDATION LEADING MEET ISO STANDARD UREA DIRECTION MIXER SUBSTRATE PREFERABLY DOSE RESULTING COMBINATION VANADIUM PROMOTE EVEN DISTRIBUTION ENTRY POSSIBLE MUCH EXCESS APPROPRIATE CASE SITUATION AMOUNT OTHERWISE MINIMIZE MAGNITUDE DOWNSTREAM COATED WATER ELEMENTAL SENSOR SENSE SEND THERETO ABLE BASED FUEL IMPLEMENT UNIT HOUSING MOUNTING WALL INSIDE PASSAGEWAY INLET SUPPLY RESERVOIR PUMP VALVE MEMBER ACTUATOR ELECTRICALLY SOLENOID ELECTRONIC MOVEMENT CANNOT ORDER MINIMUM CHEMICAL REACTION RELIABLY PLACE APPROXIMATELY SLIP INCREASE AMMONIUM HYDROGEN DEGRADE PERFORMANCE PREFERRED INDICATE REDUCED OPERATE FOURTH REDUCING TIME PERIOD AVOID DRAW HARD FREEZING SHUTDOWN FILLED PRIMING AIR ADJACENT CHECK OPERATING PRESSURE NORMALLY CHANGE LESS CONSIDERED RESULT INSTANTANEOUSLY READY THUS UNABLE IMMEDIATELY REACH LENGTH SELECTED TAKEN RISE LIKELY AGED WORN TYPICALLY REMAIN BLOCKING INTERRUPTION BUILD BLOCK PURGING REMOVED OPENING AWAY INFREQUENTLY WHILST PERIODICALLY PREVIOUS OCCUR RISEN CYCLE PREVIOUSLY SPECIFIC SUFFICIENTLY LARGE FORMING RAISE BEHIND SINGLE HIGHER SHORTER MAXIMUM PER APPLICABLE INDUSTRIAL APPLICABILITY ENSURE LITTLE ENERGY EFFECTIVELY ACROSS WITHOUT NEEDING COMPROMISE SAKE INDEPENDENTLY NEED EFFICIENTLY WHEEL SPEED                                                                                                                                                                                                                                                                                                                                                                                                                                                                                                                                                                                                                                                                                                                                                                                                                                                                                                                                                                                                                                                        1\n",
       "Name: count, Length: 23039, dtype: int64"
      ]
     },
     "execution_count": 12,
     "metadata": {},
     "output_type": "execute_result"
    }
   ],
   "source": [
    "data.description.value_counts() # the first is a duplication\n",
    "# Title is not cleaned. It contains info on the industry, but does not equal to industry. We should include it."
   ]
  },
  {
   "cell_type": "code",
   "execution_count": 13,
   "id": "75d372df-9faa-4525-9649-f457381b1bc3",
   "metadata": {},
   "outputs": [],
   "source": [
    "# Create a document-term matrix\n",
    "vectorizer = CountVectorizer()\n",
    "dtm = vectorizer.fit_transform(data['description'])\n",
    "\n",
    "# Save the DTM as a sparse matrix to avoid memory issues\n",
    "# save_npz('../int_data/dtm.npz', dtm)\n",
    "# save_npz('../int_data/US_proxy/dtm.npz', dtm)\n",
    "import os\n",
    "os.makedirs('../int_data/UK_modern_proxy')\n",
    "save_npz('../int_data/UK_modern_proxy/dtm.npz', dtm)"
   ]
  },
  {
   "cell_type": "code",
   "execution_count": 12,
   "id": "4dc2c0cc-5667-4468-9cb3-f106cafb6f4d",
   "metadata": {},
   "outputs": [
    {
     "data": {
      "text/plain": [
       "<23664x27579 sparse matrix of type '<class 'numpy.int64'>'\n",
       "\twith 7366310 stored elements in Compressed Sparse Row format>"
      ]
     },
     "execution_count": 12,
     "metadata": {},
     "output_type": "execute_result"
    }
   ],
   "source": [
    "# dtm = load_npz('../int_data/dtm.npz')\n",
    "dtm = load_npz('../int_data/UK_modern_proxy/dtm.npz') # Shape of dtm: (number of documents, size of the vocabulary)\n",
    "dtm"
   ]
  },
  {
   "cell_type": "code",
   "execution_count": 13,
   "id": "9e2bc581-1740-4625-a7ff-254b552ebf63",
   "metadata": {},
   "outputs": [],
   "source": [
    "from sklearn.preprocessing import normalize\n",
    "from scipy.sparse import csr_matrix\n",
    "\n",
    "# cosine_similarity(A,B)= ||A||⋅||B|| / (A⋅B)\n",
    "# \n",
    "# Assume dtm is your sparse document-term matrix (csr_matrix)\n",
    "# Normalize rows of the matrix to have unit length (L2 normalization)\n",
    "dtm_normalized = normalize(dtm, axis=1, norm='l2')\n",
    "\n",
    "# # Compute cosine similarity matrix as the dot product of the normalized matrix\n",
    "cosine_sim_matrix = dtm_normalized @ dtm_normalized.T\n",
    "\n",
    "# Compute using Numpy\n",
    "dtm_dense = dtm.toarray()\n",
    "cosine_sim_matrix = np.dot(dtm_normalized, dtm_normalized.T)"
   ]
  },
  {
   "cell_type": "code",
   "execution_count": 14,
   "id": "a5b3416e-7574-4e02-8e15-6b65c7de2f26",
   "metadata": {},
   "outputs": [
    {
     "data": {
      "text/plain": [
       "scipy.sparse._csr.csr_matrix"
      ]
     },
     "execution_count": 14,
     "metadata": {},
     "output_type": "execute_result"
    }
   ],
   "source": [
    "type(cosine_sim_matrix)"
   ]
  },
  {
   "cell_type": "code",
   "execution_count": 15,
   "id": "6ce96ea3-7cf7-422e-8091-e22281eafa54",
   "metadata": {},
   "outputs": [],
   "source": [
    "import pickle\n",
    "\n",
    "with open(\"../int_data/UK_modern_proxy/cosine_sim_matrix.pkl\", \"wb\") as f:\n",
    "    pickle.dump(cosine_sim_matrix, f)"
   ]
  },
  {
   "cell_type": "code",
   "execution_count": 16,
   "id": "249fe7d6-69e6-46a2-9d6d-43a16c562501",
   "metadata": {},
   "outputs": [],
   "source": [
    "import pickle\n",
    "with open(\"../int_data/UK_modern_proxy/cosine_sim_matrix.pkl\", \"rb\") as f:\n",
    "    cosine_sim_matrix = pickle.load(f)\n",
    "\n",
    "# with open(\"../int_data/UK_modern_proxy/cosine_sim_matrix.pkl\", \"rb\") as f:\n",
    "#     print(f.read(1000))  # Print the first 100 bytes\n",
    "\n",
    "# import pickletools\n",
    "# with open(\"../int_data/UK_modern_proxy/cosine_sim_matrix.pkl\", \"rb\") as f:\n",
    "#     pickletools.dis(f) # v"
   ]
  },
  {
   "cell_type": "code",
   "execution_count": 17,
   "id": "3c5cfba9-5905-4bf1-91fa-cdc95c893587",
   "metadata": {},
   "outputs": [
    {
     "data": {
      "text/plain": [
       "<23664x23664 sparse matrix of type '<class 'numpy.float64'>'\n",
       "\twith 558654818 stored elements in Compressed Sparse Row format>"
      ]
     },
     "execution_count": 17,
     "metadata": {},
     "output_type": "execute_result"
    }
   ],
   "source": [
    "cosine_sim_matrix"
   ]
  },
  {
   "cell_type": "code",
   "execution_count": 18,
   "id": "60abf521-58c2-474d-b27b-e2474ecc46d6",
   "metadata": {},
   "outputs": [
    {
     "data": {
      "text/plain": [
       "1330078"
      ]
     },
     "execution_count": 18,
     "metadata": {},
     "output_type": "execute_result"
    }
   ],
   "source": [
    "# calculate zero cells\n",
    "# Given values\n",
    "total_elements = cosine_sim_matrix.shape[0] * cosine_sim_matrix.shape[1]\n",
    "non_zero_elements = cosine_sim_matrix.nnz\n",
    "zero_elements = total_elements - non_zero_elements\n",
    "\n",
    "zero_elements\n"
   ]
  },
  {
   "cell_type": "code",
   "execution_count": 32,
   "id": "3fc35d82-65dd-4999-92f1-0c087d1a116e",
   "metadata": {},
   "outputs": [],
   "source": [
    "# np.fill_diagonal(cosine_sim_matrix, 0)\n",
    "cosine_sim_matrix.setdiag(0)"
   ]
  },
  {
   "cell_type": "markdown",
   "id": "f9e2851a-cc1f-49d8-98a5-708abb38b0ac",
   "metadata": {},
   "source": [
    "- Explantions for zero cells despite all descriptions are present  \n",
    "Descriptions may have a very low overlap in terms of vocabulary, leading to zero similarity.  \n",
    "Descriptions might be very unique with little to no common words."
   ]
  },
  {
   "cell_type": "code",
   "execution_count": 33,
   "id": "f0b12249-84e7-48b8-b8a1-cb5cd11c8a09",
   "metadata": {},
   "outputs": [
    {
     "name": "stdout",
     "output_type": "stream",
     "text": [
      "The matrix is symmetric.\n"
     ]
    }
   ],
   "source": [
    "# symmetry and upper triangle\n",
    "from scipy.sparse import csr_matrix, triu\n",
    "\n",
    "# Check if the matrix is square (necessary for symmetry)\n",
    "if cosine_sim_matrix.shape[0] != cosine_sim_matrix.shape[1]:\n",
    "    is_symmetric = False\n",
    "else:\n",
    "    # Check for symmetry\n",
    "    is_symmetric = (cosine_sim_matrix != cosine_sim_matrix.transpose()).nnz == 0\n",
    "\n",
    "if is_symmetric:\n",
    "    # Extract the upper triangle\n",
    "    upper_triangle = triu(cosine_sim_matrix)\n",
    "    print(\"The matrix is symmetric.\")\n",
    "    # Optionally, convert to dense matrix for inspection (not recommended for large matrices)\n",
    "    # print(upper_triangle.toarray())\n",
    "else:\n",
    "    print(\"The matrix is not symmetric.\")"
   ]
  },
  {
   "cell_type": "code",
   "execution_count": 34,
   "id": "a9964597-0e71-439b-bded-f9799bd334dd",
   "metadata": {},
   "outputs": [
    {
     "data": {
      "text/plain": [
       "<23664x23664 sparse matrix of type '<class 'numpy.float64'>'\n",
       "\twith 279339241 stored elements in COOrdinate format>"
      ]
     },
     "execution_count": 34,
     "metadata": {},
     "output_type": "execute_result"
    }
   ],
   "source": [
    "upper_triangle"
   ]
  },
  {
   "cell_type": "code",
   "execution_count": 35,
   "id": "419369b0-b6b9-4b87-85f4-5f24499e6ea9",
   "metadata": {},
   "outputs": [
    {
     "data": {
      "text/plain": [
       "<23664x23664 sparse matrix of type '<class 'numpy.float64'>'\n",
       "\twith 279339241 stored elements in COOrdinate format>"
      ]
     },
     "execution_count": 35,
     "metadata": {},
     "output_type": "execute_result"
    }
   ],
   "source": [
    "import pickle\n",
    "\n",
    "# with open('../int_data/cosine_sim_matrix.pkl','wb') as f:\n",
    "#     pickle.dump(cosine_sim_matrix,f) # 5.3 GB\n",
    "\n",
    "with open('../int_data/UK_modern_proxy/cosine_sim_matrix_u.pkl','wb') as f:\n",
    "    pickle.dump(upper_triangle,f)\n",
    "    \n",
    "with open('../int_data/UK_modern_proxy/cosine_sim_matrix_u.pkl','rb') as f:\n",
    "    upper_triangle = pickle.load(f) # 22,120 unique patent-inventor pairs\n",
    "upper_triangle"
   ]
  },
  {
   "cell_type": "code",
   "execution_count": 30,
   "id": "172cd59a-807f-4f2d-b460-3f5e906a4434",
   "metadata": {},
   "outputs": [
    {
     "name": "stdout",
     "output_type": "stream",
     "text": [
      "-rw-r--r-- 1 xiet13 cluster-users 4.2G Dec 17 02:05 ../int_data/UK_modern_proxy/cosine_sim_matrix_u.pkl\n"
     ]
    }
   ],
   "source": [
    "!ls -lha ../int_data/UK_modern_proxy/cosine_sim_matrix_u.pkl"
   ]
  },
  {
   "cell_type": "code",
   "execution_count": 36,
   "id": "467bd4fe-3637-4deb-9a48-6abc5ee35198",
   "metadata": {},
   "outputs": [
    {
     "data": {
      "text/html": [
       "<div>\n",
       "<style scoped>\n",
       "    .dataframe tbody tr th:only-of-type {\n",
       "        vertical-align: middle;\n",
       "    }\n",
       "\n",
       "    .dataframe tbody tr th {\n",
       "        vertical-align: top;\n",
       "    }\n",
       "\n",
       "    .dataframe thead th {\n",
       "        text-align: right;\n",
       "    }\n",
       "</style>\n",
       "<table border=\"1\" class=\"dataframe\">\n",
       "  <thead>\n",
       "    <tr style=\"text-align: right;\">\n",
       "      <th></th>\n",
       "      <th>0</th>\n",
       "      <th>1</th>\n",
       "      <th>2</th>\n",
       "      <th>3</th>\n",
       "      <th>4</th>\n",
       "      <th>5</th>\n",
       "      <th>6</th>\n",
       "      <th>7</th>\n",
       "      <th>8</th>\n",
       "      <th>9</th>\n",
       "      <th>...</th>\n",
       "      <th>23654</th>\n",
       "      <th>23655</th>\n",
       "      <th>23656</th>\n",
       "      <th>23657</th>\n",
       "      <th>23658</th>\n",
       "      <th>23659</th>\n",
       "      <th>23660</th>\n",
       "      <th>23661</th>\n",
       "      <th>23662</th>\n",
       "      <th>23663</th>\n",
       "    </tr>\n",
       "  </thead>\n",
       "  <tbody>\n",
       "    <tr>\n",
       "      <th>0</th>\n",
       "      <td>0</td>\n",
       "      <td>0.049364</td>\n",
       "      <td>0.049364</td>\n",
       "      <td>0.292137</td>\n",
       "      <td>0.33196</td>\n",
       "      <td>0.270634</td>\n",
       "      <td>0.261099</td>\n",
       "      <td>0.250605</td>\n",
       "      <td>0.293952</td>\n",
       "      <td>0.26226</td>\n",
       "      <td>...</td>\n",
       "      <td>0.093308</td>\n",
       "      <td>0.250833</td>\n",
       "      <td>0.252713</td>\n",
       "      <td>0.258825</td>\n",
       "      <td>0.071251</td>\n",
       "      <td>0.29544</td>\n",
       "      <td>0.065979</td>\n",
       "      <td>0.309067</td>\n",
       "      <td>0.288378</td>\n",
       "      <td>0.309067</td>\n",
       "    </tr>\n",
       "    <tr>\n",
       "      <th>1</th>\n",
       "      <td>0</td>\n",
       "      <td>0</td>\n",
       "      <td>1.0</td>\n",
       "      <td>0.072259</td>\n",
       "      <td>0.032292</td>\n",
       "      <td>0.019338</td>\n",
       "      <td>0.083034</td>\n",
       "      <td>0.064466</td>\n",
       "      <td>0.053586</td>\n",
       "      <td>0.045538</td>\n",
       "      <td>...</td>\n",
       "      <td>0</td>\n",
       "      <td>0.060492</td>\n",
       "      <td>0.052868</td>\n",
       "      <td>0.049523</td>\n",
       "      <td>0.041239</td>\n",
       "      <td>0.026929</td>\n",
       "      <td>0</td>\n",
       "      <td>0.047916</td>\n",
       "      <td>0.042435</td>\n",
       "      <td>0.047916</td>\n",
       "    </tr>\n",
       "    <tr>\n",
       "      <th>2</th>\n",
       "      <td>0</td>\n",
       "      <td>0</td>\n",
       "      <td>0</td>\n",
       "      <td>0.072259</td>\n",
       "      <td>0.032292</td>\n",
       "      <td>0.019338</td>\n",
       "      <td>0.083034</td>\n",
       "      <td>0.064466</td>\n",
       "      <td>0.053586</td>\n",
       "      <td>0.045538</td>\n",
       "      <td>...</td>\n",
       "      <td>0</td>\n",
       "      <td>0.060492</td>\n",
       "      <td>0.052868</td>\n",
       "      <td>0.049523</td>\n",
       "      <td>0.041239</td>\n",
       "      <td>0.026929</td>\n",
       "      <td>0</td>\n",
       "      <td>0.047916</td>\n",
       "      <td>0.042435</td>\n",
       "      <td>0.047916</td>\n",
       "    </tr>\n",
       "    <tr>\n",
       "      <th>3</th>\n",
       "      <td>0</td>\n",
       "      <td>0</td>\n",
       "      <td>0</td>\n",
       "      <td>0</td>\n",
       "      <td>0.222137</td>\n",
       "      <td>0.226933</td>\n",
       "      <td>0.275519</td>\n",
       "      <td>0.247819</td>\n",
       "      <td>0.246653</td>\n",
       "      <td>0.23341</td>\n",
       "      <td>...</td>\n",
       "      <td>0.062439</td>\n",
       "      <td>0.30108</td>\n",
       "      <td>0.213931</td>\n",
       "      <td>0.270531</td>\n",
       "      <td>0.058406</td>\n",
       "      <td>0.223384</td>\n",
       "      <td>0.066227</td>\n",
       "      <td>0.213281</td>\n",
       "      <td>0.228951</td>\n",
       "      <td>0.213281</td>\n",
       "    </tr>\n",
       "    <tr>\n",
       "      <th>4</th>\n",
       "      <td>0</td>\n",
       "      <td>0</td>\n",
       "      <td>0</td>\n",
       "      <td>0</td>\n",
       "      <td>0</td>\n",
       "      <td>0.24042</td>\n",
       "      <td>0.228984</td>\n",
       "      <td>0.21858</td>\n",
       "      <td>0.257396</td>\n",
       "      <td>0.226458</td>\n",
       "      <td>...</td>\n",
       "      <td>0.104637</td>\n",
       "      <td>0.25433</td>\n",
       "      <td>0.290793</td>\n",
       "      <td>0.265861</td>\n",
       "      <td>0.065253</td>\n",
       "      <td>0.252612</td>\n",
       "      <td>0.061658</td>\n",
       "      <td>0.296046</td>\n",
       "      <td>0.271775</td>\n",
       "      <td>0.296046</td>\n",
       "    </tr>\n",
       "    <tr>\n",
       "      <th>...</th>\n",
       "      <td>...</td>\n",
       "      <td>...</td>\n",
       "      <td>...</td>\n",
       "      <td>...</td>\n",
       "      <td>...</td>\n",
       "      <td>...</td>\n",
       "      <td>...</td>\n",
       "      <td>...</td>\n",
       "      <td>...</td>\n",
       "      <td>...</td>\n",
       "      <td>...</td>\n",
       "      <td>...</td>\n",
       "      <td>...</td>\n",
       "      <td>...</td>\n",
       "      <td>...</td>\n",
       "      <td>...</td>\n",
       "      <td>...</td>\n",
       "      <td>...</td>\n",
       "      <td>...</td>\n",
       "      <td>...</td>\n",
       "      <td>...</td>\n",
       "    </tr>\n",
       "    <tr>\n",
       "      <th>23659</th>\n",
       "      <td>0</td>\n",
       "      <td>0</td>\n",
       "      <td>0</td>\n",
       "      <td>0</td>\n",
       "      <td>0</td>\n",
       "      <td>0</td>\n",
       "      <td>0</td>\n",
       "      <td>0</td>\n",
       "      <td>0</td>\n",
       "      <td>0</td>\n",
       "      <td>...</td>\n",
       "      <td>0</td>\n",
       "      <td>0</td>\n",
       "      <td>0</td>\n",
       "      <td>0</td>\n",
       "      <td>0</td>\n",
       "      <td>0</td>\n",
       "      <td>0.061702</td>\n",
       "      <td>0.216773</td>\n",
       "      <td>0.239972</td>\n",
       "      <td>0.216773</td>\n",
       "    </tr>\n",
       "    <tr>\n",
       "      <th>23660</th>\n",
       "      <td>0</td>\n",
       "      <td>0</td>\n",
       "      <td>0</td>\n",
       "      <td>0</td>\n",
       "      <td>0</td>\n",
       "      <td>0</td>\n",
       "      <td>0</td>\n",
       "      <td>0</td>\n",
       "      <td>0</td>\n",
       "      <td>0</td>\n",
       "      <td>...</td>\n",
       "      <td>0</td>\n",
       "      <td>0</td>\n",
       "      <td>0</td>\n",
       "      <td>0</td>\n",
       "      <td>0</td>\n",
       "      <td>0</td>\n",
       "      <td>0</td>\n",
       "      <td>0.024398</td>\n",
       "      <td>0.021607</td>\n",
       "      <td>0.024398</td>\n",
       "    </tr>\n",
       "    <tr>\n",
       "      <th>23661</th>\n",
       "      <td>0</td>\n",
       "      <td>0</td>\n",
       "      <td>0</td>\n",
       "      <td>0</td>\n",
       "      <td>0</td>\n",
       "      <td>0</td>\n",
       "      <td>0</td>\n",
       "      <td>0</td>\n",
       "      <td>0</td>\n",
       "      <td>0</td>\n",
       "      <td>...</td>\n",
       "      <td>0</td>\n",
       "      <td>0</td>\n",
       "      <td>0</td>\n",
       "      <td>0</td>\n",
       "      <td>0</td>\n",
       "      <td>0</td>\n",
       "      <td>0</td>\n",
       "      <td>0</td>\n",
       "      <td>0.328943</td>\n",
       "      <td>1.0</td>\n",
       "    </tr>\n",
       "    <tr>\n",
       "      <th>23662</th>\n",
       "      <td>0</td>\n",
       "      <td>0</td>\n",
       "      <td>0</td>\n",
       "      <td>0</td>\n",
       "      <td>0</td>\n",
       "      <td>0</td>\n",
       "      <td>0</td>\n",
       "      <td>0</td>\n",
       "      <td>0</td>\n",
       "      <td>0</td>\n",
       "      <td>...</td>\n",
       "      <td>0</td>\n",
       "      <td>0</td>\n",
       "      <td>0</td>\n",
       "      <td>0</td>\n",
       "      <td>0</td>\n",
       "      <td>0</td>\n",
       "      <td>0</td>\n",
       "      <td>0</td>\n",
       "      <td>0</td>\n",
       "      <td>0.328943</td>\n",
       "    </tr>\n",
       "    <tr>\n",
       "      <th>23663</th>\n",
       "      <td>0</td>\n",
       "      <td>0</td>\n",
       "      <td>0</td>\n",
       "      <td>0</td>\n",
       "      <td>0</td>\n",
       "      <td>0</td>\n",
       "      <td>0</td>\n",
       "      <td>0</td>\n",
       "      <td>0</td>\n",
       "      <td>0</td>\n",
       "      <td>...</td>\n",
       "      <td>0</td>\n",
       "      <td>0</td>\n",
       "      <td>0</td>\n",
       "      <td>0</td>\n",
       "      <td>0</td>\n",
       "      <td>0</td>\n",
       "      <td>0</td>\n",
       "      <td>0</td>\n",
       "      <td>0</td>\n",
       "      <td>0</td>\n",
       "    </tr>\n",
       "  </tbody>\n",
       "</table>\n",
       "<p>23664 rows × 23664 columns</p>\n",
       "</div>"
      ],
      "text/plain": [
       "       0         1         2         3         4         5         6      \\\n",
       "0          0  0.049364  0.049364  0.292137   0.33196  0.270634  0.261099   \n",
       "1          0         0       1.0  0.072259  0.032292  0.019338  0.083034   \n",
       "2          0         0         0  0.072259  0.032292  0.019338  0.083034   \n",
       "3          0         0         0         0  0.222137  0.226933  0.275519   \n",
       "4          0         0         0         0         0   0.24042  0.228984   \n",
       "...      ...       ...       ...       ...       ...       ...       ...   \n",
       "23659      0         0         0         0         0         0         0   \n",
       "23660      0         0         0         0         0         0         0   \n",
       "23661      0         0         0         0         0         0         0   \n",
       "23662      0         0         0         0         0         0         0   \n",
       "23663      0         0         0         0         0         0         0   \n",
       "\n",
       "          7         8         9      ...     23654     23655     23656  \\\n",
       "0      0.250605  0.293952   0.26226  ...  0.093308  0.250833  0.252713   \n",
       "1      0.064466  0.053586  0.045538  ...         0  0.060492  0.052868   \n",
       "2      0.064466  0.053586  0.045538  ...         0  0.060492  0.052868   \n",
       "3      0.247819  0.246653   0.23341  ...  0.062439   0.30108  0.213931   \n",
       "4       0.21858  0.257396  0.226458  ...  0.104637   0.25433  0.290793   \n",
       "...         ...       ...       ...  ...       ...       ...       ...   \n",
       "23659         0         0         0  ...         0         0         0   \n",
       "23660         0         0         0  ...         0         0         0   \n",
       "23661         0         0         0  ...         0         0         0   \n",
       "23662         0         0         0  ...         0         0         0   \n",
       "23663         0         0         0  ...         0         0         0   \n",
       "\n",
       "          23657     23658     23659     23660     23661     23662     23663  \n",
       "0      0.258825  0.071251   0.29544  0.065979  0.309067  0.288378  0.309067  \n",
       "1      0.049523  0.041239  0.026929         0  0.047916  0.042435  0.047916  \n",
       "2      0.049523  0.041239  0.026929         0  0.047916  0.042435  0.047916  \n",
       "3      0.270531  0.058406  0.223384  0.066227  0.213281  0.228951  0.213281  \n",
       "4      0.265861  0.065253  0.252612  0.061658  0.296046  0.271775  0.296046  \n",
       "...         ...       ...       ...       ...       ...       ...       ...  \n",
       "23659         0         0         0  0.061702  0.216773  0.239972  0.216773  \n",
       "23660         0         0         0         0  0.024398  0.021607  0.024398  \n",
       "23661         0         0         0         0         0  0.328943       1.0  \n",
       "23662         0         0         0         0         0         0  0.328943  \n",
       "23663         0         0         0         0         0         0         0  \n",
       "\n",
       "[23664 rows x 23664 columns]"
      ]
     },
     "execution_count": 36,
     "metadata": {},
     "output_type": "execute_result"
    }
   ],
   "source": [
    "# Convert the sparse cosine similarity matrix to a DataFrame for further processing\n",
    "cosine_sim_df = pd.DataFrame.sparse.from_spmatrix(upper_triangle)\n",
    "cosine_sim_df.reset_index(inplace=True, drop = True)\n",
    "cosine_sim_df"
   ]
  },
  {
   "cell_type": "code",
   "execution_count": 37,
   "id": "6953e81c-dd06-4cea-b500-593f70a00b40",
   "metadata": {},
   "outputs": [
    {
     "data": {
      "text/plain": [
       "280669319"
      ]
     },
     "execution_count": 37,
     "metadata": {},
     "output_type": "execute_result"
    }
   ],
   "source": [
    "zero_count = np.sum(cosine_sim_df.values == 0)\n",
    "zero_count"
   ]
  },
  {
   "cell_type": "code",
   "execution_count": 38,
   "id": "34ceb3d6-b430-460b-b564-3eab51cc2f6d",
   "metadata": {},
   "outputs": [],
   "source": [
    "cosine_sim_long = pd.melt(cosine_sim_df.reset_index(), id_vars=['index'], var_name='Column', value_name='Value')\n",
    "cosine_sim_long = cosine_sim_long.rename(columns={'index': 'i'}).reset_index(drop =True)"
   ]
  },
  {
   "cell_type": "code",
   "execution_count": 39,
   "id": "c98c9d1a-58d9-467d-aea6-b47b78b1fcd7",
   "metadata": {},
   "outputs": [
    {
     "data": {
      "text/plain": [
       "<Axes: >"
      ]
     },
     "execution_count": 39,
     "metadata": {},
     "output_type": "execute_result"
    },
    {
     "data": {
      "image/png": "[encoded data removed]",
      "text/plain": [
       "<Figure size 640x480 with 1 Axes>"
      ]
     },
     "metadata": {},
     "output_type": "display_data"
    }
   ],
   "source": [
    "cosine_sim_long = cosine_sim_long[cosine_sim_long.Value > 0]\n",
    "cosine_sim_long.Value.hist()"
   ]
  },
  {
   "cell_type": "code",
   "execution_count": 48,
   "id": "1932ebe6-53f2-42e5-a9f6-964ae791304a",
   "metadata": {},
   "outputs": [
    {
     "data": {
      "text/html": [
       "<div>\n",
       "<style scoped>\n",
       "    .dataframe tbody tr th:only-of-type {\n",
       "        vertical-align: middle;\n",
       "    }\n",
       "\n",
       "    .dataframe tbody tr th {\n",
       "        vertical-align: top;\n",
       "    }\n",
       "\n",
       "    .dataframe thead th {\n",
       "        text-align: right;\n",
       "    }\n",
       "</style>\n",
       "<table border=\"1\" class=\"dataframe\">\n",
       "  <thead>\n",
       "    <tr style=\"text-align: right;\">\n",
       "      <th></th>\n",
       "      <th>i</th>\n",
       "      <th>Column</th>\n",
       "      <th>Value</th>\n",
       "    </tr>\n",
       "  </thead>\n",
       "  <tbody>\n",
       "    <tr>\n",
       "      <th>458480</th>\n",
       "      <td>956</td>\n",
       "      <td>960</td>\n",
       "      <td>1.0</td>\n",
       "    </tr>\n",
       "    <tr>\n",
       "      <th>5699993</th>\n",
       "      <td>3346</td>\n",
       "      <td>3382</td>\n",
       "      <td>1.0</td>\n",
       "    </tr>\n",
       "    <tr>\n",
       "      <th>8742910</th>\n",
       "      <td>4155</td>\n",
       "      <td>4188</td>\n",
       "      <td>1.0</td>\n",
       "    </tr>\n",
       "    <tr>\n",
       "      <th>11997430</th>\n",
       "      <td>4890</td>\n",
       "      <td>4906</td>\n",
       "      <td>1.0</td>\n",
       "    </tr>\n",
       "    <tr>\n",
       "      <th>17472896</th>\n",
       "      <td>5849</td>\n",
       "      <td>5919</td>\n",
       "      <td>1.0</td>\n",
       "    </tr>\n",
       "    <tr>\n",
       "      <th>26177045</th>\n",
       "      <td>7194</td>\n",
       "      <td>7244</td>\n",
       "      <td>1.0</td>\n",
       "    </tr>\n",
       "    <tr>\n",
       "      <th>29502794</th>\n",
       "      <td>7394</td>\n",
       "      <td>7690</td>\n",
       "      <td>1.0</td>\n",
       "    </tr>\n",
       "    <tr>\n",
       "      <th>33300097</th>\n",
       "      <td>8155</td>\n",
       "      <td>8170</td>\n",
       "      <td>1.0</td>\n",
       "    </tr>\n",
       "    <tr>\n",
       "      <th>64308382</th>\n",
       "      <td>11352</td>\n",
       "      <td>11353</td>\n",
       "      <td>1.0</td>\n",
       "    </tr>\n",
       "    <tr>\n",
       "      <th>89932352</th>\n",
       "      <td>13424</td>\n",
       "      <td>13425</td>\n",
       "      <td>1.0</td>\n",
       "    </tr>\n",
       "    <tr>\n",
       "      <th>147494501</th>\n",
       "      <td>17191</td>\n",
       "      <td>17193</td>\n",
       "      <td>1.0</td>\n",
       "    </tr>\n",
       "    <tr>\n",
       "      <th>147528885</th>\n",
       "      <td>17191</td>\n",
       "      <td>17195</td>\n",
       "      <td>1.0</td>\n",
       "    </tr>\n",
       "    <tr>\n",
       "      <th>147528887</th>\n",
       "      <td>17193</td>\n",
       "      <td>17195</td>\n",
       "      <td>1.0</td>\n",
       "    </tr>\n",
       "    <tr>\n",
       "      <th>147649249</th>\n",
       "      <td>17191</td>\n",
       "      <td>17202</td>\n",
       "      <td>1.0</td>\n",
       "    </tr>\n",
       "    <tr>\n",
       "      <th>147649251</th>\n",
       "      <td>17193</td>\n",
       "      <td>17202</td>\n",
       "      <td>1.0</td>\n",
       "    </tr>\n",
       "    <tr>\n",
       "      <th>147649253</th>\n",
       "      <td>17195</td>\n",
       "      <td>17202</td>\n",
       "      <td>1.0</td>\n",
       "    </tr>\n",
       "    <tr>\n",
       "      <th>147700850</th>\n",
       "      <td>17198</td>\n",
       "      <td>17205</td>\n",
       "      <td>1.0</td>\n",
       "    </tr>\n",
       "    <tr>\n",
       "      <th>187032680</th>\n",
       "      <td>19362</td>\n",
       "      <td>19363</td>\n",
       "      <td>1.0</td>\n",
       "    </tr>\n",
       "    <tr>\n",
       "      <th>241721496</th>\n",
       "      <td>22011</td>\n",
       "      <td>22013</td>\n",
       "      <td>1.0</td>\n",
       "    </tr>\n",
       "  </tbody>\n",
       "</table>\n",
       "</div>"
      ],
      "text/plain": [
       "               i Column  Value\n",
       "458480       956    960    1.0\n",
       "5699993     3346   3382    1.0\n",
       "8742910     4155   4188    1.0\n",
       "11997430    4890   4906    1.0\n",
       "17472896    5849   5919    1.0\n",
       "26177045    7194   7244    1.0\n",
       "29502794    7394   7690    1.0\n",
       "33300097    8155   8170    1.0\n",
       "64308382   11352  11353    1.0\n",
       "89932352   13424  13425    1.0\n",
       "147494501  17191  17193    1.0\n",
       "147528885  17191  17195    1.0\n",
       "147528887  17193  17195    1.0\n",
       "147649249  17191  17202    1.0\n",
       "147649251  17193  17202    1.0\n",
       "147649253  17195  17202    1.0\n",
       "147700850  17198  17205    1.0\n",
       "187032680  19362  19363    1.0\n",
       "241721496  22011  22013    1.0"
      ]
     },
     "execution_count": 48,
     "metadata": {},
     "output_type": "execute_result"
    }
   ],
   "source": [
    "cosine_sim_long[cosine_sim_long.Value == 1] # A few patents with identical values"
   ]
  },
  {
   "cell_type": "code",
   "execution_count": 40,
   "id": "1ea82511-2a63-4e86-8f63-8de779e8d1eb",
   "metadata": {},
   "outputs": [
    {
     "data": {
      "text/html": [
       "<div>\n",
       "<style scoped>\n",
       "    .dataframe tbody tr th:only-of-type {\n",
       "        vertical-align: middle;\n",
       "    }\n",
       "\n",
       "    .dataframe tbody tr th {\n",
       "        vertical-align: top;\n",
       "    }\n",
       "\n",
       "    .dataframe thead th {\n",
       "        text-align: right;\n",
       "    }\n",
       "</style>\n",
       "<table border=\"1\" class=\"dataframe\">\n",
       "  <thead>\n",
       "    <tr style=\"text-align: right;\">\n",
       "      <th></th>\n",
       "      <th>i</th>\n",
       "      <th>Column</th>\n",
       "      <th>Value</th>\n",
       "    </tr>\n",
       "  </thead>\n",
       "  <tbody>\n",
       "    <tr>\n",
       "      <th>0</th>\n",
       "      <td>0</td>\n",
       "      <td>1</td>\n",
       "      <td>0.049364</td>\n",
       "    </tr>\n",
       "    <tr>\n",
       "      <th>1</th>\n",
       "      <td>0</td>\n",
       "      <td>2</td>\n",
       "      <td>0.049364</td>\n",
       "    </tr>\n",
       "    <tr>\n",
       "      <th>2</th>\n",
       "      <td>1</td>\n",
       "      <td>2</td>\n",
       "      <td>1.0</td>\n",
       "    </tr>\n",
       "    <tr>\n",
       "      <th>3</th>\n",
       "      <td>0</td>\n",
       "      <td>3</td>\n",
       "      <td>0.292137</td>\n",
       "    </tr>\n",
       "    <tr>\n",
       "      <th>4</th>\n",
       "      <td>1</td>\n",
       "      <td>3</td>\n",
       "      <td>0.072259</td>\n",
       "    </tr>\n",
       "    <tr>\n",
       "      <th>...</th>\n",
       "      <td>...</td>\n",
       "      <td>...</td>\n",
       "      <td>...</td>\n",
       "    </tr>\n",
       "    <tr>\n",
       "      <th>279315572</th>\n",
       "      <td>23658</td>\n",
       "      <td>23663</td>\n",
       "      <td>0.046107</td>\n",
       "    </tr>\n",
       "    <tr>\n",
       "      <th>279315573</th>\n",
       "      <td>23659</td>\n",
       "      <td>23663</td>\n",
       "      <td>0.216773</td>\n",
       "    </tr>\n",
       "    <tr>\n",
       "      <th>279315574</th>\n",
       "      <td>23660</td>\n",
       "      <td>23663</td>\n",
       "      <td>0.024398</td>\n",
       "    </tr>\n",
       "    <tr>\n",
       "      <th>279315575</th>\n",
       "      <td>23661</td>\n",
       "      <td>23663</td>\n",
       "      <td>1.0</td>\n",
       "    </tr>\n",
       "    <tr>\n",
       "      <th>279315576</th>\n",
       "      <td>23662</td>\n",
       "      <td>23663</td>\n",
       "      <td>0.328943</td>\n",
       "    </tr>\n",
       "  </tbody>\n",
       "</table>\n",
       "<p>279315577 rows × 3 columns</p>\n",
       "</div>"
      ],
      "text/plain": [
       "               i Column     Value\n",
       "0              0      1  0.049364\n",
       "1              0      2  0.049364\n",
       "2              1      2       1.0\n",
       "3              0      3  0.292137\n",
       "4              1      3  0.072259\n",
       "...          ...    ...       ...\n",
       "279315572  23658  23663  0.046107\n",
       "279315573  23659  23663  0.216773\n",
       "279315574  23660  23663  0.024398\n",
       "279315575  23661  23663       1.0\n",
       "279315576  23662  23663  0.328943\n",
       "\n",
       "[279315577 rows x 3 columns]"
      ]
     },
     "execution_count": 40,
     "metadata": {},
     "output_type": "execute_result"
    }
   ],
   "source": [
    "cosine_sim_long = cosine_sim_long.reset_index(drop =True)\n",
    "cosine_sim_long"
   ]
  },
  {
   "cell_type": "code",
   "execution_count": 51,
   "id": "1231eba3-6400-4872-bff4-801e53c537f3",
   "metadata": {},
   "outputs": [],
   "source": [
    "cosine_sim_long = cosine_sim_long.rename(columns = {'Column': 'j'})"
   ]
  },
  {
   "cell_type": "markdown",
   "id": "773a4cbc-288d-47d0-bfca-e652b1dee2b6",
   "metadata": {},
   "source": [
    "What happened so far:\n",
    "- 23,663 patent-industry pairs selected based on approriate strcount of description\n",
    "- All zero values due to low similarity (dtm) dropped (0.13 billion)\n",
    "- Picked only the upper triangle"
   ]
  },
  {
   "cell_type": "code",
   "execution_count": 52,
   "id": "f439062d-a71a-4fc1-a4ad-4f53d169b665",
   "metadata": {},
   "outputs": [
    {
     "data": {
      "text/html": [
       "<div>\n",
       "<style scoped>\n",
       "    .dataframe tbody tr th:only-of-type {\n",
       "        vertical-align: middle;\n",
       "    }\n",
       "\n",
       "    .dataframe tbody tr th {\n",
       "        vertical-align: top;\n",
       "    }\n",
       "\n",
       "    .dataframe thead th {\n",
       "        text-align: right;\n",
       "    }\n",
       "</style>\n",
       "<table border=\"1\" class=\"dataframe\">\n",
       "  <thead>\n",
       "    <tr style=\"text-align: right;\">\n",
       "      <th></th>\n",
       "      <th>i</th>\n",
       "      <th>j</th>\n",
       "      <th>Value</th>\n",
       "    </tr>\n",
       "  </thead>\n",
       "  <tbody>\n",
       "    <tr>\n",
       "      <th>0</th>\n",
       "      <td>0</td>\n",
       "      <td>1</td>\n",
       "      <td>0.049364</td>\n",
       "    </tr>\n",
       "    <tr>\n",
       "      <th>1</th>\n",
       "      <td>0</td>\n",
       "      <td>2</td>\n",
       "      <td>0.049364</td>\n",
       "    </tr>\n",
       "    <tr>\n",
       "      <th>2</th>\n",
       "      <td>1</td>\n",
       "      <td>2</td>\n",
       "      <td>1.0</td>\n",
       "    </tr>\n",
       "    <tr>\n",
       "      <th>3</th>\n",
       "      <td>0</td>\n",
       "      <td>3</td>\n",
       "      <td>0.292137</td>\n",
       "    </tr>\n",
       "    <tr>\n",
       "      <th>4</th>\n",
       "      <td>1</td>\n",
       "      <td>3</td>\n",
       "      <td>0.072259</td>\n",
       "    </tr>\n",
       "    <tr>\n",
       "      <th>...</th>\n",
       "      <td>...</td>\n",
       "      <td>...</td>\n",
       "      <td>...</td>\n",
       "    </tr>\n",
       "    <tr>\n",
       "      <th>279315572</th>\n",
       "      <td>23658</td>\n",
       "      <td>23663</td>\n",
       "      <td>0.046107</td>\n",
       "    </tr>\n",
       "    <tr>\n",
       "      <th>279315573</th>\n",
       "      <td>23659</td>\n",
       "      <td>23663</td>\n",
       "      <td>0.216773</td>\n",
       "    </tr>\n",
       "    <tr>\n",
       "      <th>279315574</th>\n",
       "      <td>23660</td>\n",
       "      <td>23663</td>\n",
       "      <td>0.024398</td>\n",
       "    </tr>\n",
       "    <tr>\n",
       "      <th>279315575</th>\n",
       "      <td>23661</td>\n",
       "      <td>23663</td>\n",
       "      <td>1.0</td>\n",
       "    </tr>\n",
       "    <tr>\n",
       "      <th>279315576</th>\n",
       "      <td>23662</td>\n",
       "      <td>23663</td>\n",
       "      <td>0.328943</td>\n",
       "    </tr>\n",
       "  </tbody>\n",
       "</table>\n",
       "<p>279315577 rows × 3 columns</p>\n",
       "</div>"
      ],
      "text/plain": [
       "               i      j     Value\n",
       "0              0      1  0.049364\n",
       "1              0      2  0.049364\n",
       "2              1      2       1.0\n",
       "3              0      3  0.292137\n",
       "4              1      3  0.072259\n",
       "...          ...    ...       ...\n",
       "279315572  23658  23663  0.046107\n",
       "279315573  23659  23663  0.216773\n",
       "279315574  23660  23663  0.024398\n",
       "279315575  23661  23663       1.0\n",
       "279315576  23662  23663  0.328943\n",
       "\n",
       "[279315577 rows x 3 columns]"
      ]
     },
     "execution_count": 52,
     "metadata": {},
     "output_type": "execute_result"
    }
   ],
   "source": [
    "cosine_sim_long"
   ]
  },
  {
   "cell_type": "code",
   "execution_count": 91,
   "id": "fe832016-604e-4ee4-8daf-481c6e160f34",
   "metadata": {},
   "outputs": [
    {
     "data": {
      "text/html": [
       "<div>\n",
       "<style scoped>\n",
       "    .dataframe tbody tr th:only-of-type {\n",
       "        vertical-align: middle;\n",
       "    }\n",
       "\n",
       "    .dataframe tbody tr th {\n",
       "        vertical-align: top;\n",
       "    }\n",
       "\n",
       "    .dataframe thead th {\n",
       "        text-align: right;\n",
       "    }\n",
       "</style>\n",
       "<table border=\"1\" class=\"dataframe\">\n",
       "  <thead>\n",
       "    <tr style=\"text-align: right;\">\n",
       "      <th></th>\n",
       "      <th>occupation_1</th>\n",
       "      <th>occupation_2</th>\n",
       "      <th>Combined_Value</th>\n",
       "    </tr>\n",
       "  </thead>\n",
       "  <tbody>\n",
       "    <tr>\n",
       "      <th>0</th>\n",
       "      <td>HISCO410</td>\n",
       "      <td>HISCO744</td>\n",
       "      <td>0.166452</td>\n",
       "    </tr>\n",
       "    <tr>\n",
       "      <th>1</th>\n",
       "      <td>HISCO410</td>\n",
       "      <td>HISCO896</td>\n",
       "      <td>0.169314</td>\n",
       "    </tr>\n",
       "    <tr>\n",
       "      <th>2</th>\n",
       "      <td>HISCO410</td>\n",
       "      <td>HISCO779</td>\n",
       "      <td>0.150686</td>\n",
       "    </tr>\n",
       "    <tr>\n",
       "      <th>3</th>\n",
       "      <td>HISCO410</td>\n",
       "      <td>HISCO951</td>\n",
       "      <td>0.156130</td>\n",
       "    </tr>\n",
       "    <tr>\n",
       "      <th>4</th>\n",
       "      <td>HISCO410</td>\n",
       "      <td>HISCO813</td>\n",
       "      <td>0.169089</td>\n",
       "    </tr>\n",
       "    <tr>\n",
       "      <th>...</th>\n",
       "      <td>...</td>\n",
       "      <td>...</td>\n",
       "      <td>...</td>\n",
       "    </tr>\n",
       "    <tr>\n",
       "      <th>59775</th>\n",
       "      <td>HISCO395</td>\n",
       "      <td>HISCO755</td>\n",
       "      <td>0.219659</td>\n",
       "    </tr>\n",
       "    <tr>\n",
       "      <th>59776</th>\n",
       "      <td>HISCO395</td>\n",
       "      <td>HISCO641</td>\n",
       "      <td>0.190232</td>\n",
       "    </tr>\n",
       "    <tr>\n",
       "      <th>59777</th>\n",
       "      <td>HISCO395</td>\n",
       "      <td>HISCO772</td>\n",
       "      <td>0.102327</td>\n",
       "    </tr>\n",
       "    <tr>\n",
       "      <th>59778</th>\n",
       "      <td>HISCO395</td>\n",
       "      <td>HISCO815</td>\n",
       "      <td>0.178434</td>\n",
       "    </tr>\n",
       "    <tr>\n",
       "      <th>59779</th>\n",
       "      <td>HISCO395</td>\n",
       "      <td>HISCO902</td>\n",
       "      <td>0.102327</td>\n",
       "    </tr>\n",
       "  </tbody>\n",
       "</table>\n",
       "<p>59780 rows × 3 columns</p>\n",
       "</div>"
      ],
      "text/plain": [
       "      occupation_1 occupation_2  Combined_Value\n",
       "0         HISCO410     HISCO744        0.166452\n",
       "1         HISCO410     HISCO896        0.169314\n",
       "2         HISCO410     HISCO779        0.150686\n",
       "3         HISCO410     HISCO951        0.156130\n",
       "4         HISCO410     HISCO813        0.169089\n",
       "...            ...          ...             ...\n",
       "59775     HISCO395     HISCO755        0.219659\n",
       "59776     HISCO395     HISCO641        0.190232\n",
       "59777     HISCO395     HISCO772        0.102327\n",
       "59778     HISCO395     HISCO815        0.178434\n",
       "59779     HISCO395     HISCO902        0.102327\n",
       "\n",
       "[59780 rows x 3 columns]"
      ]
     },
     "execution_count": 91,
     "metadata": {},
     "output_type": "execute_result"
    }
   ],
   "source": [
    "# agg_occ = pd.read_feather('../final_data/UK_modern/agg_occ.feather') # final data example\n",
    "# agg_occ"
   ]
  },
  {
   "cell_type": "code",
   "execution_count": 49,
   "id": "adb6ae7c-f0ab-4abe-85b6-f4e5b50e993d",
   "metadata": {},
   "outputs": [
    {
     "data": {
      "text/html": [
       "<div>\n",
       "<style scoped>\n",
       "    .dataframe tbody tr th:only-of-type {\n",
       "        vertical-align: middle;\n",
       "    }\n",
       "\n",
       "    .dataframe tbody tr th {\n",
       "        vertical-align: top;\n",
       "    }\n",
       "\n",
       "    .dataframe thead th {\n",
       "        text-align: right;\n",
       "    }\n",
       "</style>\n",
       "<table border=\"1\" class=\"dataframe\">\n",
       "  <thead>\n",
       "    <tr style=\"text-align: right;\">\n",
       "      <th></th>\n",
       "      <th>i</th>\n",
       "      <th>publicationdate</th>\n",
       "      <th>title</th>\n",
       "      <th>description</th>\n",
       "      <th>industry_nacerev2</th>\n",
       "      <th>pos2</th>\n",
       "      <th>max</th>\n",
       "    </tr>\n",
       "  </thead>\n",
       "  <tbody>\n",
       "    <tr>\n",
       "      <th>0</th>\n",
       "      <td>GB2536787A</td>\n",
       "      <td>28/09/2016</td>\n",
       "      <td>PULTRUSION APPARATUS</td>\n",
       "      <td>APPARATUS FIELD INLET SPREADER PRODUCT USE PAR...</td>\n",
       "      <td>2229</td>\n",
       "      <td>-1</td>\n",
       "      <td>53757</td>\n",
       "    </tr>\n",
       "    <tr>\n",
       "      <th>1</th>\n",
       "      <td>GB2508787A8</td>\n",
       "      <td>10/09/2014</td>\n",
       "      <td>STABLE NON-AQUEOUS ELECTROLYTE PROMOTING IDEAL...</td>\n",
       "      <td>PRESENT LITHIUM BATTERY NEGATIVE ELECTRODE ACT...</td>\n",
       "      <td>4511</td>\n",
       "      <td>-1</td>\n",
       "      <td>426</td>\n",
       "    </tr>\n",
       "    <tr>\n",
       "      <th>2</th>\n",
       "      <td>GB2508787A</td>\n",
       "      <td>11/06/2014</td>\n",
       "      <td>STABLE NON-AQUEOUS ELECTROLYTE PROMOTING IDEAL...</td>\n",
       "      <td>PRESENT LITHIUM BATTERY NEGATIVE ELECTRODE ACT...</td>\n",
       "      <td>4511</td>\n",
       "      <td>-1</td>\n",
       "      <td>426</td>\n",
       "    </tr>\n",
       "    <tr>\n",
       "      <th>3</th>\n",
       "      <td>GB2501821B</td>\n",
       "      <td>14/09/2016</td>\n",
       "      <td>MS/MS ANALYSIS USING ECD OR ETD FRAGMENTATION</td>\n",
       "      <td>ANALYSIS FRAGMENTATION BACKGROUND PRESENT METH...</td>\n",
       "      <td>8541</td>\n",
       "      <td>-1</td>\n",
       "      <td>30934</td>\n",
       "    </tr>\n",
       "    <tr>\n",
       "      <th>4</th>\n",
       "      <td>GB2511760A</td>\n",
       "      <td>17/09/2014</td>\n",
       "      <td>IMPROVEMENTS RELATING TO TEST DEVICES</td>\n",
       "      <td>TEST FIELD DIAGNOSTIC PARTICULAR INDIVIDUALLY ...</td>\n",
       "      <td>6420</td>\n",
       "      <td>-1</td>\n",
       "      <td>109693</td>\n",
       "    </tr>\n",
       "    <tr>\n",
       "      <th>...</th>\n",
       "      <td>...</td>\n",
       "      <td>...</td>\n",
       "      <td>...</td>\n",
       "      <td>...</td>\n",
       "      <td>...</td>\n",
       "      <td>...</td>\n",
       "      <td>...</td>\n",
       "    </tr>\n",
       "    <tr>\n",
       "      <th>30641</th>\n",
       "      <td>GB2503578A</td>\n",
       "      <td>01/01/2014</td>\n",
       "      <td>METHOD AND SYSTEM FOR COUPLING RESERVOIR AND S...</td>\n",
       "      <td>TITLE METHOD SYSTEM COUPLING RESERVOIR SURFACE...</td>\n",
       "      <td>1920</td>\n",
       "      <td>-1</td>\n",
       "      <td>1003</td>\n",
       "    </tr>\n",
       "    <tr>\n",
       "      <th>30642</th>\n",
       "      <td>GB2492218A</td>\n",
       "      <td>26/12/2012</td>\n",
       "      <td>VIRTUAL MICROSCOPY</td>\n",
       "      <td>INTELLECTUAL PROPERTY OFFICE DATE OCTOBER APPL...</td>\n",
       "      <td>3250</td>\n",
       "      <td>-1</td>\n",
       "      <td>80417</td>\n",
       "    </tr>\n",
       "    <tr>\n",
       "      <th>30643</th>\n",
       "      <td>GB2487971A</td>\n",
       "      <td>15/08/2012</td>\n",
       "      <td>SKIN SUTURE INSERTION APPARATUS AND DRAIN SECU...</td>\n",
       "      <td>SUTURE INSERTION APPARATUS DRAIN PRESENT SKIN ...</td>\n",
       "      <td>3250</td>\n",
       "      <td>-1</td>\n",
       "      <td>21990</td>\n",
       "    </tr>\n",
       "    <tr>\n",
       "      <th>30644</th>\n",
       "      <td>GB2477687B</td>\n",
       "      <td>10/04/2013</td>\n",
       "      <td>X-RAY MARKER</td>\n",
       "      <td>MARKER PRESENT PARTICULAR DETERMINE MAGNIFICAT...</td>\n",
       "      <td>3250</td>\n",
       "      <td>-1</td>\n",
       "      <td>22918</td>\n",
       "    </tr>\n",
       "    <tr>\n",
       "      <th>30645</th>\n",
       "      <td>GB2487971B</td>\n",
       "      <td>09/11/2016</td>\n",
       "      <td>SKIN SUTURE INSERTION APPARATUS AND DRAIN SECU...</td>\n",
       "      <td>SUTURE INSERTION APPARATUS DRAIN PRESENT SKIN ...</td>\n",
       "      <td>3250</td>\n",
       "      <td>-1</td>\n",
       "      <td>21990</td>\n",
       "    </tr>\n",
       "  </tbody>\n",
       "</table>\n",
       "<p>30646 rows × 7 columns</p>\n",
       "</div>"
      ],
      "text/plain": [
       "                 i publicationdate  \\\n",
       "0       GB2536787A      28/09/2016   \n",
       "1      GB2508787A8      10/09/2014   \n",
       "2       GB2508787A      11/06/2014   \n",
       "3       GB2501821B      14/09/2016   \n",
       "4       GB2511760A      17/09/2014   \n",
       "...            ...             ...   \n",
       "30641   GB2503578A      01/01/2014   \n",
       "30642   GB2492218A      26/12/2012   \n",
       "30643   GB2487971A      15/08/2012   \n",
       "30644   GB2477687B      10/04/2013   \n",
       "30645   GB2487971B      09/11/2016   \n",
       "\n",
       "                                                   title  \\\n",
       "0                                   PULTRUSION APPARATUS   \n",
       "1      STABLE NON-AQUEOUS ELECTROLYTE PROMOTING IDEAL...   \n",
       "2      STABLE NON-AQUEOUS ELECTROLYTE PROMOTING IDEAL...   \n",
       "3          MS/MS ANALYSIS USING ECD OR ETD FRAGMENTATION   \n",
       "4                  IMPROVEMENTS RELATING TO TEST DEVICES   \n",
       "...                                                  ...   \n",
       "30641  METHOD AND SYSTEM FOR COUPLING RESERVOIR AND S...   \n",
       "30642                                 VIRTUAL MICROSCOPY   \n",
       "30643  SKIN SUTURE INSERTION APPARATUS AND DRAIN SECU...   \n",
       "30644                                       X-RAY MARKER   \n",
       "30645  SKIN SUTURE INSERTION APPARATUS AND DRAIN SECU...   \n",
       "\n",
       "                                             description  industry_nacerev2  \\\n",
       "0      APPARATUS FIELD INLET SPREADER PRODUCT USE PAR...               2229   \n",
       "1      PRESENT LITHIUM BATTERY NEGATIVE ELECTRODE ACT...               4511   \n",
       "2      PRESENT LITHIUM BATTERY NEGATIVE ELECTRODE ACT...               4511   \n",
       "3      ANALYSIS FRAGMENTATION BACKGROUND PRESENT METH...               8541   \n",
       "4      TEST FIELD DIAGNOSTIC PARTICULAR INDIVIDUALLY ...               6420   \n",
       "...                                                  ...                ...   \n",
       "30641  TITLE METHOD SYSTEM COUPLING RESERVOIR SURFACE...               1920   \n",
       "30642  INTELLECTUAL PROPERTY OFFICE DATE OCTOBER APPL...               3250   \n",
       "30643  SUTURE INSERTION APPARATUS DRAIN PRESENT SKIN ...               3250   \n",
       "30644  MARKER PRESENT PARTICULAR DETERMINE MAGNIFICAT...               3250   \n",
       "30645  SUTURE INSERTION APPARATUS DRAIN PRESENT SKIN ...               3250   \n",
       "\n",
       "       pos2     max  \n",
       "0        -1   53757  \n",
       "1        -1     426  \n",
       "2        -1     426  \n",
       "3        -1   30934  \n",
       "4        -1  109693  \n",
       "...     ...     ...  \n",
       "30641    -1    1003  \n",
       "30642    -1   80417  \n",
       "30643    -1   21990  \n",
       "30644    -1   22918  \n",
       "30645    -1   21990  \n",
       "\n",
       "[30646 rows x 7 columns]"
      ]
     },
     "execution_count": 49,
     "metadata": {},
     "output_type": "execute_result"
    }
   ],
   "source": [
    "data"
   ]
  },
  {
   "cell_type": "code",
   "execution_count": 53,
   "id": "d9e21ad2-2f33-43bb-a912-6280227fa9bb",
   "metadata": {},
   "outputs": [
    {
     "name": "stdout",
     "output_type": "stream",
     "text": [
      "merge done\n"
     ]
    }
   ],
   "source": [
    "# Merge data to get 'occhisco_i' and 'occhisco_j'\n",
    "occ_col = 'industry_nacerev2'\n",
    "cosine_sim_long = pd.merge(cosine_sim_long, data[[occ_col]], left_on='i', right_index=True, how='left')\n",
    "cosine_sim_long = cosine_sim_long.rename(columns={occ_col: 'occ_i'})\n",
    "cosine_sim_long = pd.merge(cosine_sim_long, data[[occ_col]], left_on='j', right_index=True, how='left')\n",
    "cosine_sim_long = cosine_sim_long.rename(columns={occ_col: 'occ_j'})\n",
    "print(\"merge done\")"
   ]
  },
  {
   "cell_type": "code",
   "execution_count": 54,
   "id": "b0ca2b94-5095-49d8-b63c-c8fc9104e8e7",
   "metadata": {},
   "outputs": [],
   "source": [
    "import pickle\n",
    "\n",
    "with open('../int_data/UK_modern_proxy/cosine_sim_long.pkl','wb') as f:\n",
    "     pickle.dump(cosine_sim_long, f)"
   ]
  },
  {
   "cell_type": "code",
   "execution_count": 8,
   "id": "0aca355c-2de6-41e4-b5d6-393b67bc74fc",
   "metadata": {},
   "outputs": [],
   "source": [
    "import pickle\n",
    "\n",
    "with open('../int_data/UK_modern_proxy/cosine_sim_long.pkl','rb') as f:\n",
    "    cosine_sim_long = pickle.load(f)"
   ]
  },
  {
   "cell_type": "code",
   "execution_count": 9,
   "id": "efecaca0-3c55-46a5-9732-870a240e8bc1",
   "metadata": {},
   "outputs": [
    {
     "data": {
      "text/plain": [
       "(393, 393, 23663, 23663)"
      ]
     },
     "execution_count": 9,
     "metadata": {},
     "output_type": "execute_result"
    }
   ],
   "source": [
    "cosine_sim_long.occ_i.nunique(), cosine_sim_long.occ_j.nunique(), cosine_sim_long.i.nunique(), cosine_sim_long.j.nunique()"
   ]
  },
  {
   "cell_type": "code",
   "execution_count": 59,
   "id": "718aefc6-41c6-4982-8f1a-3c2beb8a1550",
   "metadata": {},
   "outputs": [
    {
     "data": {
      "text/html": [
       "<div>\n",
       "<style scoped>\n",
       "    .dataframe tbody tr th:only-of-type {\n",
       "        vertical-align: middle;\n",
       "    }\n",
       "\n",
       "    .dataframe tbody tr th {\n",
       "        vertical-align: top;\n",
       "    }\n",
       "\n",
       "    .dataframe thead th {\n",
       "        text-align: right;\n",
       "    }\n",
       "</style>\n",
       "<table border=\"1\" class=\"dataframe\">\n",
       "  <thead>\n",
       "    <tr style=\"text-align: right;\">\n",
       "      <th></th>\n",
       "      <th>i</th>\n",
       "      <th>j</th>\n",
       "      <th>Value</th>\n",
       "      <th>occ_i</th>\n",
       "      <th>occ_j</th>\n",
       "    </tr>\n",
       "  </thead>\n",
       "  <tbody>\n",
       "    <tr>\n",
       "      <th>0</th>\n",
       "      <td>0</td>\n",
       "      <td>1</td>\n",
       "      <td>0.049364</td>\n",
       "      <td>2229</td>\n",
       "      <td>4511</td>\n",
       "    </tr>\n",
       "    <tr>\n",
       "      <th>1</th>\n",
       "      <td>0</td>\n",
       "      <td>2</td>\n",
       "      <td>0.049364</td>\n",
       "      <td>2229</td>\n",
       "      <td>4511</td>\n",
       "    </tr>\n",
       "    <tr>\n",
       "      <th>2</th>\n",
       "      <td>1</td>\n",
       "      <td>2</td>\n",
       "      <td>1.0</td>\n",
       "      <td>4511</td>\n",
       "      <td>4511</td>\n",
       "    </tr>\n",
       "    <tr>\n",
       "      <th>3</th>\n",
       "      <td>0</td>\n",
       "      <td>3</td>\n",
       "      <td>0.292137</td>\n",
       "      <td>2229</td>\n",
       "      <td>8541</td>\n",
       "    </tr>\n",
       "    <tr>\n",
       "      <th>4</th>\n",
       "      <td>1</td>\n",
       "      <td>3</td>\n",
       "      <td>0.072259</td>\n",
       "      <td>4511</td>\n",
       "      <td>8541</td>\n",
       "    </tr>\n",
       "    <tr>\n",
       "      <th>...</th>\n",
       "      <td>...</td>\n",
       "      <td>...</td>\n",
       "      <td>...</td>\n",
       "      <td>...</td>\n",
       "      <td>...</td>\n",
       "    </tr>\n",
       "    <tr>\n",
       "      <th>279315572</th>\n",
       "      <td>23658</td>\n",
       "      <td>23663</td>\n",
       "      <td>0.046107</td>\n",
       "      <td>6203</td>\n",
       "      <td>2812</td>\n",
       "    </tr>\n",
       "    <tr>\n",
       "      <th>279315573</th>\n",
       "      <td>23659</td>\n",
       "      <td>23663</td>\n",
       "      <td>0.216773</td>\n",
       "      <td>6203</td>\n",
       "      <td>2812</td>\n",
       "    </tr>\n",
       "    <tr>\n",
       "      <th>279315574</th>\n",
       "      <td>23660</td>\n",
       "      <td>23663</td>\n",
       "      <td>0.024398</td>\n",
       "      <td>6203</td>\n",
       "      <td>2812</td>\n",
       "    </tr>\n",
       "    <tr>\n",
       "      <th>279315575</th>\n",
       "      <td>23661</td>\n",
       "      <td>23663</td>\n",
       "      <td>1.0</td>\n",
       "      <td>6203</td>\n",
       "      <td>2812</td>\n",
       "    </tr>\n",
       "    <tr>\n",
       "      <th>279315576</th>\n",
       "      <td>23662</td>\n",
       "      <td>23663</td>\n",
       "      <td>0.328943</td>\n",
       "      <td>6203</td>\n",
       "      <td>2812</td>\n",
       "    </tr>\n",
       "  </tbody>\n",
       "</table>\n",
       "<p>279315577 rows × 5 columns</p>\n",
       "</div>"
      ],
      "text/plain": [
       "               i      j     Value  occ_i  occ_j\n",
       "0              0      1  0.049364   2229   4511\n",
       "1              0      2  0.049364   2229   4511\n",
       "2              1      2       1.0   4511   4511\n",
       "3              0      3  0.292137   2229   8541\n",
       "4              1      3  0.072259   4511   8541\n",
       "...          ...    ...       ...    ...    ...\n",
       "279315572  23658  23663  0.046107   6203   2812\n",
       "279315573  23659  23663  0.216773   6203   2812\n",
       "279315574  23660  23663  0.024398   6203   2812\n",
       "279315575  23661  23663       1.0   6203   2812\n",
       "279315576  23662  23663  0.328943   6203   2812\n",
       "\n",
       "[279315577 rows x 5 columns]"
      ]
     },
     "execution_count": 59,
     "metadata": {},
     "output_type": "execute_result"
    }
   ],
   "source": [
    "cosine_sim_long"
   ]
  },
  {
   "cell_type": "code",
   "execution_count": 60,
   "id": "85bb33e3-069a-4fbb-8383-7d5d83def8dc",
   "metadata": {},
   "outputs": [
    {
     "name": "stdout",
     "output_type": "stream",
     "text": [
      "[0] RAM Usage: 81227.25 MB\n"
     ]
    }
   ],
   "source": [
    "print_ram_usage()"
   ]
  },
  {
   "cell_type": "code",
   "execution_count": 5,
   "id": "6c782926-f6a9-42da-8b3b-526f2b893d55",
   "metadata": {},
   "outputs": [],
   "source": [
    "tab_i = dict(zip(cosine_sim_long['i'], cosine_sim_long['occ_i']))\n",
    "tab_j = dict(zip(cosine_sim_long['j'], cosine_sim_long['occ_j']))\n",
    "tab_i.update(tab_j)\n",
    "combined_mapping = tab_i"
   ]
  },
  {
   "cell_type": "code",
   "execution_count": 56,
   "id": "a9ddb3a9-0583-40dd-a2c6-73449e46dc36",
   "metadata": {},
   "outputs": [
    {
     "ename": "NameError",
     "evalue": "name 'data' is not defined",
     "output_type": "error",
     "traceback": [
      "\u001b[0;31m---------------------------------------------------------------------------\u001b[0m",
      "\u001b[0;31mNameError\u001b[0m                                 Traceback (most recent call last)",
      "Cell \u001b[0;32mIn[56], line 21\u001b[0m\n\u001b[1;32m     18\u001b[0m combined_mapping[last_j] \u001b[38;5;241m=\u001b[39m (tab_i\u001b[38;5;241m.\u001b[39mget(last_j, \u001b[38;5;28;01mNone\u001b[39;00m), tab_j\u001b[38;5;241m.\u001b[39mget(last_j, \u001b[38;5;28;01mNone\u001b[39;00m))\n\u001b[1;32m     20\u001b[0m \u001b[38;5;66;03m# Check the result\u001b[39;00m\n\u001b[0;32m---> 21\u001b[0m \u001b[38;5;28;01mfor\u001b[39;00m key, value \u001b[38;5;129;01min\u001b[39;00m data\u001b[38;5;241m.\u001b[39mitems():\n\u001b[1;32m     22\u001b[0m     \u001b[38;5;28;01mif\u001b[39;00m value[\u001b[38;5;241m0\u001b[39m] \u001b[38;5;129;01mis\u001b[39;00m \u001b[38;5;28;01mNone\u001b[39;00m:\n\u001b[1;32m     23\u001b[0m         \u001b[38;5;66;03m# If the first value is None, keep the second value\u001b[39;00m\n\u001b[1;32m     24\u001b[0m         data[key] \u001b[38;5;241m=\u001b[39m value[\u001b[38;5;241m1\u001b[39m]\n",
      "\u001b[0;31mNameError\u001b[0m: name 'data' is not defined"
     ]
    }
   ],
   "source": [
    "# tab_i = dict(zip(cosine_sim_long['i'], cosine_sim_long['occ_i']))\n",
    "# tab_j = dict(zip(cosine_sim_long['j'], cosine_sim_long['occ_j']))\n",
    "\n",
    "# # Combine the dictionaries\n",
    "# # We'll combine occ_i_map and occ_j_map such that all keys are included, \n",
    "# # and for overlapping keys, we can use either occ_i or occ_j based on your choice\n",
    "# combined_mapping = {key: (tab_i.get(key, None), tab_j.get(key, None)) for key in set(tab_i) | set(tab_j)}\n",
    "\n",
    "# # # Ensure first and last keys from both mappings are included in the final result\n",
    "# first_i = cosine_sim_long['i'].iloc[0]\n",
    "# last_i = cosine_sim_long['i'].iloc[-1]\n",
    "# first_j = cosine_sim_long['j'].iloc[0]\n",
    "# last_j = cosine_sim_long['j'].iloc[-1]\n",
    "\n",
    "# combined_mapping[first_i] = (tab_i.get(first_i, None), tab_j.get(first_i, None))\n",
    "# combined_mapping[last_i] = (tab_i.get(last_i, None), tab_j.get(last_i, None))\n",
    "# combined_mapping[first_j] = (tab_i.get(first_j, None), tab_j.get(first_j, None))\n",
    "# combined_mapping[last_j] = (tab_i.get(last_j, None), tab_j.get(last_j, None))\n",
    "\n",
    "# # Check the result\n",
    "# for key, value in combined_mapping.items():\n",
    "#     if value[0] is None:\n",
    "#         # If the first value is None, keep the second value\n",
    "#         data[key] = value[1]\n",
    "#     elif value[1] is None:\n",
    "#         # If the second value is None, keep the first value\n",
    "#         data[key] = value[0]\n",
    "#     elif value[0] == value[1]:\n",
    "#         # If both values are the same, keep just one as an integer\n",
    "#         data[key] = value[0]\n",
    "#     else:\n",
    "#         # If the values are different, raise an error\n",
    "#         raise ValueError(f\"Values for key {key} are not identical: {value}\")\n"
   ]
  },
  {
   "cell_type": "code",
   "execution_count": 21,
   "id": "dff484b9-54f7-4a62-8d94-4a4b6a24a59a",
   "metadata": {},
   "outputs": [
    {
     "data": {
      "text/plain": [
       "(393, 393)"
      ]
     },
     "execution_count": 21,
     "metadata": {},
     "output_type": "execute_result"
    }
   ],
   "source": [
    "cosine_sim_long.occ_i.nunique(), cosine_sim_long.occ_j.nunique()"
   ]
  },
  {
   "cell_type": "markdown",
   "id": "90afa813-2d76-4e5f-83a4-e0c18adfee3f",
   "metadata": {},
   "source": [
    "# New: Aggregate kw similarity by occupations\n",
    "time complexity: O(n*n * m * m), where n is number of keywords, m is number of patents"
   ]
  },
  {
   "cell_type": "markdown",
   "id": "95e89907-cb68-478d-8a9e-e79bf459f537",
   "metadata": {},
   "source": [
    "### Create empty occ space"
   ]
  },
  {
   "cell_type": "code",
   "execution_count": 63,
   "id": "7765e22a-959b-42df-833c-7b5d0c57d869",
   "metadata": {},
   "outputs": [
    {
     "ename": "NameError",
     "evalue": "name 'data_explode_pre' is not defined",
     "output_type": "error",
     "traceback": [
      "\u001b[0;31m---------------------------------------------------------------------------\u001b[0m",
      "\u001b[0;31mNameError\u001b[0m                                 Traceback (most recent call last)",
      "Cell \u001b[0;32mIn[63], line 1\u001b[0m\n\u001b[0;32m----> 1\u001b[0m i_occ_mapping \u001b[38;5;241m=\u001b[39m data_explode_pre\u001b[38;5;241m.\u001b[39mreset_index()\n\u001b[1;32m      2\u001b[0m i_occ_mapping\u001b[38;5;241m.\u001b[39mcensus_occupation[\u001b[38;5;241m1\u001b[39m]\n",
      "\u001b[0;31mNameError\u001b[0m: name 'data_explode_pre' is not defined"
     ]
    }
   ],
   "source": [
    "# i_occ_mapping = data_explode_pre.reset_index()\n",
    "# i_occ_mapping.census_occupation[1] # many repeated occ strings in one census_occupation, e.g., 'HISCO745'"
   ]
  },
  {
   "cell_type": "code",
   "execution_count": 14,
   "id": "e11d4339-6f89-414b-b737-30bab96f8292",
   "metadata": {},
   "outputs": [
    {
     "data": {
      "text/html": [
       "<div>\n",
       "<style scoped>\n",
       "    .dataframe tbody tr th:only-of-type {\n",
       "        vertical-align: middle;\n",
       "    }\n",
       "\n",
       "    .dataframe tbody tr th {\n",
       "        vertical-align: top;\n",
       "    }\n",
       "\n",
       "    .dataframe thead th {\n",
       "        text-align: right;\n",
       "    }\n",
       "</style>\n",
       "<table border=\"1\" class=\"dataframe\">\n",
       "  <thead>\n",
       "    <tr style=\"text-align: right;\">\n",
       "      <th></th>\n",
       "      <th>index</th>\n",
       "      <th>i</th>\n",
       "      <th>census_occupation</th>\n",
       "    </tr>\n",
       "  </thead>\n",
       "  <tbody>\n",
       "    <tr>\n",
       "      <th>0</th>\n",
       "      <td>0</td>\n",
       "      <td>GB187303416</td>\n",
       "      <td>[HISCO744, HISCO410, HISCO896]</td>\n",
       "    </tr>\n",
       "    <tr>\n",
       "      <th>1</th>\n",
       "      <td>1</td>\n",
       "      <td>GB187600824</td>\n",
       "      <td>[HISCO974, HISCO779, HISCO745, HISCO896, HISCO...</td>\n",
       "    </tr>\n",
       "    <tr>\n",
       "      <th>2</th>\n",
       "      <td>2</td>\n",
       "      <td>GB187601544</td>\n",
       "      <td>[HISCO999, HISCO901, HISCO24, HISCO90, HISCO97...</td>\n",
       "    </tr>\n",
       "    <tr>\n",
       "      <th>3</th>\n",
       "      <td>3</td>\n",
       "      <td>GB188204200</td>\n",
       "      <td>[HISCO799, HISCO231, HISCO79, HISCO894, HISCO9...</td>\n",
       "    </tr>\n",
       "    <tr>\n",
       "      <th>4</th>\n",
       "      <td>4</td>\n",
       "      <td>GB188803213</td>\n",
       "      <td>[HISCO777]</td>\n",
       "    </tr>\n",
       "    <tr>\n",
       "      <th>...</th>\n",
       "      <td>...</td>\n",
       "      <td>...</td>\n",
       "      <td>...</td>\n",
       "    </tr>\n",
       "    <tr>\n",
       "      <th>22115</th>\n",
       "      <td>22115</td>\n",
       "      <td>GB191211210</td>\n",
       "      <td>[NA]</td>\n",
       "    </tr>\n",
       "    <tr>\n",
       "      <th>22116</th>\n",
       "      <td>22116</td>\n",
       "      <td>GB191213037</td>\n",
       "      <td>[HISCO999, HISCO333, HISCO33]</td>\n",
       "    </tr>\n",
       "    <tr>\n",
       "      <th>22117</th>\n",
       "      <td>22117</td>\n",
       "      <td>GB191213039</td>\n",
       "      <td>[HISCO999, HISCO333, HISCO33]</td>\n",
       "    </tr>\n",
       "    <tr>\n",
       "      <th>22118</th>\n",
       "      <td>22118</td>\n",
       "      <td>GB191217939</td>\n",
       "      <td>[HISCO999, HISCO333, HISCO33]</td>\n",
       "    </tr>\n",
       "    <tr>\n",
       "      <th>22119</th>\n",
       "      <td>22119</td>\n",
       "      <td>GB191220302</td>\n",
       "      <td>[HISCO21, HISCO210]</td>\n",
       "    </tr>\n",
       "  </tbody>\n",
       "</table>\n",
       "<p>22120 rows × 3 columns</p>\n",
       "</div>"
      ],
      "text/plain": [
       "       index            i                                  census_occupation\n",
       "0          0  GB187303416                     [HISCO744, HISCO410, HISCO896]\n",
       "1          1  GB187600824  [HISCO974, HISCO779, HISCO745, HISCO896, HISCO...\n",
       "2          2  GB187601544  [HISCO999, HISCO901, HISCO24, HISCO90, HISCO97...\n",
       "3          3  GB188204200  [HISCO799, HISCO231, HISCO79, HISCO894, HISCO9...\n",
       "4          4  GB188803213                                         [HISCO777]\n",
       "...      ...          ...                                                ...\n",
       "22115  22115  GB191211210                                               [NA]\n",
       "22116  22116  GB191213037                      [HISCO999, HISCO333, HISCO33]\n",
       "22117  22117  GB191213039                      [HISCO999, HISCO333, HISCO33]\n",
       "22118  22118  GB191217939                      [HISCO999, HISCO333, HISCO33]\n",
       "22119  22119  GB191220302                                [HISCO21, HISCO210]\n",
       "\n",
       "[22120 rows x 3 columns]"
      ]
     },
     "execution_count": 14,
     "metadata": {},
     "output_type": "execute_result"
    }
   ],
   "source": [
    "# i_occ_mapping.census_occupation = i_occ_mapping.census_occupation.apply(lambda x:list(set(x)))\n",
    "# i_occ_mapping"
   ]
  },
  {
   "cell_type": "code",
   "execution_count": 15,
   "id": "43e1089a-f7cf-40ed-befa-288ba8b996dd",
   "metadata": {},
   "outputs": [
    {
     "data": {
      "text/plain": [
       "20742"
      ]
     },
     "execution_count": 15,
     "metadata": {},
     "output_type": "execute_result"
    }
   ],
   "source": [
    "# i_occ_mapping.i.nunique() # does not correspond to 22,120 unique patent-inventor pairs\n"
   ]
  },
  {
   "cell_type": "markdown",
   "id": "09ae0467-e819-44da-9cc2-4a3dc8fc8c05",
   "metadata": {},
   "source": [
    "- We choose index (which exactly matches \"data\" on shape[0]) to form the index:census_occupation mappings"
   ]
  },
  {
   "cell_type": "code",
   "execution_count": 16,
   "id": "9b6293ab-10a7-4e24-a5e4-abe516e0260b",
   "metadata": {
    "scrolled": true
   },
   "outputs": [
    {
     "data": {
      "text/plain": [
       "{0: ['HISCO744', 'HISCO410', 'HISCO896'],\n",
       " 1: ['HISCO974',\n",
       "  'HISCO779',\n",
       "  'HISCO745',\n",
       "  'HISCO896',\n",
       "  'HISCO813',\n",
       "  'HISCO391',\n",
       "  'HISCO951',\n",
       "  'HISCO397'],\n",
       " 2: ['HISCO999', 'HISCO901', 'HISCO24', 'HISCO90', 'HISCO974', 'HISCO397'],\n",
       " 3: ['HISCO799',\n",
       "  'HISCO231',\n",
       "  'HISCO79',\n",
       "  'HISCO894',\n",
       "  'HISCO931',\n",
       "  'HISCO161',\n",
       "  'HISCO391',\n",
       "  'HISCO949',\n",
       "  'HISCO221',\n",
       "  'HISCO23',\n",
       "  'HISCO22',\n",
       "  'HISCO443'],\n",
       " 4: ['HISCO777'],\n",
       " 5: ['HISCO712', 'HISCO779', 'HISCO71', 'HISCO745'],\n",
       " 6: ['HISCO24', 'HISCO33', 'HISCO331'],\n",
       " 7: ['HISCO22'],\n",
       " 8: ['HISCO22'],\n",
       " 9: ['HISCO857'],\n",
       " 10: ['HISCO981'],\n",
       " 11: ['HISCO410', 'HISCO11', 'HISCO67'],\n",
       " 12: ['HISCO999', 'HISCO333', 'HISCO33'],\n",
       " 13: ['NA'],\n",
       " 14: ['NA'],\n",
       " 15: ['NA'],\n",
       " 16: ['HISCO410', 'HISCO24', 'HISCO776'],\n",
       " 17: ['HISCO754', 'HISCO79', 'HISCO24', 'HISCO75', 'HISCO799'],\n",
       " 18: ['NA'],\n",
       " 19: ['HISCO895', 'HISCO893'],\n",
       " 20: ['NA'],\n",
       " 21: ['NA'],\n",
       " 22: ['NA'],\n",
       " 23: ['NA'],\n",
       " 24: ['HISCO942'],\n",
       " 25: ['HISCO999', 'HISCO333', 'HISCO33', 'HISCO430'],\n",
       " 26: ['HISCO999', 'HISCO333', 'HISCO33', 'HISCO430'],\n",
       " 27: ['HISCO22'],\n",
       " 28: ['HISCO999', 'HISCO333', 'HISCO33'],\n",
       " 29: ['NA'],\n",
       " 30: ['NA'],\n",
       " 31: ['HISCO231', 'HISCO839', 'HISCO931', 'HISCO221', 'HISCO23', 'HISCO22'],\n",
       " 32: ['NA'],\n",
       " 33: ['NA'],\n",
       " 34: ['NA'],\n",
       " 35: ['HISCO430'],\n",
       " 36: ['NA'],\n",
       " 37: ['HISCO802', 'HISCO80', 'HISCO801'],\n",
       " 38: ['HISCO802', 'HISCO80', 'HISCO801'],\n",
       " 39: ['HISCO124', 'HISCO33', 'HISCO22', 'HISCO121', 'HISCO12', 'HISCO331'],\n",
       " 40: ['HISCO793',\n",
       "  'HISCO741',\n",
       "  'HISCO734',\n",
       "  'HISCO79',\n",
       "  'HISCO756',\n",
       "  'HISCO778',\n",
       "  'HISCO901',\n",
       "  'HISCO899',\n",
       "  'HISCO833',\n",
       "  'HISCO90',\n",
       "  'HISCO771',\n",
       "  'HISCO75',\n",
       "  'HISCO73',\n",
       "  'HISCO999'],\n",
       " 41: ['NA'],\n",
       " 42: ['NA'],\n",
       " 43: ['HISCO776', 'HISCO451', 'HISCO771'],\n",
       " 44: ['HISCO776', 'HISCO451', 'HISCO771'],\n",
       " 45: ['HISCO21', 'HISCO22', 'HISCO212'],\n",
       " 46: ['HISCO754', 'HISCO75'],\n",
       " 47: ['HISCO410', 'HISCO777'],\n",
       " 48: ['NA'],\n",
       " 49: ['NA'],\n",
       " 50: ['NA'],\n",
       " 51: ['NA'],\n",
       " 52: ['NA'],\n",
       " 53: ['NA'],\n",
       " 54: ['NA'],\n",
       " 55: ['HISCO21', 'HISCO210'],\n",
       " 56: ['HISCO999', 'HISCO333', 'HISCO33'],\n",
       " 57: ['HISCO30', 'HISCO291', 'HISCO220', 'HISCO22', 'HISCO443'],\n",
       " 58: ['NA'],\n",
       " 59: ['HISCO21', 'HISCO210'],\n",
       " 60: ['NA'],\n",
       " 61: ['HISCO21', 'HISCO210'],\n",
       " 62: ['HISCO999', 'HISCO333', 'HISCO33'],\n",
       " 63: ['HISCO22'],\n",
       " 64: ['NA'],\n",
       " 65: ['NA'],\n",
       " 66: ['HISCO430'],\n",
       " 67: ['NA'],\n",
       " 68: ['HISCO999', 'HISCO333', 'HISCO33'],\n",
       " 69: ['HISCO75', 'HISCO841', 'HISCO756', 'HISCO875'],\n",
       " 70: ['HISCO121', 'HISCO12'],\n",
       " 71: ['HISCO430', 'HISCO747'],\n",
       " 72: ['NA'],\n",
       " 73: ['NA'],\n",
       " 74: ['NA'],\n",
       " 75: ['HISCO61'],\n",
       " 76: ['NA'],\n",
       " 77: ['NA'],\n",
       " 78: ['HISCO999', 'HISCO333', 'HISCO33'],\n",
       " 79: ['HISCO510', 'HISCO51'],\n",
       " 80: ['NA'],\n",
       " 81: ['HISCO999', 'HISCO333', 'HISCO33'],\n",
       " 82: ['HISCO999', 'HISCO333', 'HISCO33'],\n",
       " 83: ['HISCO999', 'HISCO333', 'HISCO33'],\n",
       " 84: ['NA'],\n",
       " 85: ['HISCO835'],\n",
       " 86: ['NA'],\n",
       " 87: ['NA'],\n",
       " 88: ['NA'],\n",
       " 89: ['NA'],\n",
       " 90: ['HISCO79', 'HISCO410', 'HISCO791'],\n",
       " 91: ['HISCO999', 'HISCO333', 'HISCO33'],\n",
       " 92: ['NA'],\n",
       " 93: ['HISCO410'],\n",
       " 94: ['HISCO410'],\n",
       " 95: ['NA'],\n",
       " 96: ['HISCO22', 'HISCO871'],\n",
       " 97: ['HISCO231', 'HISCO931', 'HISCO221', 'HISCO23', 'HISCO22', 'HISCO951'],\n",
       " 98: ['NA'],\n",
       " 99: ['NA'],\n",
       " 100: ['NA'],\n",
       " 101: ['HISCO124', 'HISCO33', 'HISCO22', 'HISCO121', 'HISCO12', 'HISCO331'],\n",
       " 102: ['HISCO124', 'HISCO33', 'HISCO22', 'HISCO121', 'HISCO12', 'HISCO331'],\n",
       " 103: ['HISCO23'],\n",
       " 104: ['NA'],\n",
       " 105: ['HISCO30', 'HISCO300', 'HISCO390'],\n",
       " 106: ['HISCO430'],\n",
       " 107: ['NA'],\n",
       " 108: ['HISCO803', 'HISCO80'],\n",
       " 109: ['HISCO61'],\n",
       " 110: ['HISCO24'],\n",
       " 111: ['HISCO430'],\n",
       " 112: ['HISCO999', 'HISCO333', 'HISCO33'],\n",
       " 113: ['HISCO163'],\n",
       " 114: ['HISCO410'],\n",
       " 115: ['HISCO999', 'HISCO333', 'HISCO33', 'HISCO430'],\n",
       " 116: ['NA'],\n",
       " 117: ['NA'],\n",
       " 118: ['HISCO61', 'HISCO771', 'HISCO611', 'HISCO613'],\n",
       " 119: ['HISCO432', 'HISCO999', 'HISCO333', 'HISCO33'],\n",
       " 120: ['NA'],\n",
       " 121: ['HISCO199', 'HISCO410', 'HISCO11', 'HISCO67'],\n",
       " 122: ['NA'],\n",
       " 123: ['HISCO430'],\n",
       " 124: ['HISCO22'],\n",
       " 125: ['HISCO22'],\n",
       " 126: ['HISCO743',\n",
       "  'HISCO893',\n",
       "  'HISCO747',\n",
       "  'HISCO21',\n",
       "  'HISCO231',\n",
       "  'HISCO901',\n",
       "  'HISCO931',\n",
       "  'HISCO895',\n",
       "  'HISCO391',\n",
       "  'HISCO90',\n",
       "  'HISCO873',\n",
       "  'HISCO221',\n",
       "  'HISCO22',\n",
       "  'HISCO23',\n",
       "  'HISCO999',\n",
       "  'HISCO211'],\n",
       " 127: ['HISCO162'],\n",
       " 128: ['HISCO893',\n",
       "  'HISCO231',\n",
       "  'HISCO839',\n",
       "  'HISCO901',\n",
       "  'HISCO931',\n",
       "  'HISCO895',\n",
       "  'HISCO875',\n",
       "  'HISCO90',\n",
       "  'HISCO591',\n",
       "  'HISCO873',\n",
       "  'HISCO221',\n",
       "  'HISCO22',\n",
       "  'HISCO23',\n",
       "  'HISCO999'],\n",
       " 129: ['HISCO893',\n",
       "  'HISCO231',\n",
       "  'HISCO839',\n",
       "  'HISCO901',\n",
       "  'HISCO931',\n",
       "  'HISCO895',\n",
       "  'HISCO875',\n",
       "  'HISCO90',\n",
       "  'HISCO591',\n",
       "  'HISCO873',\n",
       "  'HISCO221',\n",
       "  'HISCO22',\n",
       "  'HISCO23',\n",
       "  'HISCO999'],\n",
       " 130: ['HISCO430'],\n",
       " 131: ['NA'],\n",
       " 132: ['NA'],\n",
       " 133: ['HISCO430',\n",
       "  'HISCO231',\n",
       "  'HISCO21',\n",
       "  'HISCO320',\n",
       "  'HISCO32',\n",
       "  'HISCO410',\n",
       "  'HISCO221',\n",
       "  'HISCO23',\n",
       "  'HISCO22',\n",
       "  'HISCO211'],\n",
       " 134: ['HISCO999', 'HISCO333', 'HISCO33'],\n",
       " 135: ['NA'],\n",
       " 136: ['HISCO999', 'HISCO333', 'HISCO33'],\n",
       " 137: ['HISCO999', 'HISCO333', 'HISCO33'],\n",
       " 138: ['HISCO170', 'HISCO171'],\n",
       " 139: ['HISCO21', 'HISCO212'],\n",
       " 140: ['HISCO410', 'HISCO11', 'HISCO67'],\n",
       " 141: ['HISCO999', 'HISCO333', 'HISCO33'],\n",
       " 142: ['NA'],\n",
       " 143: ['NA'],\n",
       " 144: ['HISCO939'],\n",
       " 145: ['HISCO21', 'HISCO33', 'HISCO999', 'HISCO333', 'HISCO211'],\n",
       " 146: ['HISCO22', 'HISCO999', 'HISCO333', 'HISCO33'],\n",
       " 147: ['HISCO999', 'HISCO333', 'HISCO33'],\n",
       " 148: ['HISCO410'],\n",
       " 149: ['NA'],\n",
       " 150: ['NA'],\n",
       " 151: ['HISCO21', 'HISCO210'],\n",
       " 152: ['NA'],\n",
       " 153: ['HISCO430'],\n",
       " 154: ['NA'],\n",
       " 155: ['HISCO22', 'HISCO999', 'HISCO333', 'HISCO33'],\n",
       " 156: ['NA'],\n",
       " 157: ['HISCO430'],\n",
       " 158: ['HISCO841', 'HISCO849', 'HISCO843'],\n",
       " 159: ['NA'],\n",
       " 160: ['HISCO410'],\n",
       " 161: ['NA'],\n",
       " 162: ['HISCO61'],\n",
       " 163: ['HISCO410', 'HISCO11', 'HISCO67'],\n",
       " 164: ['HISCO26'],\n",
       " 165: ['HISCO26'],\n",
       " 166: ['HISCO430'],\n",
       " 167: ['NA'],\n",
       " 168: ['NA'],\n",
       " 169: ['HISCO841'],\n",
       " 170: ['HISCO410'],\n",
       " 171: ['NA'],\n",
       " 172: ['NA'],\n",
       " 173: ['NA'],\n",
       " 174: ['HISCO931', 'HISCO841', 'HISCO871', 'HISCO959'],\n",
       " 175: ['NA'],\n",
       " 176: ['HISCO999', 'HISCO333', 'HISCO33'],\n",
       " 177: ['NA'],\n",
       " 178: ['NA'],\n",
       " 179: ['NA'],\n",
       " 180: ['NA'],\n",
       " 181: ['HISCO430', 'HISCO802', 'HISCO80', 'HISCO801'],\n",
       " 182: ['HISCO430'],\n",
       " 183: ['HISCO23'],\n",
       " 184: ['NA'],\n",
       " 185: ['NA'],\n",
       " 186: ['NA'],\n",
       " 187: ['HISCO61'],\n",
       " 188: ['HISCO22'],\n",
       " 189: ['HISCO999', 'HISCO333', 'HISCO33'],\n",
       " 190: ['HISCO931', 'HISCO410', 'HISCO813', 'HISCO161'],\n",
       " 191: ['HISCO999', 'HISCO333', 'HISCO33'],\n",
       " 192: ['HISCO999', 'HISCO333', 'HISCO33'],\n",
       " 193: ['HISCO999', 'HISCO333', 'HISCO33'],\n",
       " 194: ['HISCO999', 'HISCO333', 'HISCO33'],\n",
       " 195: ['NA'],\n",
       " 196: ['NA'],\n",
       " 197: ['HISCO22'],\n",
       " 198: ['NA'],\n",
       " 199: ['NA'],\n",
       " 200: ['HISCO30', 'HISCO300', 'HISCO390'],\n",
       " 201: ['HISCO22'],\n",
       " 202: ['NA'],\n",
       " 203: ['HISCO430'],\n",
       " 204: ['HISCO224',\n",
       "  'HISCO747',\n",
       "  'HISCO842',\n",
       "  'HISCO901',\n",
       "  'HISCO813',\n",
       "  'HISCO391',\n",
       "  'HISCO90',\n",
       "  'HISCO22',\n",
       "  'HISCO999'],\n",
       " 205: ['HISCO842'],\n",
       " 206: ['HISCO842'],\n",
       " 207: ['HISCO430'],\n",
       " 208: ['HISCO895', 'HISCO410', 'HISCO893'],\n",
       " 209: ['HISCO802',\n",
       "  'HISCO839',\n",
       "  'HISCO901',\n",
       "  'HISCO391',\n",
       "  'HISCO875',\n",
       "  'HISCO90',\n",
       "  'HISCO80',\n",
       "  'HISCO801',\n",
       "  'HISCO999'],\n",
       " 210: ['HISCO986'],\n",
       " 211: ['NA'],\n",
       " 212: ['NA'],\n",
       " 213: ['HISCO124', 'HISCO33', 'HISCO22', 'HISCO121', 'HISCO12', 'HISCO331'],\n",
       " 214: ['HISCO999', 'HISCO333', 'HISCO33'],\n",
       " 215: ['NA'],\n",
       " 216: ['NA'],\n",
       " 217: ['HISCO410', 'HISCO11', 'HISCO67'],\n",
       " 218: ['HISCO31'],\n",
       " 219: ['HISCO583'],\n",
       " 220: ['NA'],\n",
       " 221: ['HISCO22', 'HISCO939', 'HISCO226'],\n",
       " 222: ['NA'],\n",
       " 223: ['NA'],\n",
       " 224: ['HISCO999', 'HISCO333', 'HISCO33'],\n",
       " 225: ['NA'],\n",
       " 226: ['NA'],\n",
       " 227: ['NA'],\n",
       " 228: ['HISCO231',\n",
       "  'HISCO21',\n",
       "  'HISCO391',\n",
       "  'HISCO221',\n",
       "  'HISCO23',\n",
       "  'HISCO22',\n",
       "  'HISCO211'],\n",
       " 229: ['HISCO22', 'HISCO33', 'HISCO331'],\n",
       " 230: ['HISCO793',\n",
       "  'HISCO741',\n",
       "  'HISCO734',\n",
       "  'HISCO79',\n",
       "  'HISCO756',\n",
       "  'HISCO778',\n",
       "  'HISCO901',\n",
       "  'HISCO899',\n",
       "  'HISCO833',\n",
       "  'HISCO90',\n",
       "  'HISCO771',\n",
       "  'HISCO75',\n",
       "  'HISCO73',\n",
       "  'HISCO999'],\n",
       " 231: ['HISCO842', 'HISCO880'],\n",
       " 232: ['NA'],\n",
       " 233: ['NA'],\n",
       " 234: ['HISCO999', 'HISCO333', 'HISCO33', 'HISCO873'],\n",
       " 235: ['NA'],\n",
       " 236: ['HISCO23'],\n",
       " 237: ['HISCO391', 'HISCO857'],\n",
       " 238: ['HISCO391', 'HISCO857'],\n",
       " 239: ['NA'],\n",
       " 240: ['NA'],\n",
       " 241: ['HISCO21', 'HISCO22', 'HISCO210', 'HISCO226'],\n",
       " 242: ['HISCO21', 'HISCO22', 'HISCO210', 'HISCO226'],\n",
       " 243: ['HISCO895', 'HISCO893', 'HISCO430'],\n",
       " 244: ['NA'],\n",
       " 245: ['NA'],\n",
       " 246: ['NA'],\n",
       " 247: ['HISCO22'],\n",
       " 248: ['HISCO21', 'HISCO210', 'HISCO832'],\n",
       " 249: ['HISCO21', 'HISCO210', 'HISCO832'],\n",
       " 250: ['HISCO21', 'HISCO210', 'HISCO832'],\n",
       " 251: ['NA'],\n",
       " 252: ['NA'],\n",
       " 253: ['NA'],\n",
       " 254: ['HISCO999', 'HISCO333', 'HISCO33'],\n",
       " 255: ['HISCO999', 'HISCO333', 'HISCO33'],\n",
       " 256: ['HISCO21', 'HISCO210'],\n",
       " 257: ['NA'],\n",
       " 258: ['NA'],\n",
       " 259: ['HISCO999', 'HISCO333', 'HISCO33'],\n",
       " 260: ['HISCO873'],\n",
       " 261: ['HISCO61'],\n",
       " 262: ['NA'],\n",
       " 263: ['HISCO391', 'HISCO591', 'HISCO747'],\n",
       " 264: ['HISCO21', 'HISCO210'],\n",
       " 265: ['NA'],\n",
       " 266: ['NA'],\n",
       " 267: ['HISCO999', 'HISCO333', 'HISCO33'],\n",
       " 268: ['HISCO22'],\n",
       " 269: ['HISCO22', 'HISCO220'],\n",
       " 270: ['NA'],\n",
       " 271: ['HISCO63'],\n",
       " 272: ['HISCO13', 'HISCO130'],\n",
       " 273: ['NA'],\n",
       " 274: ['NA'],\n",
       " 275: ['NA'],\n",
       " 276: ['NA'],\n",
       " 277: ['HISCO21', 'HISCO210', 'HISCO430'],\n",
       " 278: ['HISCO999', 'HISCO333', 'HISCO33'],\n",
       " 279: ['NA'],\n",
       " 280: ['HISCO880'],\n",
       " 281: ['HISCO999', 'HISCO333', 'HISCO33'],\n",
       " 282: ['NA'],\n",
       " 283: ['NA'],\n",
       " 284: ['HISCO33', 'HISCO331'],\n",
       " 285: ['HISCO832', 'HISCO430', 'HISCO873'],\n",
       " 286: ['HISCO390',\n",
       "  'HISCO795',\n",
       "  'HISCO231',\n",
       "  'HISCO722',\n",
       "  'HISCO300',\n",
       "  'HISCO23',\n",
       "  'HISCO22',\n",
       "  'HISCO834',\n",
       "  'HISCO30',\n",
       "  'HISCO161',\n",
       "  'HISCO391',\n",
       "  'HISCO531',\n",
       "  'HISCO79',\n",
       "  'HISCO776',\n",
       "  'HISCO894',\n",
       "  'HISCO813',\n",
       "  'HISCO53',\n",
       "  'HISCO999',\n",
       "  'HISCO72',\n",
       "  'HISCO221',\n",
       "  'HISCO931'],\n",
       " 287: ['HISCO430', 'HISCO231', 'HISCO931', 'HISCO221', 'HISCO23', 'HISCO22'],\n",
       " 288: ['HISCO802', 'HISCO510', 'HISCO24', 'HISCO80', 'HISCO801', 'HISCO51'],\n",
       " 289: ['NA'],\n",
       " 290: ['HISCO841', 'HISCO849', 'HISCO843'],\n",
       " 291: ['HISCO999', 'HISCO333', 'HISCO33'],\n",
       " 292: ['NA'],\n",
       " 293: ['NA'],\n",
       " 294: ['NA'],\n",
       " 295: ['NA'],\n",
       " 296: ['HISCO999', 'HISCO333', 'HISCO33'],\n",
       " 297: ['HISCO999', 'HISCO333', 'HISCO33'],\n",
       " 298: ['HISCO999', 'HISCO333', 'HISCO33'],\n",
       " 299: ['HISCO21', 'HISCO210', 'HISCO873'],\n",
       " 300: ['NA'],\n",
       " 301: ['HISCO151', 'HISCO159', 'HISCO110', 'HISCO11', 'HISCO33', 'HISCO331'],\n",
       " 302: ['NA'],\n",
       " 303: ['HISCO910', 'HISCO722', 'HISCO999', 'HISCO72'],\n",
       " 304: ['HISCO21', 'HISCO210', 'HISCO430'],\n",
       " 305: ['HISCO231',\n",
       "  'HISCO21',\n",
       "  'HISCO33',\n",
       "  'HISCO221',\n",
       "  'HISCO23',\n",
       "  'HISCO22',\n",
       "  'HISCO999',\n",
       "  'HISCO333',\n",
       "  'HISCO211'],\n",
       " 306: ['HISCO747',\n",
       "  'HISCO170',\n",
       "  'HISCO857',\n",
       "  'HISCO838',\n",
       "  'HISCO740',\n",
       "  'HISCO163',\n",
       "  'HISCO171'],\n",
       " 307: ['HISCO999', 'HISCO333', 'HISCO33', 'HISCO331'],\n",
       " 308: ['HISCO33', 'HISCO110', 'HISCO331', 'HISCO11'],\n",
       " 309: ['HISCO624',\n",
       "  'HISCO62',\n",
       "  'HISCO540',\n",
       "  'HISCO871',\n",
       "  'HISCO959',\n",
       "  'HISCO931',\n",
       "  'HISCO54'],\n",
       " 310: ['HISCO849', 'HISCO843', 'HISCO841', 'HISCO226', 'HISCO22'],\n",
       " 311: ['HISCO430',\n",
       "  'HISCO776',\n",
       "  'HISCO410',\n",
       "  'HISCO110',\n",
       "  'HISCO11',\n",
       "  'HISCO33',\n",
       "  'HISCO331'],\n",
       " 312: ['HISCO430',\n",
       "  'HISCO776',\n",
       "  'HISCO410',\n",
       "  'HISCO110',\n",
       "  'HISCO11',\n",
       "  'HISCO33',\n",
       "  'HISCO331'],\n",
       " 313: ['HISCO831'],\n",
       " 314: ['HISCO999', 'HISCO333', 'HISCO33'],\n",
       " 315: ['HISCO22'],\n",
       " 316: ['HISCO999', 'HISCO333', 'HISCO33'],\n",
       " 317: ['HISCO999', 'HISCO333', 'HISCO33'],\n",
       " 318: ['NA'],\n",
       " 319: ['HISCO999', 'HISCO333', 'HISCO33'],\n",
       " 320: ['NA'],\n",
       " 321: ['HISCO21', 'HISCO210'],\n",
       " 322: ['HISCO773'],\n",
       " 323: ['HISCO72', 'HISCO724', 'HISCO725'],\n",
       " 324: ['HISCO31'],\n",
       " 325: ['HISCO31'],\n",
       " 326: ['HISCO162'],\n",
       " 327: ['HISCO162'],\n",
       " 328: ['HISCO22'],\n",
       " 329: ['NA'],\n",
       " 330: ['NA'],\n",
       " 331: ['HISCO999', 'HISCO333', 'HISCO33'],\n",
       " 332: ['HISCO954', 'HISCO23', 'HISCO819'],\n",
       " 333: ['HISCO954', 'HISCO23', 'HISCO819'],\n",
       " 334: ['HISCO410', 'HISCO11', 'HISCO67'],\n",
       " 335: ['NA'],\n",
       " 336: ['HISCO999', 'HISCO333', 'HISCO33'],\n",
       " 337: ['NA'],\n",
       " 338: ['NA'],\n",
       " 339: ['HISCO951', 'HISCO880', 'HISCO820'],\n",
       " 340: ['NA'],\n",
       " 341: ['HISCO159'],\n",
       " 342: ['HISCO75', 'HISCO756'],\n",
       " 343: ['NA'],\n",
       " 344: ['NA'],\n",
       " 345: ['HISCO839', 'HISCO410'],\n",
       " 346: ['HISCO839', 'HISCO841', 'HISCO873'],\n",
       " 347: ['HISCO30', 'HISCO300', 'HISCO390'],\n",
       " 348: ['NA'],\n",
       " 349: ['HISCO894', 'HISCO924', 'HISCO880', 'HISCO161'],\n",
       " 350: ['NA'],\n",
       " 351: ['HISCO783', 'HISCO430'],\n",
       " 352: ['NA'],\n",
       " 353: ['HISCO747',\n",
       "  'HISCO231',\n",
       "  'HISCO894',\n",
       "  'HISCO72',\n",
       "  'HISCO931',\n",
       "  'HISCO161',\n",
       "  'HISCO61',\n",
       "  'HISCO722',\n",
       "  'HISCO873',\n",
       "  'HISCO221',\n",
       "  'HISCO22',\n",
       "  'HISCO23',\n",
       "  'HISCO999'],\n",
       " 354: ['HISCO744',\n",
       "  'HISCO986',\n",
       "  'HISCO839',\n",
       "  'HISCO72',\n",
       "  'HISCO813',\n",
       "  'HISCO901',\n",
       "  'HISCO857',\n",
       "  'HISCO391',\n",
       "  'HISCO875',\n",
       "  'HISCO722',\n",
       "  'HISCO90',\n",
       "  'HISCO591',\n",
       "  'HISCO831',\n",
       "  'HISCO910',\n",
       "  'HISCO999'],\n",
       " 355: ['HISCO999', 'HISCO333', 'HISCO33', 'HISCO331'],\n",
       " 356: ['HISCO754',\n",
       "  'HISCO744',\n",
       "  'HISCO872',\n",
       "  'HISCO740',\n",
       "  'HISCO33',\n",
       "  'HISCO910',\n",
       "  'HISCO75',\n",
       "  'HISCO999',\n",
       "  'HISCO333'],\n",
       " 357: ['NA'],\n",
       " 358: ['NA'],\n",
       " 359: ['HISCO999', 'HISCO333', 'HISCO33'],\n",
       " 360: ['HISCO410', 'HISCO776'],\n",
       " 361: ['NA'],\n",
       " 362: ['HISCO124',\n",
       "  'HISCO121',\n",
       "  'HISCO33',\n",
       "  'HISCO999',\n",
       "  'HISCO333',\n",
       "  'HISCO12',\n",
       "  'HISCO331'],\n",
       " 363: ['HISCO999', 'HISCO333', 'HISCO33'],\n",
       " 364: ['NA'],\n",
       " 365: ['NA'],\n",
       " 366: ['HISCO893',\n",
       "  'HISCO747',\n",
       "  'HISCO895',\n",
       "  'HISCO33',\n",
       "  'HISCO910',\n",
       "  'HISCO999',\n",
       "  'HISCO333'],\n",
       " 367: ['HISCO33', 'HISCO331'],\n",
       " 368: ['HISCO62', 'HISCO624', 'HISCO835'],\n",
       " 369: ['HISCO62', 'HISCO624', 'HISCO835'],\n",
       " 370: ['NA'],\n",
       " 371: ['HISCO791', 'HISCO79', 'HISCO833', 'HISCO841', 'HISCO812'],\n",
       " 372: ['HISCO999', 'HISCO333', 'HISCO33'],\n",
       " 373: ['HISCO22'],\n",
       " 374: ['HISCO999', 'HISCO333', 'HISCO33'],\n",
       " 375: ['HISCO21', 'HISCO210'],\n",
       " 376: ['HISCO30', 'HISCO300', 'HISCO390'],\n",
       " 377: ['HISCO999', 'HISCO410', 'HISCO333', 'HISCO33'],\n",
       " 378: ['HISCO999', 'HISCO333', 'HISCO33'],\n",
       " 379: ['HISCO954', 'HISCO819'],\n",
       " 380: ['HISCO61'],\n",
       " 381: ['HISCO842', 'HISCO954'],\n",
       " 382: ['HISCO842', 'HISCO954'],\n",
       " 383: ['HISCO880'],\n",
       " 384: ['NA'],\n",
       " 385: ['HISCO410', 'HISCO777'],\n",
       " 386: ['HISCO728', 'HISCO849', 'HISCO72', 'HISCO843', 'HISCO841'],\n",
       " 387: ['HISCO22', 'HISCO226'],\n",
       " 388: ['HISCO22', 'HISCO226'],\n",
       " 389: ['HISCO75', 'HISCO753', 'HISCO819'],\n",
       " 390: ['NA'],\n",
       " 391: ['HISCO873'],\n",
       " 392: ['HISCO841', 'HISCO849', 'HISCO441', 'HISCO843'],\n",
       " 393: ['NA'],\n",
       " 394: ['NA'],\n",
       " 395: ['HISCO986',\n",
       "  'HISCO231',\n",
       "  'HISCO72',\n",
       "  'HISCO931',\n",
       "  'HISCO722',\n",
       "  'HISCO591',\n",
       "  'HISCO221',\n",
       "  'HISCO23',\n",
       "  'HISCO22',\n",
       "  'HISCO999'],\n",
       " 396: ['HISCO871'],\n",
       " 397: ['HISCO79', 'HISCO791'],\n",
       " 398: ['NA'],\n",
       " 399: ['HISCO22', 'HISCO220', 'HISCO711', 'HISCO71'],\n",
       " 400: ['HISCO61'],\n",
       " 401: ['HISCO999', 'HISCO333', 'HISCO33'],\n",
       " 402: ['HISCO999', 'HISCO333', 'HISCO33'],\n",
       " 403: ['NA'],\n",
       " 404: ['HISCO410'],\n",
       " 405: ['NA'],\n",
       " 406: ['NA'],\n",
       " 407: ['HISCO22'],\n",
       " 408: ['HISCO999', 'HISCO333', 'HISCO33'],\n",
       " 409: ['HISCO22'],\n",
       " 410: ['HISCO22'],\n",
       " 411: ['HISCO79', 'HISCO796'],\n",
       " 412: ['HISCO21', 'HISCO210', 'HISCO986'],\n",
       " 413: ['HISCO21', 'HISCO210', 'HISCO986'],\n",
       " 414: ['HISCO22'],\n",
       " 415: ['NA'],\n",
       " 416: ['HISCO802',\n",
       "  'HISCO430',\n",
       "  'HISCO33',\n",
       "  'HISCO80',\n",
       "  'HISCO801',\n",
       "  'HISCO999',\n",
       "  'HISCO333'],\n",
       " 417: ['HISCO999', 'HISCO333', 'HISCO33'],\n",
       " 418: ['HISCO999', 'HISCO333', 'HISCO33'],\n",
       " 419: ['NA'],\n",
       " 420: ['NA'],\n",
       " 421: ['HISCO999', 'HISCO333', 'HISCO33', 'HISCO331'],\n",
       " 422: ['HISCO999', 'HISCO333', 'HISCO33', 'HISCO331'],\n",
       " 423: ['HISCO999', 'HISCO333', 'HISCO33', 'HISCO331'],\n",
       " 424: ['NA'],\n",
       " 425: ['HISCO24'],\n",
       " 426: ['HISCO999', 'HISCO333', 'HISCO33'],\n",
       " 427: ['HISCO30', 'HISCO291', 'HISCO220', 'HISCO22', 'HISCO443'],\n",
       " 428: ['HISCO22'],\n",
       " 429: ['HISCO999', 'HISCO333', 'HISCO33'],\n",
       " 430: ['NA'],\n",
       " 431: ['HISCO999', 'HISCO333', 'HISCO33'],\n",
       " 432: ['HISCO61', 'HISCO771', 'HISCO611', 'HISCO613'],\n",
       " 433: ['HISCO430'],\n",
       " 434: ['HISCO21', 'HISCO210'],\n",
       " 435: ['HISCO21', 'HISCO210'],\n",
       " 436: ['HISCO24'],\n",
       " 437: ['NA'],\n",
       " 438: ['HISCO21', 'HISCO211'],\n",
       " 439: ['HISCO30', 'HISCO291', 'HISCO21', 'HISCO220', 'HISCO22', 'HISCO443'],\n",
       " 440: ['HISCO33', 'HISCO110', 'HISCO331', 'HISCO11'],\n",
       " 441: ['HISCO410'],\n",
       " 442: ['NA'],\n",
       " 443: ['HISCO999', 'HISCO333', 'HISCO33'],\n",
       " 444: ['NA'],\n",
       " 445: ['NA'],\n",
       " 446: ['NA'],\n",
       " 447: ['HISCO841', 'HISCO849', 'HISCO430', 'HISCO843'],\n",
       " 448: ['HISCO839'],\n",
       " 449: ['HISCO839'],\n",
       " 450: ['HISCO999', 'HISCO333', 'HISCO33'],\n",
       " 451: ['HISCO747', 'HISCO21', 'HISCO210', 'HISCO391', 'HISCO23'],\n",
       " 452: ['HISCO747', 'HISCO21', 'HISCO210', 'HISCO391', 'HISCO23'],\n",
       " 453: ['HISCO432'],\n",
       " 454: ['HISCO21', 'HISCO410', 'HISCO211'],\n",
       " 455: ['NA'],\n",
       " 456: ['HISCO132', 'HISCO13', 'HISCO130'],\n",
       " 457: ['HISCO31'],\n",
       " 458: ['NA'],\n",
       " 459: ['HISCO24'],\n",
       " 460: ['NA'],\n",
       " 461: ['HISCO773'],\n",
       " 462: ['NA'],\n",
       " 463: ['HISCO21'],\n",
       " 464: ['HISCO875'],\n",
       " 465: ['HISCO410'],\n",
       " 466: ['NA'],\n",
       " 467: ['NA'],\n",
       " 468: ['NA'],\n",
       " 469: ['NA'],\n",
       " 470: ['NA'],\n",
       " 471: ['NA'],\n",
       " 472: ['HISCO839', 'HISCO895', 'HISCO893', 'HISCO835'],\n",
       " 473: ['HISCO999', 'HISCO333', 'HISCO33', 'HISCO430'],\n",
       " 474: ['HISCO583', 'HISCO430', 'HISCO23'],\n",
       " 475: ['HISCO410'],\n",
       " 476: ['HISCO893',\n",
       "  'HISCO231',\n",
       "  'HISCO24',\n",
       "  'HISCO931',\n",
       "  'HISCO221',\n",
       "  'HISCO23',\n",
       "  'HISCO22',\n",
       "  'HISCO951'],\n",
       " 477: ['HISCO410', 'HISCO11', 'HISCO67'],\n",
       " 478: ['HISCO754',\n",
       "  'HISCO749',\n",
       "  'HISCO872',\n",
       "  'HISCO747',\n",
       "  'HISCO231',\n",
       "  'HISCO931',\n",
       "  'HISCO75',\n",
       "  'HISCO391',\n",
       "  'HISCO971',\n",
       "  'HISCO873',\n",
       "  'HISCO221',\n",
       "  'HISCO22',\n",
       "  'HISCO23',\n",
       "  'HISCO742'],\n",
       " 479: ['HISCO410', 'HISCO11', 'HISCO67'],\n",
       " 480: ['HISCO410', 'HISCO11', 'HISCO67'],\n",
       " 481: ['HISCO841', 'HISCO849', 'HISCO843'],\n",
       " 482: ['NA'],\n",
       " 483: ['HISCO62', 'HISCO624', 'HISCO871'],\n",
       " 484: ['HISCO410', 'HISCO11', 'HISCO67'],\n",
       " 485: ['HISCO430', 'HISCO747', 'HISCO72', 'HISCO722', 'HISCO999'],\n",
       " 486: ['HISCO999', 'HISCO333', 'HISCO33'],\n",
       " 487: ['HISCO842', 'HISCO410', 'HISCO954'],\n",
       " 488: ['HISCO999', 'HISCO333', 'HISCO33'],\n",
       " 489: ['HISCO32', 'HISCO320'],\n",
       " 490: ['HISCO32', 'HISCO320'],\n",
       " 491: ['HISCO999', 'HISCO333', 'HISCO33'],\n",
       " 492: ['NA'],\n",
       " 493: ['HISCO999', 'HISCO333', 'HISCO33'],\n",
       " 494: ['HISCO999', 'HISCO333', 'HISCO33'],\n",
       " 495: ['HISCO67', 'HISCO410', 'HISCO33', 'HISCO11', 'HISCO331'],\n",
       " 496: ['HISCO67', 'HISCO410', 'HISCO33', 'HISCO11', 'HISCO331'],\n",
       " 497: ['HISCO21', 'HISCO211'],\n",
       " 498: ['NA'],\n",
       " 499: ['NA'],\n",
       " 500: ['HISCO79', 'HISCO410', 'HISCO791'],\n",
       " 501: ['HISCO999', 'HISCO333', 'HISCO33'],\n",
       " 502: ['HISCO61', 'HISCO771', 'HISCO611', 'HISCO613'],\n",
       " 503: ['NA'],\n",
       " 504: ['HISCO231',\n",
       "  'HISCO21',\n",
       "  'HISCO839',\n",
       "  'HISCO896',\n",
       "  'HISCO24',\n",
       "  'HISCO221',\n",
       "  'HISCO23',\n",
       "  'HISCO22',\n",
       "  'HISCO211'],\n",
       " 505: ['HISCO62', 'HISCO624', 'HISCO627'],\n",
       " 506: ['HISCO931', 'HISCO871', 'HISCO959'],\n",
       " 507: ['NA'],\n",
       " 508: ['HISCO33', 'HISCO110', 'HISCO331', 'HISCO11'],\n",
       " 509: ['NA'],\n",
       " 510: ['NA'],\n",
       " 511: ['HISCO831'],\n",
       " 512: ['NA'],\n",
       " 513: ['HISCO231', 'HISCO931', 'HISCO23', 'HISCO221', 'HISCO22'],\n",
       " 514: ['HISCO231',\n",
       "  'HISCO21',\n",
       "  'HISCO210',\n",
       "  'HISCO320',\n",
       "  'HISCO32',\n",
       "  'HISCO221',\n",
       "  'HISCO23',\n",
       "  'HISCO22',\n",
       "  'HISCO211'],\n",
       " 515: ['NA'],\n",
       " 516: ['NA'],\n",
       " 517: ['HISCO21', 'HISCO22', 'HISCO210', 'HISCO220'],\n",
       " 518: ['HISCO21', 'HISCO22', 'HISCO210', 'HISCO220'],\n",
       " 519: ['HISCO124',\n",
       "  'HISCO839',\n",
       "  'HISCO12',\n",
       "  'HISCO875',\n",
       "  'HISCO33',\n",
       "  'HISCO22',\n",
       "  'HISCO713',\n",
       "  'HISCO121',\n",
       "  'HISCO71',\n",
       "  'HISCO331'],\n",
       " 520: ['HISCO999', 'HISCO333', 'HISCO33'],\n",
       " 521: ['HISCO893', 'HISCO231', 'HISCO931', 'HISCO221', 'HISCO23', 'HISCO22'],\n",
       " 522: ['NA'],\n",
       " 523: ['NA'],\n",
       " 524: ['NA'],\n",
       " 525: ['HISCO410', 'HISCO430'],\n",
       " 526: ['HISCO410', 'HISCO430'],\n",
       " 527: ['HISCO999', 'HISCO333', 'HISCO33'],\n",
       " 528: ['HISCO839',\n",
       "  'HISCO894',\n",
       "  'HISCO880',\n",
       "  'HISCO161',\n",
       "  'HISCO875',\n",
       "  'HISCO924',\n",
       "  'HISCO892'],\n",
       " 529: ['HISCO999', 'HISCO333', 'HISCO33'],\n",
       " 530: ['HISCO430'],\n",
       " 531: ['HISCO880'],\n",
       " 532: ['HISCO893', 'HISCO130', 'HISCO13', 'HISCO895', 'HISCO410', 'HISCO583'],\n",
       " 533: ['HISCO803', 'HISCO80'],\n",
       " 534: ['HISCO931', 'HISCO875', 'HISCO441', 'HISCO42'],\n",
       " 535: ['HISCO999', 'HISCO333', 'HISCO33'],\n",
       " 536: ['HISCO999', 'HISCO333', 'HISCO33'],\n",
       " 537: ['HISCO871'],\n",
       " 538: ['HISCO24'],\n",
       " 539: ['NA'],\n",
       " 540: ['HISCO21', 'HISCO210'],\n",
       " 541: ['HISCO986',\n",
       "  'HISCO839',\n",
       "  'HISCO331',\n",
       "  'HISCO591',\n",
       "  'HISCO110',\n",
       "  'HISCO33',\n",
       "  'HISCO11'],\n",
       " 542: ['HISCO61'],\n",
       " 543: ['NA'],\n",
       " 544: ['HISCO999', 'HISCO333', 'HISCO33'],\n",
       " 545: ['HISCO30',\n",
       "  'HISCO390',\n",
       "  'HISCO212',\n",
       "  'HISCO21',\n",
       "  'HISCO300',\n",
       "  'HISCO974',\n",
       "  'HISCO397'],\n",
       " 546: ['HISCO430', 'HISCO231', 'HISCO931', 'HISCO221', 'HISCO23', 'HISCO22'],\n",
       " 547: ['NA'],\n",
       " 548: ['NA'],\n",
       " 549: ['NA'],\n",
       " 550: ['HISCO999', 'HISCO333', 'HISCO33'],\n",
       " 551: ['HISCO61'],\n",
       " 552: ['HISCO744', 'HISCO430', 'HISCO21', 'HISCO210', 'HISCO591'],\n",
       " 553: ['NA'],\n",
       " 554: ['NA'],\n",
       " 555: ['NA'],\n",
       " 556: ['HISCO794',\n",
       "  'HISCO430',\n",
       "  'HISCO986',\n",
       "  'HISCO839',\n",
       "  'HISCO79',\n",
       "  'HISCO62',\n",
       "  'HISCO891',\n",
       "  'HISCO591',\n",
       "  'HISCO621',\n",
       "  'HISCO820'],\n",
       " 557: ['HISCO410', 'HISCO451', 'HISCO67'],\n",
       " 558: ['HISCO999', 'HISCO333', 'HISCO33'],\n",
       " 559: ['HISCO430'],\n",
       " 560: ['HISCO75', 'HISCO756'],\n",
       " 561: ['HISCO75', 'HISCO756'],\n",
       " 562: ['NA'],\n",
       " 563: ['NA'],\n",
       " 564: ['HISCO910', 'HISCO410', 'HISCO451', 'HISCO591'],\n",
       " 565: ['HISCO79', 'HISCO410', 'HISCO792'],\n",
       " 566: ['HISCO872'],\n",
       " 567: ['HISCO410'],\n",
       " 568: ['HISCO430'],\n",
       " 569: ['HISCO430'],\n",
       " 570: ['NA'],\n",
       " 571: ['HISCO831'],\n",
       " 572: ['HISCO831'],\n",
       " 573: ['NA'],\n",
       " 574: ['NA'],\n",
       " 575: ['NA'],\n",
       " 576: ['HISCO33', 'HISCO331'],\n",
       " 577: ['HISCO974',\n",
       "  'HISCO747',\n",
       "  'HISCO163',\n",
       "  'HISCO33',\n",
       "  'HISCO999',\n",
       "  'HISCO333',\n",
       "  'HISCO397'],\n",
       " 578: ['NA'],\n",
       " 579: ['NA'],\n",
       " 580: ['NA'],\n",
       " 581: ['NA'],\n",
       " 582: ['NA'],\n",
       " 583: ['NA'],\n",
       " 584: ['HISCO999', 'HISCO333', 'HISCO33'],\n",
       " 585: ['NA'],\n",
       " 586: ['NA'],\n",
       " 587: ['HISCO451', 'HISCO430'],\n",
       " 588: ['HISCO747', 'HISCO72', 'HISCO722', 'HISCO910', 'HISCO999'],\n",
       " 589: ['NA'],\n",
       " 590: ['NA'],\n",
       " 591: ['NA'],\n",
       " 592: ['NA'],\n",
       " 593: ['HISCO842', 'HISCO954'],\n",
       " 594: ['NA'],\n",
       " 595: ['HISCO999', 'HISCO333', 'HISCO33'],\n",
       " 596: ['HISCO430'],\n",
       " 597: ['HISCO430'],\n",
       " 598: ['HISCO410'],\n",
       " 599: ['HISCO999', 'HISCO333', 'HISCO33'],\n",
       " 600: ['HISCO999', 'HISCO333', 'HISCO33'],\n",
       " 601: ['HISCO21', 'HISCO210', 'HISCO430'],\n",
       " 602: ['HISCO22'],\n",
       " 603: ['HISCO999', 'HISCO333', 'HISCO33'],\n",
       " 604: ['HISCO954', 'HISCO832', 'HISCO819'],\n",
       " 605: ['NA'],\n",
       " 606: ['NA'],\n",
       " 607: ['HISCO430'],\n",
       " 608: ['HISCO999', 'HISCO333', 'HISCO33'],\n",
       " 609: ['HISCO30', 'HISCO300', 'HISCO390'],\n",
       " 610: ['HISCO21', 'HISCO451', 'HISCO211', 'HISCO942'],\n",
       " 611: ['HISCO875', 'HISCO591', 'HISCO22', 'HISCO121', 'HISCO12'],\n",
       " 612: ['HISCO22', 'HISCO220'],\n",
       " 613: ['HISCO22', 'HISCO220'],\n",
       " 614: ['NA'],\n",
       " 615: ['NA'],\n",
       " 616: ['HISCO410', 'HISCO776'],\n",
       " 617: ['HISCO999', 'HISCO333', 'HISCO33'],\n",
       " 618: ['NA'],\n",
       " 619: ['NA'],\n",
       " 620: ['NA'],\n",
       " 621: ['HISCO832', 'HISCO802', 'HISCO80', 'HISCO801'],\n",
       " 622: ['HISCO21', 'HISCO210'],\n",
       " 623: ['HISCO21', 'HISCO210'],\n",
       " 624: ['NA'],\n",
       " 625: ['NA'],\n",
       " 626: ['HISCO880'],\n",
       " 627: ['HISCO430', 'HISCO802', 'HISCO21', 'HISCO210', 'HISCO80', 'HISCO801'],\n",
       " 628: ['HISCO901', 'HISCO999', 'HISCO90'],\n",
       " 629: ['HISCO901', 'HISCO999', 'HISCO90'],\n",
       " 630: ['HISCO231', 'HISCO931', 'HISCO23', 'HISCO221', 'HISCO22'],\n",
       " 631: ['NA'],\n",
       " 632: ['NA'],\n",
       " 633: ['HISCO430'],\n",
       " 634: ['HISCO839', 'HISCO841', 'HISCO871'],\n",
       " 635: ['NA'],\n",
       " 636: ['NA'],\n",
       " 637: ['HISCO880'],\n",
       " 638: ['HISCO24'],\n",
       " 639: ['HISCO430'],\n",
       " 640: ['NA'],\n",
       " 641: ['NA'],\n",
       " 642: ['HISCO410', 'HISCO430'],\n",
       " 643: ['HISCO430'],\n",
       " 644: ['HISCO79', 'HISCO791', 'HISCO873'],\n",
       " 645: ['HISCO21', 'HISCO210', 'HISCO849', 'HISCO843', 'HISCO841'],\n",
       " 646: ['HISCO21', 'HISCO210', 'HISCO849', 'HISCO843', 'HISCO841'],\n",
       " 647: ['NA'],\n",
       " 648: ['HISCO779', 'HISCO776', 'HISCO72', 'HISCO841', 'HISCO721'],\n",
       " 649: ['HISCO779', 'HISCO776', 'HISCO72', 'HISCO841', 'HISCO721'],\n",
       " 650: ['HISCO75', 'HISCO842'],\n",
       " 651: ['HISCO75', 'HISCO752'],\n",
       " 652: ['HISCO124', 'HISCO33', 'HISCO22', 'HISCO121', 'HISCO12', 'HISCO331'],\n",
       " 653: ['HISCO124', 'HISCO33', 'HISCO22', 'HISCO121', 'HISCO12', 'HISCO331'],\n",
       " 654: ['HISCO75'],\n",
       " 655: ['NA'],\n",
       " 656: ['HISCO999', 'HISCO333', 'HISCO33'],\n",
       " 657: ['NA'],\n",
       " 658: ['NA'],\n",
       " 659: ['HISCO30', 'HISCO300', 'HISCO390'],\n",
       " 660: ['HISCO21'],\n",
       " 661: ['HISCO30', 'HISCO300', 'HISCO390'],\n",
       " 662: ['HISCO30', 'HISCO300', 'HISCO390'],\n",
       " 663: ['NA'],\n",
       " 664: ['HISCO999', 'HISCO333', 'HISCO33'],\n",
       " 665: ['NA'],\n",
       " 666: ['HISCO410'],\n",
       " 667: ['HISCO21', 'HISCO910', 'HISCO211'],\n",
       " 668: ['HISCO430'],\n",
       " 669: ['NA'],\n",
       " 670: ['HISCO23'],\n",
       " 671: ['HISCO999', 'HISCO333', 'HISCO33'],\n",
       " 672: ['HISCO410', 'HISCO776'],\n",
       " 673: ['HISCO410', 'HISCO776'],\n",
       " 674: ['HISCO391'],\n",
       " 675: ['HISCO841', 'HISCO430'],\n",
       " 676: ['HISCO841', 'HISCO430'],\n",
       " 677: ['NA'],\n",
       " 678: ['NA'],\n",
       " 679: ['HISCO722', 'HISCO999', 'HISCO72'],\n",
       " 680: ['HISCO591'],\n",
       " 681: ['HISCO162'],\n",
       " 682: ['HISCO999', 'HISCO333', 'HISCO33'],\n",
       " 683: ['HISCO30', 'HISCO300', 'HISCO390', 'HISCO831'],\n",
       " 684: ['HISCO391', 'HISCO410'],\n",
       " 685: ['HISCO910', 'HISCO921', 'HISCO926'],\n",
       " 686: ['HISCO22'],\n",
       " 687: ['HISCO430'],\n",
       " 688: ['NA'],\n",
       " 689: ['HISCO391'],\n",
       " 690: ['HISCO21', 'HISCO210'],\n",
       " 691: ['NA'],\n",
       " 692: ['HISCO999'],\n",
       " 693: ['HISCO430'],\n",
       " 694: ['NA'],\n",
       " 695: ['HISCO430'],\n",
       " 696: ['HISCO410'],\n",
       " 697: ['NA'],\n",
       " 698: ['NA'],\n",
       " 699: ['HISCO24'],\n",
       " 700: ['HISCO170', 'HISCO171'],\n",
       " 701: ['HISCO170', 'HISCO171'],\n",
       " 702: ['NA'],\n",
       " 703: ['HISCO841', 'HISCO849', 'HISCO843'],\n",
       " 704: ['HISCO430'],\n",
       " 705: ['HISCO880'],\n",
       " 706: ['HISCO999', 'HISCO333', 'HISCO33'],\n",
       " 707: ['NA'],\n",
       " 708: ['HISCO25', 'HISCO410', 'HISCO11', 'HISCO67'],\n",
       " 709: ['NA'],\n",
       " 710: ['HISCO61'],\n",
       " 711: ['HISCO430'],\n",
       " 712: ['HISCO999', 'HISCO410', 'HISCO79', 'HISCO791'],\n",
       " 713: ['NA'],\n",
       " 714: ['NA'],\n",
       " 715: ['NA'],\n",
       " 716: ['NA'],\n",
       " 717: ['HISCO999', 'HISCO333', 'HISCO33'],\n",
       " 718: ['HISCO410', 'HISCO451', 'HISCO110', 'HISCO11', 'HISCO33', 'HISCO331'],\n",
       " 719: ['HISCO999', 'HISCO333', 'HISCO33', 'HISCO873'],\n",
       " 720: ['NA'],\n",
       " 721: ['HISCO441', 'HISCO21', 'HISCO210', 'HISCO896', 'HISCO873'],\n",
       " 722: ['HISCO441', 'HISCO21', 'HISCO210', 'HISCO896', 'HISCO873'],\n",
       " 723: ['HISCO79', 'HISCO795', 'HISCO834'],\n",
       " 724: ['NA'],\n",
       " 725: ['HISCO999', 'HISCO333', 'HISCO33'],\n",
       " 726: ['HISCO430'],\n",
       " 727: ['HISCO410'],\n",
       " 728: ['HISCO410'],\n",
       " 729: ['HISCO410'],\n",
       " 730: ['HISCO25'],\n",
       " 731: ['NA'],\n",
       " 732: ['HISCO130', 'HISCO13', 'HISCO871', 'HISCO959', 'HISCO931'],\n",
       " 733: ['HISCO432', 'HISCO410'],\n",
       " 734: ['HISCO231', 'HISCO931', 'HISCO23', 'HISCO221', 'HISCO22'],\n",
       " 735: ['NA'],\n",
       " 736: ['HISCO13', 'HISCO139'],\n",
       " 737: ['NA'],\n",
       " 738: ['HISCO999', 'HISCO333', 'HISCO33'],\n",
       " 739: ['HISCO410', 'HISCO451'],\n",
       " 740: ['HISCO410', 'HISCO451'],\n",
       " 741: ['HISCO430'],\n",
       " 742: ['NA'],\n",
       " 743: ['HISCO999', 'HISCO333', 'HISCO33'],\n",
       " 744: ['HISCO410'],\n",
       " 745: ['HISCO30', 'HISCO300', 'HISCO390'],\n",
       " 746: ['NA'],\n",
       " 747: ['HISCO999', 'HISCO333', 'HISCO33'],\n",
       " 748: ['HISCO841', 'HISCO871'],\n",
       " 749: ['HISCO430'],\n",
       " 750: ['HISCO410'],\n",
       " 751: ['NA'],\n",
       " 752: ['HISCO999', 'HISCO333', 'HISCO33'],\n",
       " 753: ['HISCO999', 'HISCO333', 'HISCO33'],\n",
       " 754: ['HISCO880'],\n",
       " 755: ['HISCO53', 'HISCO531', 'HISCO776', 'HISCO984'],\n",
       " 756: ['HISCO430'],\n",
       " 757: ['HISCO430'],\n",
       " 758: ['HISCO873'],\n",
       " 759: ['NA'],\n",
       " 760: ['HISCO21', 'HISCO211'],\n",
       " 761: ['HISCO21', 'HISCO211'],\n",
       " 762: ['HISCO430', 'HISCO231', 'HISCO931', 'HISCO221', 'HISCO23', 'HISCO22'],\n",
       " 763: ['HISCO430', 'HISCO231', 'HISCO931', 'HISCO221', 'HISCO23', 'HISCO22'],\n",
       " 764: ['NA'],\n",
       " 765: ['NA'],\n",
       " 766: ['NA'],\n",
       " 767: ['HISCO999', 'HISCO333', 'HISCO33'],\n",
       " 768: ['HISCO430'],\n",
       " 769: ['HISCO430',\n",
       "  'HISCO984',\n",
       "  'HISCO360',\n",
       "  'HISCO226',\n",
       "  'HISCO22',\n",
       "  'HISCO589',\n",
       "  'HISCO582'],\n",
       " 770: ['HISCO583'],\n",
       " 771: ['HISCO410'],\n",
       " 772: ['NA'],\n",
       " 773: ['HISCO22', 'HISCO33', 'HISCO331'],\n",
       " 774: ['HISCO124', 'HISCO33', 'HISCO22', 'HISCO121', 'HISCO12', 'HISCO331'],\n",
       " 775: ['NA'],\n",
       " 776: ['HISCO999', 'HISCO333', 'HISCO33'],\n",
       " 777: ['NA'],\n",
       " 778: ['HISCO999', 'HISCO333', 'HISCO33'],\n",
       " 779: ['HISCO999', 'HISCO333', 'HISCO33'],\n",
       " 780: ['NA'],\n",
       " 781: ['HISCO430'],\n",
       " 782: ['NA'],\n",
       " 783: ['NA'],\n",
       " 784: ['NA'],\n",
       " 785: ['NA'],\n",
       " 786: ['NA'],\n",
       " 787: ['HISCO360', 'HISCO430'],\n",
       " 788: ['NA'],\n",
       " 789: ['NA'],\n",
       " 790: ['HISCO61'],\n",
       " 791: ['HISCO813'],\n",
       " 792: ['HISCO802',\n",
       "  'HISCO839',\n",
       "  'HISCO72',\n",
       "  'HISCO722',\n",
       "  'HISCO80',\n",
       "  'HISCO801',\n",
       "  'HISCO999'],\n",
       " 793: ['HISCO802',\n",
       "  'HISCO839',\n",
       "  'HISCO72',\n",
       "  'HISCO722',\n",
       "  'HISCO80',\n",
       "  'HISCO801',\n",
       "  'HISCO999'],\n",
       " 794: ['HISCO855'],\n",
       " 795: ['HISCO21', 'HISCO32', 'HISCO210', 'HISCO320'],\n",
       " 796: ['NA'],\n",
       " 797: ['NA'],\n",
       " 798: ['HISCO22', 'HISCO871'],\n",
       " 799: ['HISCO23'],\n",
       " 800: ['HISCO231',\n",
       "  'HISCO931',\n",
       "  'HISCO67',\n",
       "  'HISCO410',\n",
       "  'HISCO591',\n",
       "  'HISCO221',\n",
       "  'HISCO942',\n",
       "  'HISCO22',\n",
       "  'HISCO23',\n",
       "  'HISCO11'],\n",
       " 801: ['NA'],\n",
       " 802: ['HISCO22', 'HISCO220'],\n",
       " 803: ['HISCO842'],\n",
       " 804: ['HISCO79', 'HISCO410', 'HISCO791'],\n",
       " 805: ['HISCO22'],\n",
       " 806: ['HISCO761', 'HISCO76'],\n",
       " 807: ['HISCO21', 'HISCO210', 'HISCO410'],\n",
       " 808: ['HISCO21', 'HISCO210', 'HISCO410'],\n",
       " 809: ['HISCO583', 'HISCO584'],\n",
       " 810: ['NA'],\n",
       " 811: ['HISCO999', 'HISCO333', 'HISCO33'],\n",
       " 812: ['NA'],\n",
       " 813: ['HISCO410'],\n",
       " 814: ['HISCO430'],\n",
       " 815: ['HISCO430'],\n",
       " 816: ['NA'],\n",
       " 817: ['NA'],\n",
       " 818: ['HISCO999', 'HISCO333', 'HISCO33'],\n",
       " 819: ['HISCO793',\n",
       "  'HISCO741',\n",
       "  'HISCO734',\n",
       "  'HISCO79',\n",
       "  'HISCO756',\n",
       "  'HISCO778',\n",
       "  'HISCO901',\n",
       "  'HISCO899',\n",
       "  'HISCO833',\n",
       "  'HISCO410',\n",
       "  'HISCO90',\n",
       "  'HISCO771',\n",
       "  'HISCO75',\n",
       "  'HISCO73',\n",
       "  'HISCO999'],\n",
       " 820: ['HISCO624', 'HISCO62', 'HISCO67', 'HISCO410', 'HISCO11'],\n",
       " 821: ['HISCO984',\n",
       "  'HISCO819',\n",
       "  'HISCO753',\n",
       "  'HISCO360',\n",
       "  'HISCO451',\n",
       "  'HISCO75',\n",
       "  'HISCO589',\n",
       "  'HISCO582'],\n",
       " 822: ['HISCO999', 'HISCO333', 'HISCO33'],\n",
       " 823: ['HISCO999', 'HISCO333', 'HISCO33'],\n",
       " 824: ['HISCO999', 'HISCO333', 'HISCO33'],\n",
       " 825: ['HISCO430'],\n",
       " 826: ['HISCO24'],\n",
       " 827: ['HISCO24'],\n",
       " 828: ['HISCO410', 'HISCO11', 'HISCO67'],\n",
       " 829: ['HISCO842'],\n",
       " 830: ['HISCO231', 'HISCO931', 'HISCO23', 'HISCO221', 'HISCO22'],\n",
       " 831: ['HISCO999', 'HISCO333', 'HISCO33'],\n",
       " 832: ['HISCO410', 'HISCO11', 'HISCO67'],\n",
       " 833: ['NA'],\n",
       " 834: ['HISCO30', 'HISCO291', 'HISCO220', 'HISCO22', 'HISCO443'],\n",
       " 835: ['NA'],\n",
       " 836: ['HISCO21', 'HISCO210', 'HISCO67', 'HISCO410', 'HISCO11'],\n",
       " 837: ['HISCO410'],\n",
       " 838: ['HISCO410'],\n",
       " 839: ['HISCO986', 'HISCO391', 'HISCO33', 'HISCO873', 'HISCO333'],\n",
       " 840: ['HISCO199'],\n",
       " 841: ['NA'],\n",
       " 842: ['HISCO744', 'HISCO410', 'HISCO11', 'HISCO67'],\n",
       " 843: ['HISCO21', 'HISCO210'],\n",
       " 844: ['HISCO61'],\n",
       " 845: ['HISCO432'],\n",
       " 846: ['HISCO999', 'HISCO410', 'HISCO79', 'HISCO791'],\n",
       " 847: ['HISCO999', 'HISCO410', 'HISCO79', 'HISCO791'],\n",
       " 848: ['HISCO430'],\n",
       " 849: ['NA'],\n",
       " 850: ['NA'],\n",
       " 851: ['HISCO21', 'HISCO210', 'HISCO430'],\n",
       " 852: ['NA'],\n",
       " 853: ['NA'],\n",
       " 854: ['HISCO79', 'HISCO410', 'HISCO791'],\n",
       " 855: ['HISCO30', 'HISCO300', 'HISCO390'],\n",
       " 856: ['HISCO895', 'HISCO893', 'HISCO430'],\n",
       " 857: ['NA'],\n",
       " 858: ['HISCO22', 'HISCO430', 'HISCO226'],\n",
       " 859: ['HISCO999', 'HISCO333', 'HISCO33'],\n",
       " 860: ['NA'],\n",
       " 861: ['NA'],\n",
       " 862: ['HISCO831'],\n",
       " 863: ['HISCO152', 'HISCO31'],\n",
       " 864: ['HISCO80', 'HISCO801'],\n",
       " 865: ['HISCO430', 'HISCO802', 'HISCO80', 'HISCO801'],\n",
       " 866: ['NA'],\n",
       " 867: ['HISCO22', 'HISCO430', 'HISCO23'],\n",
       " 868: ['HISCO974',\n",
       "  'HISCO430',\n",
       "  'HISCO747',\n",
       "  'HISCO842',\n",
       "  'HISCO72',\n",
       "  'HISCO857',\n",
       "  'HISCO722',\n",
       "  'HISCO591',\n",
       "  'HISCO23',\n",
       "  'HISCO910',\n",
       "  'HISCO999',\n",
       "  'HISCO397'],\n",
       " 869: ['NA'],\n",
       " 870: ['HISCO430'],\n",
       " 871: ['HISCO430'],\n",
       " 872: ['NA'],\n",
       " 873: ['NA'],\n",
       " 874: ['HISCO803', 'HISCO430', 'HISCO80'],\n",
       " 875: ['HISCO170', 'HISCO171'],\n",
       " 876: ['HISCO170', 'HISCO171'],\n",
       " 877: ['HISCO22', 'HISCO430', 'HISCO871'],\n",
       " 878: ['NA'],\n",
       " 879: ['NA'],\n",
       " 880: ['HISCO72', 'HISCO728'],\n",
       " 881: ['HISCO754', 'HISCO75', 'HISCO430'],\n",
       " 882: ['HISCO901', 'HISCO999', 'HISCO90', 'HISCO747'],\n",
       " 883: ['NA'],\n",
       " 884: ['NA'],\n",
       " 885: ['HISCO231',\n",
       "  'HISCO839',\n",
       "  'HISCO901',\n",
       "  'HISCO931',\n",
       "  'HISCO391',\n",
       "  'HISCO90',\n",
       "  'HISCO221',\n",
       "  'HISCO23',\n",
       "  'HISCO22',\n",
       "  'HISCO999'],\n",
       " 886: ['NA'],\n",
       " 887: ['NA'],\n",
       " 888: ['HISCO231', 'HISCO931', 'HISCO23', 'HISCO221', 'HISCO22'],\n",
       " 889: ['HISCO33', 'HISCO331', 'HISCO430'],\n",
       " 890: ['HISCO22'],\n",
       " 891: ['HISCO432'],\n",
       " 892: ['HISCO22', 'HISCO224', 'HISCO53', 'HISCO531'],\n",
       " 893: ['HISCO430'],\n",
       " 894: ['NA'],\n",
       " 895: ['HISCO231', 'HISCO931', 'HISCO875', 'HISCO221', 'HISCO23', 'HISCO22'],\n",
       " 896: ['HISCO21', 'HISCO754', 'HISCO210', 'HISCO75'],\n",
       " 897: ['NA'],\n",
       " 898: ['HISCO749',\n",
       "  'HISCO872',\n",
       "  'HISCO747',\n",
       "  'HISCO813',\n",
       "  'HISCO613',\n",
       "  'HISCO61',\n",
       "  'HISCO410',\n",
       "  'HISCO360',\n",
       "  'HISCO771',\n",
       "  'HISCO974',\n",
       "  'HISCO742',\n",
       "  'HISCO611',\n",
       "  'HISCO397'],\n",
       " 899: ['HISCO410', 'HISCO880', 'HISCO11', 'HISCO67'],\n",
       " 900: ['HISCO410', 'HISCO33', 'HISCO873', 'HISCO999', 'HISCO333'],\n",
       " 901: ['HISCO410', 'HISCO33', 'HISCO873', 'HISCO999', 'HISCO333'],\n",
       " 902: ['HISCO430',\n",
       "  'HISCO231',\n",
       "  'HISCO21',\n",
       "  'HISCO221',\n",
       "  'HISCO23',\n",
       "  'HISCO22',\n",
       "  'HISCO583',\n",
       "  'HISCO211'],\n",
       " 903: ['NA'],\n",
       " 904: ['NA'],\n",
       " 905: ['HISCO999', 'HISCO333', 'HISCO33'],\n",
       " 906: ['NA'],\n",
       " 907: ['HISCO987', 'HISCO873', 'HISCO747'],\n",
       " 908: ['NA'],\n",
       " 909: ['NA'],\n",
       " 910: ['NA'],\n",
       " 911: ['NA'],\n",
       " 912: ['NA'],\n",
       " 913: ['HISCO430'],\n",
       " 914: ['NA'],\n",
       " 915: ['NA'],\n",
       " 916: ['HISCO974', 'HISCO397'],\n",
       " 917: ['NA'],\n",
       " 918: ['HISCO430'],\n",
       " 919: ['NA'],\n",
       " 920: ['HISCO22'],\n",
       " 921: ['HISCO30', 'HISCO390', 'HISCO300', 'HISCO33', 'HISCO331'],\n",
       " 922: ['NA'],\n",
       " 923: ['NA'],\n",
       " 924: ['NA'],\n",
       " 925: ['HISCO410', 'HISCO24', 'HISCO776', 'HISCO987'],\n",
       " 926: ['HISCO831'],\n",
       " 927: ['NA'],\n",
       " 928: ['HISCO999', 'HISCO333', 'HISCO33'],\n",
       " 929: ['HISCO999', 'HISCO333', 'HISCO33'],\n",
       " 930: ['NA'],\n",
       " 931: ['NA'],\n",
       " 932: ['HISCO62', 'HISCO624', 'HISCO627'],\n",
       " 933: ['NA'],\n",
       " 934: ['HISCO747',\n",
       "  'HISCO231',\n",
       "  'HISCO901',\n",
       "  'HISCO931',\n",
       "  'HISCO391',\n",
       "  'HISCO90',\n",
       "  'HISCO221',\n",
       "  'HISCO23',\n",
       "  'HISCO22',\n",
       "  'HISCO999'],\n",
       " 935: ['NA'],\n",
       " 936: ['NA'],\n",
       " 937: ['HISCO999', 'HISCO333', 'HISCO33'],\n",
       " 938: ['HISCO999', 'HISCO333', 'HISCO33'],\n",
       " 939: ['HISCO430'],\n",
       " 940: ['HISCO744',\n",
       "  'HISCO986',\n",
       "  'HISCO747',\n",
       "  'HISCO833',\n",
       "  'HISCO841',\n",
       "  'HISCO591',\n",
       "  'HISCO873',\n",
       "  'HISCO812'],\n",
       " 941: ['HISCO430',\n",
       "  'HISCO231',\n",
       "  'HISCO839',\n",
       "  'HISCO931',\n",
       "  'HISCO221',\n",
       "  'HISCO23',\n",
       "  'HISCO22'],\n",
       " 942: ['HISCO430',\n",
       "  'HISCO231',\n",
       "  'HISCO839',\n",
       "  'HISCO931',\n",
       "  'HISCO221',\n",
       "  'HISCO23',\n",
       "  'HISCO22'],\n",
       " 943: ['HISCO30', 'HISCO390', 'HISCO300', 'HISCO33', 'HISCO999', 'HISCO333'],\n",
       " 944: ['HISCO62', 'HISCO629'],\n",
       " 945: ['HISCO21', 'HISCO210'],\n",
       " 946: ['HISCO999', 'HISCO333', 'HISCO33'],\n",
       " 947: ['HISCO22'],\n",
       " 948: ['NA'],\n",
       " 949: ['HISCO22'],\n",
       " 950: ['HISCO13', 'HISCO430', 'HISCO133'],\n",
       " 951: ['HISCO779',\n",
       "  'HISCO231',\n",
       "  'HISCO931',\n",
       "  'HISCO391',\n",
       "  'HISCO221',\n",
       "  'HISCO23',\n",
       "  'HISCO22'],\n",
       " 952: ['HISCO22', 'HISCO33', 'HISCO331'],\n",
       " 953: ['HISCO22', 'HISCO33', 'HISCO331'],\n",
       " 954: ['HISCO744',\n",
       "  'HISCO893',\n",
       "  'HISCO747',\n",
       "  'HISCO839',\n",
       "  'HISCO842',\n",
       "  'HISCO231',\n",
       "  'HISCO931',\n",
       "  'HISCO895',\n",
       "  'HISCO391',\n",
       "  'HISCO740',\n",
       "  'HISCO803',\n",
       "  'HISCO33',\n",
       "  'HISCO80',\n",
       "  'HISCO221',\n",
       "  'HISCO22',\n",
       "  'HISCO23',\n",
       "  'HISCO331'],\n",
       " 955: ['HISCO744',\n",
       "  'HISCO893',\n",
       "  'HISCO747',\n",
       "  'HISCO839',\n",
       "  'HISCO842',\n",
       "  'HISCO231',\n",
       "  'HISCO931',\n",
       "  'HISCO895',\n",
       "  'HISCO391',\n",
       "  'HISCO740',\n",
       "  'HISCO803',\n",
       "  'HISCO33',\n",
       "  'HISCO80',\n",
       "  'HISCO221',\n",
       "  'HISCO22',\n",
       "  'HISCO23',\n",
       "  'HISCO331'],\n",
       " 956: ['HISCO22', 'HISCO33', 'HISCO331'],\n",
       " 957: ['HISCO22', 'HISCO33', 'HISCO331'],\n",
       " 958: ['NA'],\n",
       " 959: ['HISCO842', 'HISCO880'],\n",
       " 960: ['NA'],\n",
       " 961: ['NA'],\n",
       " 962: ['HISCO410'],\n",
       " 963: ['HISCO430'],\n",
       " 964: ['HISCO839', 'HISCO30', 'HISCO300', 'HISCO390'],\n",
       " 965: ['HISCO23'],\n",
       " 966: ['HISCO30', 'HISCO300', 'HISCO390'],\n",
       " 967: ['NA'],\n",
       " 968: ['NA'],\n",
       " 969: ['NA'],\n",
       " 970: ['HISCO754', 'HISCO75'],\n",
       " 971: ['NA'],\n",
       " 972: ['HISCO53', 'HISCO531', 'HISCO776'],\n",
       " 973: ['NA'],\n",
       " 974: ['NA'],\n",
       " 975: ['NA'],\n",
       " 976: ['NA'],\n",
       " 977: ['HISCO410'],\n",
       " 978: ['HISCO583'],\n",
       " 979: ['HISCO62', 'HISCO624'],\n",
       " 980: ['HISCO981'],\n",
       " 981: ['HISCO21', 'HISCO210'],\n",
       " 982: ['HISCO22'],\n",
       " 983: ['NA'],\n",
       " 984: ['NA'],\n",
       " 985: ['HISCO984', 'HISCO360', 'HISCO591', 'HISCO589', 'HISCO582'],\n",
       " 986: ['NA'],\n",
       " 987: ['NA'],\n",
       " 988: ['NA'],\n",
       " 989: ['HISCO30', 'HISCO410', 'HISCO300', 'HISCO390'],\n",
       " 990: ['HISCO999', 'HISCO333', 'HISCO33'],\n",
       " 991: ['HISCO151', 'HISCO121', 'HISCO12'],\n",
       " 992: ['NA'],\n",
       " 993: ['NA'],\n",
       " 994: ['HISCO974',\n",
       "  'HISCO231',\n",
       "  'HISCO839',\n",
       "  'HISCO901',\n",
       "  'HISCO931',\n",
       "  'HISCO90',\n",
       "  'HISCO221',\n",
       "  'HISCO873',\n",
       "  'HISCO22',\n",
       "  'HISCO23',\n",
       "  'HISCO999'],\n",
       " 995: ['HISCO22'],\n",
       " 996: ['HISCO893',\n",
       "  'HISCO231',\n",
       "  'HISCO839',\n",
       "  'HISCO23',\n",
       "  'HISCO22',\n",
       "  'HISCO331',\n",
       "  'HISCO747',\n",
       "  'HISCO901',\n",
       "  'HISCO391',\n",
       "  'HISCO552',\n",
       "  'HISCO873',\n",
       "  'HISCO987',\n",
       "  'HISCO42',\n",
       "  'HISCO838',\n",
       "  'HISCO90',\n",
       "  'HISCO999',\n",
       "  'HISCO76',\n",
       "  'HISCO762',\n",
       "  'HISCO895',\n",
       "  'HISCO875',\n",
       "  'HISCO591',\n",
       "  'HISCO33',\n",
       "  'HISCO221',\n",
       "  'HISCO931'],\n",
       " 997: ['NA'],\n",
       " 998: ['HISCO24'],\n",
       " 999: ['HISCO793',\n",
       "  'HISCO741',\n",
       "  'HISCO734',\n",
       "  'HISCO79',\n",
       "  'HISCO756',\n",
       "  'HISCO778',\n",
       "  'HISCO901',\n",
       "  'HISCO899',\n",
       "  'HISCO833',\n",
       "  'HISCO90',\n",
       "  'HISCO771',\n",
       "  'HISCO75',\n",
       "  'HISCO73',\n",
       "  'HISCO999'],\n",
       " ...}"
      ]
     },
     "execution_count": 16,
     "metadata": {},
     "output_type": "execute_result"
    }
   ],
   "source": [
    "# # get all occs\n",
    "\n",
    "# i_occ_mapping['mapping'] = i_occ_mapping.apply(lambda x:{x['index']:x.census_occupation}, axis = 1)\n",
    "# combined_mapping = {}\n",
    "# i_occ_mapping['mapping'].apply(lambda x:combined_mapping.update(x))\n",
    "\n",
    "# combined_mapping"
   ]
  },
  {
   "cell_type": "code",
   "execution_count": 17,
   "id": "a85a07c0-2ad4-4ecf-8ead-393a995815fa",
   "metadata": {},
   "outputs": [
    {
     "data": {
      "text/plain": [
       "22120"
      ]
     },
     "execution_count": 17,
     "metadata": {},
     "output_type": "execute_result"
    }
   ],
   "source": [
    "# len(combined_mapping)"
   ]
  },
  {
   "cell_type": "code",
   "execution_count": 2,
   "id": "28e23261-0714-4aa7-a6c5-b00dcaf7e16d",
   "metadata": {},
   "outputs": [
    {
     "name": "stdout",
     "output_type": "stream",
     "text": [
      "-rw-r--r-- 1 xiet13 cluster-users 0 Aug  7 10:23 ../int_data/combined_mapping.pkl\n"
     ]
    }
   ],
   "source": [
    "# !ls -lha ../int_data/combined_mapping.pkl"
   ]
  },
  {
   "cell_type": "code",
   "execution_count": 4,
   "id": "fab68570-3b46-4a5c-8925-fa3f74f726c4",
   "metadata": {},
   "outputs": [
    {
     "ename": "NameError",
     "evalue": "name 'combined_mapping' is not defined",
     "output_type": "error",
     "traceback": [
      "\u001b[0;31m---------------------------------------------------------------------------\u001b[0m",
      "\u001b[0;31mNameError\u001b[0m                                 Traceback (most recent call last)",
      "Cell \u001b[0;32mIn[4], line 3\u001b[0m\n\u001b[1;32m      1\u001b[0m \u001b[38;5;28;01mimport\u001b[39;00m \u001b[38;5;21;01mpickle\u001b[39;00m\n\u001b[1;32m      2\u001b[0m \u001b[38;5;28;01mwith\u001b[39;00m \u001b[38;5;28mopen\u001b[39m(\u001b[38;5;124m'\u001b[39m\u001b[38;5;124m../int_data/combined_mapping.pkl\u001b[39m\u001b[38;5;124m'\u001b[39m,\u001b[38;5;124m'\u001b[39m\u001b[38;5;124mwb\u001b[39m\u001b[38;5;124m'\u001b[39m) \u001b[38;5;28;01mas\u001b[39;00m f:\n\u001b[0;32m----> 3\u001b[0m     pickle\u001b[38;5;241m.\u001b[39mdump(combined_mapping, f)\n",
      "\u001b[0;31mNameError\u001b[0m: name 'combined_mapping' is not defined"
     ]
    }
   ],
   "source": [
    "# import pickle\n",
    "# with open('../int_data/combined_mapping.pkl','wb') as f:\n",
    "#     pickle.dump(combined_mapping, f)"
   ]
  },
  {
   "cell_type": "code",
   "execution_count": 5,
   "id": "13734b5a-8a1b-4e60-a43d-dacd047708ae",
   "metadata": {},
   "outputs": [
    {
     "ename": "EOFError",
     "evalue": "Ran out of input",
     "output_type": "error",
     "traceback": [
      "\u001b[0;31m---------------------------------------------------------------------------\u001b[0m",
      "\u001b[0;31mEOFError\u001b[0m                                  Traceback (most recent call last)",
      "Cell \u001b[0;32mIn[5], line 4\u001b[0m\n\u001b[1;32m      1\u001b[0m \u001b[38;5;28;01mimport\u001b[39;00m \u001b[38;5;21;01mpickle\u001b[39;00m\n\u001b[1;32m      3\u001b[0m \u001b[38;5;28;01mwith\u001b[39;00m \u001b[38;5;28mopen\u001b[39m(\u001b[38;5;124m'\u001b[39m\u001b[38;5;124m../int_data/combined_mapping.pkl\u001b[39m\u001b[38;5;124m'\u001b[39m,\u001b[38;5;124m'\u001b[39m\u001b[38;5;124mrb\u001b[39m\u001b[38;5;124m'\u001b[39m) \u001b[38;5;28;01mas\u001b[39;00m f:\n\u001b[0;32m----> 4\u001b[0m     combined_mapping \u001b[38;5;241m=\u001b[39m pickle\u001b[38;5;241m.\u001b[39mload(f)\n",
      "\u001b[0;31mEOFError\u001b[0m: Ran out of input"
     ]
    }
   ],
   "source": [
    "# import pickle\n",
    "\n",
    "# with open('../int_data/combined_mapping.pkl','rb') as f:\n",
    "#     combined_mapping = pickle.load(f)"
   ]
  },
  {
   "cell_type": "code",
   "execution_count": 25,
   "id": "17c07be1-0f63-4aa1-b56e-ff0acbdba551",
   "metadata": {},
   "outputs": [
    {
     "data": {
      "text/html": [
       "<div>\n",
       "<style scoped>\n",
       "    .dataframe tbody tr th:only-of-type {\n",
       "        vertical-align: middle;\n",
       "    }\n",
       "\n",
       "    .dataframe tbody tr th {\n",
       "        vertical-align: top;\n",
       "    }\n",
       "\n",
       "    .dataframe thead th {\n",
       "        text-align: right;\n",
       "    }\n",
       "</style>\n",
       "<table border=\"1\" class=\"dataframe\">\n",
       "  <thead>\n",
       "    <tr style=\"text-align: right;\">\n",
       "      <th></th>\n",
       "      <th>i</th>\n",
       "      <th>j</th>\n",
       "      <th>Value</th>\n",
       "      <th>occ_i</th>\n",
       "      <th>occ_j</th>\n",
       "    </tr>\n",
       "  </thead>\n",
       "  <tbody>\n",
       "    <tr>\n",
       "      <th>0</th>\n",
       "      <td>0</td>\n",
       "      <td>1</td>\n",
       "      <td>0.049364</td>\n",
       "      <td>2229</td>\n",
       "      <td>4511</td>\n",
       "    </tr>\n",
       "    <tr>\n",
       "      <th>1</th>\n",
       "      <td>0</td>\n",
       "      <td>2</td>\n",
       "      <td>0.049364</td>\n",
       "      <td>2229</td>\n",
       "      <td>4511</td>\n",
       "    </tr>\n",
       "    <tr>\n",
       "      <th>2</th>\n",
       "      <td>1</td>\n",
       "      <td>2</td>\n",
       "      <td>1.0</td>\n",
       "      <td>4511</td>\n",
       "      <td>4511</td>\n",
       "    </tr>\n",
       "    <tr>\n",
       "      <th>3</th>\n",
       "      <td>0</td>\n",
       "      <td>3</td>\n",
       "      <td>0.292137</td>\n",
       "      <td>2229</td>\n",
       "      <td>8541</td>\n",
       "    </tr>\n",
       "    <tr>\n",
       "      <th>4</th>\n",
       "      <td>1</td>\n",
       "      <td>3</td>\n",
       "      <td>0.072259</td>\n",
       "      <td>4511</td>\n",
       "      <td>8541</td>\n",
       "    </tr>\n",
       "    <tr>\n",
       "      <th>...</th>\n",
       "      <td>...</td>\n",
       "      <td>...</td>\n",
       "      <td>...</td>\n",
       "      <td>...</td>\n",
       "      <td>...</td>\n",
       "    </tr>\n",
       "    <tr>\n",
       "      <th>279315572</th>\n",
       "      <td>23658</td>\n",
       "      <td>23663</td>\n",
       "      <td>0.046107</td>\n",
       "      <td>6203</td>\n",
       "      <td>2812</td>\n",
       "    </tr>\n",
       "    <tr>\n",
       "      <th>279315573</th>\n",
       "      <td>23659</td>\n",
       "      <td>23663</td>\n",
       "      <td>0.216773</td>\n",
       "      <td>6203</td>\n",
       "      <td>2812</td>\n",
       "    </tr>\n",
       "    <tr>\n",
       "      <th>279315574</th>\n",
       "      <td>23660</td>\n",
       "      <td>23663</td>\n",
       "      <td>0.024398</td>\n",
       "      <td>6203</td>\n",
       "      <td>2812</td>\n",
       "    </tr>\n",
       "    <tr>\n",
       "      <th>279315575</th>\n",
       "      <td>23661</td>\n",
       "      <td>23663</td>\n",
       "      <td>1.0</td>\n",
       "      <td>6203</td>\n",
       "      <td>2812</td>\n",
       "    </tr>\n",
       "    <tr>\n",
       "      <th>279315576</th>\n",
       "      <td>23662</td>\n",
       "      <td>23663</td>\n",
       "      <td>0.328943</td>\n",
       "      <td>6203</td>\n",
       "      <td>2812</td>\n",
       "    </tr>\n",
       "  </tbody>\n",
       "</table>\n",
       "<p>279315577 rows × 5 columns</p>\n",
       "</div>"
      ],
      "text/plain": [
       "               i      j     Value  occ_i  occ_j\n",
       "0              0      1  0.049364   2229   4511\n",
       "1              0      2  0.049364   2229   4511\n",
       "2              1      2       1.0   4511   4511\n",
       "3              0      3  0.292137   2229   8541\n",
       "4              1      3  0.072259   4511   8541\n",
       "...          ...    ...       ...    ...    ...\n",
       "279315572  23658  23663  0.046107   6203   2812\n",
       "279315573  23659  23663  0.216773   6203   2812\n",
       "279315574  23660  23663  0.024398   6203   2812\n",
       "279315575  23661  23663       1.0   6203   2812\n",
       "279315576  23662  23663  0.328943   6203   2812\n",
       "\n",
       "[279315577 rows x 5 columns]"
      ]
     },
     "execution_count": 25,
     "metadata": {},
     "output_type": "execute_result"
    }
   ],
   "source": [
    "cosine_sim_long # each patent only has 1 occ already"
   ]
  },
  {
   "cell_type": "code",
   "execution_count": 6,
   "id": "f5e49944-e602-4544-93a8-1393945039af",
   "metadata": {
    "scrolled": true
   },
   "outputs": [
    {
     "data": {
      "text/html": [
       "<div>\n",
       "<style scoped>\n",
       "    .dataframe tbody tr th:only-of-type {\n",
       "        vertical-align: middle;\n",
       "    }\n",
       "\n",
       "    .dataframe tbody tr th {\n",
       "        vertical-align: top;\n",
       "    }\n",
       "\n",
       "    .dataframe thead th {\n",
       "        text-align: right;\n",
       "    }\n",
       "</style>\n",
       "<table border=\"1\" class=\"dataframe\">\n",
       "  <thead>\n",
       "    <tr style=\"text-align: right;\">\n",
       "      <th></th>\n",
       "      <th>2229</th>\n",
       "      <th>4511</th>\n",
       "      <th>8541</th>\n",
       "      <th>6420</th>\n",
       "      <th>2910</th>\n",
       "      <th>2790</th>\n",
       "      <th>2611</th>\n",
       "      <th>2670</th>\n",
       "      <th>7010</th>\n",
       "      <th>2599</th>\n",
       "      <th>...</th>\n",
       "      <th>9313</th>\n",
       "      <th>2895</th>\n",
       "      <th>1032</th>\n",
       "      <th>3012</th>\n",
       "      <th>8211</th>\n",
       "      <th>1711</th>\n",
       "      <th>4313</th>\n",
       "      <th>3821</th>\n",
       "      <th>9602</th>\n",
       "      <th>4742</th>\n",
       "    </tr>\n",
       "  </thead>\n",
       "  <tbody>\n",
       "    <tr>\n",
       "      <th>2229</th>\n",
       "      <td>0</td>\n",
       "      <td>[]</td>\n",
       "      <td>[]</td>\n",
       "      <td>[]</td>\n",
       "      <td>[]</td>\n",
       "      <td>[]</td>\n",
       "      <td>[]</td>\n",
       "      <td>[]</td>\n",
       "      <td>[]</td>\n",
       "      <td>[]</td>\n",
       "      <td>...</td>\n",
       "      <td>[]</td>\n",
       "      <td>[]</td>\n",
       "      <td>[]</td>\n",
       "      <td>[]</td>\n",
       "      <td>[]</td>\n",
       "      <td>[]</td>\n",
       "      <td>[]</td>\n",
       "      <td>[]</td>\n",
       "      <td>[]</td>\n",
       "      <td>[]</td>\n",
       "    </tr>\n",
       "    <tr>\n",
       "      <th>4511</th>\n",
       "      <td>[]</td>\n",
       "      <td>0</td>\n",
       "      <td>[]</td>\n",
       "      <td>[]</td>\n",
       "      <td>[]</td>\n",
       "      <td>[]</td>\n",
       "      <td>[]</td>\n",
       "      <td>[]</td>\n",
       "      <td>[]</td>\n",
       "      <td>[]</td>\n",
       "      <td>...</td>\n",
       "      <td>[]</td>\n",
       "      <td>[]</td>\n",
       "      <td>[]</td>\n",
       "      <td>[]</td>\n",
       "      <td>[]</td>\n",
       "      <td>[]</td>\n",
       "      <td>[]</td>\n",
       "      <td>[]</td>\n",
       "      <td>[]</td>\n",
       "      <td>[]</td>\n",
       "    </tr>\n",
       "    <tr>\n",
       "      <th>8541</th>\n",
       "      <td>[]</td>\n",
       "      <td>[]</td>\n",
       "      <td>0</td>\n",
       "      <td>[]</td>\n",
       "      <td>[]</td>\n",
       "      <td>[]</td>\n",
       "      <td>[]</td>\n",
       "      <td>[]</td>\n",
       "      <td>[]</td>\n",
       "      <td>[]</td>\n",
       "      <td>...</td>\n",
       "      <td>[]</td>\n",
       "      <td>[]</td>\n",
       "      <td>[]</td>\n",
       "      <td>[]</td>\n",
       "      <td>[]</td>\n",
       "      <td>[]</td>\n",
       "      <td>[]</td>\n",
       "      <td>[]</td>\n",
       "      <td>[]</td>\n",
       "      <td>[]</td>\n",
       "    </tr>\n",
       "    <tr>\n",
       "      <th>6420</th>\n",
       "      <td>[]</td>\n",
       "      <td>[]</td>\n",
       "      <td>[]</td>\n",
       "      <td>0</td>\n",
       "      <td>[]</td>\n",
       "      <td>[]</td>\n",
       "      <td>[]</td>\n",
       "      <td>[]</td>\n",
       "      <td>[]</td>\n",
       "      <td>[]</td>\n",
       "      <td>...</td>\n",
       "      <td>[]</td>\n",
       "      <td>[]</td>\n",
       "      <td>[]</td>\n",
       "      <td>[]</td>\n",
       "      <td>[]</td>\n",
       "      <td>[]</td>\n",
       "      <td>[]</td>\n",
       "      <td>[]</td>\n",
       "      <td>[]</td>\n",
       "      <td>[]</td>\n",
       "    </tr>\n",
       "    <tr>\n",
       "      <th>2910</th>\n",
       "      <td>[]</td>\n",
       "      <td>[]</td>\n",
       "      <td>[]</td>\n",
       "      <td>[]</td>\n",
       "      <td>0</td>\n",
       "      <td>[]</td>\n",
       "      <td>[]</td>\n",
       "      <td>[]</td>\n",
       "      <td>[]</td>\n",
       "      <td>[]</td>\n",
       "      <td>...</td>\n",
       "      <td>[]</td>\n",
       "      <td>[]</td>\n",
       "      <td>[]</td>\n",
       "      <td>[]</td>\n",
       "      <td>[]</td>\n",
       "      <td>[]</td>\n",
       "      <td>[]</td>\n",
       "      <td>[]</td>\n",
       "      <td>[]</td>\n",
       "      <td>[]</td>\n",
       "    </tr>\n",
       "    <tr>\n",
       "      <th>...</th>\n",
       "      <td>...</td>\n",
       "      <td>...</td>\n",
       "      <td>...</td>\n",
       "      <td>...</td>\n",
       "      <td>...</td>\n",
       "      <td>...</td>\n",
       "      <td>...</td>\n",
       "      <td>...</td>\n",
       "      <td>...</td>\n",
       "      <td>...</td>\n",
       "      <td>...</td>\n",
       "      <td>...</td>\n",
       "      <td>...</td>\n",
       "      <td>...</td>\n",
       "      <td>...</td>\n",
       "      <td>...</td>\n",
       "      <td>...</td>\n",
       "      <td>...</td>\n",
       "      <td>...</td>\n",
       "      <td>...</td>\n",
       "      <td>...</td>\n",
       "    </tr>\n",
       "    <tr>\n",
       "      <th>1711</th>\n",
       "      <td>[]</td>\n",
       "      <td>[]</td>\n",
       "      <td>[]</td>\n",
       "      <td>[]</td>\n",
       "      <td>[]</td>\n",
       "      <td>[]</td>\n",
       "      <td>[]</td>\n",
       "      <td>[]</td>\n",
       "      <td>[]</td>\n",
       "      <td>[]</td>\n",
       "      <td>...</td>\n",
       "      <td>[]</td>\n",
       "      <td>[]</td>\n",
       "      <td>[]</td>\n",
       "      <td>[]</td>\n",
       "      <td>[]</td>\n",
       "      <td>0</td>\n",
       "      <td>[]</td>\n",
       "      <td>[]</td>\n",
       "      <td>[]</td>\n",
       "      <td>[]</td>\n",
       "    </tr>\n",
       "    <tr>\n",
       "      <th>4313</th>\n",
       "      <td>[]</td>\n",
       "      <td>[]</td>\n",
       "      <td>[]</td>\n",
       "      <td>[]</td>\n",
       "      <td>[]</td>\n",
       "      <td>[]</td>\n",
       "      <td>[]</td>\n",
       "      <td>[]</td>\n",
       "      <td>[]</td>\n",
       "      <td>[]</td>\n",
       "      <td>...</td>\n",
       "      <td>[]</td>\n",
       "      <td>[]</td>\n",
       "      <td>[]</td>\n",
       "      <td>[]</td>\n",
       "      <td>[]</td>\n",
       "      <td>[]</td>\n",
       "      <td>0</td>\n",
       "      <td>[]</td>\n",
       "      <td>[]</td>\n",
       "      <td>[]</td>\n",
       "    </tr>\n",
       "    <tr>\n",
       "      <th>3821</th>\n",
       "      <td>[]</td>\n",
       "      <td>[]</td>\n",
       "      <td>[]</td>\n",
       "      <td>[]</td>\n",
       "      <td>[]</td>\n",
       "      <td>[]</td>\n",
       "      <td>[]</td>\n",
       "      <td>[]</td>\n",
       "      <td>[]</td>\n",
       "      <td>[]</td>\n",
       "      <td>...</td>\n",
       "      <td>[]</td>\n",
       "      <td>[]</td>\n",
       "      <td>[]</td>\n",
       "      <td>[]</td>\n",
       "      <td>[]</td>\n",
       "      <td>[]</td>\n",
       "      <td>[]</td>\n",
       "      <td>0</td>\n",
       "      <td>[]</td>\n",
       "      <td>[]</td>\n",
       "    </tr>\n",
       "    <tr>\n",
       "      <th>9602</th>\n",
       "      <td>[]</td>\n",
       "      <td>[]</td>\n",
       "      <td>[]</td>\n",
       "      <td>[]</td>\n",
       "      <td>[]</td>\n",
       "      <td>[]</td>\n",
       "      <td>[]</td>\n",
       "      <td>[]</td>\n",
       "      <td>[]</td>\n",
       "      <td>[]</td>\n",
       "      <td>...</td>\n",
       "      <td>[]</td>\n",
       "      <td>[]</td>\n",
       "      <td>[]</td>\n",
       "      <td>[]</td>\n",
       "      <td>[]</td>\n",
       "      <td>[]</td>\n",
       "      <td>[]</td>\n",
       "      <td>[]</td>\n",
       "      <td>0</td>\n",
       "      <td>[]</td>\n",
       "    </tr>\n",
       "    <tr>\n",
       "      <th>4742</th>\n",
       "      <td>[]</td>\n",
       "      <td>[]</td>\n",
       "      <td>[]</td>\n",
       "      <td>[]</td>\n",
       "      <td>[]</td>\n",
       "      <td>[]</td>\n",
       "      <td>[]</td>\n",
       "      <td>[]</td>\n",
       "      <td>[]</td>\n",
       "      <td>[]</td>\n",
       "      <td>...</td>\n",
       "      <td>[]</td>\n",
       "      <td>[]</td>\n",
       "      <td>[]</td>\n",
       "      <td>[]</td>\n",
       "      <td>[]</td>\n",
       "      <td>[]</td>\n",
       "      <td>[]</td>\n",
       "      <td>[]</td>\n",
       "      <td>[]</td>\n",
       "      <td>0</td>\n",
       "    </tr>\n",
       "  </tbody>\n",
       "</table>\n",
       "<p>393 rows × 393 columns</p>\n",
       "</div>"
      ],
      "text/plain": [
       "     2229 4511 8541 6420 2910 2790 2611 2670 7010 2599  ... 9313 2895 1032  \\\n",
       "2229    0   []   []   []   []   []   []   []   []   []  ...   []   []   []   \n",
       "4511   []    0   []   []   []   []   []   []   []   []  ...   []   []   []   \n",
       "8541   []   []    0   []   []   []   []   []   []   []  ...   []   []   []   \n",
       "6420   []   []   []    0   []   []   []   []   []   []  ...   []   []   []   \n",
       "2910   []   []   []   []    0   []   []   []   []   []  ...   []   []   []   \n",
       "...   ...  ...  ...  ...  ...  ...  ...  ...  ...  ...  ...  ...  ...  ...   \n",
       "1711   []   []   []   []   []   []   []   []   []   []  ...   []   []   []   \n",
       "4313   []   []   []   []   []   []   []   []   []   []  ...   []   []   []   \n",
       "3821   []   []   []   []   []   []   []   []   []   []  ...   []   []   []   \n",
       "9602   []   []   []   []   []   []   []   []   []   []  ...   []   []   []   \n",
       "4742   []   []   []   []   []   []   []   []   []   []  ...   []   []   []   \n",
       "\n",
       "     3012 8211 1711 4313 3821 9602 4742  \n",
       "2229   []   []   []   []   []   []   []  \n",
       "4511   []   []   []   []   []   []   []  \n",
       "8541   []   []   []   []   []   []   []  \n",
       "6420   []   []   []   []   []   []   []  \n",
       "2910   []   []   []   []   []   []   []  \n",
       "...   ...  ...  ...  ...  ...  ...  ...  \n",
       "1711   []   []    0   []   []   []   []  \n",
       "4313   []   []   []    0   []   []   []  \n",
       "3821   []   []   []   []    0   []   []  \n",
       "9602   []   []   []   []   []    0   []  \n",
       "4742   []   []   []   []   []   []    0  \n",
       "\n",
       "[393 rows x 393 columns]"
      ]
     },
     "execution_count": 6,
     "metadata": {},
     "output_type": "execute_result"
    }
   ],
   "source": [
    "# create empty occ_space\n",
    "all_occs = cosine_sim_long.occ_i.unique().tolist()\n",
    "matrix_of_3_dim_empty_lists = [[[] for _ in all_occs] for _ in all_occs] # 245*245*1\n",
    "occ_space = pd.DataFrame(matrix_of_3_dim_empty_lists, index=all_occs, columns=all_occs)\n",
    "\n",
    "# Set the diagonal elements to 0\n",
    "for i in all_occs:\n",
    "    occ_space.at[i, i] = 0\n",
    "occ_space"
   ]
  },
  {
   "cell_type": "code",
   "execution_count": null,
   "id": "f9865301-cafa-4a22-be4f-fefc11157663",
   "metadata": {},
   "outputs": [],
   "source": [
    "# import pickle\n",
    "# with open('../int_data/occ_space_empty.pkl','wb') as f:\n",
    "#     pickle.dump(occ_space, f)"
   ]
  },
  {
   "cell_type": "code",
   "execution_count": 6,
   "id": "0aa2038a-26cf-4853-b7d3-05eacff15cb7",
   "metadata": {},
   "outputs": [],
   "source": [
    "# import pickle\n",
    "\n",
    "# with open('../int_data/occ_space_empty.pkl','rb') as f:\n",
    "#     occ_space = pickle.load(f)"
   ]
  },
  {
   "cell_type": "markdown",
   "id": "672515a2-8bfd-4eb8-8be6-9847f1e24d6f",
   "metadata": {},
   "source": [
    "### Populate"
   ]
  },
  {
   "cell_type": "code",
   "execution_count": 29,
   "id": "c8cf9146-6e43-4d38-9900-a5a146a9f76c",
   "metadata": {},
   "outputs": [
    {
     "name": "stdout",
     "output_type": "stream",
     "text": [
      "[0] RAM Usage: 20631.39 MB\n"
     ]
    }
   ],
   "source": [
    "print_ram_usage()"
   ]
  },
  {
   "cell_type": "code",
   "execution_count": 2,
   "id": "d7ae2fac-6665-4c75-8817-4219bf025a90",
   "metadata": {},
   "outputs": [
    {
     "name": "stderr",
     "output_type": "stream",
     "text": [
      "/users/xiet13/.local/lib/python3.11/site-packages/pandas/core/arrays/masked.py:60: UserWarning: Pandas requires version '1.3.6' or newer of 'bottleneck' (version '1.3.5' currently installed).\n",
      "  from pandas.core import (\n"
     ]
    },
    {
     "data": {
      "text/html": [
       "<div>\n",
       "<style scoped>\n",
       "    .dataframe tbody tr th:only-of-type {\n",
       "        vertical-align: middle;\n",
       "    }\n",
       "\n",
       "    .dataframe tbody tr th {\n",
       "        vertical-align: top;\n",
       "    }\n",
       "\n",
       "    .dataframe thead th {\n",
       "        text-align: right;\n",
       "    }\n",
       "</style>\n",
       "<table border=\"1\" class=\"dataframe\">\n",
       "  <thead>\n",
       "    <tr style=\"text-align: right;\">\n",
       "      <th></th>\n",
       "      <th>i</th>\n",
       "      <th>j</th>\n",
       "      <th>Value</th>\n",
       "      <th>occ_i</th>\n",
       "      <th>occ_j</th>\n",
       "    </tr>\n",
       "  </thead>\n",
       "  <tbody>\n",
       "    <tr>\n",
       "      <th>0</th>\n",
       "      <td>0</td>\n",
       "      <td>1</td>\n",
       "      <td>0.049364</td>\n",
       "      <td>2229</td>\n",
       "      <td>4511</td>\n",
       "    </tr>\n",
       "    <tr>\n",
       "      <th>1</th>\n",
       "      <td>0</td>\n",
       "      <td>2</td>\n",
       "      <td>0.049364</td>\n",
       "      <td>2229</td>\n",
       "      <td>4511</td>\n",
       "    </tr>\n",
       "    <tr>\n",
       "      <th>2</th>\n",
       "      <td>1</td>\n",
       "      <td>2</td>\n",
       "      <td>1.0</td>\n",
       "      <td>4511</td>\n",
       "      <td>4511</td>\n",
       "    </tr>\n",
       "    <tr>\n",
       "      <th>3</th>\n",
       "      <td>0</td>\n",
       "      <td>3</td>\n",
       "      <td>0.292137</td>\n",
       "      <td>2229</td>\n",
       "      <td>8541</td>\n",
       "    </tr>\n",
       "    <tr>\n",
       "      <th>4</th>\n",
       "      <td>1</td>\n",
       "      <td>3</td>\n",
       "      <td>0.072259</td>\n",
       "      <td>4511</td>\n",
       "      <td>8541</td>\n",
       "    </tr>\n",
       "    <tr>\n",
       "      <th>...</th>\n",
       "      <td>...</td>\n",
       "      <td>...</td>\n",
       "      <td>...</td>\n",
       "      <td>...</td>\n",
       "      <td>...</td>\n",
       "    </tr>\n",
       "    <tr>\n",
       "      <th>279315572</th>\n",
       "      <td>23658</td>\n",
       "      <td>23663</td>\n",
       "      <td>0.046107</td>\n",
       "      <td>6203</td>\n",
       "      <td>2812</td>\n",
       "    </tr>\n",
       "    <tr>\n",
       "      <th>279315573</th>\n",
       "      <td>23659</td>\n",
       "      <td>23663</td>\n",
       "      <td>0.216773</td>\n",
       "      <td>6203</td>\n",
       "      <td>2812</td>\n",
       "    </tr>\n",
       "    <tr>\n",
       "      <th>279315574</th>\n",
       "      <td>23660</td>\n",
       "      <td>23663</td>\n",
       "      <td>0.024398</td>\n",
       "      <td>6203</td>\n",
       "      <td>2812</td>\n",
       "    </tr>\n",
       "    <tr>\n",
       "      <th>279315575</th>\n",
       "      <td>23661</td>\n",
       "      <td>23663</td>\n",
       "      <td>1.0</td>\n",
       "      <td>6203</td>\n",
       "      <td>2812</td>\n",
       "    </tr>\n",
       "    <tr>\n",
       "      <th>279315576</th>\n",
       "      <td>23662</td>\n",
       "      <td>23663</td>\n",
       "      <td>0.328943</td>\n",
       "      <td>6203</td>\n",
       "      <td>2812</td>\n",
       "    </tr>\n",
       "  </tbody>\n",
       "</table>\n",
       "<p>279315577 rows × 5 columns</p>\n",
       "</div>"
      ],
      "text/plain": [
       "               i      j     Value  occ_i  occ_j\n",
       "0              0      1  0.049364   2229   4511\n",
       "1              0      2  0.049364   2229   4511\n",
       "2              1      2       1.0   4511   4511\n",
       "3              0      3  0.292137   2229   8541\n",
       "4              1      3  0.072259   4511   8541\n",
       "...          ...    ...       ...    ...    ...\n",
       "279315572  23658  23663  0.046107   6203   2812\n",
       "279315573  23659  23663  0.216773   6203   2812\n",
       "279315574  23660  23663  0.024398   6203   2812\n",
       "279315575  23661  23663       1.0   6203   2812\n",
       "279315576  23662  23663  0.328943   6203   2812\n",
       "\n",
       "[279315577 rows x 5 columns]"
      ]
     },
     "execution_count": 2,
     "metadata": {},
     "output_type": "execute_result"
    }
   ],
   "source": [
    "import pickle\n",
    "import pandas as pd\n",
    "\n",
    "with open('../int_data/UK_modern_proxy/cosine_sim_long.pkl','rb') as f:\n",
    "    cosine_sim_long = pickle.load(f)\n",
    "cosine_sim_long"
   ]
  },
  {
   "cell_type": "code",
   "execution_count": 30,
   "id": "6e904788-5160-4044-ad71-3915fea4c86a",
   "metadata": {
    "scrolled": true
   },
   "outputs": [
    {
     "data": {
      "text/plain": [
       "Value\n",
       "0.069007    8648\n",
       "0.074536    8414\n",
       "0.072169    6762\n",
       "0.077152    6717\n",
       "0.062994    6492\n",
       "            ... \n",
       "0.201558       1\n",
       "0.203617       1\n",
       "0.155984       1\n",
       "0.130754       1\n",
       "0.131941       1\n",
       "Name: count, Length: 4493116, dtype: int64"
      ]
     },
     "execution_count": 30,
     "metadata": {},
     "output_type": "execute_result"
    }
   ],
   "source": [
    "cosine_sim_long.Value.value_counts()"
   ]
  },
  {
   "cell_type": "code",
   "execution_count": 86,
   "id": "79f12f29-c926-45c2-9e6b-478d477aa357",
   "metadata": {},
   "outputs": [
    {
     "data": {
      "text/html": [
       "<div>\n",
       "<style scoped>\n",
       "    .dataframe tbody tr th:only-of-type {\n",
       "        vertical-align: middle;\n",
       "    }\n",
       "\n",
       "    .dataframe tbody tr th {\n",
       "        vertical-align: top;\n",
       "    }\n",
       "\n",
       "    .dataframe thead th {\n",
       "        text-align: right;\n",
       "    }\n",
       "</style>\n",
       "<table border=\"1\" class=\"dataframe\">\n",
       "  <thead>\n",
       "    <tr style=\"text-align: right;\">\n",
       "      <th></th>\n",
       "      <th>i</th>\n",
       "      <th>j</th>\n",
       "      <th>Value</th>\n",
       "      <th>occ_i</th>\n",
       "      <th>occ_j</th>\n",
       "    </tr>\n",
       "  </thead>\n",
       "  <tbody>\n",
       "    <tr>\n",
       "      <th>2</th>\n",
       "      <td>1</td>\n",
       "      <td>2</td>\n",
       "      <td>1.0</td>\n",
       "      <td>4511</td>\n",
       "      <td>4511</td>\n",
       "    </tr>\n",
       "    <tr>\n",
       "      <th>14</th>\n",
       "      <td>4</td>\n",
       "      <td>5</td>\n",
       "      <td>0.24042</td>\n",
       "      <td>6420</td>\n",
       "      <td>6420</td>\n",
       "    </tr>\n",
       "    <tr>\n",
       "      <th>90</th>\n",
       "      <td>12</td>\n",
       "      <td>13</td>\n",
       "      <td>0.45561</td>\n",
       "      <td>8299</td>\n",
       "      <td>8299</td>\n",
       "    </tr>\n",
       "    <tr>\n",
       "      <th>103</th>\n",
       "      <td>12</td>\n",
       "      <td>14</td>\n",
       "      <td>0.484719</td>\n",
       "      <td>8299</td>\n",
       "      <td>8299</td>\n",
       "    </tr>\n",
       "    <tr>\n",
       "      <th>104</th>\n",
       "      <td>13</td>\n",
       "      <td>14</td>\n",
       "      <td>0.473151</td>\n",
       "      <td>8299</td>\n",
       "      <td>8299</td>\n",
       "    </tr>\n",
       "    <tr>\n",
       "      <th>...</th>\n",
       "      <td>...</td>\n",
       "      <td>...</td>\n",
       "      <td>...</td>\n",
       "      <td>...</td>\n",
       "      <td>...</td>\n",
       "    </tr>\n",
       "    <tr>\n",
       "      <th>279311545</th>\n",
       "      <td>19623</td>\n",
       "      <td>23663</td>\n",
       "      <td>0.249161</td>\n",
       "      <td>2812</td>\n",
       "      <td>2812</td>\n",
       "    </tr>\n",
       "    <tr>\n",
       "      <th>279311546</th>\n",
       "      <td>19624</td>\n",
       "      <td>23663</td>\n",
       "      <td>0.254117</td>\n",
       "      <td>2812</td>\n",
       "      <td>2812</td>\n",
       "    </tr>\n",
       "    <tr>\n",
       "      <th>279311547</th>\n",
       "      <td>19625</td>\n",
       "      <td>23663</td>\n",
       "      <td>0.322847</td>\n",
       "      <td>2812</td>\n",
       "      <td>2812</td>\n",
       "    </tr>\n",
       "    <tr>\n",
       "      <th>279311548</th>\n",
       "      <td>19626</td>\n",
       "      <td>23663</td>\n",
       "      <td>0.173157</td>\n",
       "      <td>2812</td>\n",
       "      <td>2812</td>\n",
       "    </tr>\n",
       "    <tr>\n",
       "      <th>279311549</th>\n",
       "      <td>19627</td>\n",
       "      <td>23663</td>\n",
       "      <td>0.244452</td>\n",
       "      <td>2812</td>\n",
       "      <td>2812</td>\n",
       "    </tr>\n",
       "  </tbody>\n",
       "</table>\n",
       "<p>9026828 rows × 5 columns</p>\n",
       "</div>"
      ],
      "text/plain": [
       "               i      j     Value  occ_i  occ_j\n",
       "2              1      2       1.0   4511   4511\n",
       "14             4      5   0.24042   6420   6420\n",
       "90            12     13   0.45561   8299   8299\n",
       "103           12     14  0.484719   8299   8299\n",
       "104           13     14  0.473151   8299   8299\n",
       "...          ...    ...       ...    ...    ...\n",
       "279311545  19623  23663  0.249161   2812   2812\n",
       "279311546  19624  23663  0.254117   2812   2812\n",
       "279311547  19625  23663  0.322847   2812   2812\n",
       "279311548  19626  23663  0.173157   2812   2812\n",
       "279311549  19627  23663  0.244452   2812   2812\n",
       "\n",
       "[9026828 rows x 5 columns]"
      ]
     },
     "execution_count": 86,
     "metadata": {},
     "output_type": "execute_result"
    }
   ],
   "source": [
    "cosine_sim_long[cosine_sim_long.occ_i == cosine_sim_long.occ_j] # "
   ]
  },
  {
   "cell_type": "code",
   "execution_count": 14,
   "id": "9d519e49-cc8c-45a4-b37e-9e082557eaad",
   "metadata": {
    "scrolled": true
   },
   "outputs": [
    {
     "name": "stdout",
     "output_type": "stream",
     "text": [
      "169200000\n",
      "Processing batch 169200000...\n",
      "169200000 169400000\n"
     ]
    },
    {
     "name": "stderr",
     "output_type": "stream",
     "text": [
      "100%|██████████| 200000/200000 [00:24<00:00, 8037.16it/s]\n"
     ]
    },
    {
     "name": "stdout",
     "output_type": "stream",
     "text": [
      "saved success! batch 169200000\n",
      "Processing batch 169400000...\n",
      "169400000 169600000\n"
     ]
    },
    {
     "name": "stderr",
     "output_type": "stream",
     "text": [
      "  5%|▌         | 10607/200000 [00:01<00:22, 8269.98it/s]"
     ]
    },
    {
     "name": "stdout",
     "output_type": "stream",
     "text": [
      "Processing batch 170200000...\n",
      "170200000 170400000\n"
     ]
    },
    {
     "name": "stderr",
     "output_type": "stream",
     "text": [
      "100%|██████████| 200000/200000 [00:25<00:00, 7980.46it/s]\n",
      " 96%|█████████▌| 191272/200000 [00:23<00:01, 8221.56it/s]"
     ]
    },
    {
     "name": "stdout",
     "output_type": "stream",
     "text": [
      "saved success! batch 169400000\n",
      "Processing batch 169600000...\n",
      "169600000 169800000\n"
     ]
    },
    {
     "name": "stderr",
     "output_type": "stream",
     "text": [
      "100%|██████████| 200000/200000 [00:24<00:00, 8062.73it/s]\n",
      "  5%|▍         | 9835/200000 [00:01<00:22, 8298.35it/s]"
     ]
    },
    {
     "name": "stdout",
     "output_type": "stream",
     "text": [
      "saved success! batch 170200000\n",
      "Processing batch 170400000...\n",
      "170400000 170600000\n"
     ]
    },
    {
     "name": "stderr",
     "output_type": "stream",
     "text": [
      " 10%|█         | 20622/200000 [00:02<00:21, 8290.74it/s]"
     ]
    },
    {
     "name": "stdout",
     "output_type": "stream",
     "text": [
      "Processing batch 171200000...\n",
      "171200000 171400000\n"
     ]
    },
    {
     "name": "stderr",
     "output_type": "stream",
     "text": [
      "100%|██████████| 200000/200000 [00:25<00:00, 7988.72it/s]\n",
      " 91%|█████████ | 182046/200000 [00:22<00:02, 8255.49it/s]"
     ]
    },
    {
     "name": "stdout",
     "output_type": "stream",
     "text": [
      "saved success! batch 169600000\n",
      "Processing batch 169800000...\n",
      "169800000 170000000\n"
     ]
    },
    {
     "name": "stderr",
     "output_type": "stream",
     "text": [
      "100%|██████████| 200000/200000 [00:25<00:00, 7947.13it/s]\n",
      "  5%|▌         | 10612/200000 [00:01<00:23, 8207.32it/s]]"
     ]
    },
    {
     "name": "stdout",
     "output_type": "stream",
     "text": [
      "saved success! batch 170400000\n"
     ]
    },
    {
     "name": "stderr",
     "output_type": "stream",
     "text": [
      " 98%|█████████▊| 195285/200000 [00:24<00:00, 8233.33it/s]"
     ]
    },
    {
     "name": "stdout",
     "output_type": "stream",
     "text": [
      "Processing batch 170600000...\n",
      "170600000 170800000\n"
     ]
    },
    {
     "name": "stderr",
     "output_type": "stream",
     "text": [
      "100%|██████████| 200000/200000 [00:24<00:00, 8093.58it/s]\n",
      "  3%|▎         | 6462/200000 [00:00<00:23, 8198.66it/s]]"
     ]
    },
    {
     "name": "stdout",
     "output_type": "stream",
     "text": [
      "saved success! batch 171200000\n"
     ]
    },
    {
     "name": "stderr",
     "output_type": "stream",
     "text": [
      " 10%|▉         | 19707/200000 [00:02<00:21, 8258.21it/s]"
     ]
    },
    {
     "name": "stdout",
     "output_type": "stream",
     "text": [
      "Processing batch 171400000...\n",
      "171400000 171600000\n"
     ]
    },
    {
     "name": "stderr",
     "output_type": "stream",
     "text": [
      "  2%|▏         | 3154/200000 [00:00<00:24, 8025.73it/s]]"
     ]
    },
    {
     "name": "stdout",
     "output_type": "stream",
     "text": [
      "Processing batch 172200000...\n",
      "172200000 172400000\n"
     ]
    },
    {
     "name": "stderr",
     "output_type": "stream",
     "text": [
      "100%|██████████| 200000/200000 [00:25<00:00, 7933.63it/s]\n",
      " 88%|████████▊ | 176228/200000 [00:22<00:02, 8091.43it/s]"
     ]
    },
    {
     "name": "stdout",
     "output_type": "stream",
     "text": [
      "saved success! batch 169800000\n",
      "Processing batch 170000000...\n",
      "170000000 170200000\n"
     ]
    },
    {
     "name": "stderr",
     "output_type": "stream",
     "text": [
      "100%|██████████| 200000/200000 [00:25<00:00, 7900.75it/s]\n",
      " 98%|█████████▊| 195185/200000 [00:24<00:00, 8181.73it/s]"
     ]
    },
    {
     "name": "stdout",
     "output_type": "stream",
     "text": [
      "saved success! batch 170600000\n"
     ]
    },
    {
     "name": "stderr",
     "output_type": "stream",
     "text": [
      " 95%|█████████▌| 190181/200000 [00:24<00:01, 8201.87it/s]"
     ]
    },
    {
     "name": "stdout",
     "output_type": "stream",
     "text": [
      "Processing batch 170800000...\n",
      "170800000 171000000\n"
     ]
    },
    {
     "name": "stderr",
     "output_type": "stream",
     "text": [
      "100%|██████████| 200000/200000 [00:25<00:00, 7913.87it/s]\n",
      " 10%|▉         | 19645/200000 [00:02<00:22, 7995.03it/s]]"
     ]
    },
    {
     "name": "stdout",
     "output_type": "stream",
     "text": [
      "saved success! batch 171400000\n",
      "Processing batch 171600000...\n",
      "171600000 171800000\n"
     ]
    },
    {
     "name": "stderr",
     "output_type": "stream",
     "text": [
      "100%|██████████| 200000/200000 [00:25<00:00, 7900.80it/s]\n",
      "  2%|▏         | 3981/200000 [00:00<00:24, 8096.29it/s]]"
     ]
    },
    {
     "name": "stdout",
     "output_type": "stream",
     "text": [
      "saved success! batch 172200000\n",
      "Processing batch 172400000...\n",
      "172400000 172600000\n"
     ]
    },
    {
     "name": "stderr",
     "output_type": "stream",
     "text": [
      " 19%|█▊        | 37010/200000 [00:04<00:19, 8255.59it/s]"
     ]
    },
    {
     "name": "stdout",
     "output_type": "stream",
     "text": [
      "Processing batch 173200000...\n",
      "173200000 173400000\n"
     ]
    },
    {
     "name": "stderr",
     "output_type": "stream",
     "text": [
      "100%|██████████| 200000/200000 [00:25<00:00, 7960.50it/s]\n",
      " 82%|████████▏ | 164864/200000 [00:20<00:04, 8233.18it/s]"
     ]
    },
    {
     "name": "stdout",
     "output_type": "stream",
     "text": [
      "saved success! batch 170000000\n"
     ]
    },
    {
     "name": "stderr",
     "output_type": "stream",
     "text": [
      "100%|██████████| 200000/200000 [00:25<00:00, 7918.04it/s]\n",
      " 90%|████████▉ | 179650/200000 [00:22<00:02, 8163.72it/s]"
     ]
    },
    {
     "name": "stdout",
     "output_type": "stream",
     "text": [
      "saved success! batch 170800000\n"
     ]
    },
    {
     "name": "stderr",
     "output_type": "stream",
     "text": [
      " 99%|█████████▊| 197303/200000 [00:24<00:00, 8169.36it/s]"
     ]
    },
    {
     "name": "stdout",
     "output_type": "stream",
     "text": [
      "Processing batch 171000000...\n",
      "171000000 171200000\n"
     ]
    },
    {
     "name": "stderr",
     "output_type": "stream",
     "text": [
      "100%|██████████| 200000/200000 [00:25<00:00, 7964.40it/s]\n",
      " 93%|█████████▎| 186235/200000 [00:23<00:01, 8212.49it/s]"
     ]
    },
    {
     "name": "stdout",
     "output_type": "stream",
     "text": [
      "saved success! batch 171600000\n"
     ]
    },
    {
     "name": "stderr",
     "output_type": "stream",
     "text": [
      "  2%|▏         | 4833/200000 [00:00<00:23, 8195.45it/s]s]"
     ]
    },
    {
     "name": "stdout",
     "output_type": "stream",
     "text": [
      "Processing batch 171800000...\n",
      "171800000 172000000\n"
     ]
    },
    {
     "name": "stderr",
     "output_type": "stream",
     "text": [
      "100%|██████████| 200000/200000 [00:25<00:00, 7875.33it/s]\n",
      " 98%|█████████▊| 195261/200000 [00:24<00:00, 8166.32it/s]"
     ]
    },
    {
     "name": "stdout",
     "output_type": "stream",
     "text": [
      "saved success! batch 172400000\n"
     ]
    },
    {
     "name": "stderr",
     "output_type": "stream",
     "text": [
      "  4%|▎         | 7257/200000 [00:00<00:23, 8175.13it/s]]"
     ]
    },
    {
     "name": "stdout",
     "output_type": "stream",
     "text": [
      "Processing batch 172600000...\n",
      "172600000 172800000\n"
     ]
    },
    {
     "name": "stderr",
     "output_type": "stream",
     "text": [
      "100%|██████████| 200000/200000 [00:25<00:00, 7960.71it/s]\n",
      "  8%|▊         | 15462/200000 [00:01<00:22, 8198.78it/s]"
     ]
    },
    {
     "name": "stdout",
     "output_type": "stream",
     "text": [
      "saved success! batch 173200000\n"
     ]
    },
    {
     "name": "stderr",
     "output_type": "stream",
     "text": [
      "  3%|▎         | 6446/200000 [00:00<00:23, 8174.00it/s]"
     ]
    },
    {
     "name": "stdout",
     "output_type": "stream",
     "text": [
      "Processing batch 173400000...\n",
      "173400000 173600000\n"
     ]
    },
    {
     "name": "stderr",
     "output_type": "stream",
     "text": [
      "  9%|▉         | 18018/200000 [00:02<00:22, 8257.28it/s]"
     ]
    },
    {
     "name": "stdout",
     "output_type": "stream",
     "text": [
      "Processing batch 174200000...\n",
      "174200000 174400000\n"
     ]
    },
    {
     "name": "stderr",
     "output_type": "stream",
     "text": [
      "100%|██████████| 200000/200000 [00:25<00:00, 7947.05it/s]\n",
      " 84%|████████▎ | 167413/200000 [00:21<00:03, 8243.64it/s]"
     ]
    },
    {
     "name": "stdout",
     "output_type": "stream",
     "text": [
      "saved success! batch 171000000\n"
     ]
    },
    {
     "name": "stderr",
     "output_type": "stream",
     "text": [
      "100%|██████████| 200000/200000 [00:25<00:00, 7924.85it/s]\n",
      " 97%|█████████▋| 194023/200000 [00:24<00:00, 8158.64it/s]"
     ]
    },
    {
     "name": "stdout",
     "output_type": "stream",
     "text": [
      "saved success! batch 171800000\n"
     ]
    },
    {
     "name": "stderr",
     "output_type": "stream",
     "text": [
      " 87%|████████▋ | 174827/200000 [00:22<00:03, 8105.63it/s]"
     ]
    },
    {
     "name": "stdout",
     "output_type": "stream",
     "text": [
      "Processing batch 172000000...\n",
      "172000000 172200000\n"
     ]
    },
    {
     "name": "stderr",
     "output_type": "stream",
     "text": [
      "100%|██████████| 200000/200000 [00:25<00:00, 7904.95it/s]\n",
      " 98%|█████████▊| 195038/200000 [00:24<00:00, 8202.45it/s]"
     ]
    },
    {
     "name": "stdout",
     "output_type": "stream",
     "text": [
      "saved success! batch 172600000\n",
      "Processing batch 172800000...\n",
      "172800000 173000000\n"
     ]
    },
    {
     "name": "stderr",
     "output_type": "stream",
     "text": [
      "100%|██████████| 200000/200000 [00:25<00:00, 7924.06it/s]\n",
      " 96%|█████████▋| 192901/200000 [00:24<00:00, 8247.68it/s]"
     ]
    },
    {
     "name": "stdout",
     "output_type": "stream",
     "text": [
      "saved success! batch 173400000\n"
     ]
    },
    {
     "name": "stderr",
     "output_type": "stream",
     "text": [
      "  8%|▊         | 16393/200000 [00:02<00:22, 8244.55it/s]"
     ]
    },
    {
     "name": "stdout",
     "output_type": "stream",
     "text": [
      "Processing batch 173600000...\n",
      "173600000 173800000\n"
     ]
    },
    {
     "name": "stderr",
     "output_type": "stream",
     "text": [
      "100%|██████████| 200000/200000 [00:25<00:00, 7947.48it/s]\n",
      "  9%|▊         | 17112/200000 [00:02<00:22, 8210.25it/s]"
     ]
    },
    {
     "name": "stdout",
     "output_type": "stream",
     "text": [
      "saved success! batch 174200000\n",
      "Processing batch 174400000...\n",
      "174400000 174600000\n"
     ]
    },
    {
     "name": "stderr",
     "output_type": "stream",
     "text": [
      " 15%|█▍        | 29438/200000 [00:03<00:20, 8217.64it/s]"
     ]
    },
    {
     "name": "stdout",
     "output_type": "stream",
     "text": [
      "Processing batch 175200000...\n",
      "175200000 175400000\n"
     ]
    },
    {
     "name": "stderr",
     "output_type": "stream",
     "text": [
      "100%|██████████| 200000/200000 [00:25<00:00, 7984.70it/s]\n",
      " 96%|█████████▋| 192589/200000 [00:24<00:00, 8147.68it/s]"
     ]
    },
    {
     "name": "stdout",
     "output_type": "stream",
     "text": [
      "saved success! batch 172000000\n"
     ]
    },
    {
     "name": "stderr",
     "output_type": "stream",
     "text": [
      "100%|██████████| 200000/200000 [00:25<00:00, 7908.50it/s]\n",
      " 97%|█████████▋| 194857/200000 [00:24<00:00, 8152.55it/s]"
     ]
    },
    {
     "name": "stdout",
     "output_type": "stream",
     "text": [
      "saved success! batch 172800000\n",
      "Processing batch 173000000...\n",
      "173000000 173200000\n"
     ]
    },
    {
     "name": "stderr",
     "output_type": "stream",
     "text": [
      "100%|██████████| 200000/200000 [00:25<00:00, 7914.08it/s]\n",
      "  3%|▎         | 6453/200000 [00:00<00:23, 8189.52it/s]s]"
     ]
    },
    {
     "name": "stdout",
     "output_type": "stream",
     "text": [
      "saved success! batch 173600000\n"
     ]
    },
    {
     "name": "stderr",
     "output_type": "stream",
     "text": [
      " 91%|█████████▏| 182964/200000 [00:22<00:02, 8247.71it/s]"
     ]
    },
    {
     "name": "stdout",
     "output_type": "stream",
     "text": [
      "Processing batch 173800000...\n",
      "173800000 174000000\n"
     ]
    },
    {
     "name": "stderr",
     "output_type": "stream",
     "text": [
      "100%|██████████| 200000/200000 [00:25<00:00, 7874.49it/s]\n",
      "  5%|▍         | 9700/200000 [00:01<00:23, 8192.70it/s]s]"
     ]
    },
    {
     "name": "stdout",
     "output_type": "stream",
     "text": [
      "saved success! batch 174400000\n",
      "Processing batch 174600000...\n",
      "174600000 174800000\n"
     ]
    },
    {
     "name": "stderr",
     "output_type": "stream",
     "text": [
      "100%|██████████| 200000/200000 [00:25<00:00, 7995.20it/s]\n",
      "  9%|▉         | 18740/200000 [00:02<00:22, 8211.67it/s]"
     ]
    },
    {
     "name": "stdout",
     "output_type": "stream",
     "text": [
      "saved success! batch 175200000\n"
     ]
    },
    {
     "name": "stderr",
     "output_type": "stream",
     "text": [
      "  4%|▎         | 7125/200000 [00:00<00:24, 7998.77it/s]"
     ]
    },
    {
     "name": "stdout",
     "output_type": "stream",
     "text": [
      "Processing batch 175400000...\n",
      "175400000 175600000\n"
     ]
    },
    {
     "name": "stderr",
     "output_type": "stream",
     "text": [
      " 10%|█         | 20202/200000 [00:02<00:21, 8189.21it/s]"
     ]
    },
    {
     "name": "stdout",
     "output_type": "stream",
     "text": [
      "Processing batch 176200000..."
     ]
    },
    {
     "name": "stderr",
     "output_type": "stream",
     "text": [
      " 25%|██▌       | 50216/200000 [00:06<00:18, 8216.78it/s]"
     ]
    },
    {
     "name": "stdout",
     "output_type": "stream",
     "text": [
      "\n",
      "176200000 176400000\n"
     ]
    },
    {
     "name": "stderr",
     "output_type": "stream",
     "text": [
      "100%|██████████| 200000/200000 [00:25<00:00, 7997.18it/s]\n",
      " 87%|████████▋ | 173942/200000 [00:21<00:03, 8161.28it/s]"
     ]
    },
    {
     "name": "stdout",
     "output_type": "stream",
     "text": [
      "saved success! batch 173000000\n"
     ]
    },
    {
     "name": "stderr",
     "output_type": "stream",
     "text": [
      "100%|██████████| 200000/200000 [00:25<00:00, 7962.73it/s]\n",
      " 91%|█████████▏| 182899/200000 [00:22<00:02, 8117.64it/s]"
     ]
    },
    {
     "name": "stdout",
     "output_type": "stream",
     "text": [
      "saved success! batch 173800000\n"
     ]
    },
    {
     "name": "stderr",
     "output_type": "stream",
     "text": [
      " 81%|████████  | 161634/200000 [00:20<00:04, 8175.31it/s]"
     ]
    },
    {
     "name": "stdout",
     "output_type": "stream",
     "text": [
      "Processing batch 174000000...\n",
      "174000000 174200000\n"
     ]
    },
    {
     "name": "stderr",
     "output_type": "stream",
     "text": [
      "100%|██████████| 200000/200000 [00:25<00:00, 7962.86it/s]\n",
      "  5%|▍         | 9736/200000 [00:01<00:23, 8215.62it/s]s]"
     ]
    },
    {
     "name": "stdout",
     "output_type": "stream",
     "text": [
      "saved success! batch 174600000\n",
      "Processing batch 174800000...\n",
      "174800000 175000000\n"
     ]
    },
    {
     "name": "stderr",
     "output_type": "stream",
     "text": [
      "100%|██████████| 200000/200000 [00:25<00:00, 7960.36it/s]\n",
      "  9%|▉         | 18786/200000 [00:02<00:22, 8206.77it/s]]"
     ]
    },
    {
     "name": "stdout",
     "output_type": "stream",
     "text": [
      "saved success! batch 175400000\n",
      "Processing batch 175600000...\n",
      "175600000 175800000\n"
     ]
    },
    {
     "name": "stderr",
     "output_type": "stream",
     "text": [
      "100%|██████████| 200000/200000 [00:25<00:00, 7996.41it/s]\n",
      " 14%|█▍        | 27735/200000 [00:03<00:25, 6850.51it/s]"
     ]
    },
    {
     "name": "stdout",
     "output_type": "stream",
     "text": [
      "saved success! batch 176200000\n"
     ]
    },
    {
     "name": "stderr",
     "output_type": "stream",
     "text": [
      " 10%|▉         | 19528/200000 [00:02<00:22, 8193.04it/s]"
     ]
    },
    {
     "name": "stdout",
     "output_type": "stream",
     "text": [
      "Processing batch 176400000...\n",
      "176400000 176600000\n"
     ]
    },
    {
     "name": "stderr",
     "output_type": "stream",
     "text": [
      " 20%|██        | 40795/200000 [00:05<00:19, 8152.86it/s]"
     ]
    },
    {
     "name": "stdout",
     "output_type": "stream",
     "text": [
      "Processing batch 177200000...\n",
      "177200000 177400000\n"
     ]
    },
    {
     "name": "stderr",
     "output_type": "stream",
     "text": [
      "100%|██████████| 200000/200000 [00:24<00:00, 8058.22it/s]\n",
      " 80%|████████  | 160662/200000 [00:20<00:04, 8115.77it/s]"
     ]
    },
    {
     "name": "stdout",
     "output_type": "stream",
     "text": [
      "saved success! batch 174000000\n"
     ]
    },
    {
     "name": "stderr",
     "output_type": "stream",
     "text": [
      "100%|██████████| 200000/200000 [00:25<00:00, 7990.63it/s]\n",
      " 87%|████████▋ | 173678/200000 [00:21<00:03, 8101.73it/s]"
     ]
    },
    {
     "name": "stdout",
     "output_type": "stream",
     "text": [
      "saved success! batch 174800000\n"
     ]
    },
    {
     "name": "stderr",
     "output_type": "stream",
     "text": [
      " 77%|███████▋  | 154901/200000 [00:19<00:05, 8252.76it/s]"
     ]
    },
    {
     "name": "stdout",
     "output_type": "stream",
     "text": [
      "Processing batch 175000000...\n",
      "175000000 175200000\n"
     ]
    },
    {
     "name": "stderr",
     "output_type": "stream",
     "text": [
      "100%|██████████| 200000/200000 [00:24<00:00, 8030.80it/s]\n",
      "  3%|▎         | 5583/200000 [00:00<00:23, 8100.95it/s]s]"
     ]
    },
    {
     "name": "stdout",
     "output_type": "stream",
     "text": [
      "saved success! batch 175600000\n",
      "Processing batch 175800000...\n",
      "175800000 176000000\n"
     ]
    },
    {
     "name": "stderr",
     "output_type": "stream",
     "text": [
      "100%|██████████| 200000/200000 [00:25<00:00, 7987.54it/s]\n",
      " 10%|█         | 20503/200000 [00:02<00:21, 8242.46it/s]]"
     ]
    },
    {
     "name": "stdout",
     "output_type": "stream",
     "text": [
      "saved success! batch 176400000\n"
     ]
    },
    {
     "name": "stderr",
     "output_type": "stream",
     "text": [
      " 14%|█▍        | 28624/200000 [00:03<00:20, 8168.27it/s]]"
     ]
    },
    {
     "name": "stdout",
     "output_type": "stream",
     "text": [
      "Processing batch 176600000...\n",
      "176600000 176800000\n"
     ]
    },
    {
     "name": "stderr",
     "output_type": "stream",
     "text": [
      "100%|██████████| 200000/200000 [00:24<00:00, 8119.23it/s]\n",
      " 19%|█▉        | 37732/200000 [00:04<00:20, 8099.90it/s]"
     ]
    },
    {
     "name": "stdout",
     "output_type": "stream",
     "text": [
      "saved success! batch 177200000\n",
      "Processing batch 177400000...\n",
      "177400000 177600000\n"
     ]
    },
    {
     "name": "stderr",
     "output_type": "stream",
     "text": [
      " 22%|██▏       | 44699/200000 [00:05<00:19, 8172.74it/s]"
     ]
    },
    {
     "name": "stdout",
     "output_type": "stream",
     "text": [
      "Processing batch 178200000...\n",
      "178200000 178400000\n"
     ]
    },
    {
     "name": "stderr",
     "output_type": "stream",
     "text": [
      "100%|██████████| 200000/200000 [00:24<00:00, 8091.79it/s]\n",
      " 98%|█████████▊| 195127/200000 [00:24<00:00, 7579.49it/s]"
     ]
    },
    {
     "name": "stdout",
     "output_type": "stream",
     "text": [
      "saved success! batch 175000000\n"
     ]
    },
    {
     "name": "stderr",
     "output_type": "stream",
     "text": [
      "100%|██████████| 200000/200000 [00:24<00:00, 8075.12it/s]\n",
      " 81%|████████▏ | 162934/200000 [00:20<00:04, 8106.65it/s]"
     ]
    },
    {
     "name": "stdout",
     "output_type": "stream",
     "text": [
      "saved success! batch 175800000\n"
     ]
    },
    {
     "name": "stderr",
     "output_type": "stream",
     "text": [
      " 68%|██████▊   | 136360/200000 [00:16<00:07, 8280.10it/s]"
     ]
    },
    {
     "name": "stdout",
     "output_type": "stream",
     "text": [
      "Processing batch 176000000...\n",
      "176000000 176200000\n"
     ]
    },
    {
     "name": "stderr",
     "output_type": "stream",
     "text": [
      "100%|██████████| 200000/200000 [00:24<00:00, 8056.50it/s]\n",
      " 10%|█         | 20525/200000 [00:02<00:21, 8274.75it/s]]"
     ]
    },
    {
     "name": "stdout",
     "output_type": "stream",
     "text": [
      "saved success! batch 176600000\n"
     ]
    },
    {
     "name": "stderr",
     "output_type": "stream",
     "text": [
      " 79%|███████▉  | 158760/200000 [00:19<00:04, 8268.74it/s]"
     ]
    },
    {
     "name": "stdout",
     "output_type": "stream",
     "text": [
      "Processing batch 176800000...\n",
      "176800000 177000000\n"
     ]
    },
    {
     "name": "stderr",
     "output_type": "stream",
     "text": [
      "100%|██████████| 200000/200000 [00:24<00:00, 8023.92it/s]\n",
      " 20%|█▉        | 39523/200000 [00:04<00:19, 8243.23it/s]]"
     ]
    },
    {
     "name": "stdout",
     "output_type": "stream",
     "text": [
      "saved success! batch 177400000\n"
     ]
    },
    {
     "name": "stderr",
     "output_type": "stream",
     "text": [
      " 89%|████████▉ | 177847/200000 [00:21<00:02, 8233.51it/s]"
     ]
    },
    {
     "name": "stdout",
     "output_type": "stream",
     "text": [
      "Processing batch 177600000...\n",
      "177600000 177800000\n"
     ]
    },
    {
     "name": "stderr",
     "output_type": "stream",
     "text": [
      "100%|██████████| 200000/200000 [00:24<00:00, 8171.43it/s]\n",
      " 12%|█▏        | 23727/200000 [00:02<00:21, 8223.89it/s]"
     ]
    },
    {
     "name": "stdout",
     "output_type": "stream",
     "text": [
      "saved success! batch 178200000\n"
     ]
    },
    {
     "name": "stderr",
     "output_type": "stream",
     "text": [
      " 33%|███▎      | 66060/200000 [00:08<00:16, 8291.75it/s]"
     ]
    },
    {
     "name": "stdout",
     "output_type": "stream",
     "text": [
      "Processing batch 178400000...\n",
      "178400000 178600000\n"
     ]
    },
    {
     "name": "stderr",
     "output_type": "stream",
     "text": [
      " 33%|███▎      | 66823/200000 [00:08<00:16, 8125.60it/s]"
     ]
    },
    {
     "name": "stdout",
     "output_type": "stream",
     "text": [
      "Processing batch 179200000...\n",
      "179200000 179400000\n"
     ]
    },
    {
     "name": "stderr",
     "output_type": "stream",
     "text": [
      "100%|██████████| 200000/200000 [00:24<00:00, 8147.92it/s]\n",
      " 80%|███████▉  | 159872/200000 [00:19<00:04, 8062.56it/s]"
     ]
    },
    {
     "name": "stdout",
     "output_type": "stream",
     "text": [
      "saved success! batch 176000000\n"
     ]
    },
    {
     "name": "stderr",
     "output_type": "stream",
     "text": [
      "100%|██████████| 200000/200000 [00:25<00:00, 7998.20it/s]\n",
      " 93%|█████████▎| 186065/200000 [00:23<00:01, 8088.79it/s]"
     ]
    },
    {
     "name": "stdout",
     "output_type": "stream",
     "text": [
      "saved success! batch 176800000\n"
     ]
    },
    {
     "name": "stderr",
     "output_type": "stream",
     "text": [
      " 69%|██████▊   | 137100/200000 [00:16<00:07, 8230.81it/s]"
     ]
    },
    {
     "name": "stdout",
     "output_type": "stream",
     "text": [
      "Processing batch 177000000...\n",
      "177000000 177200000\n"
     ]
    },
    {
     "name": "stderr",
     "output_type": "stream",
     "text": [
      "100%|██████████| 200000/200000 [00:24<00:00, 8055.55it/s]\n",
      "  8%|▊         | 15506/200000 [00:01<00:22, 8193.87it/s]]"
     ]
    },
    {
     "name": "stdout",
     "output_type": "stream",
     "text": [
      "saved success! batch 177600000\n",
      "Processing batch 177800000...\n",
      "177800000 178000000\n"
     ]
    },
    {
     "name": "stderr",
     "output_type": "stream",
     "text": [
      "100%|██████████| 200000/200000 [00:24<00:00, 8049.18it/s]\n",
      " 90%|█████████ | 180021/200000 [00:22<00:02, 8252.56it/s]"
     ]
    },
    {
     "name": "stdout",
     "output_type": "stream",
     "text": [
      "saved success! batch 178400000\n",
      "Processing batch 178600000..."
     ]
    },
    {
     "name": "stderr",
     "output_type": "stream",
     "text": [
      " 21%|██        | 41766/200000 [00:05<00:19, 8162.91it/s]"
     ]
    },
    {
     "name": "stdout",
     "output_type": "stream",
     "text": [
      "\n",
      "178600000 178800000\n"
     ]
    },
    {
     "name": "stderr",
     "output_type": "stream",
     "text": [
      "100%|██████████| 200000/200000 [00:24<00:00, 8125.06it/s]\n",
      " 10%|█         | 20400/200000 [00:02<00:21, 8211.35it/s]"
     ]
    },
    {
     "name": "stdout",
     "output_type": "stream",
     "text": [
      "saved success! batch 179200000\n"
     ]
    },
    {
     "name": "stderr",
     "output_type": "stream",
     "text": [
      " 23%|██▎       | 46512/200000 [00:05<00:19, 8053.21it/s]"
     ]
    },
    {
     "name": "stdout",
     "output_type": "stream",
     "text": [
      "Processing batch 179400000...\n",
      "179400000 179600000\n"
     ]
    },
    {
     "name": "stderr",
     "output_type": "stream",
     "text": [
      " 11%|█         | 21954/200000 [00:02<00:21, 8178.68it/s]"
     ]
    },
    {
     "name": "stdout",
     "output_type": "stream",
     "text": [
      "Processing batch 180200000...\n",
      "180200000 180400000\n"
     ]
    },
    {
     "name": "stderr",
     "output_type": "stream",
     "text": [
      "100%|██████████| 200000/200000 [00:24<00:00, 8045.09it/s]\n",
      " 93%|█████████▎| 185852/200000 [00:23<00:01, 8186.55it/s]"
     ]
    },
    {
     "name": "stdout",
     "output_type": "stream",
     "text": [
      "saved success! batch 177000000\n"
     ]
    },
    {
     "name": "stderr",
     "output_type": "stream",
     "text": [
      "100%|██████████| 200000/200000 [00:24<00:00, 8026.88it/s]\n",
      " 78%|███████▊  | 156085/200000 [00:19<00:05, 8131.23it/s]"
     ]
    },
    {
     "name": "stdout",
     "output_type": "stream",
     "text": [
      "saved success! batch 177800000\n"
     ]
    },
    {
     "name": "stderr",
     "output_type": "stream",
     "text": [
      " 90%|████████▉ | 179864/200000 [00:22<00:02, 8182.94it/s]"
     ]
    },
    {
     "name": "stdout",
     "output_type": "stream",
     "text": [
      "Processing batch 178000000...\n",
      "178000000 178200000\n"
     ]
    },
    {
     "name": "stderr",
     "output_type": "stream",
     "text": [
      "  9%|▉         | 18842/200000 [00:02<00:21, 8250.50it/s]]\n",
      " 90%|████████▉ | 179612/200000 [00:22<00:02, 8074.05it/s]"
     ]
    },
    {
     "name": "stdout",
     "output_type": "stream",
     "text": [
      "saved success! batch 178600000\n"
     ]
    },
    {
     "name": "stderr",
     "output_type": "stream",
     "text": [
      " 11%|█         | 22168/200000 [00:02<00:21, 8268.23it/s]"
     ]
    },
    {
     "name": "stdout",
     "output_type": "stream",
     "text": [
      "Processing batch 178800000...\n",
      "178800000 179000000\n"
     ]
    },
    {
     "name": "stderr",
     "output_type": "stream",
     "text": [
      "100%|██████████| 200000/200000 [00:24<00:00, 8042.43it/s]\n",
      " 91%|█████████ | 181330/200000 [00:22<00:02, 8271.52it/s]"
     ]
    },
    {
     "name": "stdout",
     "output_type": "stream",
     "text": [
      "saved success! batch 179400000\n"
     ]
    },
    {
     "name": "stderr",
     "output_type": "stream",
     "text": [
      " 23%|██▎       | 46930/200000 [00:05<00:18, 8211.30it/s]"
     ]
    },
    {
     "name": "stdout",
     "output_type": "stream",
     "text": [
      "Processing batch 179600000...\n",
      "179600000 179800000\n"
     ]
    },
    {
     "name": "stderr",
     "output_type": "stream",
     "text": [
      "100%|██████████| 200000/200000 [00:24<00:00, 8144.53it/s]\n",
      " 10%|▉         | 19494/200000 [00:02<00:22, 8194.96it/s]"
     ]
    },
    {
     "name": "stdout",
     "output_type": "stream",
     "text": [
      "saved success! batch 180200000\n",
      "Processing batch 180400000...\n",
      "180400000 180600000\n"
     ]
    },
    {
     "name": "stderr",
     "output_type": "stream",
     "text": [
      " 13%|█▎        | 25145/200000 [00:03<00:22, 7820.17it/s]"
     ]
    },
    {
     "name": "stdout",
     "output_type": "stream",
     "text": [
      "Processing batch 181200000...\n",
      "181200000 181400000\n"
     ]
    },
    {
     "name": "stderr",
     "output_type": "stream",
     "text": [
      "100%|██████████| 200000/200000 [00:24<00:00, 8113.77it/s]\n",
      " 90%|████████▉ | 179604/200000 [00:22<00:02, 8163.80it/s]"
     ]
    },
    {
     "name": "stdout",
     "output_type": "stream",
     "text": [
      "saved success! batch 178000000\n"
     ]
    },
    {
     "name": "stderr",
     "output_type": "stream",
     "text": [
      "100%|██████████| 200000/200000 [00:24<00:00, 8079.70it/s]\n",
      " 89%|████████▉ | 177916/200000 [00:22<00:02, 8085.96it/s]"
     ]
    },
    {
     "name": "stdout",
     "output_type": "stream",
     "text": [
      "saved success! batch 178800000\n"
     ]
    },
    {
     "name": "stderr",
     "output_type": "stream",
     "text": [
      " 78%|███████▊  | 156963/200000 [00:19<00:05, 8103.34it/s]"
     ]
    },
    {
     "name": "stdout",
     "output_type": "stream",
     "text": [
      "Processing batch 179000000...\n",
      "179000000 179200000\n"
     ]
    },
    {
     "name": "stderr",
     "output_type": "stream",
     "text": [
      "100%|██████████| 200000/200000 [00:24<00:00, 8035.91it/s]\n",
      " 91%|█████████ | 182124/200000 [00:22<00:02, 8066.09it/s]"
     ]
    },
    {
     "name": "stdout",
     "output_type": "stream",
     "text": [
      "saved success! batch 179600000\n"
     ]
    },
    {
     "name": "stderr",
     "output_type": "stream",
     "text": [
      " 78%|███████▊  | 155617/200000 [00:19<00:05, 8177.45it/s]"
     ]
    },
    {
     "name": "stdout",
     "output_type": "stream",
     "text": [
      "Processing batch 179800000...\n",
      "179800000 180000000\n"
     ]
    },
    {
     "name": "stderr",
     "output_type": "stream",
     "text": [
      "100%|██████████| 200000/200000 [00:24<00:00, 8014.25it/s]\n",
      " 10%|▉         | 19554/200000 [00:02<00:22, 8185.19it/s]]"
     ]
    },
    {
     "name": "stdout",
     "output_type": "stream",
     "text": [
      "saved success! batch 180400000\n"
     ]
    },
    {
     "name": "stderr",
     "output_type": "stream",
     "text": [
      " 89%|████████▉ | 177789/200000 [00:21<00:02, 8158.67it/s]"
     ]
    },
    {
     "name": "stdout",
     "output_type": "stream",
     "text": [
      "Processing batch 180600000...\n",
      "180600000 180800000\n"
     ]
    },
    {
     "name": "stderr",
     "output_type": "stream",
     "text": [
      "100%|██████████| 200000/200000 [00:24<00:00, 8092.20it/s]\n",
      " 12%|█▏        | 23708/200000 [00:02<00:21, 8179.88it/s]"
     ]
    },
    {
     "name": "stdout",
     "output_type": "stream",
     "text": [
      "saved success! batch 181200000\n",
      "Processing batch 181400000...\n",
      "181400000 181600000\n"
     ]
    },
    {
     "name": "stderr",
     "output_type": "stream",
     "text": [
      " 13%|█▎        | 26901/200000 [00:03<00:21, 8059.24it/s]]"
     ]
    },
    {
     "name": "stdout",
     "output_type": "stream",
     "text": [
      "Processing batch 182200000...\n",
      "182200000 182400000\n"
     ]
    },
    {
     "name": "stderr",
     "output_type": "stream",
     "text": [
      "100%|██████████| 200000/200000 [00:24<00:00, 8099.57it/s]\n",
      " 65%|██████▍   | 129524/200000 [00:16<00:08, 8158.79it/s]"
     ]
    },
    {
     "name": "stdout",
     "output_type": "stream",
     "text": [
      "saved success! batch 179000000\n"
     ]
    },
    {
     "name": "stderr",
     "output_type": "stream",
     "text": [
      "100%|██████████| 200000/200000 [00:24<00:00, 8018.97it/s]\n",
      " 92%|█████████▏| 183450/200000 [00:22<00:02, 8132.08it/s]"
     ]
    },
    {
     "name": "stdout",
     "output_type": "stream",
     "text": [
      "saved success! batch 179800000\n",
      "Processing batch 180000000...\n",
      "180000000 180200000\n"
     ]
    },
    {
     "name": "stderr",
     "output_type": "stream",
     "text": [
      "100%|██████████| 200000/200000 [00:24<00:00, 8085.38it/s]\n",
      " 75%|███████▍  | 149275/200000 [00:18<00:06, 8190.70it/s]"
     ]
    },
    {
     "name": "stdout",
     "output_type": "stream",
     "text": [
      "saved success! batch 180600000\n",
      "Processing batch 180800000...\n",
      "180800000 181000000\n"
     ]
    },
    {
     "name": "stderr",
     "output_type": "stream",
     "text": [
      "100%|██████████| 200000/200000 [00:24<00:00, 8023.24it/s]\n",
      " 88%|████████▊ | 176471/200000 [00:21<00:02, 8147.99it/s]"
     ]
    },
    {
     "name": "stdout",
     "output_type": "stream",
     "text": [
      "saved success! batch 181400000\n"
     ]
    },
    {
     "name": "stderr",
     "output_type": "stream",
     "text": [
      " 23%|██▎       | 45583/200000 [00:05<00:18, 8135.74it/s]"
     ]
    },
    {
     "name": "stdout",
     "output_type": "stream",
     "text": [
      "Processing batch 181600000...\n",
      "181600000 181800000\n"
     ]
    },
    {
     "name": "stderr",
     "output_type": "stream",
     "text": [
      "100%|██████████| 200000/200000 [00:24<00:00, 8146.80it/s]\n",
      " 35%|███▌      | 70983/200000 [00:08<00:19, 6573.99it/s]"
     ]
    },
    {
     "name": "stdout",
     "output_type": "stream",
     "text": [
      "saved success! batch 182200000\n"
     ]
    },
    {
     "name": "stderr",
     "output_type": "stream",
     "text": [
      " 12%|█▏        | 24547/200000 [00:03<00:21, 8226.80it/s]"
     ]
    },
    {
     "name": "stdout",
     "output_type": "stream",
     "text": [
      "Processing batch 182400000...\n",
      "182400000 182600000\n"
     ]
    },
    {
     "name": "stderr",
     "output_type": "stream",
     "text": [
      " 49%|████▉     | 98882/200000 [00:12<00:12, 8178.58it/s]"
     ]
    },
    {
     "name": "stdout",
     "output_type": "stream",
     "text": [
      "Processing batch 183200000...\n"
     ]
    },
    {
     "name": "stderr",
     "output_type": "stream",
     "text": [
      " 13%|█▎        | 25319/200000 [00:03<00:21, 8119.61it/s]"
     ]
    },
    {
     "name": "stdout",
     "output_type": "stream",
     "text": [
      "183200000 183400000\n"
     ]
    },
    {
     "name": "stderr",
     "output_type": "stream",
     "text": [
      "100%|██████████| 200000/200000 [00:24<00:00, 8080.28it/s]\n",
      " 91%|█████████ | 181785/200000 [00:22<00:02, 8134.46it/s]"
     ]
    },
    {
     "name": "stdout",
     "output_type": "stream",
     "text": [
      "saved success! batch 180000000\n"
     ]
    },
    {
     "name": "stderr",
     "output_type": "stream",
     "text": [
      "100%|██████████| 200000/200000 [00:25<00:00, 7992.35it/s]\n",
      " 63%|██████▎   | 126225/200000 [00:15<00:08, 8238.58it/s]"
     ]
    },
    {
     "name": "stdout",
     "output_type": "stream",
     "text": [
      "saved success! batch 180800000\n",
      "Processing batch 181000000...\n",
      "181000000 181200000\n"
     ]
    },
    {
     "name": "stderr",
     "output_type": "stream",
     "text": [
      "100%|██████████| 200000/200000 [00:24<00:00, 8091.83it/s]\n",
      " 11%|█         | 21934/200000 [00:02<00:21, 8176.38it/s]]"
     ]
    },
    {
     "name": "stdout",
     "output_type": "stream",
     "text": [
      "saved success! batch 181600000\n",
      "Processing batch 181800000...\n",
      "181800000 182000000\n"
     ]
    },
    {
     "name": "stderr",
     "output_type": "stream",
     "text": [
      "100%|██████████| 200000/200000 [00:24<00:00, 8084.42it/s]\n",
      " 12%|█▏        | 23732/200000 [00:02<00:21, 8233.65it/s]]"
     ]
    },
    {
     "name": "stdout",
     "output_type": "stream",
     "text": [
      "saved success! batch 182400000\n"
     ]
    },
    {
     "name": "stderr",
     "output_type": "stream",
     "text": [
      " 12%|█▏        | 24556/200000 [00:03<00:21, 8231.30it/s]]"
     ]
    },
    {
     "name": "stdout",
     "output_type": "stream",
     "text": [
      "Processing batch 182600000...\n",
      "182600000 182800000\n"
     ]
    },
    {
     "name": "stderr",
     "output_type": "stream",
     "text": [
      "100%|██████████| 200000/200000 [00:24<00:00, 8140.03it/s]\n",
      " 25%|██▍       | 49898/200000 [00:06<00:18, 8157.85it/s]"
     ]
    },
    {
     "name": "stdout",
     "output_type": "stream",
     "text": [
      "saved success! batch 183200000\n"
     ]
    },
    {
     "name": "stderr",
     "output_type": "stream",
     "text": [
      " 12%|█▏        | 24594/200000 [00:03<00:21, 8210.99it/s]"
     ]
    },
    {
     "name": "stdout",
     "output_type": "stream",
     "text": [
      "Processing batch 183400000...\n",
      "183400000 183600000\n"
     ]
    },
    {
     "name": "stderr",
     "output_type": "stream",
     "text": [
      " 27%|██▋       | 54771/200000 [00:06<00:17, 8193.48it/s]]"
     ]
    },
    {
     "name": "stdout",
     "output_type": "stream",
     "text": [
      "Processing batch 184200000...\n",
      "184200000 184400000\n"
     ]
    },
    {
     "name": "stderr",
     "output_type": "stream",
     "text": [
      "100%|██████████| 200000/200000 [00:24<00:00, 8048.55it/s]\n",
      " 90%|████████▉ | 179617/200000 [00:22<00:02, 8116.60it/s]"
     ]
    },
    {
     "name": "stdout",
     "output_type": "stream",
     "text": [
      "saved success! batch 181000000\n"
     ]
    },
    {
     "name": "stderr",
     "output_type": "stream",
     "text": [
      " 75%|███████▍  | 149410/200000 [00:18<00:06, 8214.53it/s]\n",
      " 89%|████████▉ | 177533/200000 [00:21<00:02, 8075.51it/s]"
     ]
    },
    {
     "name": "stdout",
     "output_type": "stream",
     "text": [
      "saved success! batch 181800000\n"
     ]
    },
    {
     "name": "stderr",
     "output_type": "stream",
     "text": [
      " 61%|██████▏   | 122578/200000 [00:15<00:09, 8225.37it/s]"
     ]
    },
    {
     "name": "stdout",
     "output_type": "stream",
     "text": [
      "Processing batch 182000000...\n",
      "182000000 182200000\n"
     ]
    },
    {
     "name": "stderr",
     "output_type": "stream",
     "text": [
      "100%|██████████| 200000/200000 [00:24<00:00, 8074.40it/s]\n",
      " 12%|█▏        | 23581/200000 [00:02<00:21, 8141.61it/s]]"
     ]
    },
    {
     "name": "stdout",
     "output_type": "stream",
     "text": [
      "saved success! batch 182600000\n",
      "Processing batch 182800000...\n",
      "182800000 183000000\n"
     ]
    },
    {
     "name": "stderr",
     "output_type": "stream",
     "text": [
      "100%|██████████| 200000/200000 [00:24<00:00, 8096.06it/s]\n",
      " 12%|█▏        | 23665/200000 [00:02<00:21, 8201.72it/s]]"
     ]
    },
    {
     "name": "stdout",
     "output_type": "stream",
     "text": [
      "saved success! batch 183400000\n"
     ]
    },
    {
     "name": "stderr",
     "output_type": "stream",
     "text": [
      " 25%|██▍       | 49752/200000 [00:06<00:18, 8179.14it/s]"
     ]
    },
    {
     "name": "stdout",
     "output_type": "stream",
     "text": [
      "Processing batch 183600000...\n",
      "183600000 183800000\n"
     ]
    },
    {
     "name": "stderr",
     "output_type": "stream",
     "text": [
      "100%|██████████| 200000/200000 [00:24<00:00, 8135.41it/s]\n",
      " 39%|███▉      | 78310/200000 [00:09<00:16, 7532.67it/s]"
     ]
    },
    {
     "name": "stdout",
     "output_type": "stream",
     "text": [
      "saved success! batch 184200000\n",
      "Processing batch 184400000...\n",
      "184400000 184600000\n"
     ]
    },
    {
     "name": "stderr",
     "output_type": "stream",
     "text": [
      " 57%|█████▋    | 113510/200000 [00:14<00:10, 8175.38it/s]"
     ]
    },
    {
     "name": "stdout",
     "output_type": "stream",
     "text": [
      "Processing batch 185200000...\n",
      "185200000 "
     ]
    },
    {
     "name": "stderr",
     "output_type": "stream",
     "text": [
      " 16%|█▋        | 32519/200000 [00:04<00:20, 8124.17it/s]"
     ]
    },
    {
     "name": "stdout",
     "output_type": "stream",
     "text": [
      "185400000\n"
     ]
    },
    {
     "name": "stderr",
     "output_type": "stream",
     "text": [
      "100%|██████████| 200000/200000 [00:24<00:00, 8070.65it/s]\n",
      " 61%|██████    | 121704/200000 [00:15<00:09, 8093.32it/s]"
     ]
    },
    {
     "name": "stdout",
     "output_type": "stream",
     "text": [
      "saved success! batch 182000000\n"
     ]
    },
    {
     "name": "stderr",
     "output_type": "stream",
     "text": [
      "100%|██████████| 200000/200000 [00:24<00:00, 8057.22it/s]\n",
      " 58%|█████▊    | 115204/200000 [00:14<00:10, 8223.41it/s]"
     ]
    },
    {
     "name": "stdout",
     "output_type": "stream",
     "text": [
      "saved success! batch 182800000\n",
      "Processing batch 183000000...\n",
      "183000000 183200000\n"
     ]
    },
    {
     "name": "stderr",
     "output_type": "stream",
     "text": [
      "100%|██████████| 200000/200000 [00:24<00:00, 8050.67it/s]\n",
      " 12%|█▏        | 23707/200000 [00:02<00:21, 8216.75it/s]]"
     ]
    },
    {
     "name": "stdout",
     "output_type": "stream",
     "text": [
      "saved success! batch 183600000\n"
     ]
    },
    {
     "name": "stderr",
     "output_type": "stream",
     "text": [
      " 70%|███████   | 140673/200000 [00:17<00:08, 6669.39it/s]"
     ]
    },
    {
     "name": "stdout",
     "output_type": "stream",
     "text": [
      "Processing batch 183800000...\n",
      "183800000 184000000\n"
     ]
    },
    {
     "name": "stderr",
     "output_type": "stream",
     "text": [
      " 84%|████████▍ | 168444/200000 [00:20<00:03, 8131.34it/s]\n",
      " 14%|█▍        | 28436/200000 [00:03<00:21, 8154.71it/s]]"
     ]
    },
    {
     "name": "stdout",
     "output_type": "stream",
     "text": [
      "saved success! batch 184400000\n"
     ]
    },
    {
     "name": "stderr",
     "output_type": "stream",
     "text": [
      " 27%|██▋       | 54999/200000 [00:06<00:17, 8195.27it/s]"
     ]
    },
    {
     "name": "stdout",
     "output_type": "stream",
     "text": [
      "Processing batch 184600000...\n",
      "184600000 184800000\n"
     ]
    },
    {
     "name": "stderr",
     "output_type": "stream",
     "text": [
      "100%|██████████| 200000/200000 [00:24<00:00, 8111.62it/s]\n",
      " 30%|███       | 60115/200000 [00:07<00:17, 8097.30it/s]"
     ]
    },
    {
     "name": "stdout",
     "output_type": "stream",
     "text": [
      "saved success! batch 185200000\n"
     ]
    },
    {
     "name": "stderr",
     "output_type": "stream",
     "text": [
      " 15%|█▌        | 30200/200000 [00:03<00:20, 8210.20it/s]"
     ]
    },
    {
     "name": "stdout",
     "output_type": "stream",
     "text": [
      "Processing batch 185400000...\n",
      "185400000 185600000\n"
     ]
    },
    {
     "name": "stderr",
     "output_type": "stream",
     "text": [
      " 44%|████▍     | 88434/200000 [00:10<00:13, 8032.67it/s]]"
     ]
    },
    {
     "name": "stdout",
     "output_type": "stream",
     "text": [
      "Processing batch 186200000...\n",
      "186200000 186400000\n"
     ]
    },
    {
     "name": "stderr",
     "output_type": "stream",
     "text": [
      "100%|██████████| 200000/200000 [00:24<00:00, 8103.84it/s]\n",
      " 57%|█████▋    | 114331/200000 [00:14<00:10, 8103.83it/s]"
     ]
    },
    {
     "name": "stdout",
     "output_type": "stream",
     "text": [
      "saved success! batch 183000000\n"
     ]
    },
    {
     "name": "stderr",
     "output_type": "stream",
     "text": [
      "100%|██████████| 200000/200000 [00:24<00:00, 8000.63it/s]\n",
      " 58%|█████▊    | 115217/200000 [00:14<00:10, 8183.20it/s]"
     ]
    },
    {
     "name": "stdout",
     "output_type": "stream",
     "text": [
      "saved success! batch 183800000\n"
     ]
    },
    {
     "name": "stderr",
     "output_type": "stream",
     "text": [
      " 71%|███████▏  | 142885/200000 [00:17<00:07, 8142.37it/s]"
     ]
    },
    {
     "name": "stdout",
     "output_type": "stream",
     "text": [
      "Processing batch 184000000...\n",
      "184000000 184200000\n"
     ]
    },
    {
     "name": "stderr",
     "output_type": "stream",
     "text": [
      "100%|██████████| 200000/200000 [00:24<00:00, 8057.38it/s]\n",
      " 14%|█▎        | 27087/200000 [00:03<00:21, 8193.64it/s]]"
     ]
    },
    {
     "name": "stdout",
     "output_type": "stream",
     "text": [
      "saved success! batch 184600000\n"
     ]
    },
    {
     "name": "stderr",
     "output_type": "stream",
     "text": [
      " 86%|████████▌ | 172342/200000 [00:21<00:03, 8134.92it/s]"
     ]
    },
    {
     "name": "stdout",
     "output_type": "stream",
     "text": [
      "Processing batch 184800000...\n",
      "184800000 185000000\n"
     ]
    },
    {
     "name": "stderr",
     "output_type": "stream",
     "text": [
      "100%|██████████| 200000/200000 [00:24<00:00, 8044.00it/s]\n",
      " 88%|████████▊ | 176799/200000 [00:21<00:02, 8084.20it/s]"
     ]
    },
    {
     "name": "stdout",
     "output_type": "stream",
     "text": [
      "saved success! batch 185400000\n",
      "Processing batch 185600000...\n",
      "185600000 185800000\n"
     ]
    },
    {
     "name": "stderr",
     "output_type": "stream",
     "text": [
      "100%|██████████| 200000/200000 [00:24<00:00, 8122.70it/s]\n",
      " 43%|████▎     | 86406/200000 [00:10<00:14, 7923.74it/s]"
     ]
    },
    {
     "name": "stdout",
     "output_type": "stream",
     "text": [
      "saved success! batch 186200000\n",
      "Processing batch 186400000...\n",
      "186400000 186600000\n"
     ]
    },
    {
     "name": "stderr",
     "output_type": "stream",
     "text": [
      " 26%|██▋       | 52589/200000 [00:06<00:17, 8233.82it/s]]"
     ]
    },
    {
     "name": "stdout",
     "output_type": "stream",
     "text": [
      "Processing batch 187200000...\n",
      "187200000 187400000\n"
     ]
    },
    {
     "name": "stderr",
     "output_type": "stream",
     "text": [
      "100%|██████████| 200000/200000 [00:24<00:00, 8160.04it/s]\n",
      " 43%|████▎     | 86991/200000 [00:10<00:13, 8275.06it/s]]"
     ]
    },
    {
     "name": "stdout",
     "output_type": "stream",
     "text": [
      "saved success! batch 184000000\n"
     ]
    },
    {
     "name": "stderr",
     "output_type": "stream",
     "text": [
      "100%|██████████| 200000/200000 [00:24<00:00, 8009.81it/s]\n",
      " 87%|████████▋ | 173509/200000 [00:21<00:03, 8174.07it/s]"
     ]
    },
    {
     "name": "stdout",
     "output_type": "stream",
     "text": [
      "saved success! batch 184800000\n",
      "Processing batch 185000000...\n",
      "185000000 185200000\n"
     ]
    },
    {
     "name": "stderr",
     "output_type": "stream",
     "text": [
      "100%|██████████| 200000/200000 [00:24<00:00, 8088.40it/s]\n",
      " 88%|████████▊ | 176552/200000 [00:21<00:02, 8110.49it/s]"
     ]
    },
    {
     "name": "stdout",
     "output_type": "stream",
     "text": [
      "saved success! batch 185600000\n",
      "Processing batch 185800000...\n",
      "185800000 186000000\n"
     ]
    },
    {
     "name": "stderr",
     "output_type": "stream",
     "text": [
      "100%|██████████| 200000/200000 [00:24<00:00, 8054.63it/s]\n",
      " 28%|██▊       | 55330/200000 [00:06<00:17, 8142.45it/s]]"
     ]
    },
    {
     "name": "stdout",
     "output_type": "stream",
     "text": [
      "saved success! batch 186400000\n",
      "Processing batch 186600000...\n"
     ]
    },
    {
     "name": "stderr",
     "output_type": "stream",
     "text": [
      " 13%|█▎        | 25369/200000 [00:03<00:25, 6767.61it/s]"
     ]
    },
    {
     "name": "stdout",
     "output_type": "stream",
     "text": [
      "186600000 186800000\n"
     ]
    },
    {
     "name": "stderr",
     "output_type": "stream",
     "text": [
      "100%|██████████| 200000/200000 [00:24<00:00, 8167.96it/s]\n",
      " 40%|███▉      | 79056/200000 [00:09<00:14, 8160.37it/s]"
     ]
    },
    {
     "name": "stdout",
     "output_type": "stream",
     "text": [
      "saved success! batch 187200000\n",
      "Processing batch 187400000...\n",
      "187400000 187600000\n"
     ]
    },
    {
     "name": "stderr",
     "output_type": "stream",
     "text": [
      " 17%|█▋        | 33276/200000 [00:04<00:20, 8137.65it/s]]"
     ]
    },
    {
     "name": "stdout",
     "output_type": "stream",
     "text": [
      "Processing batch 188200000...\n",
      "188200000 188400000\n"
     ]
    },
    {
     "name": "stderr",
     "output_type": "stream",
     "text": [
      " 42%|████▏     | 83866/200000 [00:10<00:14, 8210.20it/s]]\n",
      " 73%|███████▎  | 146926/200000 [00:18<00:07, 7311.99it/s]"
     ]
    },
    {
     "name": "stdout",
     "output_type": "stream",
     "text": [
      "saved success! batch 185000000\n"
     ]
    },
    {
     "name": "stderr",
     "output_type": "stream",
     "text": [
      "100%|██████████| 200000/200000 [00:24<00:00, 8028.24it/s]\n",
      " 76%|███████▌  | 152179/200000 [00:18<00:05, 8139.68it/s]"
     ]
    },
    {
     "name": "stdout",
     "output_type": "stream",
     "text": [
      "saved success! batch 185800000\n"
     ]
    },
    {
     "name": "stderr",
     "output_type": "stream",
     "text": [
      " 89%|████████▉ | 178025/200000 [00:21<00:02, 8112.92it/s]"
     ]
    },
    {
     "name": "stdout",
     "output_type": "stream",
     "text": [
      "Processing batch 186000000...\n",
      "186000000 186200000\n"
     ]
    },
    {
     "name": "stderr",
     "output_type": "stream",
     "text": [
      "100%|██████████| 200000/200000 [00:24<00:00, 8108.33it/s]\n",
      " 89%|████████▉ | 178228/200000 [00:22<00:02, 8069.92it/s]"
     ]
    },
    {
     "name": "stdout",
     "output_type": "stream",
     "text": [
      "saved success! batch 186600000\n",
      "Processing batch 186800000...\n",
      "186800000 187000000\n"
     ]
    },
    {
     "name": "stderr",
     "output_type": "stream",
     "text": [
      "100%|██████████| 200000/200000 [00:24<00:00, 8018.46it/s]\n",
      " 85%|████████▍ | 169511/200000 [00:20<00:03, 8245.51it/s]"
     ]
    },
    {
     "name": "stdout",
     "output_type": "stream",
     "text": [
      "saved success! batch 187400000\n"
     ]
    },
    {
     "name": "stderr",
     "output_type": "stream",
     "text": [
      " 25%|██▍       | 49770/200000 [00:06<00:18, 8132.18it/s]"
     ]
    },
    {
     "name": "stdout",
     "output_type": "stream",
     "text": [
      "Processing batch 187600000...\n",
      "187600000 187800000\n"
     ]
    },
    {
     "name": "stderr",
     "output_type": "stream",
     "text": [
      "100%|██████████| 200000/200000 [00:24<00:00, 8128.13it/s]\n",
      " 29%|██▊       | 57225/200000 [00:07<00:17, 8166.74it/s]"
     ]
    },
    {
     "name": "stdout",
     "output_type": "stream",
     "text": [
      "saved success! batch 188200000\n"
     ]
    },
    {
     "name": "stderr",
     "output_type": "stream",
     "text": [
      " 16%|█▌        | 31753/200000 [00:03<00:20, 8186.17it/s]"
     ]
    },
    {
     "name": "stdout",
     "output_type": "stream",
     "text": [
      "Processing batch 188400000...\n",
      "188400000 188600000\n"
     ]
    },
    {
     "name": "stderr",
     "output_type": "stream",
     "text": [
      " 31%|███       | 61181/200000 [00:07<00:16, 8183.25it/s]]"
     ]
    },
    {
     "name": "stdout",
     "output_type": "stream",
     "text": [
      "Processing batch 189200000...\n",
      "189200000 189400000\n"
     ]
    },
    {
     "name": "stderr",
     "output_type": "stream",
     "text": [
      "100%|██████████| 200000/200000 [00:24<00:00, 8023.11it/s]\n",
      " 60%|█████▉    | 119230/200000 [00:14<00:09, 8151.07it/s]"
     ]
    },
    {
     "name": "stdout",
     "output_type": "stream",
     "text": [
      "saved success! batch 186000000\n"
     ]
    },
    {
     "name": "stderr",
     "output_type": "stream",
     "text": [
      "100%|██████████| 200000/200000 [00:24<00:00, 8056.48it/s]\n",
      " 72%|███████▏  | 144628/200000 [00:17<00:06, 8180.06it/s]"
     ]
    },
    {
     "name": "stdout",
     "output_type": "stream",
     "text": [
      "saved success! batch 186800000\n",
      "Processing batch 187000000...\n",
      "187000000 187200000\n"
     ]
    },
    {
     "name": "stderr",
     "output_type": "stream",
     "text": [
      "100%|██████████| 200000/200000 [00:24<00:00, 8037.92it/s]\n",
      " 12%|█▏        | 23438/200000 [00:02<00:21, 8109.45it/s]]"
     ]
    },
    {
     "name": "stdout",
     "output_type": "stream",
     "text": [
      "saved success! batch 187600000\n"
     ]
    },
    {
     "name": "stderr",
     "output_type": "stream",
     "text": [
      " 85%|████████▌ | 170807/200000 [00:21<00:03, 8114.49it/s]"
     ]
    },
    {
     "name": "stdout",
     "output_type": "stream",
     "text": [
      "Processing batch 187800000...\n",
      "187800000 188000000\n"
     ]
    },
    {
     "name": "stderr",
     "output_type": "stream",
     "text": [
      "100%|██████████| 200000/200000 [00:24<00:00, 8052.03it/s]\n",
      " 15%|█▌        | 30959/200000 [00:03<00:24, 6830.77it/s]]"
     ]
    },
    {
     "name": "stdout",
     "output_type": "stream",
     "text": [
      "saved success! batch 188400000\n"
     ]
    },
    {
     "name": "stderr",
     "output_type": "stream",
     "text": [
      " 88%|████████▊ | 175604/200000 [00:21<00:03, 8128.46it/s]"
     ]
    },
    {
     "name": "stdout",
     "output_type": "stream",
     "text": [
      "Processing batch 188600000...\n",
      "188600000 188800000\n"
     ]
    },
    {
     "name": "stderr",
     "output_type": "stream",
     "text": [
      "100%|██████████| 200000/200000 [00:24<00:00, 8101.05it/s]\n",
      " 13%|█▎        | 26052/200000 [00:03<00:21, 8162.64it/s]"
     ]
    },
    {
     "name": "stdout",
     "output_type": "stream",
     "text": [
      "saved success! batch 189200000\n",
      "Processing batch 189400000...\n",
      "189400000 189600000\n"
     ]
    },
    {
     "name": "stderr",
     "output_type": "stream",
     "text": [
      " 15%|█▌        | 30473/200000 [00:03<00:21, 8012.76it/s]]"
     ]
    },
    {
     "name": "stdout",
     "output_type": "stream",
     "text": [
      "Processing batch 190200000...\n",
      "190200000 190400000\n"
     ]
    },
    {
     "name": "stderr",
     "output_type": "stream",
     "text": [
      "100%|██████████| 200000/200000 [00:24<00:00, 8025.79it/s]\n",
      " 87%|████████▋ | 173049/200000 [00:21<00:03, 8142.13it/s]"
     ]
    },
    {
     "name": "stdout",
     "output_type": "stream",
     "text": [
      "saved success! batch 190800000\n"
     ]
    },
    {
     "name": "stderr",
     "output_type": "stream",
     "text": [
      " 59%|█████▉    | 118237/200000 [00:14<00:09, 8176.54it/s]"
     ]
    },
    {
     "name": "stdout",
     "output_type": "stream",
     "text": [
      "Processing batch 191000000...\n",
      "191000000 191200000\n"
     ]
    },
    {
     "name": "stderr",
     "output_type": "stream",
     "text": [
      "100%|██████████| 200000/200000 [00:24<00:00, 8068.89it/s]\n",
      " 88%|████████▊ | 175192/200000 [00:21<00:03, 8019.56it/s]"
     ]
    },
    {
     "name": "stdout",
     "output_type": "stream",
     "text": [
      "saved success! batch 191600000\n",
      "Processing batch 191800000...\n",
      "191800000"
     ]
    },
    {
     "name": "stderr",
     "output_type": "stream",
     "text": [
      " 74%|███████▍  | 148582/200000 [00:18<00:06, 8157.69it/s]"
     ]
    },
    {
     "name": "stdout",
     "output_type": "stream",
     "text": [
      " 192000000\n"
     ]
    },
    {
     "name": "stderr",
     "output_type": "stream",
     "text": [
      "100%|██████████| 200000/200000 [00:24<00:00, 8071.17it/s]\n",
      " 13%|█▎        | 26015/200000 [00:03<00:24, 6975.73it/s]]"
     ]
    },
    {
     "name": "stdout",
     "output_type": "stream",
     "text": [
      "saved success! batch 192400000"
     ]
    },
    {
     "name": "stderr",
     "output_type": "stream",
     "text": [
      " 89%|████████▊ | 177350/200000 [00:21<00:02, 8172.39it/s]"
     ]
    },
    {
     "name": "stdout",
     "output_type": "stream",
     "text": [
      "\n",
      "Processing batch 192600000...\n",
      "192600000 192800000\n"
     ]
    },
    {
     "name": "stderr",
     "output_type": "stream",
     "text": [
      "100%|██████████| 200000/200000 [00:24<00:00, 8118.08it/s]\n",
      " 26%|██▌       | 52079/200000 [00:06<00:18, 8114.61it/s]"
     ]
    },
    {
     "name": "stdout",
     "output_type": "stream",
     "text": [
      "saved success! batch 193200000\n",
      "Processing batch 193400000...\n",
      "193400000 193600000\n"
     ]
    },
    {
     "name": "stderr",
     "output_type": "stream",
     "text": [
      " 11%|█▏        | 22790/200000 [00:02<00:24, 7340.33it/s]]"
     ]
    },
    {
     "name": "stdout",
     "output_type": "stream",
     "text": [
      "Processing batch 194200000...\n",
      "194200000 194400000\n"
     ]
    },
    {
     "name": "stderr",
     "output_type": "stream",
     "text": [
      "100%|██████████| 200000/200000 [00:24<00:00, 8115.80it/s]\n",
      " 72%|███████▏  | 144140/200000 [00:17<00:06, 8124.41it/s]"
     ]
    },
    {
     "name": "stdout",
     "output_type": "stream",
     "text": [
      "saved success! batch 191000000\n"
     ]
    },
    {
     "name": "stderr",
     "output_type": "stream",
     "text": [
      "100%|██████████| 200000/200000 [00:24<00:00, 8024.75it/s]\n",
      " 75%|███████▌  | 150106/200000 [00:18<00:06, 8090.31it/s]"
     ]
    },
    {
     "name": "stdout",
     "output_type": "stream",
     "text": [
      "saved success! batch 191800000\n",
      "Processing batch 192000000...\n",
      "192000000 192200000\n"
     ]
    },
    {
     "name": "stderr",
     "output_type": "stream",
     "text": [
      "100%|██████████| 200000/200000 [00:24<00:00, 8092.56it/s]\n",
      " 12%|█▏        | 24564/200000 [00:03<00:21, 8166.73it/s]]"
     ]
    },
    {
     "name": "stdout",
     "output_type": "stream",
     "text": [
      "saved success! batch 192600000\n"
     ]
    },
    {
     "name": "stderr",
     "output_type": "stream",
     "text": [
      " 77%|███████▋  | 153640/200000 [00:18<00:05, 8242.72it/s]"
     ]
    },
    {
     "name": "stdout",
     "output_type": "stream",
     "text": [
      "Processing batch 192800000...\n",
      "192800000 193000000\n"
     ]
    },
    {
     "name": "stderr",
     "output_type": "stream",
     "text": [
      "100%|██████████| 200000/200000 [00:24<00:00, 8035.04it/s]\n",
      " 26%|██▋       | 52510/200000 [00:06<00:17, 8231.34it/s]]"
     ]
    },
    {
     "name": "stdout",
     "output_type": "stream",
     "text": [
      "saved success! batch 193400000\n",
      "Processing batch 193600000...\n",
      "193600000 193800000\n"
     ]
    },
    {
     "name": "stderr",
     "output_type": "stream",
     "text": [
      "100%|██████████| 200000/200000 [00:24<00:00, 8161.38it/s]\n",
      " 37%|███▋      | 73938/200000 [00:09<00:15, 7923.05it/s]"
     ]
    },
    {
     "name": "stdout",
     "output_type": "stream",
     "text": [
      "saved success! batch 194200000\n",
      "Processing batch 194400000...\n",
      "194400000 194600000\n"
     ]
    },
    {
     "name": "stderr",
     "output_type": "stream",
     "text": [
      " 15%|█▌        | 30909/200000 [00:03<00:20, 8112.64it/s]]"
     ]
    },
    {
     "name": "stdout",
     "output_type": "stream",
     "text": [
      "Processing batch 195200000..."
     ]
    },
    {
     "name": "stderr",
     "output_type": "stream",
     "text": [
      " 41%|████      | 81089/200000 [00:09<00:14, 8193.42it/s]"
     ]
    },
    {
     "name": "stdout",
     "output_type": "stream",
     "text": [
      "\n",
      "195200000 195400000\n"
     ]
    },
    {
     "name": "stderr",
     "output_type": "stream",
     "text": [
      "100%|██████████| 200000/200000 [00:24<00:00, 8127.87it/s]\n",
      " 63%|██████▎   | 125326/200000 [00:15<00:09, 8159.29it/s]"
     ]
    },
    {
     "name": "stdout",
     "output_type": "stream",
     "text": [
      "saved success! batch 192000000\n"
     ]
    },
    {
     "name": "stderr",
     "output_type": "stream",
     "text": [
      "100%|██████████| 200000/200000 [00:24<00:00, 8063.06it/s]\n",
      " 61%|██████    | 122281/200000 [00:14<00:09, 8275.34it/s]"
     ]
    },
    {
     "name": "stdout",
     "output_type": "stream",
     "text": [
      "saved success! batch 192800000\n"
     ]
    },
    {
     "name": "stderr",
     "output_type": "stream",
     "text": [
      " 77%|███████▋  | 153850/200000 [00:19<00:05, 8115.22it/s]"
     ]
    },
    {
     "name": "stdout",
     "output_type": "stream",
     "text": [
      "Processing batch 193000000...\n",
      "193000000 193200000\n"
     ]
    },
    {
     "name": "stderr",
     "output_type": "stream",
     "text": [
      "100%|██████████| 200000/200000 [00:24<00:00, 8090.91it/s]\n",
      " 74%|███████▍  | 148706/200000 [00:18<00:06, 8170.32it/s]"
     ]
    },
    {
     "name": "stdout",
     "output_type": "stream",
     "text": [
      "saved success! batch 193600000\n"
     ]
    },
    {
     "name": "stderr",
     "output_type": "stream",
     "text": [
      " 90%|█████████ | 180657/200000 [00:22<00:02, 8079.95it/s]"
     ]
    },
    {
     "name": "stdout",
     "output_type": "stream",
     "text": [
      "Processing batch 193800000...\n",
      "193800000 194000000\n"
     ]
    },
    {
     "name": "stderr",
     "output_type": "stream",
     "text": [
      "100%|██████████| 200000/200000 [00:24<00:00, 8023.89it/s]\n",
      " 11%|█         | 21054/200000 [00:02<00:21, 8149.55it/s]]"
     ]
    },
    {
     "name": "stdout",
     "output_type": "stream",
     "text": [
      "saved success! batch 194400000\n",
      "Processing batch 194600000...\n",
      "194600000 194800000\n"
     ]
    },
    {
     "name": "stderr",
     "output_type": "stream",
     "text": [
      "100%|██████████| 200000/200000 [00:24<00:00, 8159.98it/s]\n",
      " 13%|█▎        | 26146/200000 [00:03<00:21, 8204.81it/s]IOPub message rate exceeded.\n",
      "The Jupyter server will temporarily stop sending output\n",
      "to the client in order to avoid crashing it.\n",
      "To change this limit, set the config variable\n",
      "`--ServerApp.iopub_msg_rate_limit`.\n",
      "\n",
      "Current values:\n",
      "ServerApp.iopub_msg_rate_limit=1000.0 (msgs/sec)\n",
      "ServerApp.rate_limit_window=3.0 (secs)\n",
      "\n"
     ]
    }
   ],
   "source": [
    "\n",
    "# populate_occ_space(cosine_sim_long.loc[0])\n",
    "import pandas as pd\n",
    "import numpy as np\n",
    "import os\n",
    "from tqdm import tqdm\n",
    "from multiprocessing import Pool, cpu_count\n",
    "import math\n",
    "\n",
    "tqdm.pandas()\n",
    "larger_index = occ_space.columns\n",
    "\n",
    "def populate_occ_space(row):\n",
    "    i = row['i']\n",
    "    j = row['j']\n",
    "    v = row['Value']\n",
    "\n",
    "    # index_i = [x for x in combined_mapping.get(i, []) if (x != 'NA' and x != np.nan)]\n",
    "    # index_j = [x for x in combined_mapping.get(j, []) if (x != 'NA' and x != np.nan)]\n",
    "\n",
    "    index_i = combined_mapping.get(i, None) # We are sure it's one single value\n",
    "    index_j = combined_mapping.get(j, None)\n",
    "\n",
    "    # index_i = [x for x in index_i if x not in overlap] # avoid measuring similarity between an occupation and itself\n",
    "    # index_j = [x for x in index_j if x not in overlap]\n",
    "    \n",
    "    if index_i != index_j:\n",
    "        return {(index_i, index_j):v}\n",
    "    else:\n",
    "        return {(index_i, index_j):0} # a occ to itself should be 0 (was 1)\n",
    "\n",
    "def save_intermediate_results(df, filename, chunk_idx):\n",
    "    df.to_pickle(filename)\n",
    "    print(f\"saved success! batch {chunk_idx}\")\n",
    "\n",
    "def process_chunk(args):\n",
    "    df, chunk_idx, output_dir, batch_size = args\n",
    "    print(f\"Processing batch {chunk_idx}...\")\n",
    "    print(chunk_idx, chunk_idx+batch_size)\n",
    "    chunk = df[chunk_idx: chunk_idx+batch_size]\n",
    "    chunk_results = chunk.progress_apply(populate_occ_space, axis=1)\n",
    "    \n",
    "    combined_results = {}\n",
    "    \n",
    "    for result in chunk_results:\n",
    "        # print(result)\n",
    "        for key, values in result.items():\n",
    "            if key not in combined_results:\n",
    "                combined_results[key] = []\n",
    "            # print(combined_results)\n",
    "            # print(key)\n",
    "            combined_results[key].append(values)\n",
    "            \n",
    "    \n",
    "    result_df = pd.DataFrame(index=larger_index, columns=larger_index)\n",
    "    for (ii, jj), values in combined_results.items():\n",
    "        result_df.at[ii, jj] = values\n",
    "    # print(result_df)\n",
    "    # Save intermediate result\n",
    "    save_intermediate_results(result_df, os.path.join(output_dir, f\"occ_space_chunk_{chunk_idx}_{chunk_idx+batch_size}.pkl\"), chunk_idx)\n",
    "\n",
    "def run_parallel_processing(df, output_dir, batch_size):\n",
    "    if not os.path.exists(output_dir):\n",
    "        os.makedirs(output_dir)\n",
    "\n",
    "    # Determine starting index by checking existing files in the output directory\n",
    "    existing_files = [f for f in os.listdir(output_dir) if f.endswith('.pkl')]\n",
    "    start_idx = max([int(f.split('_')[-1].split('.')[0]) for f in existing_files], default=0)\n",
    "    print(start_idx)\n",
    "    \n",
    "        \n",
    "    # chunks = [df[i:i + batch_size] for i in range(0, len(df), batch_size)]\n",
    "    # for i in range(start_idx, len(df), batch_size):\n",
    "    #     process_chunk((cosine_sim_long, i, output_dir, batch_size))\n",
    "    with Pool(cpu_count()) as pool:\n",
    "        # Generate arguments for each chunk\n",
    "        args_list = [(df, i, output_dir, batch_size) for i in range(start_idx, len(df), batch_size)]\n",
    "        \n",
    "        # Use pool.map or pool.starmap to process chunks in parallel\n",
    "        pool.map(process_chunk, args_list)\n",
    "\n",
    "# def process_chunk(args):\n",
    "#     df, chunk_idx, output_dir, batch_size = args\n",
    "#     print(f\"Processing batch {chunk_idx}...\")\n",
    "#     chunk = df[chunk_idx: chunk_idx+batch_size]\n",
    "#     chunk_results = chunk.progress_apply(populate_occ_space, axis=1)\n",
    "    \n",
    "#     combined_results = {}\n",
    "#     for result in chunk_results:\n",
    "#         for key, values in result.items():\n",
    "#             if key not in combined_results:\n",
    "#                 combined_results[key] = []\n",
    "#             combined_results[key].extend(values)\n",
    "    \n",
    "#     result_df = pd.DataFrame(index=larger_index, columns=larger_index)\n",
    "#     for (ii, jj), values in combined_results.items():\n",
    "#         result_df.at[ii, jj] = values\n",
    "\n",
    "#     # Save intermediate result\n",
    "#     save_intermediate_results(result_df, os.path.join(output_dir, f\"occ_space_chunk_{chunk_idx}_{chunk_idx+batch_size}.pkl\"), chunk_idx)\n",
    "\n",
    "# def run_parallel_processing(df, output_dir, batch_size):\n",
    "#     if not os.path.exists(output_dir):\n",
    "#         os.makedirs(output_dir)\n",
    "\n",
    "#     # Determine starting index by checking existing files in the output directory\n",
    "#     existing_files = [f for f in os.listdir(output_dir) if f.endswith('.pkl')]\n",
    "#     start_idx = max([int(f.split('_')[-1].split('.')[0]) for f in existing_files], default=0)\n",
    "#     print(f\"Starting from index: {start_idx}\")\n",
    "\n",
    "#     # Prepare arguments for each chunk\n",
    "#     chunks = [(df, i, output_dir, batch_size) for i in range(start_idx, len(df), batch_size)]\n",
    "    \n",
    "#     # Process chunks in parallel\n",
    "#     with Pool(cpu_count()-2) as pool:\n",
    "#         pool.map(process_chunk, chunks)\n",
    "        \n",
    "output_dir = \"../int_data/occ_UK_modern_space_chunks\"\n",
    "import os \n",
    "os.makedirs(output_dir, exist_ok = True)\n",
    "# Run parallel processing and save intermediate results\n",
    "batch_size = 200000  # Customize batch size as needed\n",
    "run_parallel_processing(cosine_sim_long, \"../int_data/occ_UK_modern_space_chunks\", batch_size)\n"
   ]
  },
  {
   "cell_type": "code",
   "execution_count": 15,
   "id": "1c0200ef-d13d-4689-884e-c7a3f1c776ab",
   "metadata": {
    "scrolled": true
   },
   "outputs": [
    {
     "name": "stdout",
     "output_type": "stream",
     "text": [
      "1400\n"
     ]
    }
   ],
   "source": [
    "!ls -lha ../int_data/occ_UK_modern_space_chunks | wc -l"
   ]
  },
  {
   "cell_type": "code",
   "execution_count": 21,
   "id": "09f5bc87-1d6c-4700-9bfb-6102f5b53cc2",
   "metadata": {},
   "outputs": [
    {
     "data": {
      "text/html": [
       "<div>\n",
       "<style scoped>\n",
       "    .dataframe tbody tr th:only-of-type {\n",
       "        vertical-align: middle;\n",
       "    }\n",
       "\n",
       "    .dataframe tbody tr th {\n",
       "        vertical-align: top;\n",
       "    }\n",
       "\n",
       "    .dataframe thead th {\n",
       "        text-align: right;\n",
       "    }\n",
       "</style>\n",
       "<table border=\"1\" class=\"dataframe\">\n",
       "  <thead>\n",
       "    <tr style=\"text-align: right;\">\n",
       "      <th></th>\n",
       "      <th>2229</th>\n",
       "      <th>4511</th>\n",
       "      <th>8541</th>\n",
       "      <th>6420</th>\n",
       "      <th>2910</th>\n",
       "      <th>2790</th>\n",
       "      <th>2611</th>\n",
       "      <th>2670</th>\n",
       "      <th>7010</th>\n",
       "      <th>2599</th>\n",
       "      <th>...</th>\n",
       "      <th>9313</th>\n",
       "      <th>2895</th>\n",
       "      <th>1032</th>\n",
       "      <th>3012</th>\n",
       "      <th>8211</th>\n",
       "      <th>1711</th>\n",
       "      <th>4313</th>\n",
       "      <th>3821</th>\n",
       "      <th>9602</th>\n",
       "      <th>4742</th>\n",
       "    </tr>\n",
       "  </thead>\n",
       "  <tbody>\n",
       "    <tr>\n",
       "      <th>2229</th>\n",
       "      <td>[0]</td>\n",
       "      <td>[0.04936391003322059, 0.04936391003322059]</td>\n",
       "      <td>[0.29213688042969405, 0.3046378529362529, 0.32...</td>\n",
       "      <td>[0.3319596198881723, 0.2706337241843947, 0.119...</td>\n",
       "      <td>[0.2610989281138517]</td>\n",
       "      <td>[0.2506050054827682]</td>\n",
       "      <td>[0.2939515560952015]</td>\n",
       "      <td>[0.26226040752723656]</td>\n",
       "      <td>[0.28320555619350907, 0.3301280898070502, 0.28...</td>\n",
       "      <td>[0.26440134433618834, 0.027232947832882323]</td>\n",
       "      <td>...</td>\n",
       "      <td>NaN</td>\n",
       "      <td>NaN</td>\n",
       "      <td>NaN</td>\n",
       "      <td>NaN</td>\n",
       "      <td>NaN</td>\n",
       "      <td>NaN</td>\n",
       "      <td>NaN</td>\n",
       "      <td>NaN</td>\n",
       "      <td>NaN</td>\n",
       "      <td>NaN</td>\n",
       "    </tr>\n",
       "    <tr>\n",
       "      <th>4511</th>\n",
       "      <td>[0.03373876001201805, 0.03373876001201805]</td>\n",
       "      <td>[0]</td>\n",
       "      <td>[0.07225916412701, 0.07225916412701, 0.0320585...</td>\n",
       "      <td>[0.03229168418603133, 0.03229168418603133, 0.0...</td>\n",
       "      <td>[0.08303402767415663, 0.08303402767415663]</td>\n",
       "      <td>[0.06446583712203041, 0.06446583712203041]</td>\n",
       "      <td>[0.05358638221542433, 0.05358638221542433]</td>\n",
       "      <td>[0.04553825555391872, 0.04553825555391872]</td>\n",
       "      <td>[0.0512240832571883, 0.0512240832571883, 0.054...</td>\n",
       "      <td>[0.061213336778284, 0.061213336778284, 0.03940...</td>\n",
       "      <td>...</td>\n",
       "      <td>NaN</td>\n",
       "      <td>NaN</td>\n",
       "      <td>NaN</td>\n",
       "      <td>NaN</td>\n",
       "      <td>NaN</td>\n",
       "      <td>NaN</td>\n",
       "      <td>NaN</td>\n",
       "      <td>NaN</td>\n",
       "      <td>NaN</td>\n",
       "      <td>NaN</td>\n",
       "    </tr>\n",
       "    <tr>\n",
       "      <th>8541</th>\n",
       "      <td>[0.2218520483406697, 0.23849610500102938, 0.25...</td>\n",
       "      <td>NaN</td>\n",
       "      <td>[0, 0, 0, 0, 0, 0, 0, 0, 0, 0, 0, 0, 0, 0, 0, ...</td>\n",
       "      <td>[0.2221368342374281, 0.22693331481169007, 0.07...</td>\n",
       "      <td>[0.27551859640163806]</td>\n",
       "      <td>[0.24781876727588897]</td>\n",
       "      <td>[0.24665322784228697]</td>\n",
       "      <td>[0.23341012561230337]</td>\n",
       "      <td>[0.18309638693252667, 0.28646942197300634, 0.2...</td>\n",
       "      <td>[0.16719788795310583, 0.039863739436244994, 0....</td>\n",
       "      <td>...</td>\n",
       "      <td>NaN</td>\n",
       "      <td>NaN</td>\n",
       "      <td>NaN</td>\n",
       "      <td>NaN</td>\n",
       "      <td>NaN</td>\n",
       "      <td>NaN</td>\n",
       "      <td>NaN</td>\n",
       "      <td>NaN</td>\n",
       "      <td>NaN</td>\n",
       "      <td>NaN</td>\n",
       "    </tr>\n",
       "    <tr>\n",
       "      <th>6420</th>\n",
       "      <td>[0.25548338434548357, 0.22835812054213941, 0.1...</td>\n",
       "      <td>NaN</td>\n",
       "      <td>[0.2898626829050669, 0.24736358935544164, 0.24...</td>\n",
       "      <td>[0, 0, 0, 0, 0, 0, 0, 0, 0, 0, 0, 0, 0, 0, 0, ...</td>\n",
       "      <td>[0.2289837542989238, 0.2877487252319761]</td>\n",
       "      <td>[0.21857959757893766, 0.19634935692963826]</td>\n",
       "      <td>[0.2573961865119021, 0.235751864954589]</td>\n",
       "      <td>[0.2264580728764089, 0.25068728362225234]</td>\n",
       "      <td>[0.2856099913922434, 0.21726918342469245, 0.27...</td>\n",
       "      <td>[0.2698170574031917, 0.23616103983308534, 0.00...</td>\n",
       "      <td>...</td>\n",
       "      <td>NaN</td>\n",
       "      <td>NaN</td>\n",
       "      <td>NaN</td>\n",
       "      <td>NaN</td>\n",
       "      <td>NaN</td>\n",
       "      <td>NaN</td>\n",
       "      <td>NaN</td>\n",
       "      <td>NaN</td>\n",
       "      <td>NaN</td>\n",
       "      <td>NaN</td>\n",
       "    </tr>\n",
       "    <tr>\n",
       "      <th>2910</th>\n",
       "      <td>[0.19218050809153292]</td>\n",
       "      <td>NaN</td>\n",
       "      <td>[0.2310571485702003, 0.31230220201329423, 0.16...</td>\n",
       "      <td>[0.06633060067416169, 0.20273867474369198, 0.2...</td>\n",
       "      <td>NaN</td>\n",
       "      <td>[0.26978404842286835]</td>\n",
       "      <td>[0.2990059392656102]</td>\n",
       "      <td>[0.27527316339409497]</td>\n",
       "      <td>[0.2024590766658081, 0.2748543845162193, 0.248...</td>\n",
       "      <td>[0.22059308166327668, 0.07329277903578212]</td>\n",
       "      <td>...</td>\n",
       "      <td>NaN</td>\n",
       "      <td>NaN</td>\n",
       "      <td>NaN</td>\n",
       "      <td>NaN</td>\n",
       "      <td>NaN</td>\n",
       "      <td>NaN</td>\n",
       "      <td>NaN</td>\n",
       "      <td>NaN</td>\n",
       "      <td>NaN</td>\n",
       "      <td>NaN</td>\n",
       "    </tr>\n",
       "    <tr>\n",
       "      <th>...</th>\n",
       "      <td>...</td>\n",
       "      <td>...</td>\n",
       "      <td>...</td>\n",
       "      <td>...</td>\n",
       "      <td>...</td>\n",
       "      <td>...</td>\n",
       "      <td>...</td>\n",
       "      <td>...</td>\n",
       "      <td>...</td>\n",
       "      <td>...</td>\n",
       "      <td>...</td>\n",
       "      <td>...</td>\n",
       "      <td>...</td>\n",
       "      <td>...</td>\n",
       "      <td>...</td>\n",
       "      <td>...</td>\n",
       "      <td>...</td>\n",
       "      <td>...</td>\n",
       "      <td>...</td>\n",
       "      <td>...</td>\n",
       "      <td>...</td>\n",
       "    </tr>\n",
       "    <tr>\n",
       "      <th>1711</th>\n",
       "      <td>NaN</td>\n",
       "      <td>NaN</td>\n",
       "      <td>NaN</td>\n",
       "      <td>NaN</td>\n",
       "      <td>NaN</td>\n",
       "      <td>NaN</td>\n",
       "      <td>NaN</td>\n",
       "      <td>NaN</td>\n",
       "      <td>NaN</td>\n",
       "      <td>NaN</td>\n",
       "      <td>...</td>\n",
       "      <td>NaN</td>\n",
       "      <td>NaN</td>\n",
       "      <td>NaN</td>\n",
       "      <td>NaN</td>\n",
       "      <td>NaN</td>\n",
       "      <td>NaN</td>\n",
       "      <td>NaN</td>\n",
       "      <td>NaN</td>\n",
       "      <td>NaN</td>\n",
       "      <td>NaN</td>\n",
       "    </tr>\n",
       "    <tr>\n",
       "      <th>4313</th>\n",
       "      <td>NaN</td>\n",
       "      <td>NaN</td>\n",
       "      <td>NaN</td>\n",
       "      <td>NaN</td>\n",
       "      <td>NaN</td>\n",
       "      <td>NaN</td>\n",
       "      <td>NaN</td>\n",
       "      <td>NaN</td>\n",
       "      <td>NaN</td>\n",
       "      <td>NaN</td>\n",
       "      <td>...</td>\n",
       "      <td>NaN</td>\n",
       "      <td>NaN</td>\n",
       "      <td>NaN</td>\n",
       "      <td>NaN</td>\n",
       "      <td>NaN</td>\n",
       "      <td>NaN</td>\n",
       "      <td>NaN</td>\n",
       "      <td>NaN</td>\n",
       "      <td>NaN</td>\n",
       "      <td>NaN</td>\n",
       "    </tr>\n",
       "    <tr>\n",
       "      <th>3821</th>\n",
       "      <td>NaN</td>\n",
       "      <td>NaN</td>\n",
       "      <td>NaN</td>\n",
       "      <td>NaN</td>\n",
       "      <td>NaN</td>\n",
       "      <td>NaN</td>\n",
       "      <td>NaN</td>\n",
       "      <td>NaN</td>\n",
       "      <td>NaN</td>\n",
       "      <td>NaN</td>\n",
       "      <td>...</td>\n",
       "      <td>NaN</td>\n",
       "      <td>NaN</td>\n",
       "      <td>NaN</td>\n",
       "      <td>NaN</td>\n",
       "      <td>NaN</td>\n",
       "      <td>NaN</td>\n",
       "      <td>NaN</td>\n",
       "      <td>NaN</td>\n",
       "      <td>NaN</td>\n",
       "      <td>NaN</td>\n",
       "    </tr>\n",
       "    <tr>\n",
       "      <th>9602</th>\n",
       "      <td>NaN</td>\n",
       "      <td>NaN</td>\n",
       "      <td>NaN</td>\n",
       "      <td>NaN</td>\n",
       "      <td>NaN</td>\n",
       "      <td>NaN</td>\n",
       "      <td>NaN</td>\n",
       "      <td>NaN</td>\n",
       "      <td>NaN</td>\n",
       "      <td>NaN</td>\n",
       "      <td>...</td>\n",
       "      <td>NaN</td>\n",
       "      <td>NaN</td>\n",
       "      <td>NaN</td>\n",
       "      <td>NaN</td>\n",
       "      <td>NaN</td>\n",
       "      <td>NaN</td>\n",
       "      <td>NaN</td>\n",
       "      <td>NaN</td>\n",
       "      <td>NaN</td>\n",
       "      <td>NaN</td>\n",
       "    </tr>\n",
       "    <tr>\n",
       "      <th>4742</th>\n",
       "      <td>NaN</td>\n",
       "      <td>NaN</td>\n",
       "      <td>NaN</td>\n",
       "      <td>NaN</td>\n",
       "      <td>NaN</td>\n",
       "      <td>NaN</td>\n",
       "      <td>NaN</td>\n",
       "      <td>NaN</td>\n",
       "      <td>NaN</td>\n",
       "      <td>NaN</td>\n",
       "      <td>...</td>\n",
       "      <td>NaN</td>\n",
       "      <td>NaN</td>\n",
       "      <td>NaN</td>\n",
       "      <td>NaN</td>\n",
       "      <td>NaN</td>\n",
       "      <td>NaN</td>\n",
       "      <td>NaN</td>\n",
       "      <td>NaN</td>\n",
       "      <td>NaN</td>\n",
       "      <td>NaN</td>\n",
       "    </tr>\n",
       "  </tbody>\n",
       "</table>\n",
       "<p>393 rows × 393 columns</p>\n",
       "</div>"
      ],
      "text/plain": [
       "                                                   2229  \\\n",
       "2229                                                [0]   \n",
       "4511         [0.03373876001201805, 0.03373876001201805]   \n",
       "8541  [0.2218520483406697, 0.23849610500102938, 0.25...   \n",
       "6420  [0.25548338434548357, 0.22835812054213941, 0.1...   \n",
       "2910                              [0.19218050809153292]   \n",
       "...                                                 ...   \n",
       "1711                                                NaN   \n",
       "4313                                                NaN   \n",
       "3821                                                NaN   \n",
       "9602                                                NaN   \n",
       "4742                                                NaN   \n",
       "\n",
       "                                            4511  \\\n",
       "2229  [0.04936391003322059, 0.04936391003322059]   \n",
       "4511                                         [0]   \n",
       "8541                                         NaN   \n",
       "6420                                         NaN   \n",
       "2910                                         NaN   \n",
       "...                                          ...   \n",
       "1711                                         NaN   \n",
       "4313                                         NaN   \n",
       "3821                                         NaN   \n",
       "9602                                         NaN   \n",
       "4742                                         NaN   \n",
       "\n",
       "                                                   8541  \\\n",
       "2229  [0.29213688042969405, 0.3046378529362529, 0.32...   \n",
       "4511  [0.07225916412701, 0.07225916412701, 0.0320585...   \n",
       "8541  [0, 0, 0, 0, 0, 0, 0, 0, 0, 0, 0, 0, 0, 0, 0, ...   \n",
       "6420  [0.2898626829050669, 0.24736358935544164, 0.24...   \n",
       "2910  [0.2310571485702003, 0.31230220201329423, 0.16...   \n",
       "...                                                 ...   \n",
       "1711                                                NaN   \n",
       "4313                                                NaN   \n",
       "3821                                                NaN   \n",
       "9602                                                NaN   \n",
       "4742                                                NaN   \n",
       "\n",
       "                                                   6420  \\\n",
       "2229  [0.3319596198881723, 0.2706337241843947, 0.119...   \n",
       "4511  [0.03229168418603133, 0.03229168418603133, 0.0...   \n",
       "8541  [0.2221368342374281, 0.22693331481169007, 0.07...   \n",
       "6420  [0, 0, 0, 0, 0, 0, 0, 0, 0, 0, 0, 0, 0, 0, 0, ...   \n",
       "2910  [0.06633060067416169, 0.20273867474369198, 0.2...   \n",
       "...                                                 ...   \n",
       "1711                                                NaN   \n",
       "4313                                                NaN   \n",
       "3821                                                NaN   \n",
       "9602                                                NaN   \n",
       "4742                                                NaN   \n",
       "\n",
       "                                            2910  \\\n",
       "2229                        [0.2610989281138517]   \n",
       "4511  [0.08303402767415663, 0.08303402767415663]   \n",
       "8541                       [0.27551859640163806]   \n",
       "6420    [0.2289837542989238, 0.2877487252319761]   \n",
       "2910                                         NaN   \n",
       "...                                          ...   \n",
       "1711                                         NaN   \n",
       "4313                                         NaN   \n",
       "3821                                         NaN   \n",
       "9602                                         NaN   \n",
       "4742                                         NaN   \n",
       "\n",
       "                                            2790  \\\n",
       "2229                        [0.2506050054827682]   \n",
       "4511  [0.06446583712203041, 0.06446583712203041]   \n",
       "8541                       [0.24781876727588897]   \n",
       "6420  [0.21857959757893766, 0.19634935692963826]   \n",
       "2910                       [0.26978404842286835]   \n",
       "...                                          ...   \n",
       "1711                                         NaN   \n",
       "4313                                         NaN   \n",
       "3821                                         NaN   \n",
       "9602                                         NaN   \n",
       "4742                                         NaN   \n",
       "\n",
       "                                            2611  \\\n",
       "2229                        [0.2939515560952015]   \n",
       "4511  [0.05358638221542433, 0.05358638221542433]   \n",
       "8541                       [0.24665322784228697]   \n",
       "6420     [0.2573961865119021, 0.235751864954589]   \n",
       "2910                        [0.2990059392656102]   \n",
       "...                                          ...   \n",
       "1711                                         NaN   \n",
       "4313                                         NaN   \n",
       "3821                                         NaN   \n",
       "9602                                         NaN   \n",
       "4742                                         NaN   \n",
       "\n",
       "                                            2670  \\\n",
       "2229                       [0.26226040752723656]   \n",
       "4511  [0.04553825555391872, 0.04553825555391872]   \n",
       "8541                       [0.23341012561230337]   \n",
       "6420   [0.2264580728764089, 0.25068728362225234]   \n",
       "2910                       [0.27527316339409497]   \n",
       "...                                          ...   \n",
       "1711                                         NaN   \n",
       "4313                                         NaN   \n",
       "3821                                         NaN   \n",
       "9602                                         NaN   \n",
       "4742                                         NaN   \n",
       "\n",
       "                                                   7010  \\\n",
       "2229  [0.28320555619350907, 0.3301280898070502, 0.28...   \n",
       "4511  [0.0512240832571883, 0.0512240832571883, 0.054...   \n",
       "8541  [0.18309638693252667, 0.28646942197300634, 0.2...   \n",
       "6420  [0.2856099913922434, 0.21726918342469245, 0.27...   \n",
       "2910  [0.2024590766658081, 0.2748543845162193, 0.248...   \n",
       "...                                                 ...   \n",
       "1711                                                NaN   \n",
       "4313                                                NaN   \n",
       "3821                                                NaN   \n",
       "9602                                                NaN   \n",
       "4742                                                NaN   \n",
       "\n",
       "                                                   2599  ... 9313 2895 1032  \\\n",
       "2229        [0.26440134433618834, 0.027232947832882323]  ...  NaN  NaN  NaN   \n",
       "4511  [0.061213336778284, 0.061213336778284, 0.03940...  ...  NaN  NaN  NaN   \n",
       "8541  [0.16719788795310583, 0.039863739436244994, 0....  ...  NaN  NaN  NaN   \n",
       "6420  [0.2698170574031917, 0.23616103983308534, 0.00...  ...  NaN  NaN  NaN   \n",
       "2910         [0.22059308166327668, 0.07329277903578212]  ...  NaN  NaN  NaN   \n",
       "...                                                 ...  ...  ...  ...  ...   \n",
       "1711                                                NaN  ...  NaN  NaN  NaN   \n",
       "4313                                                NaN  ...  NaN  NaN  NaN   \n",
       "3821                                                NaN  ...  NaN  NaN  NaN   \n",
       "9602                                                NaN  ...  NaN  NaN  NaN   \n",
       "4742                                                NaN  ...  NaN  NaN  NaN   \n",
       "\n",
       "     3012 8211 1711 4313 3821 9602 4742  \n",
       "2229  NaN  NaN  NaN  NaN  NaN  NaN  NaN  \n",
       "4511  NaN  NaN  NaN  NaN  NaN  NaN  NaN  \n",
       "8541  NaN  NaN  NaN  NaN  NaN  NaN  NaN  \n",
       "6420  NaN  NaN  NaN  NaN  NaN  NaN  NaN  \n",
       "2910  NaN  NaN  NaN  NaN  NaN  NaN  NaN  \n",
       "...   ...  ...  ...  ...  ...  ...  ...  \n",
       "1711  NaN  NaN  NaN  NaN  NaN  NaN  NaN  \n",
       "4313  NaN  NaN  NaN  NaN  NaN  NaN  NaN  \n",
       "3821  NaN  NaN  NaN  NaN  NaN  NaN  NaN  \n",
       "9602  NaN  NaN  NaN  NaN  NaN  NaN  NaN  \n",
       "4742  NaN  NaN  NaN  NaN  NaN  NaN  NaN  \n",
       "\n",
       "[393 rows x 393 columns]"
      ]
     },
     "execution_count": 21,
     "metadata": {},
     "output_type": "execute_result"
    }
   ],
   "source": [
    "import pickle\n",
    "\n",
    "with open('../int_data/occ_UK_modern_space_chunks/occ_space_chunk_0_200000.pkl', 'rb') as f:\n",
    "    temp = pickle.load(f)\n",
    "temp"
   ]
  },
  {
   "cell_type": "code",
   "execution_count": 17,
   "id": "604cf7bd-038a-456c-9df8-f14ef4711729",
   "metadata": {
    "scrolled": true
   },
   "outputs": [
    {
     "ename": "NameError",
     "evalue": "name 'print_ram_usage' is not defined",
     "output_type": "error",
     "traceback": [
      "\u001b[0;31m---------------------------------------------------------------------------\u001b[0m",
      "\u001b[0;31mNameError\u001b[0m                                 Traceback (most recent call last)",
      "Cell \u001b[0;32mIn[17], line 3\u001b[0m\n\u001b[1;32m      1\u001b[0m \u001b[38;5;28;01mimport\u001b[39;00m \u001b[38;5;21;01mgc\u001b[39;00m\n\u001b[1;32m      2\u001b[0m gc\u001b[38;5;241m.\u001b[39mcollect()\n\u001b[0;32m----> 3\u001b[0m print_ram_usage(), cpu_count()\n",
      "\u001b[0;31mNameError\u001b[0m: name 'print_ram_usage' is not defined"
     ]
    }
   ],
   "source": [
    "import gc\n",
    "gc.collect()\n",
    "print_ram_usage(), cpu_count()"
   ]
  },
  {
   "cell_type": "markdown",
   "id": "c4c43921-f8c0-4d22-91be-f5cc836c90c7",
   "metadata": {},
   "source": [
    "### Concatenate"
   ]
  },
  {
   "cell_type": "code",
   "execution_count": 26,
   "id": "de442da0-7dbf-43ad-bbd7-c58d60aa68c1",
   "metadata": {},
   "outputs": [
    {
     "name": "stdout",
     "output_type": "stream",
     "text": [
      "read complete\n",
      "final_matrix done\n"
     ]
    },
    {
     "name": "stderr",
     "output_type": "stream",
     "text": [
      "/tmp/ipykernel_14667/56517930.py:28: FutureWarning: DataFrame.applymap has been deprecated. Use DataFrame.map instead.\n",
      "  mean_matrix = final_matrix.applymap(lambda x: np.mean(x) if x else 0)\n"
     ]
    },
    {
     "name": "stdout",
     "output_type": "stream",
     "text": [
      "mean_matrix created\n",
      "lower triangle in mean_matrix eliminated\n",
      "long_table created\n",
      "      2229      4511      8541      6420      2910      2790      2611  \\\n",
      "2229   0.0  0.191119  0.215000  0.226582  0.235088  0.228554  0.230038   \n",
      "4511   0.0  0.000000  0.178332  0.191924  0.196777  0.191224  0.191347   \n",
      "8541   0.0  0.000000  0.000000  0.213397  0.215805  0.220058  0.218434   \n",
      "6420   0.0  0.000000  0.000000  0.000000  0.233092  0.226192  0.227732   \n",
      "2910   0.0  0.000000  0.000000  0.000000  0.000000  0.232887  0.236732   \n",
      "...    ...       ...       ...       ...       ...       ...       ...   \n",
      "1711   0.0  0.000000  0.000000  0.000000  0.000000  0.000000  0.000000   \n",
      "4313   0.0  0.000000  0.000000  0.000000  0.000000  0.000000  0.000000   \n",
      "3821   0.0  0.000000  0.000000  0.000000  0.000000  0.000000  0.000000   \n",
      "9602   0.0  0.000000  0.000000  0.000000  0.000000  0.000000  0.000000   \n",
      "4742   0.0  0.000000  0.000000  0.000000  0.000000  0.000000  0.000000   \n",
      "\n",
      "          2670      7010      2599  ...      9313      2895      1032  \\\n",
      "2229  0.233459  0.227250  0.232293  ...  0.222261  0.058505  0.237194   \n",
      "4511  0.192747  0.190037  0.194082  ...  0.198681  0.064342  0.191041   \n",
      "8541  0.225604  0.216953  0.221643  ...  0.250647  0.065897  0.220932   \n",
      "6420  0.228696  0.223973  0.229602  ...  0.225456  0.057654  0.234015   \n",
      "2910  0.236714  0.231070  0.236810  ...  0.221658  0.053460  0.246966   \n",
      "...        ...       ...       ...  ...       ...       ...       ...   \n",
      "1711  0.000000  0.000000  0.000000  ...  0.000000  0.000000  0.000000   \n",
      "4313  0.000000  0.000000  0.000000  ...  0.000000  0.000000  0.000000   \n",
      "3821  0.000000  0.000000  0.000000  ...  0.000000  0.000000  0.000000   \n",
      "9602  0.000000  0.000000  0.000000  ...  0.000000  0.000000  0.000000   \n",
      "4742  0.000000  0.000000  0.000000  ...  0.000000  0.000000  0.000000   \n",
      "\n",
      "          3012      8211      1711      4313      3821      9602      4742  \n",
      "2229  0.207654  0.245035  0.224782  0.261852  0.250135  0.241231  0.229383  \n",
      "4511  0.175803  0.186286  0.177806  0.217031  0.209367  0.187210  0.169724  \n",
      "8541  0.228506  0.257279  0.239960  0.239387  0.235158  0.246693  0.239094  \n",
      "6420  0.208581  0.232941  0.217894  0.257700  0.249157  0.230055  0.216636  \n",
      "2910  0.209529  0.234722  0.217383  0.266051  0.269559  0.231820  0.218867  \n",
      "...        ...       ...       ...       ...       ...       ...       ...  \n",
      "1711  0.000000  0.000000  0.000000  0.227885  0.247396  0.285698  0.277914  \n",
      "4313  0.000000  0.000000  0.000000  0.000000  0.252920  0.254732  0.247066  \n",
      "3821  0.000000  0.000000  0.000000  0.000000  0.000000  0.235990  0.226899  \n",
      "9602  0.000000  0.000000  0.000000  0.000000  0.000000  0.000000  0.372541  \n",
      "4742  0.000000  0.000000  0.000000  0.000000  0.000000  0.000000  0.000000  \n",
      "\n",
      "[393 rows x 393 columns]\n"
     ]
    },
    {
     "data": {
      "text/html": [
       "<div>\n",
       "<style scoped>\n",
       "    .dataframe tbody tr th:only-of-type {\n",
       "        vertical-align: middle;\n",
       "    }\n",
       "\n",
       "    .dataframe tbody tr th {\n",
       "        vertical-align: top;\n",
       "    }\n",
       "\n",
       "    .dataframe thead th {\n",
       "        text-align: right;\n",
       "    }\n",
       "</style>\n",
       "<table border=\"1\" class=\"dataframe\">\n",
       "  <thead>\n",
       "    <tr style=\"text-align: right;\">\n",
       "      <th></th>\n",
       "      <th>occ_i</th>\n",
       "      <th>occ_j</th>\n",
       "      <th>Value</th>\n",
       "    </tr>\n",
       "  </thead>\n",
       "  <tbody>\n",
       "    <tr>\n",
       "      <th>0</th>\n",
       "      <td>2229</td>\n",
       "      <td>4511</td>\n",
       "      <td>0.191119</td>\n",
       "    </tr>\n",
       "    <tr>\n",
       "      <th>1</th>\n",
       "      <td>2229</td>\n",
       "      <td>8541</td>\n",
       "      <td>0.215000</td>\n",
       "    </tr>\n",
       "    <tr>\n",
       "      <th>2</th>\n",
       "      <td>4511</td>\n",
       "      <td>8541</td>\n",
       "      <td>0.178332</td>\n",
       "    </tr>\n",
       "    <tr>\n",
       "      <th>3</th>\n",
       "      <td>2229</td>\n",
       "      <td>6420</td>\n",
       "      <td>0.226582</td>\n",
       "    </tr>\n",
       "    <tr>\n",
       "      <th>4</th>\n",
       "      <td>4511</td>\n",
       "      <td>6420</td>\n",
       "      <td>0.191924</td>\n",
       "    </tr>\n",
       "    <tr>\n",
       "      <th>...</th>\n",
       "      <td>...</td>\n",
       "      <td>...</td>\n",
       "      <td>...</td>\n",
       "    </tr>\n",
       "    <tr>\n",
       "      <th>77020</th>\n",
       "      <td>8211</td>\n",
       "      <td>4742</td>\n",
       "      <td>0.356586</td>\n",
       "    </tr>\n",
       "    <tr>\n",
       "      <th>77021</th>\n",
       "      <td>1711</td>\n",
       "      <td>4742</td>\n",
       "      <td>0.277914</td>\n",
       "    </tr>\n",
       "    <tr>\n",
       "      <th>77022</th>\n",
       "      <td>4313</td>\n",
       "      <td>4742</td>\n",
       "      <td>0.247066</td>\n",
       "    </tr>\n",
       "    <tr>\n",
       "      <th>77023</th>\n",
       "      <td>3821</td>\n",
       "      <td>4742</td>\n",
       "      <td>0.226899</td>\n",
       "    </tr>\n",
       "    <tr>\n",
       "      <th>77024</th>\n",
       "      <td>9602</td>\n",
       "      <td>4742</td>\n",
       "      <td>0.372541</td>\n",
       "    </tr>\n",
       "  </tbody>\n",
       "</table>\n",
       "<p>77025 rows × 3 columns</p>\n",
       "</div>"
      ],
      "text/plain": [
       "       occ_i occ_j     Value\n",
       "0       2229  4511  0.191119\n",
       "1       2229  8541  0.215000\n",
       "2       4511  8541  0.178332\n",
       "3       2229  6420  0.226582\n",
       "4       4511  6420  0.191924\n",
       "...      ...   ...       ...\n",
       "77020   8211  4742  0.356586\n",
       "77021   1711  4742  0.277914\n",
       "77022   4313  4742  0.247066\n",
       "77023   3821  4742  0.226899\n",
       "77024   9602  4742  0.372541\n",
       "\n",
       "[77025 rows x 3 columns]"
      ]
     },
     "execution_count": 26,
     "metadata": {},
     "output_type": "execute_result"
    }
   ],
   "source": [
    "import os\n",
    "import pandas as pd\n",
    "import numpy as np\n",
    "\n",
    "# Assuming larger_index is already defined\n",
    "larger_index = occ_space.columns\n",
    "\n",
    "def read_intermediate_results(directory):\n",
    "    all_files = [os.path.join(directory, f) for f in os.listdir(directory) if f.endswith('.pkl')]\n",
    "    dataframes = [pd.read_pickle(file) for file in all_files]\n",
    "    return dataframes\n",
    "\n",
    "def combine_results(dataframes, larger_index):\n",
    "    final_matrix = pd.DataFrame([[[] for _ in range(len(larger_index))] for _ in range(len(larger_index))],\n",
    "                                index=larger_index, columns=larger_index)\n",
    "    \n",
    "    for df in dataframes:\n",
    "        for i in df.index:\n",
    "            for j in df.columns:\n",
    "                if isinstance(df.at[i, j], list):\n",
    "                    final_matrix.at[i, j].extend(df.at[i, j])\n",
    "                    final_matrix.at[j, i].extend(df.at[i, j])\n",
    "    # TO-DO: cuurent time complexity O(N * N), could reduce to (N * N /2) by storing visited indexes and columns and populating only the upper triangle\n",
    "    \n",
    "    return final_matrix\n",
    "\n",
    "def compute_mean_matrix(final_matrix):\n",
    "    mean_matrix = final_matrix.applymap(lambda x: np.mean(x) if x else 0)\n",
    "    return mean_matrix\n",
    "\n",
    "def post_process_mean_matrix(mean_matrix):\n",
    "    # Eliminate lower triangle\n",
    "    for i in range(mean_matrix.shape[0]):\n",
    "        for j in range(i + 1, mean_matrix.shape[1]):\n",
    "            mean_matrix.iat[j, i] = 0\n",
    "    \n",
    "    return mean_matrix\n",
    "\n",
    "def melt_to_long_table(matrix):\n",
    "    long_table = matrix.reset_index().melt(id_vars=['index'], var_name='Column', value_name='Value')\n",
    "    long_table = long_table[long_table['Value'] != 0].reset_index(drop = True).rename(columns = {'index': 'occ_i', 'Column':'occ_j'})  # Remove zero values if necessary\n",
    "    return long_table\n",
    "\n",
    "# Read the intermediate results\n",
    "dataframes = read_intermediate_results(\"../int_data/occ_UK_modern_space_chunks\")\n",
    "print(\"read complete\")\n",
    "# Combine the results into the final matrix\n",
    "final_matrix = combine_results(dataframes, larger_index)\n",
    "print(\"final_matrix done\")\n",
    "# Compute the mean matrix\n",
    "mean_matrix = compute_mean_matrix(final_matrix)\n",
    "print(\"mean_matrix created\")\n",
    "# Post-process to eliminate the lower triangle\n",
    "mean_matrix = post_process_mean_matrix(mean_matrix)\n",
    "print(\"lower triangle in mean_matrix eliminated\")\n",
    "# Optional: Melt to long table\n",
    "long_table = melt_to_long_table(mean_matrix)\n",
    "print(\"long_table created\")\n",
    "# Print to verify the mean matrix\n",
    "print(mean_matrix)\n",
    "\n",
    "# Print to verify the long table\n",
    "long_table\n"
   ]
  },
  {
   "cell_type": "code",
   "execution_count": 27,
   "id": "3abb8fbf-8253-4eea-8359-31f8839e520a",
   "metadata": {},
   "outputs": [],
   "source": [
    "mean_matrix.to_csv('../final_data/UK_modern_mean_matrix_393_393.csv', index = False)\n",
    "long_table.to_csv('../final_data/UK_modern_long_table_77025.csv', index = False)"
   ]
  },
  {
   "cell_type": "code",
   "execution_count": 28,
   "id": "5dc6ac8d-1719-47d8-b1e6-5c1032283478",
   "metadata": {},
   "outputs": [
    {
     "name": "stdout",
     "output_type": "stream",
     "text": [
      "Is the matrix upper triangular? True\n"
     ]
    },
    {
     "data": {
      "text/plain": [
       "(392, 392, <Axes: >)"
      ]
     },
     "execution_count": 28,
     "metadata": {},
     "output_type": "execute_result"
    },
    {
     "data": {
      "image/png": "[encoded data removed]",
      "text/plain": [
       "<Figure size 640x480 with 1 Axes>"
      ]
     },
     "metadata": {},
     "output_type": "display_data"
    }
   ],
   "source": [
    "# Check if the matrix is upper triangular\n",
    "is_upper_triangular = np.allclose(mean_matrix.values, np.triu(mean_matrix.values))\n",
    "\n",
    "# Print the result\n",
    "print(\"Is the matrix upper triangular?\", is_upper_triangular)\n",
    "mean_matrix\n",
    "# unique values and distribution\n",
    "long_table.occ_i.nunique(), long_table.occ_j.nunique(), long_table.Value.hist(bins = 100)"
   ]
  },
  {
   "cell_type": "code",
   "execution_count": 32,
   "id": "fb7b1540-7f64-4f21-911b-93fd1aa3ab5a",
   "metadata": {},
   "outputs": [
    {
     "data": {
      "image/png": "[encoded data removed]",
      "text/plain": [
       "<Figure size 1000x600 with 1 Axes>"
      ]
     },
     "metadata": {},
     "output_type": "display_data"
    },
    {
     "name": "stdout",
     "output_type": "stream",
     "text": [
      "Unique occ_i: 392\n",
      "Unique occ_j: 392\n",
      "Histogram saved as ../figs_tabs/UK_modern_value_dist.png\n"
     ]
    }
   ],
   "source": [
    "# .save(\"../figs_tabs/value_dist.png\")\n",
    "import pandas as pd\n",
    "import matplotlib.pyplot as plt\n",
    "\n",
    "# Assuming long_table is your DataFrame\n",
    "# Compute the unique counts\n",
    "occ_i_unique = long_table.occ_i.nunique()\n",
    "occ_j_unique = long_table.occ_j.nunique()\n",
    "\n",
    "# Plot and save the histogram for Value column\n",
    "plt.figure(figsize=(10, 6))\n",
    "plt.hist(long_table['Value'], bins=100, edgecolor='k')\n",
    "plt.title('Histogram of Values')\n",
    "plt.xlabel('Value')\n",
    "plt.ylabel('Frequency')\n",
    "plt.grid(True)\n",
    "plt.savefig(fig_path)\n",
    "plt.show()\n",
    "fig_path = '../figs_tabs/UK_modern_value_dist.png'\n",
    "\n",
    "plt.close()\n",
    "\n",
    "\n",
    "print(f\"Unique occ_i: {occ_i_unique}\")\n",
    "print(f\"Unique occ_j: {occ_j_unique}\")\n",
    "print(f\"Histogram saved as {fig_path}\")\n"
   ]
  },
  {
   "cell_type": "code",
   "execution_count": 10,
   "id": "e2b88624-4515-4a43-8393-fad1523500c0",
   "metadata": {},
   "outputs": [
    {
     "name": "stdout",
     "output_type": "stream",
     "text": [
      "1189\n"
     ]
    }
   ],
   "source": [
    "!ls -lha ../int_data/occ_space_chunks/occ_space_chunk* | wc -l"
   ]
  },
  {
   "cell_type": "markdown",
   "id": "fe868a25-1350-4982-8088-156438effc8d",
   "metadata": {},
   "source": [
    "# Start (depcrecated)"
   ]
  },
  {
   "cell_type": "code",
   "execution_count": 27,
   "id": "b308b3ed-d618-4540-9716-82866b9c6247",
   "metadata": {},
   "outputs": [
    {
     "ename": "KeyboardInterrupt",
     "evalue": "",
     "output_type": "error",
     "traceback": [
      "\u001b[0;31m---------------------------------------------------------------------------\u001b[0m",
      "\u001b[0;31mKeyboardInterrupt\u001b[0m                         Traceback (most recent call last)",
      "File \u001b[0;32m<timed exec>:16\u001b[0m\n",
      "File \u001b[0;32m<timed exec>:16\u001b[0m, in \u001b[0;36m<listcomp>\u001b[0;34m(.0)\u001b[0m\n",
      "\u001b[0;31mKeyboardInterrupt\u001b[0m: "
     ]
    }
   ],
   "source": [
    "# %%time\n",
    "# # 14.1 s for 2000 * 2000\n",
    "# import numpy as np\n",
    "# import pandas as pd\n",
    "\n",
    "# # Number of unique i and j indices\n",
    "# n = 20000\n",
    "\n",
    "# # Generate random similarity values for the full matrix\n",
    "# values = np.random.rand(n, n)\n",
    "\n",
    "# # Create a DataFrame with all (i, j) pairs\n",
    "# data = {\n",
    "#     'i': np.repeat(np.arange(n), n),\n",
    "#     'j': np.tile(np.arange(n), n),\n",
    "#     'Value': values.flatten(),\n",
    "#     'patent_id_i': [f'GB{np.random.randint(100000000, 999999999)}' for _ in range(n*n)],\n",
    "#     'patent_id_j': [f'GB{np.random.randint(100000000, 999999999)}' for _ in range(n*n)]\n",
    "# }\n",
    "\n",
    "# df = pd.DataFrame(data)\n"
   ]
  },
  {
   "cell_type": "code",
   "execution_count": 18,
   "id": "1f92d197-1d42-47cb-8a28-b88561226c11",
   "metadata": {},
   "outputs": [
    {
     "ename": "NameError",
     "evalue": "name 'df' is not defined",
     "output_type": "error",
     "traceback": [
      "\u001b[0;31m---------------------------------------------------------------------------\u001b[0m",
      "\u001b[0;31mNameError\u001b[0m                                 Traceback (most recent call last)",
      "Cell \u001b[0;32mIn[18], line 3\u001b[0m\n\u001b[1;32m      1\u001b[0m \u001b[38;5;66;03m# %%time\u001b[39;00m\n\u001b[1;32m      2\u001b[0m \u001b[38;5;66;03m# # Convert to NumPy array\u001b[39;00m\n\u001b[0;32m----> 3\u001b[0m cosine_sim_long \u001b[38;5;241m=\u001b[39m df[[\u001b[38;5;124m'\u001b[39m\u001b[38;5;124mi\u001b[39m\u001b[38;5;124m'\u001b[39m, \u001b[38;5;124m'\u001b[39m\u001b[38;5;124mj\u001b[39m\u001b[38;5;124m'\u001b[39m, \u001b[38;5;124m'\u001b[39m\u001b[38;5;124mValue\u001b[39m\u001b[38;5;124m'\u001b[39m]]\u001b[38;5;241m.\u001b[39mto_numpy()\n",
      "\u001b[0;31mNameError\u001b[0m: name 'df' is not defined"
     ]
    }
   ],
   "source": [
    "# %%time\n",
    "# # Convert to NumPy array\n",
    "# cosine_sim_long = df[['i', 'j', 'Value']].to_numpy()"
   ]
  },
  {
   "cell_type": "code",
   "execution_count": 19,
   "id": "920ba3cb-119d-45ec-8dee-07fe2d610eab",
   "metadata": {},
   "outputs": [
    {
     "name": "stdout",
     "output_type": "stream",
     "text": [
      "CPU times: user 18.9 s, sys: 18.1 s, total: 37 s\n",
      "Wall time: 36.9 s\n"
     ]
    }
   ],
   "source": [
    "%%time\n",
    "# Convert to NumPy array\n",
    "cosine_sim_long = cosine_sim_long[['i', 'j', 'Value']].to_numpy()"
   ]
  },
  {
   "cell_type": "code",
   "execution_count": 20,
   "id": "8c311017-7ebb-45f2-a625-f1b562daf6da",
   "metadata": {},
   "outputs": [
    {
     "name": "stdout",
     "output_type": "stream",
     "text": [
      "[0] RAM Usage: 97111.00 MB\n",
      "CPU times: user 22.3 s, sys: 9.39 s, total: 31.7 s\n",
      "Wall time: 31.7 s\n"
     ]
    }
   ],
   "source": [
    "%%time\n",
    "\n",
    "# Get the upper triangle (i < j)\n",
    "upper = cosine_sim_long[cosine_sim_long[:, 0] < cosine_sim_long[:, 1]]\n",
    "\n",
    "# Get the lower triangle (i > j)\n",
    "lower = cosine_sim_long[cosine_sim_long[:, 0] > cosine_sim_long[:, 1]]\n",
    "\n",
    "# Flip i and j in the lower triangle\n",
    "lower_flipped = lower.copy()\n",
    "lower_flipped[:, [0, 1]] = lower_flipped[:, [1, 0]]\n",
    "print_ram_usage()"
   ]
  },
  {
   "cell_type": "code",
   "execution_count": 21,
   "id": "d80ed518-76fa-44f4-9dde-26e59badbbae",
   "metadata": {},
   "outputs": [
    {
     "name": "stdout",
     "output_type": "stream",
     "text": [
      "[0] RAM Usage: 108309.55 MB\n",
      "CPU times: user 4.22 s, sys: 5.54 s, total: 9.77 s\n",
      "Wall time: 9.73 s\n"
     ]
    }
   ],
   "source": [
    "%%time\n",
    "# Combine the triangles\n",
    "combined = np.concatenate((upper, lower_flipped), axis=0)\n",
    "\n",
    "# Sum the values of the combined triangles by (i, j)\n",
    "# Create a DataFrame for easier aggregation\n",
    "combined_df = pd.DataFrame(combined, columns=['i', 'j', 'Value'])\n",
    "print_ram_usage()\n"
   ]
  },
  {
   "cell_type": "code",
   "execution_count": 22,
   "id": "04233b9c-ae2d-4bfa-b1ac-0fe66c436a94",
   "metadata": {},
   "outputs": [
    {
     "data": {
      "text/plain": [
       "((244636140, 3), (244636140, 3))"
      ]
     },
     "execution_count": 22,
     "metadata": {},
     "output_type": "execute_result"
    }
   ],
   "source": [
    "upper.shape, lower.shape"
   ]
  },
  {
   "cell_type": "code",
   "execution_count": 23,
   "id": "2a6549c7-73e7-4777-86e1-283f0a8ea4f2",
   "metadata": {},
   "outputs": [
    {
     "name": "stdout",
     "output_type": "stream",
     "text": [
      "[0] RAM Usage: 121435.66 MB\n",
      "CPU times: user 3min 33s, sys: 24.2 s, total: 3min 57s\n",
      "Wall time: 3min 57s\n"
     ]
    },
    {
     "data": {
      "text/html": [
       "<div>\n",
       "<style scoped>\n",
       "    .dataframe tbody tr th:only-of-type {\n",
       "        vertical-align: middle;\n",
       "    }\n",
       "\n",
       "    .dataframe tbody tr th {\n",
       "        vertical-align: top;\n",
       "    }\n",
       "\n",
       "    .dataframe thead th {\n",
       "        text-align: right;\n",
       "    }\n",
       "</style>\n",
       "<table border=\"1\" class=\"dataframe\">\n",
       "  <thead>\n",
       "    <tr style=\"text-align: right;\">\n",
       "      <th></th>\n",
       "      <th>i</th>\n",
       "      <th>j</th>\n",
       "      <th>Value</th>\n",
       "    </tr>\n",
       "  </thead>\n",
       "  <tbody>\n",
       "    <tr>\n",
       "      <th>0</th>\n",
       "      <td>0</td>\n",
       "      <td>1</td>\n",
       "      <td>0.178727</td>\n",
       "    </tr>\n",
       "    <tr>\n",
       "      <th>1</th>\n",
       "      <td>0</td>\n",
       "      <td>2</td>\n",
       "      <td>0.398073</td>\n",
       "    </tr>\n",
       "    <tr>\n",
       "      <th>2</th>\n",
       "      <td>0</td>\n",
       "      <td>3</td>\n",
       "      <td>0.464152</td>\n",
       "    </tr>\n",
       "    <tr>\n",
       "      <th>3</th>\n",
       "      <td>0</td>\n",
       "      <td>4</td>\n",
       "      <td>0.103452</td>\n",
       "    </tr>\n",
       "    <tr>\n",
       "      <th>4</th>\n",
       "      <td>0</td>\n",
       "      <td>5</td>\n",
       "      <td>0.045775</td>\n",
       "    </tr>\n",
       "    <tr>\n",
       "      <th>...</th>\n",
       "      <td>...</td>\n",
       "      <td>...</td>\n",
       "      <td>...</td>\n",
       "    </tr>\n",
       "    <tr>\n",
       "      <th>244636135</th>\n",
       "      <td>22116</td>\n",
       "      <td>22118</td>\n",
       "      <td>0.389079</td>\n",
       "    </tr>\n",
       "    <tr>\n",
       "      <th>244636136</th>\n",
       "      <td>22116</td>\n",
       "      <td>22119</td>\n",
       "      <td>0.440638</td>\n",
       "    </tr>\n",
       "    <tr>\n",
       "      <th>244636137</th>\n",
       "      <td>22117</td>\n",
       "      <td>22118</td>\n",
       "      <td>0.452911</td>\n",
       "    </tr>\n",
       "    <tr>\n",
       "      <th>244636138</th>\n",
       "      <td>22117</td>\n",
       "      <td>22119</td>\n",
       "      <td>0.518816</td>\n",
       "    </tr>\n",
       "    <tr>\n",
       "      <th>244636139</th>\n",
       "      <td>22118</td>\n",
       "      <td>22119</td>\n",
       "      <td>0.400617</td>\n",
       "    </tr>\n",
       "  </tbody>\n",
       "</table>\n",
       "<p>244636140 rows × 3 columns</p>\n",
       "</div>"
      ],
      "text/plain": [
       "               i      j     Value\n",
       "0              0      1  0.178727\n",
       "1              0      2  0.398073\n",
       "2              0      3  0.464152\n",
       "3              0      4  0.103452\n",
       "4              0      5  0.045775\n",
       "...          ...    ...       ...\n",
       "244636135  22116  22118  0.389079\n",
       "244636136  22116  22119  0.440638\n",
       "244636137  22117  22118  0.452911\n",
       "244636138  22117  22119  0.518816\n",
       "244636139  22118  22119  0.400617\n",
       "\n",
       "[244636140 rows x 3 columns]"
      ]
     },
     "execution_count": 23,
     "metadata": {},
     "output_type": "execute_result"
    }
   ],
   "source": [
    "%%time\n",
    "\n",
    "# Group by (i, j) and sum the 'Value' column\n",
    "result_df = combined_df.groupby(['i', 'j'], as_index=False).sum()\n",
    "print_ram_usage()\n",
    "result_df"
   ]
  },
  {
   "cell_type": "code",
   "execution_count": 24,
   "id": "5f1dfb16-6edb-4b3f-9906-6fa4a6d06bde",
   "metadata": {},
   "outputs": [
    {
     "name": "stdout",
     "output_type": "stream",
     "text": [
      "[0] RAM Usage: 121435.66 MB\n"
     ]
    }
   ],
   "source": [
    "print_ram_usage()\n"
   ]
  },
  {
   "cell_type": "code",
   "execution_count": 25,
   "id": "b6d31a28-bf8b-48ac-a3aa-bc7d099c7422",
   "metadata": {},
   "outputs": [
    {
     "ename": "NameError",
     "evalue": "name 'n' is not defined",
     "output_type": "error",
     "traceback": [
      "\u001b[0;31m---------------------------------------------------------------------------\u001b[0m",
      "\u001b[0;31mNameError\u001b[0m                                 Traceback (most recent call last)",
      "Cell \u001b[0;32mIn[25], line 9\u001b[0m\n\u001b[1;32m      6\u001b[0m values \u001b[38;5;241m=\u001b[39m combined[:, \u001b[38;5;241m2\u001b[39m]\n\u001b[1;32m      8\u001b[0m \u001b[38;5;66;03m# Create an empty matrix for the summed values\u001b[39;00m\n\u001b[0;32m----> 9\u001b[0m summed_values \u001b[38;5;241m=\u001b[39m np\u001b[38;5;241m.\u001b[39mzeros((n, n))\n\u001b[1;32m     11\u001b[0m \u001b[38;5;66;03m# Sum the values into the matrix\u001b[39;00m\n\u001b[1;32m     12\u001b[0m \u001b[38;5;28;01mfor\u001b[39;00m k \u001b[38;5;129;01min\u001b[39;00m \u001b[38;5;28mrange\u001b[39m(combined\u001b[38;5;241m.\u001b[39mshape[\u001b[38;5;241m0\u001b[39m]):\n",
      "\u001b[0;31mNameError\u001b[0m: name 'n' is not defined"
     ]
    }
   ],
   "source": [
    "# Combine the triangles\n",
    "combined = np.vstack((upper, lower_flipped))\n",
    "\n",
    "# Using NumPy to sum values for (i, j) pairs efficiently\n",
    "ij = combined[:, :2].astype(int)\n",
    "values = combined[:, 2]\n",
    "\n",
    "# Create an empty matrix for the summed values\n",
    "summed_values = np.zeros((n, n))\n",
    "\n",
    "# Sum the values into the matrix\n",
    "for k in range(combined.shape[0]):\n",
    "    i, j = ij[k]\n",
    "    summed_values[i, j] += values[k]\n",
    "\n",
    "# Convert the matrix to a DataFrame if needed\n",
    "result_df = pd.DataFrame(summed_values)\n",
    "\n",
    "# Display the result\n",
    "print(result_df)"
   ]
  },
  {
   "cell_type": "code",
   "execution_count": null,
   "id": "f6356fbf-d70b-43d0-9b96-f9b5974f991c",
   "metadata": {},
   "outputs": [],
   "source": [
    "# import pickle\n",
    "\n",
    "# with open('../int_data/result_df.pkl','wb') as f:\n",
    "#     pickle.dump(result_df, f)"
   ]
  },
  {
   "cell_type": "code",
   "execution_count": null,
   "id": "534189a1-311d-4857-b29e-8dfaf38ae60a",
   "metadata": {},
   "outputs": [],
   "source": [
    "import pickle\n",
    "\n",
    "with open('../int_data/result_df.pkl','rb') as f:\n",
    "    result_df = pickle.load(f)"
   ]
  },
  {
   "cell_type": "code",
   "execution_count": 26,
   "id": "2cf8345a-3b2c-479c-8c9a-bdb9013826e7",
   "metadata": {},
   "outputs": [
    {
     "data": {
      "text/html": [
       "<div>\n",
       "<style scoped>\n",
       "    .dataframe tbody tr th:only-of-type {\n",
       "        vertical-align: middle;\n",
       "    }\n",
       "\n",
       "    .dataframe tbody tr th {\n",
       "        vertical-align: top;\n",
       "    }\n",
       "\n",
       "    .dataframe thead th {\n",
       "        text-align: right;\n",
       "    }\n",
       "</style>\n",
       "<table border=\"1\" class=\"dataframe\">\n",
       "  <thead>\n",
       "    <tr style=\"text-align: right;\">\n",
       "      <th></th>\n",
       "      <th>i</th>\n",
       "      <th>j</th>\n",
       "      <th>Value</th>\n",
       "    </tr>\n",
       "  </thead>\n",
       "  <tbody>\n",
       "    <tr>\n",
       "      <th>0</th>\n",
       "      <td>0</td>\n",
       "      <td>1</td>\n",
       "      <td>0.178727</td>\n",
       "    </tr>\n",
       "    <tr>\n",
       "      <th>1</th>\n",
       "      <td>0</td>\n",
       "      <td>2</td>\n",
       "      <td>0.398073</td>\n",
       "    </tr>\n",
       "    <tr>\n",
       "      <th>2</th>\n",
       "      <td>0</td>\n",
       "      <td>3</td>\n",
       "      <td>0.464152</td>\n",
       "    </tr>\n",
       "    <tr>\n",
       "      <th>3</th>\n",
       "      <td>0</td>\n",
       "      <td>4</td>\n",
       "      <td>0.103452</td>\n",
       "    </tr>\n",
       "    <tr>\n",
       "      <th>4</th>\n",
       "      <td>0</td>\n",
       "      <td>5</td>\n",
       "      <td>0.045775</td>\n",
       "    </tr>\n",
       "    <tr>\n",
       "      <th>...</th>\n",
       "      <td>...</td>\n",
       "      <td>...</td>\n",
       "      <td>...</td>\n",
       "    </tr>\n",
       "    <tr>\n",
       "      <th>244636135</th>\n",
       "      <td>22116</td>\n",
       "      <td>22118</td>\n",
       "      <td>0.389079</td>\n",
       "    </tr>\n",
       "    <tr>\n",
       "      <th>244636136</th>\n",
       "      <td>22116</td>\n",
       "      <td>22119</td>\n",
       "      <td>0.440638</td>\n",
       "    </tr>\n",
       "    <tr>\n",
       "      <th>244636137</th>\n",
       "      <td>22117</td>\n",
       "      <td>22118</td>\n",
       "      <td>0.452911</td>\n",
       "    </tr>\n",
       "    <tr>\n",
       "      <th>244636138</th>\n",
       "      <td>22117</td>\n",
       "      <td>22119</td>\n",
       "      <td>0.518816</td>\n",
       "    </tr>\n",
       "    <tr>\n",
       "      <th>244636139</th>\n",
       "      <td>22118</td>\n",
       "      <td>22119</td>\n",
       "      <td>0.400617</td>\n",
       "    </tr>\n",
       "  </tbody>\n",
       "</table>\n",
       "<p>244636140 rows × 3 columns</p>\n",
       "</div>"
      ],
      "text/plain": [
       "               i      j     Value\n",
       "0              0      1  0.178727\n",
       "1              0      2  0.398073\n",
       "2              0      3  0.464152\n",
       "3              0      4  0.103452\n",
       "4              0      5  0.045775\n",
       "...          ...    ...       ...\n",
       "244636135  22116  22118  0.389079\n",
       "244636136  22116  22119  0.440638\n",
       "244636137  22117  22118  0.452911\n",
       "244636138  22117  22119  0.518816\n",
       "244636139  22118  22119  0.400617\n",
       "\n",
       "[244636140 rows x 3 columns]"
      ]
     },
     "execution_count": 26,
     "metadata": {},
     "output_type": "execute_result"
    }
   ],
   "source": [
    "result_df"
   ]
  },
  {
   "cell_type": "code",
   "execution_count": 9,
   "id": "ea5fcb1c-7281-4eaa-b714-54b1357737df",
   "metadata": {},
   "outputs": [
    {
     "name": "stdout",
     "output_type": "stream",
     "text": [
      "[0] RAM Usage: 11325.62 MB\n"
     ]
    },
    {
     "name": "stderr",
     "output_type": "stream",
     "text": [
      "\n",
      "KeyboardInterrupt\n",
      "\n"
     ]
    }
   ],
   "source": [
    "%%time\n",
    "print_ram_usage()\n",
    "\n",
    "result_df['patent_id_i'] = result_df['i'].apply(lambda x:tab_i[x])\n",
    "print_ram_usage()\n",
    "\n",
    "result_df['patent_id_j'] = result_df['j'].apply(lambda x:tab_j[x])\n",
    "print_ram_usage()\n",
    "\n",
    "# result_df = pd.merge(left = result_df, right = cosine_sim_long[['j', 'patent_id_j']], left_on = 'j', right_on = 'j')"
   ]
  },
  {
   "cell_type": "code",
   "execution_count": 47,
   "id": "146c339e-e42f-41fd-8a84-05b87ec93af4",
   "metadata": {},
   "outputs": [
    {
     "data": {
      "text/plain": [
       "(i              object\n",
       " j              object\n",
       " Value          object\n",
       " patent_id_i    object\n",
       " patent_id_j    object\n",
       " dtype: object,\n",
       " float)"
      ]
     },
     "execution_count": 47,
     "metadata": {},
     "output_type": "execute_result"
    }
   ],
   "source": [
    "result_df.dtypes, type(result_df.Value.iloc[0])"
   ]
  },
  {
   "cell_type": "code",
   "execution_count": 51,
   "id": "d04cf6f3-3e7f-451e-9a82-3b42dff335fb",
   "metadata": {},
   "outputs": [
    {
     "data": {
      "text/plain": [
       "(0, 0)"
      ]
     },
     "execution_count": 51,
     "metadata": {},
     "output_type": "execute_result"
    }
   ],
   "source": [
    "result_df.patent_id_i.isnull().sum(), result_df.patent_id_j.isnull().sum()"
   ]
  },
  {
   "cell_type": "code",
   "execution_count": 48,
   "id": "e32eee06-0ab6-4c8f-be2e-0025dcb9da97",
   "metadata": {},
   "outputs": [],
   "source": [
    "# result_df.to_csv('../final_data/result_22120.csv', index = False)"
   ]
  },
  {
   "cell_type": "code",
   "execution_count": null,
   "id": "372635ca-62fa-4e18-afb1-8dd7179f243b",
   "metadata": {},
   "outputs": [],
   "source": []
  },
  {
   "cell_type": "markdown",
   "id": "cf0fe522-e7c4-4a54-8d08-26ac0c7ad31c",
   "metadata": {},
   "source": [
    "# Aggregation on occupation"
   ]
  },
  {
   "cell_type": "code",
   "execution_count": 2,
   "id": "5d2ca8e3-0b7f-4556-b893-8237731b1744",
   "metadata": {},
   "outputs": [],
   "source": [
    "import pandas as pd\n",
    "# result_df = pd.read_csv('../final_data/result_22120.csv')\n",
    "result_df = pd.read_feather('../final_data/result_22120.feather')"
   ]
  },
  {
   "cell_type": "code",
   "execution_count": 3,
   "id": "e7cf8234-1a79-4538-9dfa-40f93be7b62c",
   "metadata": {},
   "outputs": [
    {
     "data": {
      "text/html": [
       "<div>\n",
       "<style scoped>\n",
       "    .dataframe tbody tr th:only-of-type {\n",
       "        vertical-align: middle;\n",
       "    }\n",
       "\n",
       "    .dataframe tbody tr th {\n",
       "        vertical-align: top;\n",
       "    }\n",
       "\n",
       "    .dataframe thead th {\n",
       "        text-align: right;\n",
       "    }\n",
       "</style>\n",
       "<table border=\"1\" class=\"dataframe\">\n",
       "  <thead>\n",
       "    <tr style=\"text-align: right;\">\n",
       "      <th></th>\n",
       "      <th>i</th>\n",
       "      <th>j</th>\n",
       "      <th>Value</th>\n",
       "      <th>patent_id_i</th>\n",
       "      <th>patent_id_j</th>\n",
       "    </tr>\n",
       "  </thead>\n",
       "  <tbody>\n",
       "    <tr>\n",
       "      <th>0</th>\n",
       "      <td>0</td>\n",
       "      <td>1</td>\n",
       "      <td>0.178727</td>\n",
       "      <td>GB187303416</td>\n",
       "      <td>GB187600824</td>\n",
       "    </tr>\n",
       "    <tr>\n",
       "      <th>1</th>\n",
       "      <td>0</td>\n",
       "      <td>2</td>\n",
       "      <td>0.398073</td>\n",
       "      <td>GB187303416</td>\n",
       "      <td>GB187601544</td>\n",
       "    </tr>\n",
       "    <tr>\n",
       "      <th>2</th>\n",
       "      <td>0</td>\n",
       "      <td>3</td>\n",
       "      <td>0.464152</td>\n",
       "      <td>GB187303416</td>\n",
       "      <td>GB188204200</td>\n",
       "    </tr>\n",
       "    <tr>\n",
       "      <th>3</th>\n",
       "      <td>0</td>\n",
       "      <td>4</td>\n",
       "      <td>0.103452</td>\n",
       "      <td>GB187303416</td>\n",
       "      <td>GB188803213</td>\n",
       "    </tr>\n",
       "    <tr>\n",
       "      <th>4</th>\n",
       "      <td>0</td>\n",
       "      <td>5</td>\n",
       "      <td>0.045775</td>\n",
       "      <td>GB187303416</td>\n",
       "      <td>GB188905132</td>\n",
       "    </tr>\n",
       "    <tr>\n",
       "      <th>...</th>\n",
       "      <td>...</td>\n",
       "      <td>...</td>\n",
       "      <td>...</td>\n",
       "      <td>...</td>\n",
       "      <td>...</td>\n",
       "    </tr>\n",
       "    <tr>\n",
       "      <th>244636135</th>\n",
       "      <td>22116</td>\n",
       "      <td>22118</td>\n",
       "      <td>0.389079</td>\n",
       "      <td>GB191213037</td>\n",
       "      <td>GB191217939</td>\n",
       "    </tr>\n",
       "    <tr>\n",
       "      <th>244636136</th>\n",
       "      <td>22116</td>\n",
       "      <td>22119</td>\n",
       "      <td>0.440638</td>\n",
       "      <td>GB191213037</td>\n",
       "      <td>GB191220302</td>\n",
       "    </tr>\n",
       "    <tr>\n",
       "      <th>244636137</th>\n",
       "      <td>22117</td>\n",
       "      <td>22118</td>\n",
       "      <td>0.452911</td>\n",
       "      <td>GB191213039</td>\n",
       "      <td>GB191217939</td>\n",
       "    </tr>\n",
       "    <tr>\n",
       "      <th>244636138</th>\n",
       "      <td>22117</td>\n",
       "      <td>22119</td>\n",
       "      <td>0.518816</td>\n",
       "      <td>GB191213039</td>\n",
       "      <td>GB191220302</td>\n",
       "    </tr>\n",
       "    <tr>\n",
       "      <th>244636139</th>\n",
       "      <td>22118</td>\n",
       "      <td>22119</td>\n",
       "      <td>0.400617</td>\n",
       "      <td>GB191217939</td>\n",
       "      <td>GB191220302</td>\n",
       "    </tr>\n",
       "  </tbody>\n",
       "</table>\n",
       "<p>244636140 rows × 5 columns</p>\n",
       "</div>"
      ],
      "text/plain": [
       "               i      j     Value  patent_id_i  patent_id_j\n",
       "0              0      1  0.178727  GB187303416  GB187600824\n",
       "1              0      2  0.398073  GB187303416  GB187601544\n",
       "2              0      3  0.464152  GB187303416  GB188204200\n",
       "3              0      4  0.103452  GB187303416  GB188803213\n",
       "4              0      5  0.045775  GB187303416  GB188905132\n",
       "...          ...    ...       ...          ...          ...\n",
       "244636135  22116  22118  0.389079  GB191213037  GB191217939\n",
       "244636136  22116  22119  0.440638  GB191213037  GB191220302\n",
       "244636137  22117  22118  0.452911  GB191213039  GB191217939\n",
       "244636138  22117  22119  0.518816  GB191213039  GB191220302\n",
       "244636139  22118  22119  0.400617  GB191217939  GB191220302\n",
       "\n",
       "[244636140 rows x 5 columns]"
      ]
     },
     "execution_count": 3,
     "metadata": {},
     "output_type": "execute_result"
    }
   ],
   "source": [
    "result_df"
   ]
  },
  {
   "cell_type": "markdown",
   "id": "e44e2bb6-92bd-4d9f-9483-949809332c82",
   "metadata": {},
   "source": [
    "## Exploding Input_patent_matrix to get OCC_SPACE (unique non-na occs)"
   ]
  },
  {
   "cell_type": "code",
   "execution_count": 4,
   "id": "021e8f1a-6bfa-4118-820a-8aa8d847adb5",
   "metadata": {},
   "outputs": [],
   "source": [
    "data = pd.read_csv('../int_data/Input_patent_matrix.csv')\n",
    "data['strcount'] = data['description'].str.split().str.len()\n",
    "# Filter the data based on the word count\n",
    "# Too long or too short patents are filtered\n",
    "data = data[(data['strcount'] > 10) & (data['strcount'] <= 500)].reset_index(drop = True)\n",
    "data = data[['i', 'occupation.x']].rename(columns = {\"occupation.x\":\"census_occupation\"})\n",
    "\n",
    "# str -> list\n",
    "data_explode_pre = data\n",
    "import re\n",
    "# To split a string by both \", \" and \"; \"\n",
    "\n",
    "data_explode_pre.census_occupation = data_explode_pre.census_occupation.apply(lambda x: re.split(r', |; ', x.strip().strip(',')))\n",
    "# data_explode_pre.census_occupation = data_explode_pre.census_occupation.apply(lambda x:x.strip().strip(',').split(', '))"
   ]
  },
  {
   "cell_type": "code",
   "execution_count": 5,
   "id": "3a9c0d2c-f1b0-4b7f-a286-2757c8167890",
   "metadata": {},
   "outputs": [
    {
     "data": {
      "text/html": [
       "<div>\n",
       "<style scoped>\n",
       "    .dataframe tbody tr th:only-of-type {\n",
       "        vertical-align: middle;\n",
       "    }\n",
       "\n",
       "    .dataframe tbody tr th {\n",
       "        vertical-align: top;\n",
       "    }\n",
       "\n",
       "    .dataframe thead th {\n",
       "        text-align: right;\n",
       "    }\n",
       "</style>\n",
       "<table border=\"1\" class=\"dataframe\">\n",
       "  <thead>\n",
       "    <tr style=\"text-align: right;\">\n",
       "      <th></th>\n",
       "      <th>i</th>\n",
       "      <th>census_occupation</th>\n",
       "    </tr>\n",
       "  </thead>\n",
       "  <tbody>\n",
       "    <tr>\n",
       "      <th>0</th>\n",
       "      <td>GB187303416</td>\n",
       "      <td>[HISCO410, HISCO744, HISCO896]</td>\n",
       "    </tr>\n",
       "    <tr>\n",
       "      <th>1</th>\n",
       "      <td>GB187600824</td>\n",
       "      <td>[HISCO779, HISCO951, HISCO813, HISCO896, HISCO...</td>\n",
       "    </tr>\n",
       "    <tr>\n",
       "      <th>2</th>\n",
       "      <td>GB187601544</td>\n",
       "      <td>[HISCO999, HISCO974, HISCO90, HISCO24, HISCO90...</td>\n",
       "    </tr>\n",
       "    <tr>\n",
       "      <th>3</th>\n",
       "      <td>GB188204200</td>\n",
       "      <td>[HISCO949, HISCO443, HISCO161, HISCO799, HISCO...</td>\n",
       "    </tr>\n",
       "    <tr>\n",
       "      <th>4</th>\n",
       "      <td>GB188803213</td>\n",
       "      <td>[HISCO777]</td>\n",
       "    </tr>\n",
       "    <tr>\n",
       "      <th>...</th>\n",
       "      <td>...</td>\n",
       "      <td>...</td>\n",
       "    </tr>\n",
       "    <tr>\n",
       "      <th>22115</th>\n",
       "      <td>GB191211210</td>\n",
       "      <td>[NA]</td>\n",
       "    </tr>\n",
       "    <tr>\n",
       "      <th>22116</th>\n",
       "      <td>GB191213037</td>\n",
       "      <td>[HISCO333, HISCO999, HISCO999, HISCO33, HISCO333]</td>\n",
       "    </tr>\n",
       "    <tr>\n",
       "      <th>22117</th>\n",
       "      <td>GB191213039</td>\n",
       "      <td>[HISCO333, HISCO999, HISCO999, HISCO33, HISCO333]</td>\n",
       "    </tr>\n",
       "    <tr>\n",
       "      <th>22118</th>\n",
       "      <td>GB191217939</td>\n",
       "      <td>[HISCO333, HISCO999, HISCO999, HISCO33, HISCO333]</td>\n",
       "    </tr>\n",
       "    <tr>\n",
       "      <th>22119</th>\n",
       "      <td>GB191220302</td>\n",
       "      <td>[HISCO21, HISCO210]</td>\n",
       "    </tr>\n",
       "  </tbody>\n",
       "</table>\n",
       "<p>22120 rows × 2 columns</p>\n",
       "</div>"
      ],
      "text/plain": [
       "                 i                                  census_occupation\n",
       "0      GB187303416                     [HISCO410, HISCO744, HISCO896]\n",
       "1      GB187600824  [HISCO779, HISCO951, HISCO813, HISCO896, HISCO...\n",
       "2      GB187601544  [HISCO999, HISCO974, HISCO90, HISCO24, HISCO90...\n",
       "3      GB188204200  [HISCO949, HISCO443, HISCO161, HISCO799, HISCO...\n",
       "4      GB188803213                                         [HISCO777]\n",
       "...            ...                                                ...\n",
       "22115  GB191211210                                               [NA]\n",
       "22116  GB191213037  [HISCO333, HISCO999, HISCO999, HISCO33, HISCO333]\n",
       "22117  GB191213039  [HISCO333, HISCO999, HISCO999, HISCO33, HISCO333]\n",
       "22118  GB191217939  [HISCO333, HISCO999, HISCO999, HISCO33, HISCO333]\n",
       "22119  GB191220302                                [HISCO21, HISCO210]\n",
       "\n",
       "[22120 rows x 2 columns]"
      ]
     },
     "execution_count": 5,
     "metadata": {},
     "output_type": "execute_result"
    }
   ],
   "source": [
    "data_explode_pre"
   ]
  },
  {
   "cell_type": "code",
   "execution_count": 6,
   "id": "a5200332-7d27-48b5-add8-183f7c6490eb",
   "metadata": {},
   "outputs": [
    {
     "data": {
      "text/plain": [
       "'HISCO410'"
      ]
     },
     "execution_count": 6,
     "metadata": {},
     "output_type": "execute_result"
    }
   ],
   "source": [
    "data_explode_pre.census_occupation[0][0]"
   ]
  },
  {
   "cell_type": "code",
   "execution_count": 7,
   "id": "8e9f39a2-e530-4989-88a0-7501ed0719f0",
   "metadata": {},
   "outputs": [
    {
     "data": {
      "text/html": [
       "<div>\n",
       "<style scoped>\n",
       "    .dataframe tbody tr th:only-of-type {\n",
       "        vertical-align: middle;\n",
       "    }\n",
       "\n",
       "    .dataframe tbody tr th {\n",
       "        vertical-align: top;\n",
       "    }\n",
       "\n",
       "    .dataframe thead th {\n",
       "        text-align: right;\n",
       "    }\n",
       "</style>\n",
       "<table border=\"1\" class=\"dataframe\">\n",
       "  <thead>\n",
       "    <tr style=\"text-align: right;\">\n",
       "      <th></th>\n",
       "      <th>i</th>\n",
       "      <th>census_occupation</th>\n",
       "    </tr>\n",
       "  </thead>\n",
       "  <tbody>\n",
       "    <tr>\n",
       "      <th>0</th>\n",
       "      <td>GB187303416</td>\n",
       "      <td>HISCO410</td>\n",
       "    </tr>\n",
       "    <tr>\n",
       "      <th>1</th>\n",
       "      <td>GB187303416</td>\n",
       "      <td>HISCO744</td>\n",
       "    </tr>\n",
       "    <tr>\n",
       "      <th>2</th>\n",
       "      <td>GB187303416</td>\n",
       "      <td>HISCO896</td>\n",
       "    </tr>\n",
       "    <tr>\n",
       "      <th>3</th>\n",
       "      <td>GB187600824</td>\n",
       "      <td>HISCO779</td>\n",
       "    </tr>\n",
       "    <tr>\n",
       "      <th>4</th>\n",
       "      <td>GB187600824</td>\n",
       "      <td>HISCO951</td>\n",
       "    </tr>\n",
       "    <tr>\n",
       "      <th>...</th>\n",
       "      <td>...</td>\n",
       "      <td>...</td>\n",
       "    </tr>\n",
       "    <tr>\n",
       "      <th>82481</th>\n",
       "      <td>GB191217939</td>\n",
       "      <td>HISCO999</td>\n",
       "    </tr>\n",
       "    <tr>\n",
       "      <th>82482</th>\n",
       "      <td>GB191217939</td>\n",
       "      <td>HISCO33</td>\n",
       "    </tr>\n",
       "    <tr>\n",
       "      <th>82483</th>\n",
       "      <td>GB191217939</td>\n",
       "      <td>HISCO333</td>\n",
       "    </tr>\n",
       "    <tr>\n",
       "      <th>82484</th>\n",
       "      <td>GB191220302</td>\n",
       "      <td>HISCO21</td>\n",
       "    </tr>\n",
       "    <tr>\n",
       "      <th>82485</th>\n",
       "      <td>GB191220302</td>\n",
       "      <td>HISCO210</td>\n",
       "    </tr>\n",
       "  </tbody>\n",
       "</table>\n",
       "<p>82486 rows × 2 columns</p>\n",
       "</div>"
      ],
      "text/plain": [
       "                 i census_occupation\n",
       "0      GB187303416          HISCO410\n",
       "1      GB187303416          HISCO744\n",
       "2      GB187303416          HISCO896\n",
       "3      GB187600824          HISCO779\n",
       "4      GB187600824          HISCO951\n",
       "...            ...               ...\n",
       "82481  GB191217939          HISCO999\n",
       "82482  GB191217939           HISCO33\n",
       "82483  GB191217939          HISCO333\n",
       "82484  GB191220302           HISCO21\n",
       "82485  GB191220302          HISCO210\n",
       "\n",
       "[82486 rows x 2 columns]"
      ]
     },
     "execution_count": 7,
     "metadata": {},
     "output_type": "execute_result"
    }
   ],
   "source": [
    "data_exploded = data_explode_pre.explode('census_occupation').reset_index(drop = True)\n",
    "data_exploded"
   ]
  },
  {
   "cell_type": "code",
   "execution_count": 8,
   "id": "01dab01d-25a5-49f4-95b7-62038b30cc9d",
   "metadata": {},
   "outputs": [
    {
     "data": {
      "text/html": [
       "<div>\n",
       "<style scoped>\n",
       "    .dataframe tbody tr th:only-of-type {\n",
       "        vertical-align: middle;\n",
       "    }\n",
       "\n",
       "    .dataframe tbody tr th {\n",
       "        vertical-align: top;\n",
       "    }\n",
       "\n",
       "    .dataframe thead th {\n",
       "        text-align: right;\n",
       "    }\n",
       "</style>\n",
       "<table border=\"1\" class=\"dataframe\">\n",
       "  <thead>\n",
       "    <tr style=\"text-align: right;\">\n",
       "      <th></th>\n",
       "      <th>i</th>\n",
       "      <th>census_occupation</th>\n",
       "    </tr>\n",
       "  </thead>\n",
       "  <tbody>\n",
       "    <tr>\n",
       "      <th>0</th>\n",
       "      <td>GB187303416</td>\n",
       "      <td>HISCO410</td>\n",
       "    </tr>\n",
       "    <tr>\n",
       "      <th>1</th>\n",
       "      <td>GB187303416</td>\n",
       "      <td>HISCO744</td>\n",
       "    </tr>\n",
       "    <tr>\n",
       "      <th>2</th>\n",
       "      <td>GB187303416</td>\n",
       "      <td>HISCO896</td>\n",
       "    </tr>\n",
       "    <tr>\n",
       "      <th>3</th>\n",
       "      <td>GB187600824</td>\n",
       "      <td>HISCO779</td>\n",
       "    </tr>\n",
       "    <tr>\n",
       "      <th>4</th>\n",
       "      <td>GB187600824</td>\n",
       "      <td>HISCO951</td>\n",
       "    </tr>\n",
       "    <tr>\n",
       "      <th>...</th>\n",
       "      <td>...</td>\n",
       "      <td>...</td>\n",
       "    </tr>\n",
       "    <tr>\n",
       "      <th>75038</th>\n",
       "      <td>GB191217939</td>\n",
       "      <td>HISCO999</td>\n",
       "    </tr>\n",
       "    <tr>\n",
       "      <th>75039</th>\n",
       "      <td>GB191217939</td>\n",
       "      <td>HISCO33</td>\n",
       "    </tr>\n",
       "    <tr>\n",
       "      <th>75040</th>\n",
       "      <td>GB191217939</td>\n",
       "      <td>HISCO333</td>\n",
       "    </tr>\n",
       "    <tr>\n",
       "      <th>75041</th>\n",
       "      <td>GB191220302</td>\n",
       "      <td>HISCO21</td>\n",
       "    </tr>\n",
       "    <tr>\n",
       "      <th>75042</th>\n",
       "      <td>GB191220302</td>\n",
       "      <td>HISCO210</td>\n",
       "    </tr>\n",
       "  </tbody>\n",
       "</table>\n",
       "<p>75043 rows × 2 columns</p>\n",
       "</div>"
      ],
      "text/plain": [
       "                 i census_occupation\n",
       "0      GB187303416          HISCO410\n",
       "1      GB187303416          HISCO744\n",
       "2      GB187303416          HISCO896\n",
       "3      GB187600824          HISCO779\n",
       "4      GB187600824          HISCO951\n",
       "...            ...               ...\n",
       "75038  GB191217939          HISCO999\n",
       "75039  GB191217939           HISCO33\n",
       "75040  GB191217939          HISCO333\n",
       "75041  GB191220302           HISCO21\n",
       "75042  GB191220302          HISCO210\n",
       "\n",
       "[75043 rows x 2 columns]"
      ]
     },
     "execution_count": 8,
     "metadata": {},
     "output_type": "execute_result"
    }
   ],
   "source": [
    "data_exploded = data_exploded[data_exploded.census_occupation != 'NA'].reset_index(drop = True)\n",
    "data_exploded"
   ]
  },
  {
   "cell_type": "code",
   "execution_count": 9,
   "id": "2410828f-ec96-414a-b3d5-a8fbd73d12e3",
   "metadata": {},
   "outputs": [],
   "source": [
    "# data_exploded.census_occupation.nunique(), data_exploded.i.nunique(), data_exploded.census_occupation.count_values()"
   ]
  },
  {
   "cell_type": "code",
   "execution_count": 10,
   "id": "2e991203-3ad4-4e6d-bf28-26d8ce918338",
   "metadata": {},
   "outputs": [
    {
     "name": "stderr",
     "output_type": "stream",
     "text": [
      "/tmp/ipykernel_12628/166653217.py:2: UserWarning: Pandas doesn't allow columns to be created via a new attribute name - see https://pandas.pydata.org/pandas-docs/stable/indexing.html#attribute-access\n",
      "  data_exploded.len_census_occupation = data_exploded.census_occupation.apply(len)\n"
     ]
    },
    {
     "data": {
      "text/plain": [
       "census_occupation\n",
       "8    58260\n",
       "7    16783\n",
       "Name: count, dtype: int64"
      ]
     },
     "execution_count": 10,
     "metadata": {},
     "output_type": "execute_result"
    }
   ],
   "source": [
    "# All levels exploded?\n",
    "data_exploded.len_census_occupation = data_exploded.census_occupation.apply(len)\n",
    "data_exploded.len_census_occupation.value_counts()\n",
    "# correct"
   ]
  },
  {
   "cell_type": "markdown",
   "id": "38f2cde6-0fae-4cda-a24a-68a769b5166d",
   "metadata": {},
   "source": [
    "## create dictionary for looking up"
   ]
  },
  {
   "cell_type": "code",
   "execution_count": 98,
   "id": "a396eb7d-6dfd-4fe7-931f-8f834cae5de2",
   "metadata": {},
   "outputs": [],
   "source": [
    "# data_exploded.groupby('census_occupation').agg(lambda x:list(x))\n"
   ]
  },
  {
   "cell_type": "markdown",
   "id": "35e2854a-aefc-4407-bc27-3698fea7176c",
   "metadata": {},
   "source": [
    "## Aggregation"
   ]
  },
  {
   "cell_type": "code",
   "execution_count": 10,
   "id": "49e8a175-c803-4bec-8184-46264788ed38",
   "metadata": {},
   "outputs": [
    {
     "data": {
      "text/html": [
       "<div>\n",
       "<style scoped>\n",
       "    .dataframe tbody tr th:only-of-type {\n",
       "        vertical-align: middle;\n",
       "    }\n",
       "\n",
       "    .dataframe tbody tr th {\n",
       "        vertical-align: top;\n",
       "    }\n",
       "\n",
       "    .dataframe thead th {\n",
       "        text-align: right;\n",
       "    }\n",
       "</style>\n",
       "<table border=\"1\" class=\"dataframe\">\n",
       "  <thead>\n",
       "    <tr style=\"text-align: right;\">\n",
       "      <th></th>\n",
       "      <th>i</th>\n",
       "      <th>census_occupation</th>\n",
       "    </tr>\n",
       "  </thead>\n",
       "  <tbody>\n",
       "    <tr>\n",
       "      <th>0</th>\n",
       "      <td>GB187303416</td>\n",
       "      <td>[HISCO410, HISCO744, HISCO896]</td>\n",
       "    </tr>\n",
       "    <tr>\n",
       "      <th>1</th>\n",
       "      <td>GB187600824</td>\n",
       "      <td>[HISCO779, HISCO951, HISCO813, HISCO896, HISCO...</td>\n",
       "    </tr>\n",
       "    <tr>\n",
       "      <th>2</th>\n",
       "      <td>GB187601544</td>\n",
       "      <td>[HISCO999, HISCO974, HISCO90, HISCO24, HISCO90...</td>\n",
       "    </tr>\n",
       "    <tr>\n",
       "      <th>3</th>\n",
       "      <td>GB187901073</td>\n",
       "      <td>[HISCO410, HISCO80, HISCO744, HISCO999, HISCO8...</td>\n",
       "    </tr>\n",
       "    <tr>\n",
       "      <th>4</th>\n",
       "      <td>GB187901073</td>\n",
       "      <td>[HISCO410, HISCO80, HISCO744, HISCO999, HISCO8...</td>\n",
       "    </tr>\n",
       "    <tr>\n",
       "      <th>...</th>\n",
       "      <td>...</td>\n",
       "      <td>...</td>\n",
       "    </tr>\n",
       "    <tr>\n",
       "      <th>22139</th>\n",
       "      <td>GB191211210</td>\n",
       "      <td>[NA]</td>\n",
       "    </tr>\n",
       "    <tr>\n",
       "      <th>22140</th>\n",
       "      <td>GB191213037</td>\n",
       "      <td>[HISCO333, HISCO999, HISCO999, HISCO33, HISCO333]</td>\n",
       "    </tr>\n",
       "    <tr>\n",
       "      <th>22141</th>\n",
       "      <td>GB191213039</td>\n",
       "      <td>[HISCO333, HISCO999, HISCO999, HISCO33, HISCO333]</td>\n",
       "    </tr>\n",
       "    <tr>\n",
       "      <th>22142</th>\n",
       "      <td>GB191217939</td>\n",
       "      <td>[HISCO333, HISCO999, HISCO999, HISCO33, HISCO333]</td>\n",
       "    </tr>\n",
       "    <tr>\n",
       "      <th>22143</th>\n",
       "      <td>GB191220302</td>\n",
       "      <td>[HISCO21, HISCO210]</td>\n",
       "    </tr>\n",
       "  </tbody>\n",
       "</table>\n",
       "<p>22144 rows × 2 columns</p>\n",
       "</div>"
      ],
      "text/plain": [
       "                 i                                  census_occupation\n",
       "0      GB187303416                     [HISCO410, HISCO744, HISCO896]\n",
       "1      GB187600824  [HISCO779, HISCO951, HISCO813, HISCO896, HISCO...\n",
       "2      GB187601544  [HISCO999, HISCO974, HISCO90, HISCO24, HISCO90...\n",
       "3      GB187901073  [HISCO410, HISCO80, HISCO744, HISCO999, HISCO8...\n",
       "4      GB187901073  [HISCO410, HISCO80, HISCO744, HISCO999, HISCO8...\n",
       "...            ...                                                ...\n",
       "22139  GB191211210                                               [NA]\n",
       "22140  GB191213037  [HISCO333, HISCO999, HISCO999, HISCO33, HISCO333]\n",
       "22141  GB191213039  [HISCO333, HISCO999, HISCO999, HISCO33, HISCO333]\n",
       "22142  GB191217939  [HISCO333, HISCO999, HISCO999, HISCO33, HISCO333]\n",
       "22143  GB191220302                                [HISCO21, HISCO210]\n",
       "\n",
       "[22144 rows x 2 columns]"
      ]
     },
     "execution_count": 10,
     "metadata": {},
     "output_type": "execute_result"
    }
   ],
   "source": [
    "data"
   ]
  },
  {
   "cell_type": "code",
   "execution_count": 11,
   "id": "261a22e7-c558-42b1-ab69-c6ae97625167",
   "metadata": {},
   "outputs": [
    {
     "data": {
      "text/html": [
       "<div>\n",
       "<style scoped>\n",
       "    .dataframe tbody tr th:only-of-type {\n",
       "        vertical-align: middle;\n",
       "    }\n",
       "\n",
       "    .dataframe tbody tr th {\n",
       "        vertical-align: top;\n",
       "    }\n",
       "\n",
       "    .dataframe thead th {\n",
       "        text-align: right;\n",
       "    }\n",
       "</style>\n",
       "<table border=\"1\" class=\"dataframe\">\n",
       "  <thead>\n",
       "    <tr style=\"text-align: right;\">\n",
       "      <th></th>\n",
       "      <th>i</th>\n",
       "      <th>j</th>\n",
       "      <th>Value</th>\n",
       "      <th>patent_id_i</th>\n",
       "      <th>patent_id_j</th>\n",
       "    </tr>\n",
       "  </thead>\n",
       "  <tbody>\n",
       "    <tr>\n",
       "      <th>0</th>\n",
       "      <td>0</td>\n",
       "      <td>1</td>\n",
       "      <td>0.178727</td>\n",
       "      <td>GB187303416</td>\n",
       "      <td>GB187600824</td>\n",
       "    </tr>\n",
       "    <tr>\n",
       "      <th>1</th>\n",
       "      <td>0</td>\n",
       "      <td>2</td>\n",
       "      <td>0.398073</td>\n",
       "      <td>GB187303416</td>\n",
       "      <td>GB187601544</td>\n",
       "    </tr>\n",
       "    <tr>\n",
       "      <th>2</th>\n",
       "      <td>0</td>\n",
       "      <td>3</td>\n",
       "      <td>0.464152</td>\n",
       "      <td>GB187303416</td>\n",
       "      <td>GB188204200</td>\n",
       "    </tr>\n",
       "    <tr>\n",
       "      <th>3</th>\n",
       "      <td>0</td>\n",
       "      <td>4</td>\n",
       "      <td>0.103452</td>\n",
       "      <td>GB187303416</td>\n",
       "      <td>GB188803213</td>\n",
       "    </tr>\n",
       "    <tr>\n",
       "      <th>4</th>\n",
       "      <td>0</td>\n",
       "      <td>5</td>\n",
       "      <td>0.045775</td>\n",
       "      <td>GB187303416</td>\n",
       "      <td>GB188905132</td>\n",
       "    </tr>\n",
       "    <tr>\n",
       "      <th>...</th>\n",
       "      <td>...</td>\n",
       "      <td>...</td>\n",
       "      <td>...</td>\n",
       "      <td>...</td>\n",
       "      <td>...</td>\n",
       "    </tr>\n",
       "    <tr>\n",
       "      <th>244636135</th>\n",
       "      <td>22116</td>\n",
       "      <td>22118</td>\n",
       "      <td>0.389079</td>\n",
       "      <td>GB191213037</td>\n",
       "      <td>GB191217939</td>\n",
       "    </tr>\n",
       "    <tr>\n",
       "      <th>244636136</th>\n",
       "      <td>22116</td>\n",
       "      <td>22119</td>\n",
       "      <td>0.440638</td>\n",
       "      <td>GB191213037</td>\n",
       "      <td>GB191220302</td>\n",
       "    </tr>\n",
       "    <tr>\n",
       "      <th>244636137</th>\n",
       "      <td>22117</td>\n",
       "      <td>22118</td>\n",
       "      <td>0.452911</td>\n",
       "      <td>GB191213039</td>\n",
       "      <td>GB191217939</td>\n",
       "    </tr>\n",
       "    <tr>\n",
       "      <th>244636138</th>\n",
       "      <td>22117</td>\n",
       "      <td>22119</td>\n",
       "      <td>0.518816</td>\n",
       "      <td>GB191213039</td>\n",
       "      <td>GB191220302</td>\n",
       "    </tr>\n",
       "    <tr>\n",
       "      <th>244636139</th>\n",
       "      <td>22118</td>\n",
       "      <td>22119</td>\n",
       "      <td>0.400617</td>\n",
       "      <td>GB191217939</td>\n",
       "      <td>GB191220302</td>\n",
       "    </tr>\n",
       "  </tbody>\n",
       "</table>\n",
       "<p>244636140 rows × 5 columns</p>\n",
       "</div>"
      ],
      "text/plain": [
       "               i      j     Value  patent_id_i  patent_id_j\n",
       "0              0      1  0.178727  GB187303416  GB187600824\n",
       "1              0      2  0.398073  GB187303416  GB187601544\n",
       "2              0      3  0.464152  GB187303416  GB188204200\n",
       "3              0      4  0.103452  GB187303416  GB188803213\n",
       "4              0      5  0.045775  GB187303416  GB188905132\n",
       "...          ...    ...       ...          ...          ...\n",
       "244636135  22116  22118  0.389079  GB191213037  GB191217939\n",
       "244636136  22116  22119  0.440638  GB191213037  GB191220302\n",
       "244636137  22117  22118  0.452911  GB191213039  GB191217939\n",
       "244636138  22117  22119  0.518816  GB191213039  GB191220302\n",
       "244636139  22118  22119  0.400617  GB191217939  GB191220302\n",
       "\n",
       "[244636140 rows x 5 columns]"
      ]
     },
     "execution_count": 11,
     "metadata": {},
     "output_type": "execute_result"
    }
   ],
   "source": [
    "result_df"
   ]
  },
  {
   "cell_type": "code",
   "execution_count": 12,
   "id": "6c0ded43-3c68-4f59-a063-612a92be5fdf",
   "metadata": {},
   "outputs": [
    {
     "ename": "NameError",
     "evalue": "name 'result_df_bak' is not defined",
     "output_type": "error",
     "traceback": [
      "\u001b[0;31m---------------------------------------------------------------------------\u001b[0m",
      "\u001b[0;31mNameError\u001b[0m                                 Traceback (most recent call last)",
      "Cell \u001b[0;32mIn[12], line 3\u001b[0m\n\u001b[1;32m      1\u001b[0m \u001b[38;5;66;03m# result_df_bak = result_df\u001b[39;00m\n\u001b[1;32m      2\u001b[0m \u001b[38;5;66;03m# result_df = result_df_bak.head(10000000)\u001b[39;00m\n\u001b[0;32m----> 3\u001b[0m result_df \u001b[38;5;241m=\u001b[39m result_df_bak\n",
      "\u001b[0;31mNameError\u001b[0m: name 'result_df_bak' is not defined"
     ]
    }
   ],
   "source": [
    "# result_df_bak = result_df\n",
    "# result_df = result_df_bak.head(10000000)\n",
    "# result_df = result_df_bak"
   ]
  },
  {
   "cell_type": "code",
   "execution_count": null,
   "id": "8e38ec78-7193-4d34-9f9b-353e04b955bd",
   "metadata": {},
   "outputs": [
    {
     "name": "stdout",
     "output_type": "stream",
     "text": [
      "CPU times: user 2 µs, sys: 2 µs, total: 4 µs\n",
      "Wall time: 7.39 µs\n",
      "[1] RAM Usage: 9703.96 MB\n"
     ]
    }
   ],
   "source": [
    "%time\n",
    "import numpy as np\n",
    "import pandas as pd\n",
    "\n",
    "# Step 1: Prepare necessary numpy arrays\n",
    "value_array = result_df['Value'].values\n",
    "patent_id_i_array = result_df['patent_id_i'].values\n",
    "patent_id_j_array = result_df['patent_id_j'].values\n",
    "census_occupation_array = data_exploded['census_occupation'].values\n",
    "i_array = data_exploded['i'].values\n",
    "print_ram_usage(1)\n",
    "\n",
    "# Step 2: Merge result_df with data_exploded using numpy\n",
    "def merge_with_numpy(value_array, patent_id_array, i_array, census_occupation_array):\n",
    "    sort_idx = np.argsort(i_array)\n",
    "    sorted_i = i_array[sort_idx]\n",
    "    sorted_census_occupation = census_occupation_array[sort_idx]\n",
    "\n",
    "    merged_values = []\n",
    "    merged_census_occupations = []\n",
    "\n",
    "    for patent_id, value in zip(patent_id_array, value_array):\n",
    "        idx = np.searchsorted(sorted_i, patent_id)\n",
    "        if idx < len(sorted_i) and sorted_i[idx] == patent_id:\n",
    "            merged_values.append(value)\n",
    "            merged_census_occupations.append(sorted_census_occupation[idx])\n",
    "\n",
    "    return np.array(merged_values), np.array(merged_census_occupations)\n",
    "\n",
    "values_i, census_occupations_i = merge_with_numpy(value_array, patent_id_i_array, i_array, census_occupation_array)\n",
    "values_j, census_occupations_j = merge_with_numpy(value_array, patent_id_j_array, i_array, census_occupation_array)\n",
    "print_ram_usage(2)\n",
    "\n",
    "# Step 3: Combine results and drop NA\n",
    "combined_values = np.concatenate([values_i, values_j])\n",
    "combined_census_occupations = np.concatenate([census_occupations_i, census_occupations_j])\n",
    "\n",
    "valid_idx = ~pd.isnull(combined_census_occupations)\n",
    "combined_values = combined_values[valid_idx]\n",
    "combined_census_occupations = combined_census_occupations[valid_idx]\n",
    "print_ram_usage(3)\n",
    "\n",
    "# Step 4: Group by census_occupation and compute the means using numpy\n",
    "unique_occupations, inverse_idx = np.unique(combined_census_occupations, return_inverse=True)\n",
    "sum_values = np.zeros(len(unique_occupations))\n",
    "count_values = np.zeros(len(unique_occupations))\n",
    "np.add.at(sum_values, inverse_idx, combined_values)\n",
    "np.add.at(count_values, inverse_idx, 1)\n",
    "mean_values = sum_values / count_values\n",
    "\n",
    "aggregated_df = pd.DataFrame({'census_occupation': unique_occupations, 'Value': mean_values})\n",
    "print_ram_usage(4)\n",
    "\n",
    "# Step 5: Prepare pairwise combinations\n",
    "occupations = data_exploded['census_occupation'].dropna().unique()\n",
    "pairwise_combinations = pd.MultiIndex.from_product([occupations, occupations], names=['occupation_1', 'occupation_2']).to_frame(index=False)\n",
    "pairwise_combinations = pairwise_combinations[pairwise_combinations.occupation_1 != pairwise_combinations.occupation_2]\n",
    "print_ram_usage(5)\n",
    "\n",
    "# Step 6: Merge pairwise_combinations with aggregated_df\n",
    "aggregated_pairs = pd.merge(pairwise_combinations, aggregated_df, left_on='occupation_1', right_on='census_occupation', how='left').fillna(0)\n",
    "aggregated_pairs = pd.merge(aggregated_pairs, aggregated_df, left_on='occupation_2', right_on='census_occupation', how='left').fillna(0)\n",
    "print_ram_usage(6)\n",
    "\n",
    "# Step 7: Calculate the combined value for each pair\n",
    "aggregated_pairs['Combined_Value'] = (aggregated_pairs['Value_x'] + aggregated_pairs['Value_y']) / 2\n",
    "print_ram_usage(7)\n",
    "\n",
    "# Step 8: Drop intermediate columns\n",
    "aggregated_pairs = aggregated_pairs[['occupation_1', 'occupation_2', 'Combined_Value']]\n",
    "print_ram_usage(8)\n",
    "aggregated_pairs"
   ]
  },
  {
   "cell_type": "code",
   "execution_count": null,
   "id": "f66b086c-dbbb-40bf-9f8f-b52347549c47",
   "metadata": {},
   "outputs": [],
   "source": [
    "combined_values, len(combined_values)"
   ]
  },
  {
   "cell_type": "code",
   "execution_count": null,
   "id": "78de7e9c-8b11-4aeb-9316-33becc7b7844",
   "metadata": {},
   "outputs": [],
   "source": [
    "combined_census_occupations, len(combined_census_occupations)"
   ]
  },
  {
   "cell_type": "code",
   "execution_count": null,
   "id": "a8d14e48-42bb-4881-ac1f-ec2ef6f777f9",
   "metadata": {},
   "outputs": [],
   "source": [
    "aggregated_pairs.Combined_Value.value_counts()"
   ]
  },
  {
   "cell_type": "code",
   "execution_count": null,
   "id": "23196cff-ea46-41ce-a314-ad150a30c591",
   "metadata": {},
   "outputs": [],
   "source": [
    "aggregated_pairs[aggregated_pairs.occupation_1 == aggregated_pairs.occupation_2]"
   ]
  },
  {
   "cell_type": "code",
   "execution_count": null,
   "id": "a74a9898-8175-4c12-8955-5c87f315c339",
   "metadata": {},
   "outputs": [],
   "source": [
    "aggregated_pairs.to_feather('../final_data/agg_occ.feather')"
   ]
  },
  {
   "cell_type": "code",
   "execution_count": null,
   "id": "ed6e8c36-088d-48e8-ac2b-b839e8dcf3fe",
   "metadata": {},
   "outputs": [],
   "source": [
    "merged_df_j"
   ]
  },
  {
   "cell_type": "code",
   "execution_count": null,
   "id": "eebd571c-31ab-4a3d-a979-ccb23939852e",
   "metadata": {},
   "outputs": [],
   "source": [
    "aggregated_pairs"
   ]
  },
  {
   "cell_type": "code",
   "execution_count": null,
   "id": "23f53513-f816-47d3-9c57-9332f730aff4",
   "metadata": {},
   "outputs": [],
   "source": [
    "result_df_ij.len_patent_id_j_occ = result_df_ij.patent_id_j_occ.apply(len)\n",
    "result_df_ij.len_patent_id_i_occ = result_df_ij.patent_id_i_occ.apply(len)\n",
    "result_df_ij.len_patent_id_j_occ.value_counts(), result_df_ij.len_patent_id_i_occ.value_counts(), result_df_ij.patent_id_i.value_counts(), result_df_ij.patent_id_j.value_counts(), "
   ]
  },
  {
   "cell_type": "code",
   "execution_count": null,
   "id": "bc62f371-54b0-4826-823a-22ab3b205ccb",
   "metadata": {},
   "outputs": [],
   "source": [
    "aggregated_pairs"
   ]
  },
  {
   "cell_type": "code",
   "execution_count": null,
   "id": "abb73c60-5bf6-4ce3-9ad7-b99afabc8eb8",
   "metadata": {},
   "outputs": [],
   "source": [
    "result_df['patent_id_j_occ'] = pd.merge()\n",
    "\n",
    "# merge\n",
    "\n",
    "# find outer union of occs of id_i and id_j\n",
    "\n",
    "# agg by occupations, and get (245 * 245 = ) 60,025 entries\n"
   ]
  },
  {
   "cell_type": "code",
   "execution_count": null,
   "id": "c6e42223-6c9e-4861-ab28-e81985a1bf04",
   "metadata": {},
   "outputs": [],
   "source": [
    "result_df = pd.merge(result_df, data_exploded, )"
   ]
  },
  {
   "cell_type": "code",
   "execution_count": null,
   "id": "cb6c908d-4302-4b4e-8176-1fe779ee1dff",
   "metadata": {},
   "outputs": [],
   "source": [
    "# result_df.to_feather('../final_data/result_22120.feather')"
   ]
  },
  {
   "cell_type": "code",
   "execution_count": null,
   "id": "159366c2-47e2-418f-8479-9eb2c74508c7",
   "metadata": {},
   "outputs": [],
   "source": [
    "# TODO: aggregation on industry, occupation.y -> \"census_occupation\"\n",
    "# Step 2:\n",
    "# US census, patent data"
   ]
  },
  {
   "cell_type": "code",
   "execution_count": null,
   "id": "987e558f-3a76-44f0-bc24-8103f8600246",
   "metadata": {},
   "outputs": [],
   "source": []
  },
  {
   "cell_type": "code",
   "execution_count": null,
   "id": "5240fa00-361f-49b4-ae70-3991dc6ebf9c",
   "metadata": {},
   "outputs": [],
   "source": [
    "import pandas as pd\n",
    "result_df = pd.read_feather('../final_data/result_22120.feather')"
   ]
  },
  {
   "cell_type": "code",
   "execution_count": null,
   "id": "b3692eda-97d6-4e6f-8a05-95a42d9ad243",
   "metadata": {},
   "outputs": [],
   "source": [
    "result_df"
   ]
  },
  {
   "cell_type": "code",
   "execution_count": null,
   "id": "a1403d22-c991-4ee7-b94b-933efea89677",
   "metadata": {},
   "outputs": [],
   "source": []
  }
 ],
 "metadata": {
  "kernelspec": {
   "display_name": "Python 3 (ipykernel)",
   "language": "python",
   "name": "python3"
  },
  "language_info": {
   "codemirror_mode": {
    "name": "ipython",
    "version": 3
   },
   "file_extension": ".py",
   "mimetype": "text/x-python",
   "name": "python",
   "nbconvert_exporter": "python",
   "pygments_lexer": "ipython3",
   "version": "3.11.4"
  }
 },
 "nbformat": 4,
 "nbformat_minor": 5
}
