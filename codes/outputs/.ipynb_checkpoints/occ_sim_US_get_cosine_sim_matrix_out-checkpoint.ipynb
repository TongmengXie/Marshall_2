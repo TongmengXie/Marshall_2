{
 "cells": [
  {
   "cell_type": "markdown",
   "id": "468543c6",
   "metadata": {
    "tags": [
     "papermill-error-cell-tag"
    ]
   },
   "source": [
    "<span style=\"color:red; font-family:Helvetica Neue, Helvetica, Arial, sans-serif; font-size:2em;\">An Exception was encountered at '<a href=\"#papermill-error-cell\">In [1]</a>'.</span>"
   ]
  },
  {
   "cell_type": "markdown",
   "id": "ee0a3d00",
   "metadata": {
    "tags": [
     "papermill-error-cell-tag"
    ]
   },
   "source": [
    "<span id=\"papermill-error-cell\" style=\"color:red; font-family:Helvetica Neue, Helvetica, Arial, sans-serif; font-size:2em;\">Execution using papermill encountered an exception here and stopped:</span>"
   ]
  },
  {
   "cell_type": "code",
   "execution_count": 1,
   "id": "c0332774-81be-4a93-be46-f8b4a7019d26",
   "metadata": {
    "execution": {
     "iopub.execute_input": "2024-12-10T14:01:37.694586Z",
     "iopub.status.busy": "2024-12-10T14:01:37.694296Z",
     "iopub.status.idle": "2024-12-10T14:01:38.161240Z",
     "shell.execute_reply": "2024-12-10T14:01:38.160720Z"
    },
    "papermill": {
     "duration": 0.484047,
     "end_time": "2024-12-10T14:01:38.161781",
     "exception": true,
     "start_time": "2024-12-10T14:01:37.677734",
     "status": "failed"
    },
    "tags": []
   },
   "outputs": [
    {
     "ename": "ModuleNotFoundError",
     "evalue": "No module named 'pandas'",
     "output_type": "error",
     "traceback": [
      "\u001b[0;31m---------------------------------------------------------------------------\u001b[0m",
      "\u001b[0;31mModuleNotFoundError\u001b[0m                       Traceback (most recent call last)",
      "Cell \u001b[0;32mIn[1], line 1\u001b[0m\n\u001b[0;32m----> 1\u001b[0m \u001b[38;5;28;01mimport\u001b[39;00m \u001b[38;5;21;01mpandas\u001b[39;00m \u001b[38;5;28;01mas\u001b[39;00m \u001b[38;5;21;01mpd\u001b[39;00m\n\u001b[1;32m      2\u001b[0m \u001b[38;5;28;01mimport\u001b[39;00m \u001b[38;5;21;01mnumpy\u001b[39;00m \u001b[38;5;28;01mas\u001b[39;00m \u001b[38;5;21;01mnp\u001b[39;00m\n\u001b[1;32m      3\u001b[0m \u001b[38;5;28;01mfrom\u001b[39;00m \u001b[38;5;21;01msklearn\u001b[39;00m\u001b[38;5;21;01m.\u001b[39;00m\u001b[38;5;21;01mfeature_extraction\u001b[39;00m\u001b[38;5;21;01m.\u001b[39;00m\u001b[38;5;21;01mtext\u001b[39;00m \u001b[38;5;28;01mimport\u001b[39;00m CountVectorizer\n",
      "\u001b[0;31mModuleNotFoundError\u001b[0m: No module named 'pandas'"
     ]
    }
   ],
   "source": [
    "import pandas as pd\n",
    "import numpy as np\n",
    "from sklearn.feature_extraction.text import CountVectorizer\n",
    "from sklearn.metrics.pairwise import cosine_similarity\n",
    "from scipy.sparse import csr_matrix\n",
    "from scipy.sparse import save_npz, load_npz\n",
    "from scipy.sparse import csr_matrix, save_npz, load_npz\n",
    "import dask.dataframe as dd\n",
    "import gc\n",
    "\n",
    "def batch_cosine_similarity(dtm, batch_size=1000):\n",
    "    num_rows = dtm.shape[0]\n",
    "    for start in range(0, num_rows, batch_size):\n",
    "        end = min(start + batch_size, num_rows)\n",
    "        yield cosine_similarity(dtm[start:end], dtm)\n",
    "\n",
    "import psutil\n",
    "def print_ram_usage(step = 0):\n",
    "    process = psutil.Process()\n",
    "    mem_info = process.memory_info()\n",
    "    print(f\"[{step}] RAM Usage: {mem_info.rss / (1024 ** 2):.2f} MB\")\n",
    "\n",
    "# # Load data (assuming data is in a CSV file, replace 'data.csv' with your actual file path)\n",
    "# data = pd.read_csv('../int_data/Input_patent_matrix.csv')\n",
    "data = pd.read_csv('../int_data/Input_patent_matrix_US.csv')\n",
    "data"
   ]
  },
  {
   "cell_type": "code",
   "execution_count": null,
   "id": "4dc2c0cc-5667-4468-9cb3-f106cafb6f4d",
   "metadata": {
    "papermill": {
     "duration": null,
     "end_time": null,
     "exception": null,
     "start_time": null,
     "status": "pending"
    },
    "tags": []
   },
   "outputs": [],
   "source": [
    "# dtm = load_npz('../int_data/dtm.npz')\n",
    "dtm = load_npz('../int_data/US_proxy/dtm.npz') # Shape of dtm: (number of documents, size of the vocabulary)\n",
    "dtm"
   ]
  },
  {
   "cell_type": "code",
   "execution_count": null,
   "id": "9d5b179b-ba45-4bcd-bc35-165d3307d0e5",
   "metadata": {
    "papermill": {
     "duration": null,
     "end_time": null,
     "exception": null,
     "start_time": null,
     "status": "pending"
    },
    "tags": []
   },
   "outputs": [],
   "source": [
    "import numpy as np\n",
    "from scipy.sparse import csr_matrix\n",
    "from sklearn.metrics.pairwise import cosine_similarity\n",
    "from joblib import Parallel, delayed\n",
    "from tqdm import tqdm\n",
    "\n",
    "# Assume dtm is your sparse document-term matrix (e.g., csr_matrix)\n",
    "n_rows = dtm.shape[0]\n",
    "\n",
    "# Function to compute cosine similarity for a single row\n",
    "def compute_row_cosine_similarity(row_idx, dtm):\n",
    "    return cosine_similarity(dtm[row_idx], dtm, dense_output=False).toarray()[0]\n",
    "\n",
    "# Parallel computation with a progress bar\n",
    "results = Parallel(n_jobs=-1, prefer=\"threads\")(\n",
    "    delayed(compute_row_cosine_similarity)(i, dtm) for i in tqdm(range(n_rows), desc=\"Computing cosine similarity\")\n",
    ")\n",
    "\n",
    "# Combine results into a sparse matrix\n",
    "cosine_sim_matrix = csr_matrix(results)"
   ]
  },
  {
   "cell_type": "code",
   "execution_count": null,
   "id": "a5b3416e-7574-4e02-8e15-6b65c7de2f26",
   "metadata": {
    "papermill": {
     "duration": null,
     "end_time": null,
     "exception": null,
     "start_time": null,
     "status": "pending"
    },
    "tags": []
   },
   "outputs": [],
   "source": [
    "type(cosine_sim_matrix)"
   ]
  },
  {
   "cell_type": "code",
   "execution_count": null,
   "id": "6ce96ea3-7cf7-422e-8091-e22281eafa54",
   "metadata": {
    "papermill": {
     "duration": null,
     "end_time": null,
     "exception": null,
     "start_time": null,
     "status": "pending"
    },
    "tags": []
   },
   "outputs": [],
   "source": [
    "import pickle\n",
    "\n",
    "with open(\"../int_data/US_proxy/cosine_sim_matrix.pkl\", \"wb\") as f:\n",
    "    pickle.dump(cosine_sim_matrix, f)"
   ]
  },
  {
   "cell_type": "code",
   "execution_count": null,
   "id": "4dc9d5e0-a21b-45ac-acf6-273b3e6f6732",
   "metadata": {
    "papermill": {
     "duration": null,
     "end_time": null,
     "exception": null,
     "start_time": null,
     "status": "pending"
    },
    "tags": []
   },
   "outputs": [],
   "source": [
    "!ls -lha ../int_data/US_proxy/cosine_sim_matrix.pkl"
   ]
  },
  {
   "cell_type": "code",
   "execution_count": null,
   "id": "60abf521-58c2-474d-b27b-e2474ecc46d6",
   "metadata": {
    "papermill": {
     "duration": null,
     "end_time": null,
     "exception": null,
     "start_time": null,
     "status": "pending"
    },
    "tags": []
   },
   "outputs": [],
   "source": [
    "# calculate zero cells\n",
    "# Given values\n",
    "total_elements = cosine_sim_matrix.shape[0] * cosine_sim_matrix.shape[1]\n",
    "non_zero_elements = cosine_sim_matrix.nnz\n",
    "zero_elements = total_elements - non_zero_elements\n",
    "\n",
    "zero_elements\n"
   ]
  },
  {
   "cell_type": "markdown",
   "id": "f9e2851a-cc1f-49d8-98a5-708abb38b0ac",
   "metadata": {
    "papermill": {
     "duration": null,
     "end_time": null,
     "exception": null,
     "start_time": null,
     "status": "pending"
    },
    "tags": []
   },
   "source": [
    "- Explantions for zero cells despite all descriptions are present  \n",
    "Descriptions may have a very low overlap in terms of vocabulary, leading to zero similarity.  \n",
    "Descriptions might be very unique with little to no common words."
   ]
  },
  {
   "cell_type": "code",
   "execution_count": null,
   "id": "f0b12249-84e7-48b8-b8a1-cb5cd11c8a09",
   "metadata": {
    "papermill": {
     "duration": null,
     "end_time": null,
     "exception": null,
     "start_time": null,
     "status": "pending"
    },
    "tags": []
   },
   "outputs": [],
   "source": [
    "# symmetry and upper triangle\n",
    "from scipy.sparse import csr_matrix, triu\n",
    "\n",
    "# Check if the matrix is square (necessary for symmetry)\n",
    "if cosine_sim_matrix.shape[0] != cosine_sim_matrix.shape[1]:\n",
    "    is_symmetric = False\n",
    "else:\n",
    "    # Check for symmetry\n",
    "    is_symmetric = (cosine_sim_matrix != cosine_sim_matrix.transpose()).nnz == 0\n",
    "\n",
    "if is_symmetric:\n",
    "    # Extract the upper triangle\n",
    "    upper_triangle = triu(cosine_sim_matrix)\n",
    "    print(\"The matrix is symmetric.\")\n",
    "    # Optionally, convert to dense matrix for inspection (not recommended for large matrices)\n",
    "    # print(upper_triangle.toarray())\n",
    "else:\n",
    "    print(\"The matrix is not symmetric.\")"
   ]
  },
  {
   "cell_type": "code",
   "execution_count": null,
   "id": "a9964597-0e71-439b-bded-f9799bd334dd",
   "metadata": {
    "papermill": {
     "duration": null,
     "end_time": null,
     "exception": null,
     "start_time": null,
     "status": "pending"
    },
    "tags": []
   },
   "outputs": [],
   "source": [
    "upper_triangle"
   ]
  },
  {
   "cell_type": "code",
   "execution_count": null,
   "id": "e4c0fbef-cb48-49c8-b016-b12fa6420446",
   "metadata": {
    "papermill": {
     "duration": null,
     "end_time": null,
     "exception": null,
     "start_time": null,
     "status": "pending"
    },
    "tags": []
   },
   "outputs": [],
   "source": [
    "# np.fill_diagonal(cosine_sim_matrix, 0)\n",
    "cosine_sim_matrix.setdiag(0)"
   ]
  },
  {
   "cell_type": "code",
   "execution_count": null,
   "id": "419369b0-b6b9-4b87-85f4-5f24499e6ea9",
   "metadata": {
    "papermill": {
     "duration": null,
     "end_time": null,
     "exception": null,
     "start_time": null,
     "status": "pending"
    },
    "tags": []
   },
   "outputs": [],
   "source": [
    "import pickle\n",
    "\n",
    "# with open('../int_data/cosine_sim_matrix.pkl','wb') as f:\n",
    "#     pickle.dump(cosine_sim_matrix,f) # 5.3 GB\n",
    "\n",
    "with open('../int_data/US_proxy/cosine_sim_matrix_u.pkl','wb') as f:\n",
    "    pickle.dump(upper_triangle,f)\n",
    "    \n",
    "with open('../int_data/US_proxy/cosine_sim_matrix_u.pkl','rb') as f:\n",
    "    upper_triangle = pickle.load(f) # 22,120 unique patent-inventor pairs\n",
    "upper_triangle"
   ]
  }
 ],
 "metadata": {
  "kernelspec": {
   "display_name": "Python 3 (ipykernel)",
   "language": "python",
   "name": "python3"
  },
  "language_info": {
   "codemirror_mode": {
    "name": "ipython",
    "version": 3
   },
   "file_extension": ".py",
   "mimetype": "text/x-python",
   "name": "python",
   "nbconvert_exporter": "python",
   "pygments_lexer": "ipython3",
   "version": "3.10.13"
  },
  "papermill": {
   "default_parameters": {},
   "duration": 5.156632,
   "end_time": "2024-12-10T14:01:38.391890",
   "environment_variables": {},
   "exception": true,
   "input_path": "occ_sim_US_get_cosine_sim_matrix.ipynb",
   "output_path": "outputs/occ_sim_US_get_cosine_sim_matrix_out.ipynb",
   "parameters": {},
   "start_time": "2024-12-10T14:01:33.235258",
   "version": "2.4.0"
  }
 },
 "nbformat": 4,
 "nbformat_minor": 5
}