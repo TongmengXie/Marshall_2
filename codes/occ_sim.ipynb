{
 "cells": [
  {
   "cell_type": "code",
   "execution_count": 2,
   "id": "c0332774-81be-4a93-be46-f8b4a7019d26",
   "metadata": {},
   "outputs": [
    {
     "data": {
      "text/html": [
       "<div>\n",
       "<style scoped>\n",
       "    .dataframe tbody tr th:only-of-type {\n",
       "        vertical-align: middle;\n",
       "    }\n",
       "\n",
       "    .dataframe tbody tr th {\n",
       "        vertical-align: top;\n",
       "    }\n",
       "\n",
       "    .dataframe thead th {\n",
       "        text-align: right;\n",
       "    }\n",
       "</style>\n",
       "<table border=\"1\" class=\"dataframe\">\n",
       "  <thead>\n",
       "    <tr style=\"text-align: right;\">\n",
       "      <th></th>\n",
       "      <th>i</th>\n",
       "      <th>county</th>\n",
       "      <th>district</th>\n",
       "      <th>subdistrict</th>\n",
       "      <th>parish</th>\n",
       "      <th>city</th>\n",
       "      <th>town</th>\n",
       "      <th>street</th>\n",
       "      <th>occupation.x</th>\n",
       "      <th>text</th>\n",
       "      <th>description</th>\n",
       "      <th>names</th>\n",
       "      <th>title</th>\n",
       "      <th>recid</th>\n",
       "      <th>occupation.y</th>\n",
       "      <th>pos2</th>\n",
       "      <th>max</th>\n",
       "    </tr>\n",
       "  </thead>\n",
       "  <tbody>\n",
       "    <tr>\n",
       "      <th>0</th>\n",
       "      <td>GB187303416</td>\n",
       "      <td>MIDDLESEX</td>\n",
       "      <td>NA</td>\n",
       "      <td>NA</td>\n",
       "      <td>NA</td>\n",
       "      <td>NA</td>\n",
       "      <td>NA</td>\n",
       "      <td>47  STREET</td>\n",
       "      <td>HISCO410, HISCO744, HISCO896,</td>\n",
       "      <td>LETTERS TO JAMES HARVEY OF HILLSIDE ESTATE V...</td>\n",
       "      <td>STILL DESIGN KIND COMMONLY COLONY DISTILL RUM ...</td>\n",
       "      <td>NaN</td>\n",
       "      <td>PATENT GB187303416A</td>\n",
       "      <td>1811640</td>\n",
       "      <td>582</td>\n",
       "      <td>455</td>\n",
       "      <td>5157</td>\n",
       "    </tr>\n",
       "    <tr>\n",
       "      <th>1</th>\n",
       "      <td>GB187600824</td>\n",
       "      <td>MIDDLESEX</td>\n",
       "      <td>WELLINGTON ,</td>\n",
       "      <td>BOW ,  NEWTON ,  ROAD ,  WELLINGTON ,  BOW , ...</td>\n",
       "      <td>BOW ,</td>\n",
       "      <td>NA</td>\n",
       "      <td>NA</td>\n",
       "      <td>28TH FEBRUARY  GEORGE NEWTON OF WELLINGTON ROAD</td>\n",
       "      <td>HISCO779, HISCO951, HISCO813, HISCO896, HISCO3...</td>\n",
       "      <td>LEFT BY GEORGE NEWTON AT THE OFFICE OF THE C...</td>\n",
       "      <td>OFFICE COMMISSIONER PATENT FEBRUARY WELLINGTON...</td>\n",
       "      <td>NaN</td>\n",
       "      <td>PATENT GB187600824A</td>\n",
       "      <td>342728</td>\n",
       "      <td>959</td>\n",
       "      <td>-1</td>\n",
       "      <td>1608</td>\n",
       "    </tr>\n",
       "    <tr>\n",
       "      <th>2</th>\n",
       "      <td>GB187601544</td>\n",
       "      <td>NA</td>\n",
       "      <td>BATH ,</td>\n",
       "      <td>LOOSE ,</td>\n",
       "      <td>BATH ,  BOX ,</td>\n",
       "      <td>BATH</td>\n",
       "      <td>NA</td>\n",
       "      <td>NA</td>\n",
       "      <td>HISCO999, HISCO974, HISCO90, HISCO24, HISCO901...</td>\n",
       "      <td>LUBRICATING AXLES AND SHAFTS LETTERS TO MARTY...</td>\n",
       "      <td>LUBRICATE AXLE SHAFT PATENT MARTYN BATH ESQUIR...</td>\n",
       "      <td>NaN</td>\n",
       "      <td>PATENT GB187601544A</td>\n",
       "      <td>25148967</td>\n",
       "      <td>801</td>\n",
       "      <td>-1</td>\n",
       "      <td>12596</td>\n",
       "    </tr>\n",
       "    <tr>\n",
       "      <th>3</th>\n",
       "      <td>GB187901073</td>\n",
       "      <td>NA</td>\n",
       "      <td>NA</td>\n",
       "      <td>MARCH ,  OVER ,  WOODBURY ,</td>\n",
       "      <td>BOX ,</td>\n",
       "      <td>DUBLIN</td>\n",
       "      <td>NA</td>\n",
       "      <td>ORMOND STREET</td>\n",
       "      <td>HISCO410, HISCO80, HISCO744, HISCO999, HISCO83...</td>\n",
       "      <td>REGISTRATION AND INDEXING OF DEEDS C LETTERS ...</td>\n",
       "      <td>REGISTRATION INDEX DEED PATENT THOMAS ARTHUR O...</td>\n",
       "      <td>NaN</td>\n",
       "      <td>PATENT GB187901073A</td>\n",
       "      <td>17468193</td>\n",
       "      <td>722</td>\n",
       "      <td>-1</td>\n",
       "      <td>39840</td>\n",
       "    </tr>\n",
       "    <tr>\n",
       "      <th>4</th>\n",
       "      <td>GB187901073</td>\n",
       "      <td>NA</td>\n",
       "      <td>NA</td>\n",
       "      <td>MARCH ,  OVER ,  WOODBURY ,</td>\n",
       "      <td>BOX ,</td>\n",
       "      <td>DUBLIN</td>\n",
       "      <td>NA</td>\n",
       "      <td>ORMOND STREET</td>\n",
       "      <td>HISCO410, HISCO80, HISCO744, HISCO999, HISCO83...</td>\n",
       "      <td>REGISTRATION AND INDEXING OF DEEDS C LETTERS ...</td>\n",
       "      <td>REGISTRATION INDEX DEED PATENT THOMAS ARTHUR O...</td>\n",
       "      <td>NaN</td>\n",
       "      <td>PATENT GB187901073A</td>\n",
       "      <td>8909867</td>\n",
       "      <td>624</td>\n",
       "      <td>-1</td>\n",
       "      <td>39840</td>\n",
       "    </tr>\n",
       "    <tr>\n",
       "      <th>...</th>\n",
       "      <td>...</td>\n",
       "      <td>...</td>\n",
       "      <td>...</td>\n",
       "      <td>...</td>\n",
       "      <td>...</td>\n",
       "      <td>...</td>\n",
       "      <td>...</td>\n",
       "      <td>...</td>\n",
       "      <td>...</td>\n",
       "      <td>...</td>\n",
       "      <td>...</td>\n",
       "      <td>...</td>\n",
       "      <td>...</td>\n",
       "      <td>...</td>\n",
       "      <td>...</td>\n",
       "      <td>...</td>\n",
       "      <td>...</td>\n",
       "    </tr>\n",
       "    <tr>\n",
       "      <th>22139</th>\n",
       "      <td>GB191211210</td>\n",
       "      <td>YORK</td>\n",
       "      <td>NA</td>\n",
       "      <td>ELLAND ,</td>\n",
       "      <td>NA</td>\n",
       "      <td>NA</td>\n",
       "      <td>NA</td>\n",
       "      <td>NA</td>\n",
       "      <td>NA</td>\n",
       "      <td>N     LIMITED OF ROSE MOUNT IRONWORKS ELLAND ...</td>\n",
       "      <td>GAS RETORT TYPE CONTINUOUS PRINCIPAL FACILITAT...</td>\n",
       "      <td>DEMPSTER ROBERT &amp; SONS LTD, HERBERT JOHN TOOGOOD</td>\n",
       "      <td>IMPROVED MEANS FOR DISCHARGING VERTICAL GAS RE...</td>\n",
       "      <td>19313371</td>\n",
       "      <td>985</td>\n",
       "      <td>209</td>\n",
       "      <td>5400</td>\n",
       "    </tr>\n",
       "    <tr>\n",
       "      <th>22140</th>\n",
       "      <td>GB191213037</td>\n",
       "      <td>LONDON ,</td>\n",
       "      <td>LONDON ,</td>\n",
       "      <td>NA</td>\n",
       "      <td>NA</td>\n",
       "      <td>NA</td>\n",
       "      <td>NA</td>\n",
       "      <td>31 32 BEDD STREET</td>\n",
       "      <td>HISCO333; HISCO999, HISCO999, HISCO33, HISCO333,</td>\n",
       "      <td>OF THE FIRM OF HERBERT CO OF 31 32 BEDD STRE...</td>\n",
       "      <td>COMMUNICATION ABROAD NATIONAL CASH REGISTER CO...</td>\n",
       "      <td>REGINALD HADDAN</td>\n",
       "      <td>IMPROVEMENTS IN AND RELATING TO ADDING AND TRA...</td>\n",
       "      <td>6923327</td>\n",
       "      <td>981</td>\n",
       "      <td>219</td>\n",
       "      <td>14885</td>\n",
       "    </tr>\n",
       "    <tr>\n",
       "      <th>22141</th>\n",
       "      <td>GB191213039</td>\n",
       "      <td>LONDON ,</td>\n",
       "      <td>LONDON ,</td>\n",
       "      <td>NA</td>\n",
       "      <td>NA</td>\n",
       "      <td>NA</td>\n",
       "      <td>NA</td>\n",
       "      <td>31 32 BEDD STREET</td>\n",
       "      <td>HISCO333; HISCO999, HISCO999, HISCO33, HISCO333,</td>\n",
       "      <td>OF THE FIRM OF HERBERT CO OF 31 32 BEDD STRE...</td>\n",
       "      <td>COMMUNICATION ABROAD NATIONAL CASH REGISTER CO...</td>\n",
       "      <td>REGINALD HADDAN</td>\n",
       "      <td>IMPROVEMENTS IN AND RELATING TO ZEROIZING MECH...</td>\n",
       "      <td>6923327</td>\n",
       "      <td>981</td>\n",
       "      <td>183</td>\n",
       "      <td>18562</td>\n",
       "    </tr>\n",
       "    <tr>\n",
       "      <th>22142</th>\n",
       "      <td>GB191217939</td>\n",
       "      <td>LONDON ,</td>\n",
       "      <td>LONDON ,</td>\n",
       "      <td>NA</td>\n",
       "      <td>NA</td>\n",
       "      <td>NA</td>\n",
       "      <td>NA</td>\n",
       "      <td>NA</td>\n",
       "      <td>HISCO333; HISCO999, HISCO999, HISCO33, HISCO333,</td>\n",
       "      <td>CHARTERED PATENT   OF 111 112 HATN GARDEN LO...</td>\n",
       "      <td>CORK APPARATUS DESIGN MACHINE KIND HOPPER EXPE...</td>\n",
       "      <td>ALFRED JULIUS BOULT</td>\n",
       "      <td>IMPROVEMENTS IN OR RELATING TO CORK FEEDING AP...</td>\n",
       "      <td>9758439</td>\n",
       "      <td>985</td>\n",
       "      <td>233</td>\n",
       "      <td>4103</td>\n",
       "    </tr>\n",
       "    <tr>\n",
       "      <th>22143</th>\n",
       "      <td>GB191220302</td>\n",
       "      <td>NA</td>\n",
       "      <td>LEEDS ,</td>\n",
       "      <td>NA</td>\n",
       "      <td>NA</td>\n",
       "      <td>NA</td>\n",
       "      <td>NA</td>\n",
       "      <td>NA</td>\n",
       "      <td>HISCO21, HISCO210,</td>\n",
       "      <td>HATLWOOD OF 7 GLADSNE TERRACE MLEY N...</td>\n",
       "      <td>PNEUMATIC LOCK MINER SAFETY LAMP ACTUATE SPRIN...</td>\n",
       "      <td>ERNEST ARTHUR HAILWOOD</td>\n",
       "      <td>IMPROVEMENTS IN AND RELATING TO PNEUMATIC LOCK...</td>\n",
       "      <td>7824915</td>\n",
       "      <td>819</td>\n",
       "      <td>206</td>\n",
       "      <td>17282</td>\n",
       "    </tr>\n",
       "  </tbody>\n",
       "</table>\n",
       "<p>22144 rows × 17 columns</p>\n",
       "</div>"
      ],
      "text/plain": [
       "                 i      county        district  \\\n",
       "0      GB187303416   MIDDLESEX             NA    \n",
       "1      GB187600824   MIDDLESEX   WELLINGTON ,    \n",
       "2      GB187601544         NA          BATH ,    \n",
       "3      GB187901073         NA              NA    \n",
       "4      GB187901073         NA              NA    \n",
       "...            ...         ...             ...   \n",
       "22139  GB191211210        YORK             NA    \n",
       "22140  GB191213037   LONDON ,        LONDON ,    \n",
       "22141  GB191213039   LONDON ,        LONDON ,    \n",
       "22142  GB191217939   LONDON ,        LONDON ,    \n",
       "22143  GB191220302         NA         LEEDS ,    \n",
       "\n",
       "                                             subdistrict           parish  \\\n",
       "0                                                    NA               NA    \n",
       "1       BOW ,  NEWTON ,  ROAD ,  WELLINGTON ,  BOW , ...           BOW ,    \n",
       "2                                               LOOSE ,    BATH ,  BOX ,    \n",
       "3                           MARCH ,  OVER ,  WOODBURY ,            BOX ,    \n",
       "4                           MARCH ,  OVER ,  WOODBURY ,            BOX ,    \n",
       "...                                                  ...              ...   \n",
       "22139                                          ELLAND ,               NA    \n",
       "22140                                                NA               NA    \n",
       "22141                                                NA               NA    \n",
       "22142                                                NA               NA    \n",
       "22143                                                NA               NA    \n",
       "\n",
       "         city  town                                           street  \\\n",
       "0         NA    NA                                        47  STREET   \n",
       "1         NA    NA   28TH FEBRUARY  GEORGE NEWTON OF WELLINGTON ROAD   \n",
       "2        BATH   NA                                               NA    \n",
       "3      DUBLIN   NA                                     ORMOND STREET   \n",
       "4      DUBLIN   NA                                     ORMOND STREET   \n",
       "...       ...   ...                                              ...   \n",
       "22139     NA    NA                                               NA    \n",
       "22140     NA    NA                                 31 32 BEDD STREET   \n",
       "22141     NA    NA                                 31 32 BEDD STREET   \n",
       "22142     NA    NA                                               NA    \n",
       "22143     NA    NA                                               NA    \n",
       "\n",
       "                                            occupation.x  \\\n",
       "0                         HISCO410, HISCO744, HISCO896,    \n",
       "1      HISCO779, HISCO951, HISCO813, HISCO896, HISCO3...   \n",
       "2      HISCO999, HISCO974, HISCO90, HISCO24, HISCO901...   \n",
       "3      HISCO410, HISCO80, HISCO744, HISCO999, HISCO83...   \n",
       "4      HISCO410, HISCO80, HISCO744, HISCO999, HISCO83...   \n",
       "...                                                  ...   \n",
       "22139                                                NA    \n",
       "22140  HISCO333; HISCO999, HISCO999, HISCO33, HISCO333,    \n",
       "22141  HISCO333; HISCO999, HISCO999, HISCO33, HISCO333,    \n",
       "22142  HISCO333; HISCO999, HISCO999, HISCO33, HISCO333,    \n",
       "22143                                HISCO21, HISCO210,    \n",
       "\n",
       "                                                    text  \\\n",
       "0        LETTERS TO JAMES HARVEY OF HILLSIDE ESTATE V...   \n",
       "1        LEFT BY GEORGE NEWTON AT THE OFFICE OF THE C...   \n",
       "2       LUBRICATING AXLES AND SHAFTS LETTERS TO MARTY...   \n",
       "3       REGISTRATION AND INDEXING OF DEEDS C LETTERS ...   \n",
       "4       REGISTRATION AND INDEXING OF DEEDS C LETTERS ...   \n",
       "...                                                  ...   \n",
       "22139   N     LIMITED OF ROSE MOUNT IRONWORKS ELLAND ...   \n",
       "22140    OF THE FIRM OF HERBERT CO OF 31 32 BEDD STRE...   \n",
       "22141    OF THE FIRM OF HERBERT CO OF 31 32 BEDD STRE...   \n",
       "22142    CHARTERED PATENT   OF 111 112 HATN GARDEN LO...   \n",
       "22143            HATLWOOD OF 7 GLADSNE TERRACE MLEY N...   \n",
       "\n",
       "                                             description  \\\n",
       "0      STILL DESIGN KIND COMMONLY COLONY DISTILL RUM ...   \n",
       "1      OFFICE COMMISSIONER PATENT FEBRUARY WELLINGTON...   \n",
       "2      LUBRICATE AXLE SHAFT PATENT MARTYN BATH ESQUIR...   \n",
       "3      REGISTRATION INDEX DEED PATENT THOMAS ARTHUR O...   \n",
       "4      REGISTRATION INDEX DEED PATENT THOMAS ARTHUR O...   \n",
       "...                                                  ...   \n",
       "22139  GAS RETORT TYPE CONTINUOUS PRINCIPAL FACILITAT...   \n",
       "22140  COMMUNICATION ABROAD NATIONAL CASH REGISTER CO...   \n",
       "22141  COMMUNICATION ABROAD NATIONAL CASH REGISTER CO...   \n",
       "22142  CORK APPARATUS DESIGN MACHINE KIND HOPPER EXPE...   \n",
       "22143  PNEUMATIC LOCK MINER SAFETY LAMP ACTUATE SPRIN...   \n",
       "\n",
       "                                                  names  \\\n",
       "0                                                   NaN   \n",
       "1                                                   NaN   \n",
       "2                                                   NaN   \n",
       "3                                                   NaN   \n",
       "4                                                   NaN   \n",
       "...                                                 ...   \n",
       "22139  DEMPSTER ROBERT & SONS LTD, HERBERT JOHN TOOGOOD   \n",
       "22140                                   REGINALD HADDAN   \n",
       "22141                                   REGINALD HADDAN   \n",
       "22142                               ALFRED JULIUS BOULT   \n",
       "22143                            ERNEST ARTHUR HAILWOOD   \n",
       "\n",
       "                                                   title     recid  \\\n",
       "0                                    PATENT GB187303416A   1811640   \n",
       "1                                    PATENT GB187600824A    342728   \n",
       "2                                    PATENT GB187601544A  25148967   \n",
       "3                                    PATENT GB187901073A  17468193   \n",
       "4                                    PATENT GB187901073A   8909867   \n",
       "...                                                  ...       ...   \n",
       "22139  IMPROVED MEANS FOR DISCHARGING VERTICAL GAS RE...  19313371   \n",
       "22140  IMPROVEMENTS IN AND RELATING TO ADDING AND TRA...   6923327   \n",
       "22141  IMPROVEMENTS IN AND RELATING TO ZEROIZING MECH...   6923327   \n",
       "22142  IMPROVEMENTS IN OR RELATING TO CORK FEEDING AP...   9758439   \n",
       "22143  IMPROVEMENTS IN AND RELATING TO PNEUMATIC LOCK...   7824915   \n",
       "\n",
       "       occupation.y  pos2    max  \n",
       "0               582   455   5157  \n",
       "1               959    -1   1608  \n",
       "2               801    -1  12596  \n",
       "3               722    -1  39840  \n",
       "4               624    -1  39840  \n",
       "...             ...   ...    ...  \n",
       "22139           985   209   5400  \n",
       "22140           981   219  14885  \n",
       "22141           981   183  18562  \n",
       "22142           985   233   4103  \n",
       "22143           819   206  17282  \n",
       "\n",
       "[22144 rows x 17 columns]"
      ]
     },
     "execution_count": 2,
     "metadata": {},
     "output_type": "execute_result"
    }
   ],
   "source": [
    "import pandas as pd\n",
    "import numpy as np\n",
    "from sklearn.feature_extraction.text import CountVectorizer\n",
    "from sklearn.metrics.pairwise import cosine_similarity\n",
    "from scipy.sparse import csr_matrix\n",
    "from scipy.sparse import save_npz, load_npz\n",
    "from scipy.sparse import csr_matrix, save_npz, load_npz\n",
    "import dask.dataframe as dd\n",
    "import gc\n",
    "\n",
    "def batch_cosine_similarity(dtm, batch_size=1000):\n",
    "    num_rows = dtm.shape[0]\n",
    "    for start in range(0, num_rows, batch_size):\n",
    "        end = min(start + batch_size, num_rows)\n",
    "        yield cosine_similarity(dtm[start:end], dtm)\n",
    "\n",
    "import psutil\n",
    "def print_ram_usage(step = 0):\n",
    "    process = psutil.Process()\n",
    "    mem_info = process.memory_info()\n",
    "    print(f\"[{step}] RAM Usage: {mem_info.rss / (1024 ** 2):.2f} MB\")\n",
    "\n",
    "# # Load data (assuming data is in a CSV file, replace 'data.csv' with your actual file path)\n",
    "data = pd.read_csv('../int_data/Input_patent_matrix.csv')\n",
    "data"
   ]
  },
  {
   "cell_type": "code",
   "execution_count": 32,
   "id": "e8405402-2184-4df6-9e28-a7ca0634221c",
   "metadata": {},
   "outputs": [],
   "source": [
    "# TODO: readme"
   ]
  },
  {
   "cell_type": "code",
   "execution_count": 22,
   "id": "c8e68e59-f631-48bd-8f8c-abc0acdf7c3b",
   "metadata": {},
   "outputs": [
    {
     "data": {
      "text/plain": [
       "(20762, 20762, 19076, True, 22144)"
      ]
     },
     "execution_count": 22,
     "metadata": {},
     "output_type": "execute_result"
    }
   ],
   "source": [
    "data.i.nunique(), data.description.nunique(), data.recid.nunique(), data[['recid', 'i']].set_index(['recid', 'i']).index.is_unique, len(data[['recid', 'i']].set_index(['recid', 'i']))\n",
    "# unique 22,144 patent-inventor pairs"
   ]
  },
  {
   "cell_type": "code",
   "execution_count": 23,
   "id": "0ea0dc73-534b-4ee7-b81e-a93ace43c68a",
   "metadata": {},
   "outputs": [
    {
     "data": {
      "text/html": [
       "<div>\n",
       "<style scoped>\n",
       "    .dataframe tbody tr th:only-of-type {\n",
       "        vertical-align: middle;\n",
       "    }\n",
       "\n",
       "    .dataframe tbody tr th {\n",
       "        vertical-align: top;\n",
       "    }\n",
       "\n",
       "    .dataframe thead th {\n",
       "        text-align: right;\n",
       "    }\n",
       "</style>\n",
       "<table border=\"1\" class=\"dataframe\">\n",
       "  <thead>\n",
       "    <tr style=\"text-align: right;\">\n",
       "      <th></th>\n",
       "      <th>i</th>\n",
       "      <th>county</th>\n",
       "      <th>district</th>\n",
       "      <th>subdistrict</th>\n",
       "      <th>parish</th>\n",
       "      <th>city</th>\n",
       "      <th>town</th>\n",
       "      <th>street</th>\n",
       "      <th>occupation.x</th>\n",
       "      <th>text</th>\n",
       "      <th>description</th>\n",
       "      <th>names</th>\n",
       "      <th>title</th>\n",
       "      <th>recid</th>\n",
       "      <th>occupation.y</th>\n",
       "      <th>pos2</th>\n",
       "      <th>max</th>\n",
       "      <th>strcount</th>\n",
       "    </tr>\n",
       "  </thead>\n",
       "  <tbody>\n",
       "    <tr>\n",
       "      <th>0</th>\n",
       "      <td>GB187303416</td>\n",
       "      <td>MIDDLESEX</td>\n",
       "      <td>NA</td>\n",
       "      <td>NA</td>\n",
       "      <td>NA</td>\n",
       "      <td>NA</td>\n",
       "      <td>NA</td>\n",
       "      <td>47  STREET</td>\n",
       "      <td>HISCO410, HISCO744, HISCO896,</td>\n",
       "      <td>LETTERS TO JAMES HARVEY OF HILLSIDE ESTATE V...</td>\n",
       "      <td>STILL DESIGN KIND COMMONLY COLONY DISTILL RUM ...</td>\n",
       "      <td>NaN</td>\n",
       "      <td>PATENT GB187303416A</td>\n",
       "      <td>1811640</td>\n",
       "      <td>582</td>\n",
       "      <td>455</td>\n",
       "      <td>5157</td>\n",
       "      <td>92</td>\n",
       "    </tr>\n",
       "    <tr>\n",
       "      <th>1</th>\n",
       "      <td>GB187600824</td>\n",
       "      <td>MIDDLESEX</td>\n",
       "      <td>WELLINGTON ,</td>\n",
       "      <td>BOW ,  NEWTON ,  ROAD ,  WELLINGTON ,  BOW , ...</td>\n",
       "      <td>BOW ,</td>\n",
       "      <td>NA</td>\n",
       "      <td>NA</td>\n",
       "      <td>28TH FEBRUARY  GEORGE NEWTON OF WELLINGTON ROAD</td>\n",
       "      <td>HISCO779, HISCO951, HISCO813, HISCO896, HISCO3...</td>\n",
       "      <td>LEFT BY GEORGE NEWTON AT THE OFFICE OF THE C...</td>\n",
       "      <td>OFFICE COMMISSIONER PATENT FEBRUARY WELLINGTON...</td>\n",
       "      <td>NaN</td>\n",
       "      <td>PATENT GB187600824A</td>\n",
       "      <td>342728</td>\n",
       "      <td>959</td>\n",
       "      <td>-1</td>\n",
       "      <td>1608</td>\n",
       "      <td>49</td>\n",
       "    </tr>\n",
       "    <tr>\n",
       "      <th>2</th>\n",
       "      <td>GB187601544</td>\n",
       "      <td>NA</td>\n",
       "      <td>BATH ,</td>\n",
       "      <td>LOOSE ,</td>\n",
       "      <td>BATH ,  BOX ,</td>\n",
       "      <td>BATH</td>\n",
       "      <td>NA</td>\n",
       "      <td>NA</td>\n",
       "      <td>HISCO999, HISCO974, HISCO90, HISCO24, HISCO901...</td>\n",
       "      <td>LUBRICATING AXLES AND SHAFTS LETTERS TO MARTY...</td>\n",
       "      <td>LUBRICATE AXLE SHAFT PATENT MARTYN BATH ESQUIR...</td>\n",
       "      <td>NaN</td>\n",
       "      <td>PATENT GB187601544A</td>\n",
       "      <td>25148967</td>\n",
       "      <td>801</td>\n",
       "      <td>-1</td>\n",
       "      <td>12596</td>\n",
       "      <td>122</td>\n",
       "    </tr>\n",
       "    <tr>\n",
       "      <th>3</th>\n",
       "      <td>GB188204200</td>\n",
       "      <td>WARWICKSHIRE</td>\n",
       "      <td>NA</td>\n",
       "      <td>NA</td>\n",
       "      <td>NA</td>\n",
       "      <td>NA</td>\n",
       "      <td>NA</td>\n",
       "      <td>18 TEMPLE STREET</td>\n",
       "      <td>HISCO949, HISCO443, HISCO161, HISCO799, HISCO2...</td>\n",
       "      <td>OF 18 TEMPLE STREET BIRMGHAM THE</td>\n",
       "      <td>BICYCLE PATENT TEMPLE BIRMINGHAM WARWICK AUCTI...</td>\n",
       "      <td>GEORGE SEELEY KELSEY</td>\n",
       "      <td>IMPROVEMENTS IN HANDLES FOR BICYCLES TRICYCLES...</td>\n",
       "      <td>765410</td>\n",
       "      <td>801</td>\n",
       "      <td>-1</td>\n",
       "      <td>3098</td>\n",
       "      <td>89</td>\n",
       "    </tr>\n",
       "    <tr>\n",
       "      <th>4</th>\n",
       "      <td>GB188803213</td>\n",
       "      <td>LINCOLNSHIRE</td>\n",
       "      <td>GAINSBOROUGH ,</td>\n",
       "      <td>GAINSBOROUGH ,</td>\n",
       "      <td>NA</td>\n",
       "      <td>NA</td>\n",
       "      <td>NA</td>\n",
       "      <td>TRINITY STREET</td>\n",
       "      <td>HISCO777,</td>\n",
       "      <td>LEAF IMPROVEMENTS IN MACHINERY OR APPARATUS ...</td>\n",
       "      <td>MACHINERY APPARATUS ROLL CURL TEA LEAF FLAT HO...</td>\n",
       "      <td>NaN</td>\n",
       "      <td>PATENT GB188803213A</td>\n",
       "      <td>157441</td>\n",
       "      <td>211</td>\n",
       "      <td>141</td>\n",
       "      <td>4680</td>\n",
       "      <td>65</td>\n",
       "    </tr>\n",
       "    <tr>\n",
       "      <th>...</th>\n",
       "      <td>...</td>\n",
       "      <td>...</td>\n",
       "      <td>...</td>\n",
       "      <td>...</td>\n",
       "      <td>...</td>\n",
       "      <td>...</td>\n",
       "      <td>...</td>\n",
       "      <td>...</td>\n",
       "      <td>...</td>\n",
       "      <td>...</td>\n",
       "      <td>...</td>\n",
       "      <td>...</td>\n",
       "      <td>...</td>\n",
       "      <td>...</td>\n",
       "      <td>...</td>\n",
       "      <td>...</td>\n",
       "      <td>...</td>\n",
       "      <td>...</td>\n",
       "    </tr>\n",
       "    <tr>\n",
       "      <th>22115</th>\n",
       "      <td>GB191211210</td>\n",
       "      <td>YORK</td>\n",
       "      <td>NA</td>\n",
       "      <td>ELLAND ,</td>\n",
       "      <td>NA</td>\n",
       "      <td>NA</td>\n",
       "      <td>NA</td>\n",
       "      <td>NA</td>\n",
       "      <td>NA</td>\n",
       "      <td>N     LIMITED OF ROSE MOUNT IRONWORKS ELLAND ...</td>\n",
       "      <td>GAS RETORT TYPE CONTINUOUS PRINCIPAL FACILITAT...</td>\n",
       "      <td>DEMPSTER ROBERT &amp; SONS LTD, HERBERT JOHN TOOGOOD</td>\n",
       "      <td>IMPROVED MEANS FOR DISCHARGING VERTICAL GAS RE...</td>\n",
       "      <td>19313371</td>\n",
       "      <td>985</td>\n",
       "      <td>209</td>\n",
       "      <td>5400</td>\n",
       "      <td>117</td>\n",
       "    </tr>\n",
       "    <tr>\n",
       "      <th>22116</th>\n",
       "      <td>GB191213037</td>\n",
       "      <td>LONDON ,</td>\n",
       "      <td>LONDON ,</td>\n",
       "      <td>NA</td>\n",
       "      <td>NA</td>\n",
       "      <td>NA</td>\n",
       "      <td>NA</td>\n",
       "      <td>31 32 BEDD STREET</td>\n",
       "      <td>HISCO333; HISCO999, HISCO999, HISCO33, HISCO333,</td>\n",
       "      <td>OF THE FIRM OF HERBERT CO OF 31 32 BEDD STRE...</td>\n",
       "      <td>COMMUNICATION ABROAD NATIONAL CASH REGISTER CO...</td>\n",
       "      <td>REGINALD HADDAN</td>\n",
       "      <td>IMPROVEMENTS IN AND RELATING TO ADDING AND TRA...</td>\n",
       "      <td>6923327</td>\n",
       "      <td>981</td>\n",
       "      <td>219</td>\n",
       "      <td>14885</td>\n",
       "      <td>229</td>\n",
       "    </tr>\n",
       "    <tr>\n",
       "      <th>22117</th>\n",
       "      <td>GB191213039</td>\n",
       "      <td>LONDON ,</td>\n",
       "      <td>LONDON ,</td>\n",
       "      <td>NA</td>\n",
       "      <td>NA</td>\n",
       "      <td>NA</td>\n",
       "      <td>NA</td>\n",
       "      <td>31 32 BEDD STREET</td>\n",
       "      <td>HISCO333; HISCO999, HISCO999, HISCO33, HISCO333,</td>\n",
       "      <td>OF THE FIRM OF HERBERT CO OF 31 32 BEDD STRE...</td>\n",
       "      <td>COMMUNICATION ABROAD NATIONAL CASH REGISTER CO...</td>\n",
       "      <td>REGINALD HADDAN</td>\n",
       "      <td>IMPROVEMENTS IN AND RELATING TO ZEROIZING MECH...</td>\n",
       "      <td>6923327</td>\n",
       "      <td>981</td>\n",
       "      <td>183</td>\n",
       "      <td>18562</td>\n",
       "      <td>256</td>\n",
       "    </tr>\n",
       "    <tr>\n",
       "      <th>22118</th>\n",
       "      <td>GB191217939</td>\n",
       "      <td>LONDON ,</td>\n",
       "      <td>LONDON ,</td>\n",
       "      <td>NA</td>\n",
       "      <td>NA</td>\n",
       "      <td>NA</td>\n",
       "      <td>NA</td>\n",
       "      <td>NA</td>\n",
       "      <td>HISCO333; HISCO999, HISCO999, HISCO33, HISCO333,</td>\n",
       "      <td>CHARTERED PATENT   OF 111 112 HATN GARDEN LO...</td>\n",
       "      <td>CORK APPARATUS DESIGN MACHINE KIND HOPPER EXPE...</td>\n",
       "      <td>ALFRED JULIUS BOULT</td>\n",
       "      <td>IMPROVEMENTS IN OR RELATING TO CORK FEEDING AP...</td>\n",
       "      <td>9758439</td>\n",
       "      <td>985</td>\n",
       "      <td>233</td>\n",
       "      <td>4103</td>\n",
       "      <td>78</td>\n",
       "    </tr>\n",
       "    <tr>\n",
       "      <th>22119</th>\n",
       "      <td>GB191220302</td>\n",
       "      <td>NA</td>\n",
       "      <td>LEEDS ,</td>\n",
       "      <td>NA</td>\n",
       "      <td>NA</td>\n",
       "      <td>NA</td>\n",
       "      <td>NA</td>\n",
       "      <td>NA</td>\n",
       "      <td>HISCO21, HISCO210,</td>\n",
       "      <td>HATLWOOD OF 7 GLADSNE TERRACE MLEY N...</td>\n",
       "      <td>PNEUMATIC LOCK MINER SAFETY LAMP ACTUATE SPRIN...</td>\n",
       "      <td>ERNEST ARTHUR HAILWOOD</td>\n",
       "      <td>IMPROVEMENTS IN AND RELATING TO PNEUMATIC LOCK...</td>\n",
       "      <td>7824915</td>\n",
       "      <td>819</td>\n",
       "      <td>206</td>\n",
       "      <td>17282</td>\n",
       "      <td>216</td>\n",
       "    </tr>\n",
       "  </tbody>\n",
       "</table>\n",
       "<p>22120 rows × 18 columns</p>\n",
       "</div>"
      ],
      "text/plain": [
       "                 i        county          district  \\\n",
       "0      GB187303416     MIDDLESEX               NA    \n",
       "1      GB187600824     MIDDLESEX     WELLINGTON ,    \n",
       "2      GB187601544           NA            BATH ,    \n",
       "3      GB188204200  WARWICKSHIRE               NA    \n",
       "4      GB188803213  LINCOLNSHIRE   GAINSBOROUGH ,    \n",
       "...            ...           ...               ...   \n",
       "22115  GB191211210          YORK               NA    \n",
       "22116  GB191213037     LONDON ,          LONDON ,    \n",
       "22117  GB191213039     LONDON ,          LONDON ,    \n",
       "22118  GB191217939     LONDON ,          LONDON ,    \n",
       "22119  GB191220302           NA           LEEDS ,    \n",
       "\n",
       "                                             subdistrict           parish  \\\n",
       "0                                                    NA               NA    \n",
       "1       BOW ,  NEWTON ,  ROAD ,  WELLINGTON ,  BOW , ...           BOW ,    \n",
       "2                                               LOOSE ,    BATH ,  BOX ,    \n",
       "3                                                    NA               NA    \n",
       "4                                        GAINSBOROUGH ,               NA    \n",
       "...                                                  ...              ...   \n",
       "22115                                          ELLAND ,               NA    \n",
       "22116                                                NA               NA    \n",
       "22117                                                NA               NA    \n",
       "22118                                                NA               NA    \n",
       "22119                                                NA               NA    \n",
       "\n",
       "       city  town                                           street  \\\n",
       "0       NA    NA                                        47  STREET   \n",
       "1       NA    NA   28TH FEBRUARY  GEORGE NEWTON OF WELLINGTON ROAD   \n",
       "2      BATH   NA                                               NA    \n",
       "3       NA    NA                                  18 TEMPLE STREET   \n",
       "4       NA    NA                                    TRINITY STREET   \n",
       "...     ...   ...                                              ...   \n",
       "22115   NA    NA                                               NA    \n",
       "22116   NA    NA                                 31 32 BEDD STREET   \n",
       "22117   NA    NA                                 31 32 BEDD STREET   \n",
       "22118   NA    NA                                               NA    \n",
       "22119   NA    NA                                               NA    \n",
       "\n",
       "                                            occupation.x  \\\n",
       "0                         HISCO410, HISCO744, HISCO896,    \n",
       "1      HISCO779, HISCO951, HISCO813, HISCO896, HISCO3...   \n",
       "2      HISCO999, HISCO974, HISCO90, HISCO24, HISCO901...   \n",
       "3      HISCO949, HISCO443, HISCO161, HISCO799, HISCO2...   \n",
       "4                                             HISCO777,    \n",
       "...                                                  ...   \n",
       "22115                                                NA    \n",
       "22116  HISCO333; HISCO999, HISCO999, HISCO33, HISCO333,    \n",
       "22117  HISCO333; HISCO999, HISCO999, HISCO33, HISCO333,    \n",
       "22118  HISCO333; HISCO999, HISCO999, HISCO33, HISCO333,    \n",
       "22119                                HISCO21, HISCO210,    \n",
       "\n",
       "                                                    text  \\\n",
       "0        LETTERS TO JAMES HARVEY OF HILLSIDE ESTATE V...   \n",
       "1        LEFT BY GEORGE NEWTON AT THE OFFICE OF THE C...   \n",
       "2       LUBRICATING AXLES AND SHAFTS LETTERS TO MARTY...   \n",
       "3                      OF 18 TEMPLE STREET BIRMGHAM THE    \n",
       "4        LEAF IMPROVEMENTS IN MACHINERY OR APPARATUS ...   \n",
       "...                                                  ...   \n",
       "22115   N     LIMITED OF ROSE MOUNT IRONWORKS ELLAND ...   \n",
       "22116    OF THE FIRM OF HERBERT CO OF 31 32 BEDD STRE...   \n",
       "22117    OF THE FIRM OF HERBERT CO OF 31 32 BEDD STRE...   \n",
       "22118    CHARTERED PATENT   OF 111 112 HATN GARDEN LO...   \n",
       "22119            HATLWOOD OF 7 GLADSNE TERRACE MLEY N...   \n",
       "\n",
       "                                             description  \\\n",
       "0      STILL DESIGN KIND COMMONLY COLONY DISTILL RUM ...   \n",
       "1      OFFICE COMMISSIONER PATENT FEBRUARY WELLINGTON...   \n",
       "2      LUBRICATE AXLE SHAFT PATENT MARTYN BATH ESQUIR...   \n",
       "3      BICYCLE PATENT TEMPLE BIRMINGHAM WARWICK AUCTI...   \n",
       "4      MACHINERY APPARATUS ROLL CURL TEA LEAF FLAT HO...   \n",
       "...                                                  ...   \n",
       "22115  GAS RETORT TYPE CONTINUOUS PRINCIPAL FACILITAT...   \n",
       "22116  COMMUNICATION ABROAD NATIONAL CASH REGISTER CO...   \n",
       "22117  COMMUNICATION ABROAD NATIONAL CASH REGISTER CO...   \n",
       "22118  CORK APPARATUS DESIGN MACHINE KIND HOPPER EXPE...   \n",
       "22119  PNEUMATIC LOCK MINER SAFETY LAMP ACTUATE SPRIN...   \n",
       "\n",
       "                                                  names  \\\n",
       "0                                                   NaN   \n",
       "1                                                   NaN   \n",
       "2                                                   NaN   \n",
       "3                                  GEORGE SEELEY KELSEY   \n",
       "4                                                   NaN   \n",
       "...                                                 ...   \n",
       "22115  DEMPSTER ROBERT & SONS LTD, HERBERT JOHN TOOGOOD   \n",
       "22116                                   REGINALD HADDAN   \n",
       "22117                                   REGINALD HADDAN   \n",
       "22118                               ALFRED JULIUS BOULT   \n",
       "22119                            ERNEST ARTHUR HAILWOOD   \n",
       "\n",
       "                                                   title     recid  \\\n",
       "0                                    PATENT GB187303416A   1811640   \n",
       "1                                    PATENT GB187600824A    342728   \n",
       "2                                    PATENT GB187601544A  25148967   \n",
       "3      IMPROVEMENTS IN HANDLES FOR BICYCLES TRICYCLES...    765410   \n",
       "4                                    PATENT GB188803213A    157441   \n",
       "...                                                  ...       ...   \n",
       "22115  IMPROVED MEANS FOR DISCHARGING VERTICAL GAS RE...  19313371   \n",
       "22116  IMPROVEMENTS IN AND RELATING TO ADDING AND TRA...   6923327   \n",
       "22117  IMPROVEMENTS IN AND RELATING TO ZEROIZING MECH...   6923327   \n",
       "22118  IMPROVEMENTS IN OR RELATING TO CORK FEEDING AP...   9758439   \n",
       "22119  IMPROVEMENTS IN AND RELATING TO PNEUMATIC LOCK...   7824915   \n",
       "\n",
       "       occupation.y  pos2    max  strcount  \n",
       "0               582   455   5157        92  \n",
       "1               959    -1   1608        49  \n",
       "2               801    -1  12596       122  \n",
       "3               801    -1   3098        89  \n",
       "4               211   141   4680        65  \n",
       "...             ...   ...    ...       ...  \n",
       "22115           985   209   5400       117  \n",
       "22116           981   219  14885       229  \n",
       "22117           981   183  18562       256  \n",
       "22118           985   233   4103        78  \n",
       "22119           819   206  17282       216  \n",
       "\n",
       "[22120 rows x 18 columns]"
      ]
     },
     "execution_count": 23,
     "metadata": {},
     "output_type": "execute_result"
    }
   ],
   "source": [
    "# Count the number of words in the 'description' column\n",
    "data['strcount'] = data['description'].str.split().str.len()\n",
    "# Filter the data based on the word count\n",
    "# Too long or too short patents are filtered\n",
    "data = data[(data['strcount'] > 10) & (data['strcount'] <= 500)].reset_index(drop = True)\n",
    "data"
   ]
  },
  {
   "cell_type": "code",
   "execution_count": 79,
   "id": "ea9f77ee-4221-46cf-be7d-dd3753052ca0",
   "metadata": {},
   "outputs": [
    {
     "data": {
      "text/plain": [
       "(description_len\n",
       " 492     50\n",
       " 550     43\n",
       " 487     42\n",
       " 398     40\n",
       " 416     39\n",
       "         ..\n",
       " 1667     1\n",
       " 2056     1\n",
       " 2695     1\n",
       " 3005     1\n",
       " 2540     1\n",
       " Name: count, Length: 2222, dtype: int64,\n",
       " 0)"
      ]
     },
     "execution_count": 79,
     "metadata": {},
     "output_type": "execute_result"
    }
   ],
   "source": [
    "data['description_len'] = data.description.apply(len)\n",
    "data['description_len'].value_counts(), data['description_len'].isna().sum()"
   ]
  },
  {
   "cell_type": "markdown",
   "id": "c5eb7a1d-8126-4d4f-afd5-d86c52bb443c",
   "metadata": {},
   "source": [
    "- All description are present and longer than 0"
   ]
  },
  {
   "cell_type": "code",
   "execution_count": 40,
   "id": "e782a1e3-7e35-48f5-bb9a-8ed191aa885c",
   "metadata": {},
   "outputs": [
    {
     "data": {
      "text/plain": [
       "(20742, 20742, 19062, True, 22120)"
      ]
     },
     "execution_count": 40,
     "metadata": {},
     "output_type": "execute_result"
    }
   ],
   "source": [
    "data.i.nunique(), data.description.nunique(), data.recid.nunique(), data[['recid', 'i']].set_index(['recid', 'i']).index.is_unique, len(data[['recid', 'i']].set_index(['recid', 'i']))\n",
    "# unique 22,120 patent-inventor pairs"
   ]
  },
  {
   "cell_type": "code",
   "execution_count": 25,
   "id": "75d372df-9faa-4525-9649-f457381b1bc3",
   "metadata": {},
   "outputs": [],
   "source": [
    "# Create a document-term matrix\n",
    "vectorizer = CountVectorizer()\n",
    "dtm = vectorizer.fit_transform(data['description'])\n",
    "\n",
    "# Save the DTM as a sparse matrix to avoid memory issues\n",
    "save_npz('../int_data/dtm.npz', dtm)"
   ]
  },
  {
   "cell_type": "code",
   "execution_count": 26,
   "id": "4dc2c0cc-5667-4468-9cb3-f106cafb6f4d",
   "metadata": {},
   "outputs": [
    {
     "data": {
      "text/plain": [
       "<22120x15296 sparse matrix of type '<class 'numpy.int64'>'\n",
       "\twith 2305115 stored elements in Compressed Sparse Row format>"
      ]
     },
     "execution_count": 26,
     "metadata": {},
     "output_type": "execute_result"
    }
   ],
   "source": [
    "dtm = load_npz('../int_data/dtm.npz')\n",
    "dtm"
   ]
  },
  {
   "cell_type": "code",
   "execution_count": 27,
   "id": "4b14c75c-34e1-40f7-9659-5d7c3a9d03bc",
   "metadata": {},
   "outputs": [],
   "source": [
    "# # Compute cosine similarity matrix using sparse operations\n",
    "cosine_sim_matrix = cosine_similarity(dtm, dense_output=False)"
   ]
  },
  {
   "cell_type": "code",
   "execution_count": 39,
   "id": "d6c2cc51-be14-4b55-b59f-40288d36de4e",
   "metadata": {},
   "outputs": [
    {
     "data": {
      "text/plain": [
       "<22120x22120 sparse matrix of type '<class 'numpy.float64'>'\n",
       "\twith 475489162 stored elements in Compressed Sparse Row format>"
      ]
     },
     "execution_count": 39,
     "metadata": {},
     "output_type": "execute_result"
    }
   ],
   "source": [
    "cosine_sim_matrix"
   ]
  },
  {
   "cell_type": "code",
   "execution_count": null,
   "id": "60abf521-58c2-474d-b27b-e2474ecc46d6",
   "metadata": {},
   "outputs": [],
   "source": [
    "# calculate zero cells\n",
    "# Given values\n",
    "total_elements = cosine_sim_matrix.shape[0] * cosine_sim_matrix.shape[1]\n",
    "non_zero_elements = cosine_sim_matrix.nnz\n",
    "zero_elements = total_elements - non_zero_elements\n",
    "\n",
    "zero_elements\n"
   ]
  },
  {
   "cell_type": "markdown",
   "id": "f9e2851a-cc1f-49d8-98a5-708abb38b0ac",
   "metadata": {},
   "source": [
    "- Explantions for zero cells despite all descriptions are present  \n",
    "Descriptions may have a very low overlap in terms of vocabulary, leading to zero similarity.  \n",
    "Descriptions might be very unique with little to no common words."
   ]
  },
  {
   "cell_type": "code",
   "execution_count": 56,
   "id": "f0b12249-84e7-48b8-b8a1-cb5cd11c8a09",
   "metadata": {},
   "outputs": [
    {
     "name": "stdout",
     "output_type": "stream",
     "text": [
      "The matrix is symmetric.\n"
     ]
    }
   ],
   "source": [
    "# symmetry and upper triangle\n",
    "from scipy.sparse import csr_matrix, triu\n",
    "\n",
    "# Check if the matrix is square (necessary for symmetry)\n",
    "if cosine_sim_matrix.shape[0] != cosine_sim_matrix.shape[1]:\n",
    "    is_symmetric = False\n",
    "else:\n",
    "    # Check for symmetry\n",
    "    is_symmetric = (cosine_sim_matrix != cosine_sim_matrix.transpose()).nnz == 0\n",
    "\n",
    "if is_symmetric:\n",
    "    # Extract the upper triangle\n",
    "    upper_triangle = triu(cosine_sim_matrix)\n",
    "    print(\"The matrix is symmetric.\")\n",
    "    # Optionally, convert to dense matrix for inspection (not recommended for large matrices)\n",
    "    # print(upper_triangle.toarray())\n",
    "else:\n",
    "    print(\"The matrix is not symmetric.\")"
   ]
  },
  {
   "cell_type": "code",
   "execution_count": 57,
   "id": "a9964597-0e71-439b-bded-f9799bd334dd",
   "metadata": {},
   "outputs": [
    {
     "data": {
      "text/plain": [
       "<22120x22120 sparse matrix of type '<class 'numpy.float64'>'\n",
       "\twith 237755641 stored elements in COOrdinate format>"
      ]
     },
     "execution_count": 57,
     "metadata": {},
     "output_type": "execute_result"
    }
   ],
   "source": [
    "upper_triangle"
   ]
  },
  {
   "cell_type": "code",
   "execution_count": 45,
   "id": "e4c0fbef-cb48-49c8-b016-b12fa6420446",
   "metadata": {},
   "outputs": [],
   "source": [
    "# np.fill_diagonal(cosine_sim_matrix, 0)\n",
    "cosine_sim_matrix.setdiag(0)"
   ]
  },
  {
   "cell_type": "code",
   "execution_count": 63,
   "id": "419369b0-b6b9-4b87-85f4-5f24499e6ea9",
   "metadata": {},
   "outputs": [
    {
     "data": {
      "text/plain": [
       "<22120x22120 sparse matrix of type '<class 'numpy.float64'>'\n",
       "\twith 237755641 stored elements in COOrdinate format>"
      ]
     },
     "execution_count": 63,
     "metadata": {},
     "output_type": "execute_result"
    }
   ],
   "source": [
    "import pickle\n",
    "\n",
    "# with open('../int_data/cosine_sim_matrix.pkl','wb') as f:\n",
    "#     pickle.dump(cosine_sim_matrix,f) # 5.3 GB\n",
    "\n",
    "with open('../int_data/cosine_sim_matrix_u.pkl','wb') as f:\n",
    "    pickle.dump(upper_triangle,f)\n",
    "    \n",
    "with open('../int_data/cosine_sim_matrix_u.pkl','rb') as f:\n",
    "    upper_triangle = pickle.load(f) # 22,120 unique patent-inventor pairs\n",
    "upper_triangle"
   ]
  },
  {
   "cell_type": "code",
   "execution_count": 58,
   "id": "467bd4fe-3637-4deb-9a48-6abc5ee35198",
   "metadata": {},
   "outputs": [
    {
     "data": {
      "text/html": [
       "<div>\n",
       "<style scoped>\n",
       "    .dataframe tbody tr th:only-of-type {\n",
       "        vertical-align: middle;\n",
       "    }\n",
       "\n",
       "    .dataframe tbody tr th {\n",
       "        vertical-align: top;\n",
       "    }\n",
       "\n",
       "    .dataframe thead th {\n",
       "        text-align: right;\n",
       "    }\n",
       "</style>\n",
       "<table border=\"1\" class=\"dataframe\">\n",
       "  <thead>\n",
       "    <tr style=\"text-align: right;\">\n",
       "      <th></th>\n",
       "      <th>0</th>\n",
       "      <th>1</th>\n",
       "      <th>2</th>\n",
       "      <th>3</th>\n",
       "      <th>4</th>\n",
       "      <th>5</th>\n",
       "      <th>6</th>\n",
       "      <th>7</th>\n",
       "      <th>8</th>\n",
       "      <th>9</th>\n",
       "      <th>...</th>\n",
       "      <th>22110</th>\n",
       "      <th>22111</th>\n",
       "      <th>22112</th>\n",
       "      <th>22113</th>\n",
       "      <th>22114</th>\n",
       "      <th>22115</th>\n",
       "      <th>22116</th>\n",
       "      <th>22117</th>\n",
       "      <th>22118</th>\n",
       "      <th>22119</th>\n",
       "    </tr>\n",
       "  </thead>\n",
       "  <tbody>\n",
       "    <tr>\n",
       "      <th>0</th>\n",
       "      <td>0.0</td>\n",
       "      <td>0.089363</td>\n",
       "      <td>0.199036</td>\n",
       "      <td>0.232076</td>\n",
       "      <td>0.051726</td>\n",
       "      <td>0.022887</td>\n",
       "      <td>0.068559</td>\n",
       "      <td>0.031798</td>\n",
       "      <td>0.031798</td>\n",
       "      <td>0.042563</td>\n",
       "      <td>...</td>\n",
       "      <td>0.088269</td>\n",
       "      <td>0.045775</td>\n",
       "      <td>0.037005</td>\n",
       "      <td>0.052963</td>\n",
       "      <td>0.037756</td>\n",
       "      <td>0.048193</td>\n",
       "      <td>0.089564</td>\n",
       "      <td>0.097741</td>\n",
       "      <td>0.070829</td>\n",
       "      <td>0.085126</td>\n",
       "    </tr>\n",
       "    <tr>\n",
       "      <th>1</th>\n",
       "      <td>0.0</td>\n",
       "      <td>0.000000</td>\n",
       "      <td>0.155844</td>\n",
       "      <td>0.075714</td>\n",
       "      <td>0.035438</td>\n",
       "      <td>0.156806</td>\n",
       "      <td>0.023486</td>\n",
       "      <td>0.065357</td>\n",
       "      <td>0.065357</td>\n",
       "      <td>0.000000</td>\n",
       "      <td>...</td>\n",
       "      <td>0.026878</td>\n",
       "      <td>0.015681</td>\n",
       "      <td>0.050706</td>\n",
       "      <td>0.054429</td>\n",
       "      <td>0.051735</td>\n",
       "      <td>0.039621</td>\n",
       "      <td>0.066082</td>\n",
       "      <td>0.053571</td>\n",
       "      <td>0.016175</td>\n",
       "      <td>0.029161</td>\n",
       "    </tr>\n",
       "    <tr>\n",
       "      <th>2</th>\n",
       "      <td>0.0</td>\n",
       "      <td>0.000000</td>\n",
       "      <td>0.000000</td>\n",
       "      <td>0.173454</td>\n",
       "      <td>0.067655</td>\n",
       "      <td>0.059871</td>\n",
       "      <td>0.074727</td>\n",
       "      <td>0.069318</td>\n",
       "      <td>0.069318</td>\n",
       "      <td>0.061856</td>\n",
       "      <td>...</td>\n",
       "      <td>0.136832</td>\n",
       "      <td>0.069850</td>\n",
       "      <td>0.056468</td>\n",
       "      <td>0.057727</td>\n",
       "      <td>0.041153</td>\n",
       "      <td>0.100855</td>\n",
       "      <td>0.084104</td>\n",
       "      <td>0.085227</td>\n",
       "      <td>0.082347</td>\n",
       "      <td>0.123712</td>\n",
       "    </tr>\n",
       "    <tr>\n",
       "      <th>3</th>\n",
       "      <td>0.0</td>\n",
       "      <td>0.000000</td>\n",
       "      <td>0.000000</td>\n",
       "      <td>0.000000</td>\n",
       "      <td>0.065738</td>\n",
       "      <td>0.046540</td>\n",
       "      <td>0.069705</td>\n",
       "      <td>0.016165</td>\n",
       "      <td>0.016165</td>\n",
       "      <td>0.043274</td>\n",
       "      <td>...</td>\n",
       "      <td>0.089745</td>\n",
       "      <td>0.023270</td>\n",
       "      <td>0.056436</td>\n",
       "      <td>0.053848</td>\n",
       "      <td>0.038387</td>\n",
       "      <td>0.078397</td>\n",
       "      <td>0.091061</td>\n",
       "      <td>0.072875</td>\n",
       "      <td>0.060011</td>\n",
       "      <td>0.050487</td>\n",
       "    </tr>\n",
       "    <tr>\n",
       "      <th>4</th>\n",
       "      <td>0.0</td>\n",
       "      <td>0.000000</td>\n",
       "      <td>0.000000</td>\n",
       "      <td>0.000000</td>\n",
       "      <td>0.000000</td>\n",
       "      <td>0.040844</td>\n",
       "      <td>0.122347</td>\n",
       "      <td>0.189151</td>\n",
       "      <td>0.189151</td>\n",
       "      <td>0.000000</td>\n",
       "      <td>...</td>\n",
       "      <td>0.140018</td>\n",
       "      <td>0.068073</td>\n",
       "      <td>0.088050</td>\n",
       "      <td>0.173277</td>\n",
       "      <td>0.044918</td>\n",
       "      <td>0.149071</td>\n",
       "      <td>0.180322</td>\n",
       "      <td>0.155043</td>\n",
       "      <td>0.154486</td>\n",
       "      <td>0.135032</td>\n",
       "    </tr>\n",
       "    <tr>\n",
       "      <th>...</th>\n",
       "      <td>...</td>\n",
       "      <td>...</td>\n",
       "      <td>...</td>\n",
       "      <td>...</td>\n",
       "      <td>...</td>\n",
       "      <td>...</td>\n",
       "      <td>...</td>\n",
       "      <td>...</td>\n",
       "      <td>...</td>\n",
       "      <td>...</td>\n",
       "      <td>...</td>\n",
       "      <td>...</td>\n",
       "      <td>...</td>\n",
       "      <td>...</td>\n",
       "      <td>...</td>\n",
       "      <td>...</td>\n",
       "      <td>...</td>\n",
       "      <td>...</td>\n",
       "      <td>...</td>\n",
       "      <td>...</td>\n",
       "      <td>...</td>\n",
       "    </tr>\n",
       "    <tr>\n",
       "      <th>22115</th>\n",
       "      <td>0.0</td>\n",
       "      <td>0.000000</td>\n",
       "      <td>0.000000</td>\n",
       "      <td>0.000000</td>\n",
       "      <td>0.000000</td>\n",
       "      <td>0.000000</td>\n",
       "      <td>0.000000</td>\n",
       "      <td>0.000000</td>\n",
       "      <td>0.000000</td>\n",
       "      <td>0.000000</td>\n",
       "      <td>...</td>\n",
       "      <td>0.000000</td>\n",
       "      <td>0.000000</td>\n",
       "      <td>0.000000</td>\n",
       "      <td>0.000000</td>\n",
       "      <td>0.000000</td>\n",
       "      <td>0.000000</td>\n",
       "      <td>0.189387</td>\n",
       "      <td>0.144453</td>\n",
       "      <td>0.094211</td>\n",
       "      <td>0.088066</td>\n",
       "    </tr>\n",
       "    <tr>\n",
       "      <th>22116</th>\n",
       "      <td>0.0</td>\n",
       "      <td>0.000000</td>\n",
       "      <td>0.000000</td>\n",
       "      <td>0.000000</td>\n",
       "      <td>0.000000</td>\n",
       "      <td>0.000000</td>\n",
       "      <td>0.000000</td>\n",
       "      <td>0.000000</td>\n",
       "      <td>0.000000</td>\n",
       "      <td>0.000000</td>\n",
       "      <td>...</td>\n",
       "      <td>0.000000</td>\n",
       "      <td>0.000000</td>\n",
       "      <td>0.000000</td>\n",
       "      <td>0.000000</td>\n",
       "      <td>0.000000</td>\n",
       "      <td>0.000000</td>\n",
       "      <td>0.000000</td>\n",
       "      <td>0.677339</td>\n",
       "      <td>0.194540</td>\n",
       "      <td>0.220319</td>\n",
       "    </tr>\n",
       "    <tr>\n",
       "      <th>22117</th>\n",
       "      <td>0.0</td>\n",
       "      <td>0.000000</td>\n",
       "      <td>0.000000</td>\n",
       "      <td>0.000000</td>\n",
       "      <td>0.000000</td>\n",
       "      <td>0.000000</td>\n",
       "      <td>0.000000</td>\n",
       "      <td>0.000000</td>\n",
       "      <td>0.000000</td>\n",
       "      <td>0.000000</td>\n",
       "      <td>...</td>\n",
       "      <td>0.000000</td>\n",
       "      <td>0.000000</td>\n",
       "      <td>0.000000</td>\n",
       "      <td>0.000000</td>\n",
       "      <td>0.000000</td>\n",
       "      <td>0.000000</td>\n",
       "      <td>0.000000</td>\n",
       "      <td>0.000000</td>\n",
       "      <td>0.226455</td>\n",
       "      <td>0.259408</td>\n",
       "    </tr>\n",
       "    <tr>\n",
       "      <th>22118</th>\n",
       "      <td>0.0</td>\n",
       "      <td>0.000000</td>\n",
       "      <td>0.000000</td>\n",
       "      <td>0.000000</td>\n",
       "      <td>0.000000</td>\n",
       "      <td>0.000000</td>\n",
       "      <td>0.000000</td>\n",
       "      <td>0.000000</td>\n",
       "      <td>0.000000</td>\n",
       "      <td>0.000000</td>\n",
       "      <td>...</td>\n",
       "      <td>0.000000</td>\n",
       "      <td>0.000000</td>\n",
       "      <td>0.000000</td>\n",
       "      <td>0.000000</td>\n",
       "      <td>0.000000</td>\n",
       "      <td>0.000000</td>\n",
       "      <td>0.000000</td>\n",
       "      <td>0.000000</td>\n",
       "      <td>0.000000</td>\n",
       "      <td>0.200308</td>\n",
       "    </tr>\n",
       "    <tr>\n",
       "      <th>22119</th>\n",
       "      <td>0.0</td>\n",
       "      <td>0.000000</td>\n",
       "      <td>0.000000</td>\n",
       "      <td>0.000000</td>\n",
       "      <td>0.000000</td>\n",
       "      <td>0.000000</td>\n",
       "      <td>0.000000</td>\n",
       "      <td>0.000000</td>\n",
       "      <td>0.000000</td>\n",
       "      <td>0.000000</td>\n",
       "      <td>...</td>\n",
       "      <td>0.000000</td>\n",
       "      <td>0.000000</td>\n",
       "      <td>0.000000</td>\n",
       "      <td>0.000000</td>\n",
       "      <td>0.000000</td>\n",
       "      <td>0.000000</td>\n",
       "      <td>0.000000</td>\n",
       "      <td>0.000000</td>\n",
       "      <td>0.000000</td>\n",
       "      <td>0.000000</td>\n",
       "    </tr>\n",
       "  </tbody>\n",
       "</table>\n",
       "<p>22120 rows × 22120 columns</p>\n",
       "</div>"
      ],
      "text/plain": [
       "       0         1         2         3         4         5         6      \\\n",
       "0        0.0  0.089363  0.199036  0.232076  0.051726  0.022887  0.068559   \n",
       "1        0.0  0.000000  0.155844  0.075714  0.035438  0.156806  0.023486   \n",
       "2        0.0  0.000000  0.000000  0.173454  0.067655  0.059871  0.074727   \n",
       "3        0.0  0.000000  0.000000  0.000000  0.065738  0.046540  0.069705   \n",
       "4        0.0  0.000000  0.000000  0.000000  0.000000  0.040844  0.122347   \n",
       "...      ...       ...       ...       ...       ...       ...       ...   \n",
       "22115    0.0  0.000000  0.000000  0.000000  0.000000  0.000000  0.000000   \n",
       "22116    0.0  0.000000  0.000000  0.000000  0.000000  0.000000  0.000000   \n",
       "22117    0.0  0.000000  0.000000  0.000000  0.000000  0.000000  0.000000   \n",
       "22118    0.0  0.000000  0.000000  0.000000  0.000000  0.000000  0.000000   \n",
       "22119    0.0  0.000000  0.000000  0.000000  0.000000  0.000000  0.000000   \n",
       "\n",
       "          7         8         9      ...     22110     22111     22112  \\\n",
       "0      0.031798  0.031798  0.042563  ...  0.088269  0.045775  0.037005   \n",
       "1      0.065357  0.065357  0.000000  ...  0.026878  0.015681  0.050706   \n",
       "2      0.069318  0.069318  0.061856  ...  0.136832  0.069850  0.056468   \n",
       "3      0.016165  0.016165  0.043274  ...  0.089745  0.023270  0.056436   \n",
       "4      0.189151  0.189151  0.000000  ...  0.140018  0.068073  0.088050   \n",
       "...         ...       ...       ...  ...       ...       ...       ...   \n",
       "22115  0.000000  0.000000  0.000000  ...  0.000000  0.000000  0.000000   \n",
       "22116  0.000000  0.000000  0.000000  ...  0.000000  0.000000  0.000000   \n",
       "22117  0.000000  0.000000  0.000000  ...  0.000000  0.000000  0.000000   \n",
       "22118  0.000000  0.000000  0.000000  ...  0.000000  0.000000  0.000000   \n",
       "22119  0.000000  0.000000  0.000000  ...  0.000000  0.000000  0.000000   \n",
       "\n",
       "          22113     22114     22115     22116     22117     22118     22119  \n",
       "0      0.052963  0.037756  0.048193  0.089564  0.097741  0.070829  0.085126  \n",
       "1      0.054429  0.051735  0.039621  0.066082  0.053571  0.016175  0.029161  \n",
       "2      0.057727  0.041153  0.100855  0.084104  0.085227  0.082347  0.123712  \n",
       "3      0.053848  0.038387  0.078397  0.091061  0.072875  0.060011  0.050487  \n",
       "4      0.173277  0.044918  0.149071  0.180322  0.155043  0.154486  0.135032  \n",
       "...         ...       ...       ...       ...       ...       ...       ...  \n",
       "22115  0.000000  0.000000  0.000000  0.189387  0.144453  0.094211  0.088066  \n",
       "22116  0.000000  0.000000  0.000000  0.000000  0.677339  0.194540  0.220319  \n",
       "22117  0.000000  0.000000  0.000000  0.000000  0.000000  0.226455  0.259408  \n",
       "22118  0.000000  0.000000  0.000000  0.000000  0.000000  0.000000  0.200308  \n",
       "22119  0.000000  0.000000  0.000000  0.000000  0.000000  0.000000  0.000000  \n",
       "\n",
       "[22120 rows x 22120 columns]"
      ]
     },
     "execution_count": 58,
     "metadata": {},
     "output_type": "execute_result"
    }
   ],
   "source": [
    "# Convert the sparse cosine similarity matrix to a DataFrame for further processing\n",
    "cosine_sim_df = pd.DataFrame.sparse.from_spmatrix(upper_triangle)\n",
    "cosine_sim_df.reset_index(inplace=True, drop = True)\n",
    "cosine_sim_df"
   ]
  },
  {
   "cell_type": "code",
   "execution_count": 65,
   "id": "6953e81c-dd06-4cea-b500-593f70a00b40",
   "metadata": {},
   "outputs": [
    {
     "data": {
      "text/plain": [
       "251560879"
      ]
     },
     "execution_count": 65,
     "metadata": {},
     "output_type": "execute_result"
    }
   ],
   "source": [
    "zero_count = np.sum(cosine_sim_df.values == 0)\n",
    "zero_count"
   ]
  },
  {
   "cell_type": "code",
   "execution_count": 69,
   "id": "34ceb3d6-b430-460b-b564-3eab51cc2f6d",
   "metadata": {},
   "outputs": [],
   "source": [
    "cosine_sim_long = pd.melt(cosine_sim_df.reset_index(), id_vars=['index'], var_name='Column', value_name='Value')\n",
    "cosine_sim_long = cosine_sim_long.rename(columns={'index': 'i'}).reset_index(drop =True)"
   ]
  },
  {
   "cell_type": "code",
   "execution_count": 72,
   "id": "c98c9d1a-58d9-467d-aea6-b47b78b1fcd7",
   "metadata": {},
   "outputs": [
    {
     "data": {
      "text/plain": [
       "<Axes: >"
      ]
     },
     "execution_count": 72,
     "metadata": {},
     "output_type": "execute_result"
    },
    {
     "data": {
      "image/png": "[encoded data removed]",
      "text/plain": [
       "<Figure size 640x480 with 1 Axes>"
      ]
     },
     "metadata": {},
     "output_type": "display_data"
    }
   ],
   "source": [
    "cosine_sim_long = cosine_sim_long[cosine_sim_long.Value > 0]\n",
    "cosine_sim_long.Value.hist()"
   ]
  },
  {
   "cell_type": "code",
   "execution_count": 80,
   "id": "1ea82511-2a63-4e86-8f63-8de779e8d1eb",
   "metadata": {},
   "outputs": [
    {
     "data": {
      "text/html": [
       "<div>\n",
       "<style scoped>\n",
       "    .dataframe tbody tr th:only-of-type {\n",
       "        vertical-align: middle;\n",
       "    }\n",
       "\n",
       "    .dataframe tbody tr th {\n",
       "        vertical-align: top;\n",
       "    }\n",
       "\n",
       "    .dataframe thead th {\n",
       "        text-align: right;\n",
       "    }\n",
       "</style>\n",
       "<table border=\"1\" class=\"dataframe\">\n",
       "  <thead>\n",
       "    <tr style=\"text-align: right;\">\n",
       "      <th></th>\n",
       "      <th>i</th>\n",
       "      <th>Column</th>\n",
       "      <th>Value</th>\n",
       "    </tr>\n",
       "  </thead>\n",
       "  <tbody>\n",
       "    <tr>\n",
       "      <th>0</th>\n",
       "      <td>0</td>\n",
       "      <td>1</td>\n",
       "      <td>0.089363</td>\n",
       "    </tr>\n",
       "    <tr>\n",
       "      <th>1</th>\n",
       "      <td>0</td>\n",
       "      <td>2</td>\n",
       "      <td>0.199036</td>\n",
       "    </tr>\n",
       "    <tr>\n",
       "      <th>2</th>\n",
       "      <td>1</td>\n",
       "      <td>2</td>\n",
       "      <td>0.155844</td>\n",
       "    </tr>\n",
       "    <tr>\n",
       "      <th>3</th>\n",
       "      <td>0</td>\n",
       "      <td>3</td>\n",
       "      <td>0.232076</td>\n",
       "    </tr>\n",
       "    <tr>\n",
       "      <th>4</th>\n",
       "      <td>1</td>\n",
       "      <td>3</td>\n",
       "      <td>0.075714</td>\n",
       "    </tr>\n",
       "    <tr>\n",
       "      <th>...</th>\n",
       "      <td>...</td>\n",
       "      <td>...</td>\n",
       "      <td>...</td>\n",
       "    </tr>\n",
       "    <tr>\n",
       "      <th>237733516</th>\n",
       "      <td>22114</td>\n",
       "      <td>22119</td>\n",
       "      <td>0.086242</td>\n",
       "    </tr>\n",
       "    <tr>\n",
       "      <th>237733517</th>\n",
       "      <td>22115</td>\n",
       "      <td>22119</td>\n",
       "      <td>0.088066</td>\n",
       "    </tr>\n",
       "    <tr>\n",
       "      <th>237733518</th>\n",
       "      <td>22116</td>\n",
       "      <td>22119</td>\n",
       "      <td>0.220319</td>\n",
       "    </tr>\n",
       "    <tr>\n",
       "      <th>237733519</th>\n",
       "      <td>22117</td>\n",
       "      <td>22119</td>\n",
       "      <td>0.259408</td>\n",
       "    </tr>\n",
       "    <tr>\n",
       "      <th>237733520</th>\n",
       "      <td>22118</td>\n",
       "      <td>22119</td>\n",
       "      <td>0.200308</td>\n",
       "    </tr>\n",
       "  </tbody>\n",
       "</table>\n",
       "<p>237733521 rows × 3 columns</p>\n",
       "</div>"
      ],
      "text/plain": [
       "               i Column     Value\n",
       "0              0      1  0.089363\n",
       "1              0      2  0.199036\n",
       "2              1      2  0.155844\n",
       "3              0      3  0.232076\n",
       "4              1      3  0.075714\n",
       "...          ...    ...       ...\n",
       "237733516  22114  22119  0.086242\n",
       "237733517  22115  22119  0.088066\n",
       "237733518  22116  22119  0.220319\n",
       "237733519  22117  22119  0.259408\n",
       "237733520  22118  22119  0.200308\n",
       "\n",
       "[237733521 rows x 3 columns]"
      ]
     },
     "execution_count": 80,
     "metadata": {},
     "output_type": "execute_result"
    }
   ],
   "source": [
    "cosine_sim_long = cosine_sim_long.reset_index(drop =True)\n",
    "cosine_sim_long"
   ]
  },
  {
   "cell_type": "markdown",
   "id": "773a4cbc-288d-47d0-bfca-e652b1dee2b6",
   "metadata": {},
   "source": [
    "What happened so far:\n",
    "- 22,120 patent-inventor pairs selected based on approriate strcount of description\n",
    "- All zero values due to low similarity (dtm) dropped (0.13 billion)\n",
    "- Picked only the upper triangle"
   ]
  },
  {
   "cell_type": "code",
   "execution_count": 88,
   "id": "f439062d-a71a-4fc1-a4ad-4f53d169b665",
   "metadata": {},
   "outputs": [
    {
     "data": {
      "text/html": [
       "<div>\n",
       "<style scoped>\n",
       "    .dataframe tbody tr th:only-of-type {\n",
       "        vertical-align: middle;\n",
       "    }\n",
       "\n",
       "    .dataframe tbody tr th {\n",
       "        vertical-align: top;\n",
       "    }\n",
       "\n",
       "    .dataframe thead th {\n",
       "        text-align: right;\n",
       "    }\n",
       "</style>\n",
       "<table border=\"1\" class=\"dataframe\">\n",
       "  <thead>\n",
       "    <tr style=\"text-align: right;\">\n",
       "      <th></th>\n",
       "      <th>i</th>\n",
       "      <th>j</th>\n",
       "      <th>Value</th>\n",
       "      <th>occ_i</th>\n",
       "    </tr>\n",
       "  </thead>\n",
       "  <tbody>\n",
       "    <tr>\n",
       "      <th>0</th>\n",
       "      <td>0</td>\n",
       "      <td>1</td>\n",
       "      <td>0.089363</td>\n",
       "      <td>HISCO410, HISCO744, HISCO896,</td>\n",
       "    </tr>\n",
       "    <tr>\n",
       "      <th>1</th>\n",
       "      <td>0</td>\n",
       "      <td>2</td>\n",
       "      <td>0.199036</td>\n",
       "      <td>HISCO410, HISCO744, HISCO896,</td>\n",
       "    </tr>\n",
       "    <tr>\n",
       "      <th>2</th>\n",
       "      <td>1</td>\n",
       "      <td>2</td>\n",
       "      <td>0.155844</td>\n",
       "      <td>HISCO779, HISCO951, HISCO813, HISCO896, HISCO3...</td>\n",
       "    </tr>\n",
       "    <tr>\n",
       "      <th>3</th>\n",
       "      <td>0</td>\n",
       "      <td>3</td>\n",
       "      <td>0.232076</td>\n",
       "      <td>HISCO410, HISCO744, HISCO896,</td>\n",
       "    </tr>\n",
       "    <tr>\n",
       "      <th>4</th>\n",
       "      <td>1</td>\n",
       "      <td>3</td>\n",
       "      <td>0.075714</td>\n",
       "      <td>HISCO779, HISCO951, HISCO813, HISCO896, HISCO3...</td>\n",
       "    </tr>\n",
       "    <tr>\n",
       "      <th>...</th>\n",
       "      <td>...</td>\n",
       "      <td>...</td>\n",
       "      <td>...</td>\n",
       "      <td>...</td>\n",
       "    </tr>\n",
       "    <tr>\n",
       "      <th>237733516</th>\n",
       "      <td>22114</td>\n",
       "      <td>22119</td>\n",
       "      <td>0.086242</td>\n",
       "      <td>NA</td>\n",
       "    </tr>\n",
       "    <tr>\n",
       "      <th>237733517</th>\n",
       "      <td>22115</td>\n",
       "      <td>22119</td>\n",
       "      <td>0.088066</td>\n",
       "      <td>NA</td>\n",
       "    </tr>\n",
       "    <tr>\n",
       "      <th>237733518</th>\n",
       "      <td>22116</td>\n",
       "      <td>22119</td>\n",
       "      <td>0.220319</td>\n",
       "      <td>HISCO333; HISCO999, HISCO999, HISCO33, HISCO333,</td>\n",
       "    </tr>\n",
       "    <tr>\n",
       "      <th>237733519</th>\n",
       "      <td>22117</td>\n",
       "      <td>22119</td>\n",
       "      <td>0.259408</td>\n",
       "      <td>HISCO333; HISCO999, HISCO999, HISCO33, HISCO333,</td>\n",
       "    </tr>\n",
       "    <tr>\n",
       "      <th>237733520</th>\n",
       "      <td>22118</td>\n",
       "      <td>22119</td>\n",
       "      <td>0.200308</td>\n",
       "      <td>HISCO333; HISCO999, HISCO999, HISCO33, HISCO333,</td>\n",
       "    </tr>\n",
       "  </tbody>\n",
       "</table>\n",
       "<p>237733521 rows × 4 columns</p>\n",
       "</div>"
      ],
      "text/plain": [
       "               i      j     Value  \\\n",
       "0              0      1  0.089363   \n",
       "1              0      2  0.199036   \n",
       "2              1      2  0.155844   \n",
       "3              0      3  0.232076   \n",
       "4              1      3  0.075714   \n",
       "...          ...    ...       ...   \n",
       "237733516  22114  22119  0.086242   \n",
       "237733517  22115  22119  0.088066   \n",
       "237733518  22116  22119  0.220319   \n",
       "237733519  22117  22119  0.259408   \n",
       "237733520  22118  22119  0.200308   \n",
       "\n",
       "                                                       occ_i  \n",
       "0                             HISCO410, HISCO744, HISCO896,   \n",
       "1                             HISCO410, HISCO744, HISCO896,   \n",
       "2          HISCO779, HISCO951, HISCO813, HISCO896, HISCO3...  \n",
       "3                             HISCO410, HISCO744, HISCO896,   \n",
       "4          HISCO779, HISCO951, HISCO813, HISCO896, HISCO3...  \n",
       "...                                                      ...  \n",
       "237733516                                                NA   \n",
       "237733517                                                NA   \n",
       "237733518  HISCO333; HISCO999, HISCO999, HISCO33, HISCO333,   \n",
       "237733519  HISCO333; HISCO999, HISCO999, HISCO33, HISCO333,   \n",
       "237733520  HISCO333; HISCO999, HISCO999, HISCO33, HISCO333,   \n",
       "\n",
       "[237733521 rows x 4 columns]"
      ]
     },
     "execution_count": 88,
     "metadata": {},
     "output_type": "execute_result"
    }
   ],
   "source": [
    "cosine_sim_long"
   ]
  },
  {
   "cell_type": "code",
   "execution_count": 91,
   "id": "fe832016-604e-4ee4-8daf-481c6e160f34",
   "metadata": {},
   "outputs": [
    {
     "data": {
      "text/html": [
       "<div>\n",
       "<style scoped>\n",
       "    .dataframe tbody tr th:only-of-type {\n",
       "        vertical-align: middle;\n",
       "    }\n",
       "\n",
       "    .dataframe tbody tr th {\n",
       "        vertical-align: top;\n",
       "    }\n",
       "\n",
       "    .dataframe thead th {\n",
       "        text-align: right;\n",
       "    }\n",
       "</style>\n",
       "<table border=\"1\" class=\"dataframe\">\n",
       "  <thead>\n",
       "    <tr style=\"text-align: right;\">\n",
       "      <th></th>\n",
       "      <th>occupation_1</th>\n",
       "      <th>occupation_2</th>\n",
       "      <th>Combined_Value</th>\n",
       "    </tr>\n",
       "  </thead>\n",
       "  <tbody>\n",
       "    <tr>\n",
       "      <th>0</th>\n",
       "      <td>HISCO410</td>\n",
       "      <td>HISCO744</td>\n",
       "      <td>0.166452</td>\n",
       "    </tr>\n",
       "    <tr>\n",
       "      <th>1</th>\n",
       "      <td>HISCO410</td>\n",
       "      <td>HISCO896</td>\n",
       "      <td>0.169314</td>\n",
       "    </tr>\n",
       "    <tr>\n",
       "      <th>2</th>\n",
       "      <td>HISCO410</td>\n",
       "      <td>HISCO779</td>\n",
       "      <td>0.150686</td>\n",
       "    </tr>\n",
       "    <tr>\n",
       "      <th>3</th>\n",
       "      <td>HISCO410</td>\n",
       "      <td>HISCO951</td>\n",
       "      <td>0.156130</td>\n",
       "    </tr>\n",
       "    <tr>\n",
       "      <th>4</th>\n",
       "      <td>HISCO410</td>\n",
       "      <td>HISCO813</td>\n",
       "      <td>0.169089</td>\n",
       "    </tr>\n",
       "    <tr>\n",
       "      <th>...</th>\n",
       "      <td>...</td>\n",
       "      <td>...</td>\n",
       "      <td>...</td>\n",
       "    </tr>\n",
       "    <tr>\n",
       "      <th>59775</th>\n",
       "      <td>HISCO395</td>\n",
       "      <td>HISCO755</td>\n",
       "      <td>0.219659</td>\n",
       "    </tr>\n",
       "    <tr>\n",
       "      <th>59776</th>\n",
       "      <td>HISCO395</td>\n",
       "      <td>HISCO641</td>\n",
       "      <td>0.190232</td>\n",
       "    </tr>\n",
       "    <tr>\n",
       "      <th>59777</th>\n",
       "      <td>HISCO395</td>\n",
       "      <td>HISCO772</td>\n",
       "      <td>0.102327</td>\n",
       "    </tr>\n",
       "    <tr>\n",
       "      <th>59778</th>\n",
       "      <td>HISCO395</td>\n",
       "      <td>HISCO815</td>\n",
       "      <td>0.178434</td>\n",
       "    </tr>\n",
       "    <tr>\n",
       "      <th>59779</th>\n",
       "      <td>HISCO395</td>\n",
       "      <td>HISCO902</td>\n",
       "      <td>0.102327</td>\n",
       "    </tr>\n",
       "  </tbody>\n",
       "</table>\n",
       "<p>59780 rows × 3 columns</p>\n",
       "</div>"
      ],
      "text/plain": [
       "      occupation_1 occupation_2  Combined_Value\n",
       "0         HISCO410     HISCO744        0.166452\n",
       "1         HISCO410     HISCO896        0.169314\n",
       "2         HISCO410     HISCO779        0.150686\n",
       "3         HISCO410     HISCO951        0.156130\n",
       "4         HISCO410     HISCO813        0.169089\n",
       "...            ...          ...             ...\n",
       "59775     HISCO395     HISCO755        0.219659\n",
       "59776     HISCO395     HISCO641        0.190232\n",
       "59777     HISCO395     HISCO772        0.102327\n",
       "59778     HISCO395     HISCO815        0.178434\n",
       "59779     HISCO395     HISCO902        0.102327\n",
       "\n",
       "[59780 rows x 3 columns]"
      ]
     },
     "execution_count": 91,
     "metadata": {},
     "output_type": "execute_result"
    }
   ],
   "source": [
    "# agg_occ = pd.read_feather('../final_data/agg_occ.feather')\n",
    "agg_occ"
   ]
  },
  {
   "cell_type": "code",
   "execution_count": 81,
   "id": "d9e21ad2-2f33-43bb-a912-6280227fa9bb",
   "metadata": {},
   "outputs": [
    {
     "ename": "KeyError",
     "evalue": "'j'",
     "output_type": "error",
     "traceback": [
      "\u001b[0;31m---------------------------------------------------------------------------\u001b[0m",
      "\u001b[0;31mKeyError\u001b[0m                                  Traceback (most recent call last)",
      "\u001b[0;32m/tmp/ipykernel_19511/2544272819.py\u001b[0m in \u001b[0;36m?\u001b[0;34m()\u001b[0m\n\u001b[1;32m      1\u001b[0m \u001b[0;31m# Merge data to get 'occhisco_i' and 'occhisco_j'\u001b[0m\u001b[0;34m\u001b[0m\u001b[0;34m\u001b[0m\u001b[0m\n\u001b[1;32m      2\u001b[0m \u001b[0mcosine_sim_long\u001b[0m \u001b[0;34m=\u001b[0m \u001b[0mpd\u001b[0m\u001b[0;34m.\u001b[0m\u001b[0mmerge\u001b[0m\u001b[0;34m(\u001b[0m\u001b[0mcosine_sim_long\u001b[0m\u001b[0;34m,\u001b[0m \u001b[0mdata\u001b[0m\u001b[0;34m[\u001b[0m\u001b[0;34m[\u001b[0m\u001b[0;34m'occupation.x'\u001b[0m\u001b[0;34m]\u001b[0m\u001b[0;34m]\u001b[0m\u001b[0;34m,\u001b[0m \u001b[0mleft_on\u001b[0m\u001b[0;34m=\u001b[0m\u001b[0;34m'i'\u001b[0m\u001b[0;34m,\u001b[0m \u001b[0mright_index\u001b[0m\u001b[0;34m=\u001b[0m\u001b[0;32mTrue\u001b[0m\u001b[0;34m,\u001b[0m \u001b[0mhow\u001b[0m\u001b[0;34m=\u001b[0m\u001b[0;34m'left'\u001b[0m\u001b[0;34m)\u001b[0m\u001b[0;34m\u001b[0m\u001b[0;34m\u001b[0m\u001b[0m\n\u001b[1;32m      3\u001b[0m \u001b[0mcosine_sim_long\u001b[0m \u001b[0;34m=\u001b[0m \u001b[0mcosine_sim_long\u001b[0m\u001b[0;34m.\u001b[0m\u001b[0mrename\u001b[0m\u001b[0;34m(\u001b[0m\u001b[0mcolumns\u001b[0m\u001b[0;34m=\u001b[0m\u001b[0;34m{\u001b[0m\u001b[0;34m'occupation.x'\u001b[0m\u001b[0;34m:\u001b[0m \u001b[0;34m'occ_i'\u001b[0m\u001b[0;34m}\u001b[0m\u001b[0;34m)\u001b[0m\u001b[0;34m\u001b[0m\u001b[0;34m\u001b[0m\u001b[0m\n\u001b[0;32m----> 4\u001b[0;31m \u001b[0mcosine_sim_long\u001b[0m \u001b[0;34m=\u001b[0m \u001b[0mpd\u001b[0m\u001b[0;34m.\u001b[0m\u001b[0mmerge\u001b[0m\u001b[0;34m(\u001b[0m\u001b[0mcosine_sim_long\u001b[0m\u001b[0;34m,\u001b[0m \u001b[0mdata\u001b[0m\u001b[0;34m[\u001b[0m\u001b[0;34m[\u001b[0m\u001b[0;34m'occupation.x'\u001b[0m\u001b[0;34m]\u001b[0m\u001b[0;34m]\u001b[0m\u001b[0;34m,\u001b[0m \u001b[0mleft_on\u001b[0m\u001b[0;34m=\u001b[0m\u001b[0;34m'j'\u001b[0m\u001b[0;34m,\u001b[0m \u001b[0mright_index\u001b[0m\u001b[0;34m=\u001b[0m\u001b[0;32mTrue\u001b[0m\u001b[0;34m,\u001b[0m \u001b[0mhow\u001b[0m\u001b[0;34m=\u001b[0m\u001b[0;34m'left'\u001b[0m\u001b[0;34m)\u001b[0m\u001b[0;34m\u001b[0m\u001b[0;34m\u001b[0m\u001b[0m\n\u001b[0m\u001b[1;32m      5\u001b[0m \u001b[0mcosine_sim_long\u001b[0m \u001b[0;34m=\u001b[0m \u001b[0mcosine_sim_long\u001b[0m\u001b[0;34m.\u001b[0m\u001b[0mrename\u001b[0m\u001b[0;34m(\u001b[0m\u001b[0mcolumns\u001b[0m\u001b[0;34m=\u001b[0m\u001b[0;34m{\u001b[0m\u001b[0;34m'occupation.x'\u001b[0m\u001b[0;34m:\u001b[0m \u001b[0;34m'occ_j'\u001b[0m\u001b[0;34m}\u001b[0m\u001b[0;34m)\u001b[0m\u001b[0;34m\u001b[0m\u001b[0;34m\u001b[0m\u001b[0m\n\u001b[1;32m      6\u001b[0m \u001b[0mprint\u001b[0m\u001b[0;34m(\u001b[0m\u001b[0;34m\"merge done\"\u001b[0m\u001b[0;34m)\u001b[0m\u001b[0;34m\u001b[0m\u001b[0;34m\u001b[0m\u001b[0m\n",
      "\u001b[0;32m~/.local/lib/python3.11/site-packages/pandas/core/reshape/merge.py\u001b[0m in \u001b[0;36m?\u001b[0;34m(left, right, how, on, left_on, right_on, left_index, right_index, sort, suffixes, copy, indicator, validate)\u001b[0m\n\u001b[1;32m    144\u001b[0m     \u001b[0mcopy\u001b[0m\u001b[0;34m:\u001b[0m \u001b[0mbool\u001b[0m \u001b[0;34m|\u001b[0m \u001b[0;32mNone\u001b[0m \u001b[0;34m=\u001b[0m \u001b[0;32mNone\u001b[0m\u001b[0;34m,\u001b[0m\u001b[0;34m\u001b[0m\u001b[0;34m\u001b[0m\u001b[0m\n\u001b[1;32m    145\u001b[0m     \u001b[0mindicator\u001b[0m\u001b[0;34m:\u001b[0m \u001b[0mstr\u001b[0m \u001b[0;34m|\u001b[0m \u001b[0mbool\u001b[0m \u001b[0;34m=\u001b[0m \u001b[0;32mFalse\u001b[0m\u001b[0;34m,\u001b[0m\u001b[0;34m\u001b[0m\u001b[0;34m\u001b[0m\u001b[0m\n\u001b[1;32m    146\u001b[0m     \u001b[0mvalidate\u001b[0m\u001b[0;34m:\u001b[0m \u001b[0mstr\u001b[0m \u001b[0;34m|\u001b[0m \u001b[0;32mNone\u001b[0m \u001b[0;34m=\u001b[0m \u001b[0;32mNone\u001b[0m\u001b[0;34m,\u001b[0m\u001b[0;34m\u001b[0m\u001b[0;34m\u001b[0m\u001b[0m\n\u001b[1;32m    147\u001b[0m ) -> DataFrame:\n\u001b[0;32m--> 148\u001b[0;31m     op = _MergeOperation(\n\u001b[0m\u001b[1;32m    149\u001b[0m         \u001b[0mleft\u001b[0m\u001b[0;34m,\u001b[0m\u001b[0;34m\u001b[0m\u001b[0;34m\u001b[0m\u001b[0m\n\u001b[1;32m    150\u001b[0m         \u001b[0mright\u001b[0m\u001b[0;34m,\u001b[0m\u001b[0;34m\u001b[0m\u001b[0;34m\u001b[0m\u001b[0m\n\u001b[1;32m    151\u001b[0m         \u001b[0mhow\u001b[0m\u001b[0;34m=\u001b[0m\u001b[0mhow\u001b[0m\u001b[0;34m,\u001b[0m\u001b[0;34m\u001b[0m\u001b[0;34m\u001b[0m\u001b[0m\n",
      "\u001b[0;32m~/.local/lib/python3.11/site-packages/pandas/core/reshape/merge.py\u001b[0m in \u001b[0;36m?\u001b[0;34m(self, left, right, how, on, left_on, right_on, axis, left_index, right_index, sort, suffixes, indicator, validate)\u001b[0m\n\u001b[1;32m    733\u001b[0m         (\n\u001b[1;32m    734\u001b[0m             \u001b[0mself\u001b[0m\u001b[0;34m.\u001b[0m\u001b[0mleft_join_keys\u001b[0m\u001b[0;34m,\u001b[0m\u001b[0;34m\u001b[0m\u001b[0;34m\u001b[0m\u001b[0m\n\u001b[1;32m    735\u001b[0m             \u001b[0mself\u001b[0m\u001b[0;34m.\u001b[0m\u001b[0mright_join_keys\u001b[0m\u001b[0;34m,\u001b[0m\u001b[0;34m\u001b[0m\u001b[0;34m\u001b[0m\u001b[0m\n\u001b[1;32m    736\u001b[0m             \u001b[0mself\u001b[0m\u001b[0;34m.\u001b[0m\u001b[0mjoin_names\u001b[0m\u001b[0;34m,\u001b[0m\u001b[0;34m\u001b[0m\u001b[0;34m\u001b[0m\u001b[0m\n\u001b[0;32m--> 737\u001b[0;31m         ) = self._get_merge_keys()\n\u001b[0m\u001b[1;32m    738\u001b[0m \u001b[0;34m\u001b[0m\u001b[0m\n\u001b[1;32m    739\u001b[0m         \u001b[0;31m# validate the merge keys dtypes. We may need to coerce\u001b[0m\u001b[0;34m\u001b[0m\u001b[0;34m\u001b[0m\u001b[0m\n\u001b[1;32m    740\u001b[0m         \u001b[0;31m# to avoid incompatible dtypes\u001b[0m\u001b[0;34m\u001b[0m\u001b[0;34m\u001b[0m\u001b[0m\n",
      "\u001b[0;32m~/.local/lib/python3.11/site-packages/pandas/core/reshape/merge.py\u001b[0m in \u001b[0;36m?\u001b[0;34m(self)\u001b[0m\n\u001b[1;32m   1233\u001b[0m                 \u001b[0;32melse\u001b[0m\u001b[0;34m:\u001b[0m\u001b[0;34m\u001b[0m\u001b[0;34m\u001b[0m\u001b[0m\n\u001b[1;32m   1234\u001b[0m                     \u001b[0;31m# Then we're either Hashable or a wrong-length arraylike,\u001b[0m\u001b[0;34m\u001b[0m\u001b[0;34m\u001b[0m\u001b[0m\n\u001b[1;32m   1235\u001b[0m                     \u001b[0;31m#  the latter of which will raise\u001b[0m\u001b[0;34m\u001b[0m\u001b[0;34m\u001b[0m\u001b[0m\n\u001b[1;32m   1236\u001b[0m                     \u001b[0mk\u001b[0m \u001b[0;34m=\u001b[0m \u001b[0mcast\u001b[0m\u001b[0;34m(\u001b[0m\u001b[0mHashable\u001b[0m\u001b[0;34m,\u001b[0m \u001b[0mk\u001b[0m\u001b[0;34m)\u001b[0m\u001b[0;34m\u001b[0m\u001b[0;34m\u001b[0m\u001b[0m\n\u001b[0;32m-> 1237\u001b[0;31m                     \u001b[0mleft_keys\u001b[0m\u001b[0;34m.\u001b[0m\u001b[0mappend\u001b[0m\u001b[0;34m(\u001b[0m\u001b[0mleft\u001b[0m\u001b[0;34m.\u001b[0m\u001b[0m_get_label_or_level_values\u001b[0m\u001b[0;34m(\u001b[0m\u001b[0mk\u001b[0m\u001b[0;34m)\u001b[0m\u001b[0;34m)\u001b[0m\u001b[0;34m\u001b[0m\u001b[0;34m\u001b[0m\u001b[0m\n\u001b[0m\u001b[1;32m   1238\u001b[0m                     \u001b[0mjoin_names\u001b[0m\u001b[0;34m.\u001b[0m\u001b[0mappend\u001b[0m\u001b[0;34m(\u001b[0m\u001b[0mk\u001b[0m\u001b[0;34m)\u001b[0m\u001b[0;34m\u001b[0m\u001b[0;34m\u001b[0m\u001b[0m\n\u001b[1;32m   1239\u001b[0m             \u001b[0;32mif\u001b[0m \u001b[0misinstance\u001b[0m\u001b[0;34m(\u001b[0m\u001b[0mself\u001b[0m\u001b[0;34m.\u001b[0m\u001b[0mright\u001b[0m\u001b[0;34m.\u001b[0m\u001b[0mindex\u001b[0m\u001b[0;34m,\u001b[0m \u001b[0mMultiIndex\u001b[0m\u001b[0;34m)\u001b[0m\u001b[0;34m:\u001b[0m\u001b[0;34m\u001b[0m\u001b[0;34m\u001b[0m\u001b[0m\n\u001b[1;32m   1240\u001b[0m                 right_keys = [\n",
      "\u001b[0;32m~/.local/lib/python3.11/site-packages/pandas/core/generic.py\u001b[0m in \u001b[0;36m?\u001b[0;34m(self, key, axis)\u001b[0m\n\u001b[1;32m   1774\u001b[0m             \u001b[0mvalues\u001b[0m \u001b[0;34m=\u001b[0m \u001b[0mself\u001b[0m\u001b[0;34m.\u001b[0m\u001b[0mxs\u001b[0m\u001b[0;34m(\u001b[0m\u001b[0mkey\u001b[0m\u001b[0;34m,\u001b[0m \u001b[0maxis\u001b[0m\u001b[0;34m=\u001b[0m\u001b[0mother_axes\u001b[0m\u001b[0;34m[\u001b[0m\u001b[0;36m0\u001b[0m\u001b[0;34m]\u001b[0m\u001b[0;34m)\u001b[0m\u001b[0;34m.\u001b[0m\u001b[0m_values\u001b[0m\u001b[0;34m\u001b[0m\u001b[0;34m\u001b[0m\u001b[0m\n\u001b[1;32m   1775\u001b[0m         \u001b[0;32melif\u001b[0m \u001b[0mself\u001b[0m\u001b[0;34m.\u001b[0m\u001b[0m_is_level_reference\u001b[0m\u001b[0;34m(\u001b[0m\u001b[0mkey\u001b[0m\u001b[0;34m,\u001b[0m \u001b[0maxis\u001b[0m\u001b[0;34m=\u001b[0m\u001b[0maxis\u001b[0m\u001b[0;34m)\u001b[0m\u001b[0;34m:\u001b[0m\u001b[0;34m\u001b[0m\u001b[0;34m\u001b[0m\u001b[0m\n\u001b[1;32m   1776\u001b[0m             \u001b[0mvalues\u001b[0m \u001b[0;34m=\u001b[0m \u001b[0mself\u001b[0m\u001b[0;34m.\u001b[0m\u001b[0maxes\u001b[0m\u001b[0;34m[\u001b[0m\u001b[0maxis\u001b[0m\u001b[0;34m]\u001b[0m\u001b[0;34m.\u001b[0m\u001b[0mget_level_values\u001b[0m\u001b[0;34m(\u001b[0m\u001b[0mkey\u001b[0m\u001b[0;34m)\u001b[0m\u001b[0;34m.\u001b[0m\u001b[0m_values\u001b[0m\u001b[0;34m\u001b[0m\u001b[0;34m\u001b[0m\u001b[0m\n\u001b[1;32m   1777\u001b[0m         \u001b[0;32melse\u001b[0m\u001b[0;34m:\u001b[0m\u001b[0;34m\u001b[0m\u001b[0;34m\u001b[0m\u001b[0m\n\u001b[0;32m-> 1778\u001b[0;31m             \u001b[0;32mraise\u001b[0m \u001b[0mKeyError\u001b[0m\u001b[0;34m(\u001b[0m\u001b[0mkey\u001b[0m\u001b[0;34m)\u001b[0m\u001b[0;34m\u001b[0m\u001b[0;34m\u001b[0m\u001b[0m\n\u001b[0m\u001b[1;32m   1779\u001b[0m \u001b[0;34m\u001b[0m\u001b[0m\n\u001b[1;32m   1780\u001b[0m         \u001b[0;31m# Check for duplicates\u001b[0m\u001b[0;34m\u001b[0m\u001b[0;34m\u001b[0m\u001b[0m\n\u001b[1;32m   1781\u001b[0m         \u001b[0;32mif\u001b[0m \u001b[0mvalues\u001b[0m\u001b[0;34m.\u001b[0m\u001b[0mndim\u001b[0m \u001b[0;34m>\u001b[0m \u001b[0;36m1\u001b[0m\u001b[0;34m:\u001b[0m\u001b[0;34m\u001b[0m\u001b[0;34m\u001b[0m\u001b[0m\n",
      "\u001b[0;31mKeyError\u001b[0m: 'j'"
     ]
    }
   ],
   "source": [
    "# # Merge data to get 'occhisco_i' and 'occhisco_j'\n",
    "# cosine_sim_long = pd.merge(cosine_sim_long, data[['occupation.x']], left_on='i', right_index=True, how='left')\n",
    "# cosine_sim_long = cosine_sim_long.rename(columns={'occupation.x': 'occ_i'})\n",
    "# cosine_sim_long = pd.merge(cosine_sim_long, data[['occupation.x']], left_on='j', right_index=True, how='left')\n",
    "# cosine_sim_long = cosine_sim_long.rename(columns={'occupation.x': 'occ_j'})\n",
    "# print(\"merge done\")"
   ]
  },
  {
   "cell_type": "code",
   "execution_count": 109,
   "id": "b0ca2b94-5095-49d8-b63c-c8fc9104e8e7",
   "metadata": {},
   "outputs": [],
   "source": [
    "import pickle\n",
    "\n",
    "with open('../int_data/cosine_sim_long.pkl','wb') as f:\n",
    "     pickle.dump(cosine_sim_long, f)"
   ]
  },
  {
   "cell_type": "code",
   "execution_count": null,
   "id": "0aca355c-2de6-41e4-b5d6-393b67bc74fc",
   "metadata": {},
   "outputs": [],
   "source": [
    "import pickle\n",
    "\n",
    "with open('../int_data/cosine_sim_long.pkl','rb') as f:\n",
    "    cosine_sim_long = pickle.load(f)"
   ]
  },
  {
   "cell_type": "code",
   "execution_count": null,
   "id": "efecaca0-3c55-46a5-9732-870a240e8bc1",
   "metadata": {},
   "outputs": [],
   "source": [
    "cosine_sim_long.i.nunique(), cosine_sim_long.j.nunique(), cosine_sim_long.patent_id_i.nunique(), cosine_sim_long.patent_id_j.nunique()"
   ]
  },
  {
   "cell_type": "code",
   "execution_count": null,
   "id": "85bb33e3-069a-4fbb-8383-7d5d83def8dc",
   "metadata": {},
   "outputs": [],
   "source": [
    "print_ram_usage()"
   ]
  },
  {
   "cell_type": "code",
   "execution_count": 37,
   "id": "a9ddb3a9-0583-40dd-a2c6-73449e46dc36",
   "metadata": {},
   "outputs": [],
   "source": [
    "# tab_i = dict(zip(cosine_sim_long['i'], cosine_sim_long['patent_id_i']))\n",
    "# tab_j = dict(zip(cosine_sim_long['j'], cosine_sim_long['patent_id_j']))\n",
    "tab_i == tab_j"
   ]
  },
  {
   "cell_type": "code",
   "execution_count": null,
   "id": "65c1bb23-a7d0-4352-85c5-e80854fbdf43",
   "metadata": {},
   "outputs": [],
   "source": [
    "# import pickle\n",
    "\n",
    "# with open('../int_data/cosine_sim_long.pkl','wb') as f:\n",
    "#     pickle.dump(cosine_sim_long, f)"
   ]
  },
  {
   "cell_type": "markdown",
   "id": "90afa813-2d76-4e5f-83a4-e0c18adfee3f",
   "metadata": {},
   "source": [
    "# New: Aggregate kw similarity by occupations\n",
    "time complexity: O(n*n * m * m), where n is number of keywords, m is number of patents"
   ]
  },
  {
   "cell_type": "markdown",
   "id": "95e89907-cb68-478d-8a9e-e79bf459f537",
   "metadata": {},
   "source": [
    "### Create empty occ space"
   ]
  },
  {
   "cell_type": "code",
   "execution_count": 13,
   "id": "7765e22a-959b-42df-833c-7b5d0c57d869",
   "metadata": {},
   "outputs": [
    {
     "data": {
      "text/plain": [
       "['HISCO779',\n",
       " 'HISCO951',\n",
       " 'HISCO813',\n",
       " 'HISCO896',\n",
       " 'HISCO391',\n",
       " 'HISCO974',\n",
       " 'HISCO745',\n",
       " 'HISCO745',\n",
       " 'HISCO779',\n",
       " 'HISCO397',\n",
       " 'HISCO974',\n",
       " 'HISCO397']"
      ]
     },
     "execution_count": 13,
     "metadata": {},
     "output_type": "execute_result"
    }
   ],
   "source": [
    "i_occ_mapping = data_explode_pre.reset_index()\n",
    "i_occ_mapping.census_occupation[1] # many repeated occ strings in one census_occupation, e.g., 'HISCO745'"
   ]
  },
  {
   "cell_type": "code",
   "execution_count": 14,
   "id": "e11d4339-6f89-414b-b737-30bab96f8292",
   "metadata": {},
   "outputs": [
    {
     "data": {
      "text/html": [
       "<div>\n",
       "<style scoped>\n",
       "    .dataframe tbody tr th:only-of-type {\n",
       "        vertical-align: middle;\n",
       "    }\n",
       "\n",
       "    .dataframe tbody tr th {\n",
       "        vertical-align: top;\n",
       "    }\n",
       "\n",
       "    .dataframe thead th {\n",
       "        text-align: right;\n",
       "    }\n",
       "</style>\n",
       "<table border=\"1\" class=\"dataframe\">\n",
       "  <thead>\n",
       "    <tr style=\"text-align: right;\">\n",
       "      <th></th>\n",
       "      <th>index</th>\n",
       "      <th>i</th>\n",
       "      <th>census_occupation</th>\n",
       "    </tr>\n",
       "  </thead>\n",
       "  <tbody>\n",
       "    <tr>\n",
       "      <th>0</th>\n",
       "      <td>0</td>\n",
       "      <td>GB187303416</td>\n",
       "      <td>[HISCO744, HISCO410, HISCO896]</td>\n",
       "    </tr>\n",
       "    <tr>\n",
       "      <th>1</th>\n",
       "      <td>1</td>\n",
       "      <td>GB187600824</td>\n",
       "      <td>[HISCO974, HISCO779, HISCO745, HISCO896, HISCO...</td>\n",
       "    </tr>\n",
       "    <tr>\n",
       "      <th>2</th>\n",
       "      <td>2</td>\n",
       "      <td>GB187601544</td>\n",
       "      <td>[HISCO999, HISCO901, HISCO24, HISCO90, HISCO97...</td>\n",
       "    </tr>\n",
       "    <tr>\n",
       "      <th>3</th>\n",
       "      <td>3</td>\n",
       "      <td>GB188204200</td>\n",
       "      <td>[HISCO799, HISCO231, HISCO79, HISCO894, HISCO9...</td>\n",
       "    </tr>\n",
       "    <tr>\n",
       "      <th>4</th>\n",
       "      <td>4</td>\n",
       "      <td>GB188803213</td>\n",
       "      <td>[HISCO777]</td>\n",
       "    </tr>\n",
       "    <tr>\n",
       "      <th>...</th>\n",
       "      <td>...</td>\n",
       "      <td>...</td>\n",
       "      <td>...</td>\n",
       "    </tr>\n",
       "    <tr>\n",
       "      <th>22115</th>\n",
       "      <td>22115</td>\n",
       "      <td>GB191211210</td>\n",
       "      <td>[NA]</td>\n",
       "    </tr>\n",
       "    <tr>\n",
       "      <th>22116</th>\n",
       "      <td>22116</td>\n",
       "      <td>GB191213037</td>\n",
       "      <td>[HISCO999, HISCO333, HISCO33]</td>\n",
       "    </tr>\n",
       "    <tr>\n",
       "      <th>22117</th>\n",
       "      <td>22117</td>\n",
       "      <td>GB191213039</td>\n",
       "      <td>[HISCO999, HISCO333, HISCO33]</td>\n",
       "    </tr>\n",
       "    <tr>\n",
       "      <th>22118</th>\n",
       "      <td>22118</td>\n",
       "      <td>GB191217939</td>\n",
       "      <td>[HISCO999, HISCO333, HISCO33]</td>\n",
       "    </tr>\n",
       "    <tr>\n",
       "      <th>22119</th>\n",
       "      <td>22119</td>\n",
       "      <td>GB191220302</td>\n",
       "      <td>[HISCO21, HISCO210]</td>\n",
       "    </tr>\n",
       "  </tbody>\n",
       "</table>\n",
       "<p>22120 rows × 3 columns</p>\n",
       "</div>"
      ],
      "text/plain": [
       "       index            i                                  census_occupation\n",
       "0          0  GB187303416                     [HISCO744, HISCO410, HISCO896]\n",
       "1          1  GB187600824  [HISCO974, HISCO779, HISCO745, HISCO896, HISCO...\n",
       "2          2  GB187601544  [HISCO999, HISCO901, HISCO24, HISCO90, HISCO97...\n",
       "3          3  GB188204200  [HISCO799, HISCO231, HISCO79, HISCO894, HISCO9...\n",
       "4          4  GB188803213                                         [HISCO777]\n",
       "...      ...          ...                                                ...\n",
       "22115  22115  GB191211210                                               [NA]\n",
       "22116  22116  GB191213037                      [HISCO999, HISCO333, HISCO33]\n",
       "22117  22117  GB191213039                      [HISCO999, HISCO333, HISCO33]\n",
       "22118  22118  GB191217939                      [HISCO999, HISCO333, HISCO33]\n",
       "22119  22119  GB191220302                                [HISCO21, HISCO210]\n",
       "\n",
       "[22120 rows x 3 columns]"
      ]
     },
     "execution_count": 14,
     "metadata": {},
     "output_type": "execute_result"
    }
   ],
   "source": [
    "i_occ_mapping.census_occupation = i_occ_mapping.census_occupation.apply(lambda x:list(set(x)))\n",
    "i_occ_mapping"
   ]
  },
  {
   "cell_type": "code",
   "execution_count": 15,
   "id": "43e1089a-f7cf-40ed-befa-288ba8b996dd",
   "metadata": {},
   "outputs": [
    {
     "data": {
      "text/plain": [
       "20742"
      ]
     },
     "execution_count": 15,
     "metadata": {},
     "output_type": "execute_result"
    }
   ],
   "source": [
    "i_occ_mapping.i.nunique() # does not correspond to 22,120 unique patent-inventor pairs\n"
   ]
  },
  {
   "cell_type": "markdown",
   "id": "09ae0467-e819-44da-9cc2-4a3dc8fc8c05",
   "metadata": {},
   "source": [
    "- We choose index (which exactly matches \"data\" on shape[0]) to form the index:census_occupation mappings"
   ]
  },
  {
   "cell_type": "code",
   "execution_count": 16,
   "id": "9b6293ab-10a7-4e24-a5e4-abe516e0260b",
   "metadata": {
    "scrolled": true
   },
   "outputs": [
    {
     "data": {
      "text/plain": [
       "{0: ['HISCO744', 'HISCO410', 'HISCO896'],\n",
       " 1: ['HISCO974',\n",
       "  'HISCO779',\n",
       "  'HISCO745',\n",
       "  'HISCO896',\n",
       "  'HISCO813',\n",
       "  'HISCO391',\n",
       "  'HISCO951',\n",
       "  'HISCO397'],\n",
       " 2: ['HISCO999', 'HISCO901', 'HISCO24', 'HISCO90', 'HISCO974', 'HISCO397'],\n",
       " 3: ['HISCO799',\n",
       "  'HISCO231',\n",
       "  'HISCO79',\n",
       "  'HISCO894',\n",
       "  'HISCO931',\n",
       "  'HISCO161',\n",
       "  'HISCO391',\n",
       "  'HISCO949',\n",
       "  'HISCO221',\n",
       "  'HISCO23',\n",
       "  'HISCO22',\n",
       "  'HISCO443'],\n",
       " 4: ['HISCO777'],\n",
       " 5: ['HISCO712', 'HISCO779', 'HISCO71', 'HISCO745'],\n",
       " 6: ['HISCO24', 'HISCO33', 'HISCO331'],\n",
       " 7: ['HISCO22'],\n",
       " 8: ['HISCO22'],\n",
       " 9: ['HISCO857'],\n",
       " 10: ['HISCO981'],\n",
       " 11: ['HISCO410', 'HISCO11', 'HISCO67'],\n",
       " 12: ['HISCO999', 'HISCO333', 'HISCO33'],\n",
       " 13: ['NA'],\n",
       " 14: ['NA'],\n",
       " 15: ['NA'],\n",
       " 16: ['HISCO410', 'HISCO24', 'HISCO776'],\n",
       " 17: ['HISCO754', 'HISCO79', 'HISCO24', 'HISCO75', 'HISCO799'],\n",
       " 18: ['NA'],\n",
       " 19: ['HISCO895', 'HISCO893'],\n",
       " 20: ['NA'],\n",
       " 21: ['NA'],\n",
       " 22: ['NA'],\n",
       " 23: ['NA'],\n",
       " 24: ['HISCO942'],\n",
       " 25: ['HISCO999', 'HISCO333', 'HISCO33', 'HISCO430'],\n",
       " 26: ['HISCO999', 'HISCO333', 'HISCO33', 'HISCO430'],\n",
       " 27: ['HISCO22'],\n",
       " 28: ['HISCO999', 'HISCO333', 'HISCO33'],\n",
       " 29: ['NA'],\n",
       " 30: ['NA'],\n",
       " 31: ['HISCO231', 'HISCO839', 'HISCO931', 'HISCO221', 'HISCO23', 'HISCO22'],\n",
       " 32: ['NA'],\n",
       " 33: ['NA'],\n",
       " 34: ['NA'],\n",
       " 35: ['HISCO430'],\n",
       " 36: ['NA'],\n",
       " 37: ['HISCO802', 'HISCO80', 'HISCO801'],\n",
       " 38: ['HISCO802', 'HISCO80', 'HISCO801'],\n",
       " 39: ['HISCO124', 'HISCO33', 'HISCO22', 'HISCO121', 'HISCO12', 'HISCO331'],\n",
       " 40: ['HISCO793',\n",
       "  'HISCO741',\n",
       "  'HISCO734',\n",
       "  'HISCO79',\n",
       "  'HISCO756',\n",
       "  'HISCO778',\n",
       "  'HISCO901',\n",
       "  'HISCO899',\n",
       "  'HISCO833',\n",
       "  'HISCO90',\n",
       "  'HISCO771',\n",
       "  'HISCO75',\n",
       "  'HISCO73',\n",
       "  'HISCO999'],\n",
       " 41: ['NA'],\n",
       " 42: ['NA'],\n",
       " 43: ['HISCO776', 'HISCO451', 'HISCO771'],\n",
       " 44: ['HISCO776', 'HISCO451', 'HISCO771'],\n",
       " 45: ['HISCO21', 'HISCO22', 'HISCO212'],\n",
       " 46: ['HISCO754', 'HISCO75'],\n",
       " 47: ['HISCO410', 'HISCO777'],\n",
       " 48: ['NA'],\n",
       " 49: ['NA'],\n",
       " 50: ['NA'],\n",
       " 51: ['NA'],\n",
       " 52: ['NA'],\n",
       " 53: ['NA'],\n",
       " 54: ['NA'],\n",
       " 55: ['HISCO21', 'HISCO210'],\n",
       " 56: ['HISCO999', 'HISCO333', 'HISCO33'],\n",
       " 57: ['HISCO30', 'HISCO291', 'HISCO220', 'HISCO22', 'HISCO443'],\n",
       " 58: ['NA'],\n",
       " 59: ['HISCO21', 'HISCO210'],\n",
       " 60: ['NA'],\n",
       " 61: ['HISCO21', 'HISCO210'],\n",
       " 62: ['HISCO999', 'HISCO333', 'HISCO33'],\n",
       " 63: ['HISCO22'],\n",
       " 64: ['NA'],\n",
       " 65: ['NA'],\n",
       " 66: ['HISCO430'],\n",
       " 67: ['NA'],\n",
       " 68: ['HISCO999', 'HISCO333', 'HISCO33'],\n",
       " 69: ['HISCO75', 'HISCO841', 'HISCO756', 'HISCO875'],\n",
       " 70: ['HISCO121', 'HISCO12'],\n",
       " 71: ['HISCO430', 'HISCO747'],\n",
       " 72: ['NA'],\n",
       " 73: ['NA'],\n",
       " 74: ['NA'],\n",
       " 75: ['HISCO61'],\n",
       " 76: ['NA'],\n",
       " 77: ['NA'],\n",
       " 78: ['HISCO999', 'HISCO333', 'HISCO33'],\n",
       " 79: ['HISCO510', 'HISCO51'],\n",
       " 80: ['NA'],\n",
       " 81: ['HISCO999', 'HISCO333', 'HISCO33'],\n",
       " 82: ['HISCO999', 'HISCO333', 'HISCO33'],\n",
       " 83: ['HISCO999', 'HISCO333', 'HISCO33'],\n",
       " 84: ['NA'],\n",
       " 85: ['HISCO835'],\n",
       " 86: ['NA'],\n",
       " 87: ['NA'],\n",
       " 88: ['NA'],\n",
       " 89: ['NA'],\n",
       " 90: ['HISCO79', 'HISCO410', 'HISCO791'],\n",
       " 91: ['HISCO999', 'HISCO333', 'HISCO33'],\n",
       " 92: ['NA'],\n",
       " 93: ['HISCO410'],\n",
       " 94: ['HISCO410'],\n",
       " 95: ['NA'],\n",
       " 96: ['HISCO22', 'HISCO871'],\n",
       " 97: ['HISCO231', 'HISCO931', 'HISCO221', 'HISCO23', 'HISCO22', 'HISCO951'],\n",
       " 98: ['NA'],\n",
       " 99: ['NA'],\n",
       " 100: ['NA'],\n",
       " 101: ['HISCO124', 'HISCO33', 'HISCO22', 'HISCO121', 'HISCO12', 'HISCO331'],\n",
       " 102: ['HISCO124', 'HISCO33', 'HISCO22', 'HISCO121', 'HISCO12', 'HISCO331'],\n",
       " 103: ['HISCO23'],\n",
       " 104: ['NA'],\n",
       " 105: ['HISCO30', 'HISCO300', 'HISCO390'],\n",
       " 106: ['HISCO430'],\n",
       " 107: ['NA'],\n",
       " 108: ['HISCO803', 'HISCO80'],\n",
       " 109: ['HISCO61'],\n",
       " 110: ['HISCO24'],\n",
       " 111: ['HISCO430'],\n",
       " 112: ['HISCO999', 'HISCO333', 'HISCO33'],\n",
       " 113: ['HISCO163'],\n",
       " 114: ['HISCO410'],\n",
       " 115: ['HISCO999', 'HISCO333', 'HISCO33', 'HISCO430'],\n",
       " 116: ['NA'],\n",
       " 117: ['NA'],\n",
       " 118: ['HISCO61', 'HISCO771', 'HISCO611', 'HISCO613'],\n",
       " 119: ['HISCO432', 'HISCO999', 'HISCO333', 'HISCO33'],\n",
       " 120: ['NA'],\n",
       " 121: ['HISCO199', 'HISCO410', 'HISCO11', 'HISCO67'],\n",
       " 122: ['NA'],\n",
       " 123: ['HISCO430'],\n",
       " 124: ['HISCO22'],\n",
       " 125: ['HISCO22'],\n",
       " 126: ['HISCO743',\n",
       "  'HISCO893',\n",
       "  'HISCO747',\n",
       "  'HISCO21',\n",
       "  'HISCO231',\n",
       "  'HISCO901',\n",
       "  'HISCO931',\n",
       "  'HISCO895',\n",
       "  'HISCO391',\n",
       "  'HISCO90',\n",
       "  'HISCO873',\n",
       "  'HISCO221',\n",
       "  'HISCO22',\n",
       "  'HISCO23',\n",
       "  'HISCO999',\n",
       "  'HISCO211'],\n",
       " 127: ['HISCO162'],\n",
       " 128: ['HISCO893',\n",
       "  'HISCO231',\n",
       "  'HISCO839',\n",
       "  'HISCO901',\n",
       "  'HISCO931',\n",
       "  'HISCO895',\n",
       "  'HISCO875',\n",
       "  'HISCO90',\n",
       "  'HISCO591',\n",
       "  'HISCO873',\n",
       "  'HISCO221',\n",
       "  'HISCO22',\n",
       "  'HISCO23',\n",
       "  'HISCO999'],\n",
       " 129: ['HISCO893',\n",
       "  'HISCO231',\n",
       "  'HISCO839',\n",
       "  'HISCO901',\n",
       "  'HISCO931',\n",
       "  'HISCO895',\n",
       "  'HISCO875',\n",
       "  'HISCO90',\n",
       "  'HISCO591',\n",
       "  'HISCO873',\n",
       "  'HISCO221',\n",
       "  'HISCO22',\n",
       "  'HISCO23',\n",
       "  'HISCO999'],\n",
       " 130: ['HISCO430'],\n",
       " 131: ['NA'],\n",
       " 132: ['NA'],\n",
       " 133: ['HISCO430',\n",
       "  'HISCO231',\n",
       "  'HISCO21',\n",
       "  'HISCO320',\n",
       "  'HISCO32',\n",
       "  'HISCO410',\n",
       "  'HISCO221',\n",
       "  'HISCO23',\n",
       "  'HISCO22',\n",
       "  'HISCO211'],\n",
       " 134: ['HISCO999', 'HISCO333', 'HISCO33'],\n",
       " 135: ['NA'],\n",
       " 136: ['HISCO999', 'HISCO333', 'HISCO33'],\n",
       " 137: ['HISCO999', 'HISCO333', 'HISCO33'],\n",
       " 138: ['HISCO170', 'HISCO171'],\n",
       " 139: ['HISCO21', 'HISCO212'],\n",
       " 140: ['HISCO410', 'HISCO11', 'HISCO67'],\n",
       " 141: ['HISCO999', 'HISCO333', 'HISCO33'],\n",
       " 142: ['NA'],\n",
       " 143: ['NA'],\n",
       " 144: ['HISCO939'],\n",
       " 145: ['HISCO21', 'HISCO33', 'HISCO999', 'HISCO333', 'HISCO211'],\n",
       " 146: ['HISCO22', 'HISCO999', 'HISCO333', 'HISCO33'],\n",
       " 147: ['HISCO999', 'HISCO333', 'HISCO33'],\n",
       " 148: ['HISCO410'],\n",
       " 149: ['NA'],\n",
       " 150: ['NA'],\n",
       " 151: ['HISCO21', 'HISCO210'],\n",
       " 152: ['NA'],\n",
       " 153: ['HISCO430'],\n",
       " 154: ['NA'],\n",
       " 155: ['HISCO22', 'HISCO999', 'HISCO333', 'HISCO33'],\n",
       " 156: ['NA'],\n",
       " 157: ['HISCO430'],\n",
       " 158: ['HISCO841', 'HISCO849', 'HISCO843'],\n",
       " 159: ['NA'],\n",
       " 160: ['HISCO410'],\n",
       " 161: ['NA'],\n",
       " 162: ['HISCO61'],\n",
       " 163: ['HISCO410', 'HISCO11', 'HISCO67'],\n",
       " 164: ['HISCO26'],\n",
       " 165: ['HISCO26'],\n",
       " 166: ['HISCO430'],\n",
       " 167: ['NA'],\n",
       " 168: ['NA'],\n",
       " 169: ['HISCO841'],\n",
       " 170: ['HISCO410'],\n",
       " 171: ['NA'],\n",
       " 172: ['NA'],\n",
       " 173: ['NA'],\n",
       " 174: ['HISCO931', 'HISCO841', 'HISCO871', 'HISCO959'],\n",
       " 175: ['NA'],\n",
       " 176: ['HISCO999', 'HISCO333', 'HISCO33'],\n",
       " 177: ['NA'],\n",
       " 178: ['NA'],\n",
       " 179: ['NA'],\n",
       " 180: ['NA'],\n",
       " 181: ['HISCO430', 'HISCO802', 'HISCO80', 'HISCO801'],\n",
       " 182: ['HISCO430'],\n",
       " 183: ['HISCO23'],\n",
       " 184: ['NA'],\n",
       " 185: ['NA'],\n",
       " 186: ['NA'],\n",
       " 187: ['HISCO61'],\n",
       " 188: ['HISCO22'],\n",
       " 189: ['HISCO999', 'HISCO333', 'HISCO33'],\n",
       " 190: ['HISCO931', 'HISCO410', 'HISCO813', 'HISCO161'],\n",
       " 191: ['HISCO999', 'HISCO333', 'HISCO33'],\n",
       " 192: ['HISCO999', 'HISCO333', 'HISCO33'],\n",
       " 193: ['HISCO999', 'HISCO333', 'HISCO33'],\n",
       " 194: ['HISCO999', 'HISCO333', 'HISCO33'],\n",
       " 195: ['NA'],\n",
       " 196: ['NA'],\n",
       " 197: ['HISCO22'],\n",
       " 198: ['NA'],\n",
       " 199: ['NA'],\n",
       " 200: ['HISCO30', 'HISCO300', 'HISCO390'],\n",
       " 201: ['HISCO22'],\n",
       " 202: ['NA'],\n",
       " 203: ['HISCO430'],\n",
       " 204: ['HISCO224',\n",
       "  'HISCO747',\n",
       "  'HISCO842',\n",
       "  'HISCO901',\n",
       "  'HISCO813',\n",
       "  'HISCO391',\n",
       "  'HISCO90',\n",
       "  'HISCO22',\n",
       "  'HISCO999'],\n",
       " 205: ['HISCO842'],\n",
       " 206: ['HISCO842'],\n",
       " 207: ['HISCO430'],\n",
       " 208: ['HISCO895', 'HISCO410', 'HISCO893'],\n",
       " 209: ['HISCO802',\n",
       "  'HISCO839',\n",
       "  'HISCO901',\n",
       "  'HISCO391',\n",
       "  'HISCO875',\n",
       "  'HISCO90',\n",
       "  'HISCO80',\n",
       "  'HISCO801',\n",
       "  'HISCO999'],\n",
       " 210: ['HISCO986'],\n",
       " 211: ['NA'],\n",
       " 212: ['NA'],\n",
       " 213: ['HISCO124', 'HISCO33', 'HISCO22', 'HISCO121', 'HISCO12', 'HISCO331'],\n",
       " 214: ['HISCO999', 'HISCO333', 'HISCO33'],\n",
       " 215: ['NA'],\n",
       " 216: ['NA'],\n",
       " 217: ['HISCO410', 'HISCO11', 'HISCO67'],\n",
       " 218: ['HISCO31'],\n",
       " 219: ['HISCO583'],\n",
       " 220: ['NA'],\n",
       " 221: ['HISCO22', 'HISCO939', 'HISCO226'],\n",
       " 222: ['NA'],\n",
       " 223: ['NA'],\n",
       " 224: ['HISCO999', 'HISCO333', 'HISCO33'],\n",
       " 225: ['NA'],\n",
       " 226: ['NA'],\n",
       " 227: ['NA'],\n",
       " 228: ['HISCO231',\n",
       "  'HISCO21',\n",
       "  'HISCO391',\n",
       "  'HISCO221',\n",
       "  'HISCO23',\n",
       "  'HISCO22',\n",
       "  'HISCO211'],\n",
       " 229: ['HISCO22', 'HISCO33', 'HISCO331'],\n",
       " 230: ['HISCO793',\n",
       "  'HISCO741',\n",
       "  'HISCO734',\n",
       "  'HISCO79',\n",
       "  'HISCO756',\n",
       "  'HISCO778',\n",
       "  'HISCO901',\n",
       "  'HISCO899',\n",
       "  'HISCO833',\n",
       "  'HISCO90',\n",
       "  'HISCO771',\n",
       "  'HISCO75',\n",
       "  'HISCO73',\n",
       "  'HISCO999'],\n",
       " 231: ['HISCO842', 'HISCO880'],\n",
       " 232: ['NA'],\n",
       " 233: ['NA'],\n",
       " 234: ['HISCO999', 'HISCO333', 'HISCO33', 'HISCO873'],\n",
       " 235: ['NA'],\n",
       " 236: ['HISCO23'],\n",
       " 237: ['HISCO391', 'HISCO857'],\n",
       " 238: ['HISCO391', 'HISCO857'],\n",
       " 239: ['NA'],\n",
       " 240: ['NA'],\n",
       " 241: ['HISCO21', 'HISCO22', 'HISCO210', 'HISCO226'],\n",
       " 242: ['HISCO21', 'HISCO22', 'HISCO210', 'HISCO226'],\n",
       " 243: ['HISCO895', 'HISCO893', 'HISCO430'],\n",
       " 244: ['NA'],\n",
       " 245: ['NA'],\n",
       " 246: ['NA'],\n",
       " 247: ['HISCO22'],\n",
       " 248: ['HISCO21', 'HISCO210', 'HISCO832'],\n",
       " 249: ['HISCO21', 'HISCO210', 'HISCO832'],\n",
       " 250: ['HISCO21', 'HISCO210', 'HISCO832'],\n",
       " 251: ['NA'],\n",
       " 252: ['NA'],\n",
       " 253: ['NA'],\n",
       " 254: ['HISCO999', 'HISCO333', 'HISCO33'],\n",
       " 255: ['HISCO999', 'HISCO333', 'HISCO33'],\n",
       " 256: ['HISCO21', 'HISCO210'],\n",
       " 257: ['NA'],\n",
       " 258: ['NA'],\n",
       " 259: ['HISCO999', 'HISCO333', 'HISCO33'],\n",
       " 260: ['HISCO873'],\n",
       " 261: ['HISCO61'],\n",
       " 262: ['NA'],\n",
       " 263: ['HISCO391', 'HISCO591', 'HISCO747'],\n",
       " 264: ['HISCO21', 'HISCO210'],\n",
       " 265: ['NA'],\n",
       " 266: ['NA'],\n",
       " 267: ['HISCO999', 'HISCO333', 'HISCO33'],\n",
       " 268: ['HISCO22'],\n",
       " 269: ['HISCO22', 'HISCO220'],\n",
       " 270: ['NA'],\n",
       " 271: ['HISCO63'],\n",
       " 272: ['HISCO13', 'HISCO130'],\n",
       " 273: ['NA'],\n",
       " 274: ['NA'],\n",
       " 275: ['NA'],\n",
       " 276: ['NA'],\n",
       " 277: ['HISCO21', 'HISCO210', 'HISCO430'],\n",
       " 278: ['HISCO999', 'HISCO333', 'HISCO33'],\n",
       " 279: ['NA'],\n",
       " 280: ['HISCO880'],\n",
       " 281: ['HISCO999', 'HISCO333', 'HISCO33'],\n",
       " 282: ['NA'],\n",
       " 283: ['NA'],\n",
       " 284: ['HISCO33', 'HISCO331'],\n",
       " 285: ['HISCO832', 'HISCO430', 'HISCO873'],\n",
       " 286: ['HISCO390',\n",
       "  'HISCO795',\n",
       "  'HISCO231',\n",
       "  'HISCO722',\n",
       "  'HISCO300',\n",
       "  'HISCO23',\n",
       "  'HISCO22',\n",
       "  'HISCO834',\n",
       "  'HISCO30',\n",
       "  'HISCO161',\n",
       "  'HISCO391',\n",
       "  'HISCO531',\n",
       "  'HISCO79',\n",
       "  'HISCO776',\n",
       "  'HISCO894',\n",
       "  'HISCO813',\n",
       "  'HISCO53',\n",
       "  'HISCO999',\n",
       "  'HISCO72',\n",
       "  'HISCO221',\n",
       "  'HISCO931'],\n",
       " 287: ['HISCO430', 'HISCO231', 'HISCO931', 'HISCO221', 'HISCO23', 'HISCO22'],\n",
       " 288: ['HISCO802', 'HISCO510', 'HISCO24', 'HISCO80', 'HISCO801', 'HISCO51'],\n",
       " 289: ['NA'],\n",
       " 290: ['HISCO841', 'HISCO849', 'HISCO843'],\n",
       " 291: ['HISCO999', 'HISCO333', 'HISCO33'],\n",
       " 292: ['NA'],\n",
       " 293: ['NA'],\n",
       " 294: ['NA'],\n",
       " 295: ['NA'],\n",
       " 296: ['HISCO999', 'HISCO333', 'HISCO33'],\n",
       " 297: ['HISCO999', 'HISCO333', 'HISCO33'],\n",
       " 298: ['HISCO999', 'HISCO333', 'HISCO33'],\n",
       " 299: ['HISCO21', 'HISCO210', 'HISCO873'],\n",
       " 300: ['NA'],\n",
       " 301: ['HISCO151', 'HISCO159', 'HISCO110', 'HISCO11', 'HISCO33', 'HISCO331'],\n",
       " 302: ['NA'],\n",
       " 303: ['HISCO910', 'HISCO722', 'HISCO999', 'HISCO72'],\n",
       " 304: ['HISCO21', 'HISCO210', 'HISCO430'],\n",
       " 305: ['HISCO231',\n",
       "  'HISCO21',\n",
       "  'HISCO33',\n",
       "  'HISCO221',\n",
       "  'HISCO23',\n",
       "  'HISCO22',\n",
       "  'HISCO999',\n",
       "  'HISCO333',\n",
       "  'HISCO211'],\n",
       " 306: ['HISCO747',\n",
       "  'HISCO170',\n",
       "  'HISCO857',\n",
       "  'HISCO838',\n",
       "  'HISCO740',\n",
       "  'HISCO163',\n",
       "  'HISCO171'],\n",
       " 307: ['HISCO999', 'HISCO333', 'HISCO33', 'HISCO331'],\n",
       " 308: ['HISCO33', 'HISCO110', 'HISCO331', 'HISCO11'],\n",
       " 309: ['HISCO624',\n",
       "  'HISCO62',\n",
       "  'HISCO540',\n",
       "  'HISCO871',\n",
       "  'HISCO959',\n",
       "  'HISCO931',\n",
       "  'HISCO54'],\n",
       " 310: ['HISCO849', 'HISCO843', 'HISCO841', 'HISCO226', 'HISCO22'],\n",
       " 311: ['HISCO430',\n",
       "  'HISCO776',\n",
       "  'HISCO410',\n",
       "  'HISCO110',\n",
       "  'HISCO11',\n",
       "  'HISCO33',\n",
       "  'HISCO331'],\n",
       " 312: ['HISCO430',\n",
       "  'HISCO776',\n",
       "  'HISCO410',\n",
       "  'HISCO110',\n",
       "  'HISCO11',\n",
       "  'HISCO33',\n",
       "  'HISCO331'],\n",
       " 313: ['HISCO831'],\n",
       " 314: ['HISCO999', 'HISCO333', 'HISCO33'],\n",
       " 315: ['HISCO22'],\n",
       " 316: ['HISCO999', 'HISCO333', 'HISCO33'],\n",
       " 317: ['HISCO999', 'HISCO333', 'HISCO33'],\n",
       " 318: ['NA'],\n",
       " 319: ['HISCO999', 'HISCO333', 'HISCO33'],\n",
       " 320: ['NA'],\n",
       " 321: ['HISCO21', 'HISCO210'],\n",
       " 322: ['HISCO773'],\n",
       " 323: ['HISCO72', 'HISCO724', 'HISCO725'],\n",
       " 324: ['HISCO31'],\n",
       " 325: ['HISCO31'],\n",
       " 326: ['HISCO162'],\n",
       " 327: ['HISCO162'],\n",
       " 328: ['HISCO22'],\n",
       " 329: ['NA'],\n",
       " 330: ['NA'],\n",
       " 331: ['HISCO999', 'HISCO333', 'HISCO33'],\n",
       " 332: ['HISCO954', 'HISCO23', 'HISCO819'],\n",
       " 333: ['HISCO954', 'HISCO23', 'HISCO819'],\n",
       " 334: ['HISCO410', 'HISCO11', 'HISCO67'],\n",
       " 335: ['NA'],\n",
       " 336: ['HISCO999', 'HISCO333', 'HISCO33'],\n",
       " 337: ['NA'],\n",
       " 338: ['NA'],\n",
       " 339: ['HISCO951', 'HISCO880', 'HISCO820'],\n",
       " 340: ['NA'],\n",
       " 341: ['HISCO159'],\n",
       " 342: ['HISCO75', 'HISCO756'],\n",
       " 343: ['NA'],\n",
       " 344: ['NA'],\n",
       " 345: ['HISCO839', 'HISCO410'],\n",
       " 346: ['HISCO839', 'HISCO841', 'HISCO873'],\n",
       " 347: ['HISCO30', 'HISCO300', 'HISCO390'],\n",
       " 348: ['NA'],\n",
       " 349: ['HISCO894', 'HISCO924', 'HISCO880', 'HISCO161'],\n",
       " 350: ['NA'],\n",
       " 351: ['HISCO783', 'HISCO430'],\n",
       " 352: ['NA'],\n",
       " 353: ['HISCO747',\n",
       "  'HISCO231',\n",
       "  'HISCO894',\n",
       "  'HISCO72',\n",
       "  'HISCO931',\n",
       "  'HISCO161',\n",
       "  'HISCO61',\n",
       "  'HISCO722',\n",
       "  'HISCO873',\n",
       "  'HISCO221',\n",
       "  'HISCO22',\n",
       "  'HISCO23',\n",
       "  'HISCO999'],\n",
       " 354: ['HISCO744',\n",
       "  'HISCO986',\n",
       "  'HISCO839',\n",
       "  'HISCO72',\n",
       "  'HISCO813',\n",
       "  'HISCO901',\n",
       "  'HISCO857',\n",
       "  'HISCO391',\n",
       "  'HISCO875',\n",
       "  'HISCO722',\n",
       "  'HISCO90',\n",
       "  'HISCO591',\n",
       "  'HISCO831',\n",
       "  'HISCO910',\n",
       "  'HISCO999'],\n",
       " 355: ['HISCO999', 'HISCO333', 'HISCO33', 'HISCO331'],\n",
       " 356: ['HISCO754',\n",
       "  'HISCO744',\n",
       "  'HISCO872',\n",
       "  'HISCO740',\n",
       "  'HISCO33',\n",
       "  'HISCO910',\n",
       "  'HISCO75',\n",
       "  'HISCO999',\n",
       "  'HISCO333'],\n",
       " 357: ['NA'],\n",
       " 358: ['NA'],\n",
       " 359: ['HISCO999', 'HISCO333', 'HISCO33'],\n",
       " 360: ['HISCO410', 'HISCO776'],\n",
       " 361: ['NA'],\n",
       " 362: ['HISCO124',\n",
       "  'HISCO121',\n",
       "  'HISCO33',\n",
       "  'HISCO999',\n",
       "  'HISCO333',\n",
       "  'HISCO12',\n",
       "  'HISCO331'],\n",
       " 363: ['HISCO999', 'HISCO333', 'HISCO33'],\n",
       " 364: ['NA'],\n",
       " 365: ['NA'],\n",
       " 366: ['HISCO893',\n",
       "  'HISCO747',\n",
       "  'HISCO895',\n",
       "  'HISCO33',\n",
       "  'HISCO910',\n",
       "  'HISCO999',\n",
       "  'HISCO333'],\n",
       " 367: ['HISCO33', 'HISCO331'],\n",
       " 368: ['HISCO62', 'HISCO624', 'HISCO835'],\n",
       " 369: ['HISCO62', 'HISCO624', 'HISCO835'],\n",
       " 370: ['NA'],\n",
       " 371: ['HISCO791', 'HISCO79', 'HISCO833', 'HISCO841', 'HISCO812'],\n",
       " 372: ['HISCO999', 'HISCO333', 'HISCO33'],\n",
       " 373: ['HISCO22'],\n",
       " 374: ['HISCO999', 'HISCO333', 'HISCO33'],\n",
       " 375: ['HISCO21', 'HISCO210'],\n",
       " 376: ['HISCO30', 'HISCO300', 'HISCO390'],\n",
       " 377: ['HISCO999', 'HISCO410', 'HISCO333', 'HISCO33'],\n",
       " 378: ['HISCO999', 'HISCO333', 'HISCO33'],\n",
       " 379: ['HISCO954', 'HISCO819'],\n",
       " 380: ['HISCO61'],\n",
       " 381: ['HISCO842', 'HISCO954'],\n",
       " 382: ['HISCO842', 'HISCO954'],\n",
       " 383: ['HISCO880'],\n",
       " 384: ['NA'],\n",
       " 385: ['HISCO410', 'HISCO777'],\n",
       " 386: ['HISCO728', 'HISCO849', 'HISCO72', 'HISCO843', 'HISCO841'],\n",
       " 387: ['HISCO22', 'HISCO226'],\n",
       " 388: ['HISCO22', 'HISCO226'],\n",
       " 389: ['HISCO75', 'HISCO753', 'HISCO819'],\n",
       " 390: ['NA'],\n",
       " 391: ['HISCO873'],\n",
       " 392: ['HISCO841', 'HISCO849', 'HISCO441', 'HISCO843'],\n",
       " 393: ['NA'],\n",
       " 394: ['NA'],\n",
       " 395: ['HISCO986',\n",
       "  'HISCO231',\n",
       "  'HISCO72',\n",
       "  'HISCO931',\n",
       "  'HISCO722',\n",
       "  'HISCO591',\n",
       "  'HISCO221',\n",
       "  'HISCO23',\n",
       "  'HISCO22',\n",
       "  'HISCO999'],\n",
       " 396: ['HISCO871'],\n",
       " 397: ['HISCO79', 'HISCO791'],\n",
       " 398: ['NA'],\n",
       " 399: ['HISCO22', 'HISCO220', 'HISCO711', 'HISCO71'],\n",
       " 400: ['HISCO61'],\n",
       " 401: ['HISCO999', 'HISCO333', 'HISCO33'],\n",
       " 402: ['HISCO999', 'HISCO333', 'HISCO33'],\n",
       " 403: ['NA'],\n",
       " 404: ['HISCO410'],\n",
       " 405: ['NA'],\n",
       " 406: ['NA'],\n",
       " 407: ['HISCO22'],\n",
       " 408: ['HISCO999', 'HISCO333', 'HISCO33'],\n",
       " 409: ['HISCO22'],\n",
       " 410: ['HISCO22'],\n",
       " 411: ['HISCO79', 'HISCO796'],\n",
       " 412: ['HISCO21', 'HISCO210', 'HISCO986'],\n",
       " 413: ['HISCO21', 'HISCO210', 'HISCO986'],\n",
       " 414: ['HISCO22'],\n",
       " 415: ['NA'],\n",
       " 416: ['HISCO802',\n",
       "  'HISCO430',\n",
       "  'HISCO33',\n",
       "  'HISCO80',\n",
       "  'HISCO801',\n",
       "  'HISCO999',\n",
       "  'HISCO333'],\n",
       " 417: ['HISCO999', 'HISCO333', 'HISCO33'],\n",
       " 418: ['HISCO999', 'HISCO333', 'HISCO33'],\n",
       " 419: ['NA'],\n",
       " 420: ['NA'],\n",
       " 421: ['HISCO999', 'HISCO333', 'HISCO33', 'HISCO331'],\n",
       " 422: ['HISCO999', 'HISCO333', 'HISCO33', 'HISCO331'],\n",
       " 423: ['HISCO999', 'HISCO333', 'HISCO33', 'HISCO331'],\n",
       " 424: ['NA'],\n",
       " 425: ['HISCO24'],\n",
       " 426: ['HISCO999', 'HISCO333', 'HISCO33'],\n",
       " 427: ['HISCO30', 'HISCO291', 'HISCO220', 'HISCO22', 'HISCO443'],\n",
       " 428: ['HISCO22'],\n",
       " 429: ['HISCO999', 'HISCO333', 'HISCO33'],\n",
       " 430: ['NA'],\n",
       " 431: ['HISCO999', 'HISCO333', 'HISCO33'],\n",
       " 432: ['HISCO61', 'HISCO771', 'HISCO611', 'HISCO613'],\n",
       " 433: ['HISCO430'],\n",
       " 434: ['HISCO21', 'HISCO210'],\n",
       " 435: ['HISCO21', 'HISCO210'],\n",
       " 436: ['HISCO24'],\n",
       " 437: ['NA'],\n",
       " 438: ['HISCO21', 'HISCO211'],\n",
       " 439: ['HISCO30', 'HISCO291', 'HISCO21', 'HISCO220', 'HISCO22', 'HISCO443'],\n",
       " 440: ['HISCO33', 'HISCO110', 'HISCO331', 'HISCO11'],\n",
       " 441: ['HISCO410'],\n",
       " 442: ['NA'],\n",
       " 443: ['HISCO999', 'HISCO333', 'HISCO33'],\n",
       " 444: ['NA'],\n",
       " 445: ['NA'],\n",
       " 446: ['NA'],\n",
       " 447: ['HISCO841', 'HISCO849', 'HISCO430', 'HISCO843'],\n",
       " 448: ['HISCO839'],\n",
       " 449: ['HISCO839'],\n",
       " 450: ['HISCO999', 'HISCO333', 'HISCO33'],\n",
       " 451: ['HISCO747', 'HISCO21', 'HISCO210', 'HISCO391', 'HISCO23'],\n",
       " 452: ['HISCO747', 'HISCO21', 'HISCO210', 'HISCO391', 'HISCO23'],\n",
       " 453: ['HISCO432'],\n",
       " 454: ['HISCO21', 'HISCO410', 'HISCO211'],\n",
       " 455: ['NA'],\n",
       " 456: ['HISCO132', 'HISCO13', 'HISCO130'],\n",
       " 457: ['HISCO31'],\n",
       " 458: ['NA'],\n",
       " 459: ['HISCO24'],\n",
       " 460: ['NA'],\n",
       " 461: ['HISCO773'],\n",
       " 462: ['NA'],\n",
       " 463: ['HISCO21'],\n",
       " 464: ['HISCO875'],\n",
       " 465: ['HISCO410'],\n",
       " 466: ['NA'],\n",
       " 467: ['NA'],\n",
       " 468: ['NA'],\n",
       " 469: ['NA'],\n",
       " 470: ['NA'],\n",
       " 471: ['NA'],\n",
       " 472: ['HISCO839', 'HISCO895', 'HISCO893', 'HISCO835'],\n",
       " 473: ['HISCO999', 'HISCO333', 'HISCO33', 'HISCO430'],\n",
       " 474: ['HISCO583', 'HISCO430', 'HISCO23'],\n",
       " 475: ['HISCO410'],\n",
       " 476: ['HISCO893',\n",
       "  'HISCO231',\n",
       "  'HISCO24',\n",
       "  'HISCO931',\n",
       "  'HISCO221',\n",
       "  'HISCO23',\n",
       "  'HISCO22',\n",
       "  'HISCO951'],\n",
       " 477: ['HISCO410', 'HISCO11', 'HISCO67'],\n",
       " 478: ['HISCO754',\n",
       "  'HISCO749',\n",
       "  'HISCO872',\n",
       "  'HISCO747',\n",
       "  'HISCO231',\n",
       "  'HISCO931',\n",
       "  'HISCO75',\n",
       "  'HISCO391',\n",
       "  'HISCO971',\n",
       "  'HISCO873',\n",
       "  'HISCO221',\n",
       "  'HISCO22',\n",
       "  'HISCO23',\n",
       "  'HISCO742'],\n",
       " 479: ['HISCO410', 'HISCO11', 'HISCO67'],\n",
       " 480: ['HISCO410', 'HISCO11', 'HISCO67'],\n",
       " 481: ['HISCO841', 'HISCO849', 'HISCO843'],\n",
       " 482: ['NA'],\n",
       " 483: ['HISCO62', 'HISCO624', 'HISCO871'],\n",
       " 484: ['HISCO410', 'HISCO11', 'HISCO67'],\n",
       " 485: ['HISCO430', 'HISCO747', 'HISCO72', 'HISCO722', 'HISCO999'],\n",
       " 486: ['HISCO999', 'HISCO333', 'HISCO33'],\n",
       " 487: ['HISCO842', 'HISCO410', 'HISCO954'],\n",
       " 488: ['HISCO999', 'HISCO333', 'HISCO33'],\n",
       " 489: ['HISCO32', 'HISCO320'],\n",
       " 490: ['HISCO32', 'HISCO320'],\n",
       " 491: ['HISCO999', 'HISCO333', 'HISCO33'],\n",
       " 492: ['NA'],\n",
       " 493: ['HISCO999', 'HISCO333', 'HISCO33'],\n",
       " 494: ['HISCO999', 'HISCO333', 'HISCO33'],\n",
       " 495: ['HISCO67', 'HISCO410', 'HISCO33', 'HISCO11', 'HISCO331'],\n",
       " 496: ['HISCO67', 'HISCO410', 'HISCO33', 'HISCO11', 'HISCO331'],\n",
       " 497: ['HISCO21', 'HISCO211'],\n",
       " 498: ['NA'],\n",
       " 499: ['NA'],\n",
       " 500: ['HISCO79', 'HISCO410', 'HISCO791'],\n",
       " 501: ['HISCO999', 'HISCO333', 'HISCO33'],\n",
       " 502: ['HISCO61', 'HISCO771', 'HISCO611', 'HISCO613'],\n",
       " 503: ['NA'],\n",
       " 504: ['HISCO231',\n",
       "  'HISCO21',\n",
       "  'HISCO839',\n",
       "  'HISCO896',\n",
       "  'HISCO24',\n",
       "  'HISCO221',\n",
       "  'HISCO23',\n",
       "  'HISCO22',\n",
       "  'HISCO211'],\n",
       " 505: ['HISCO62', 'HISCO624', 'HISCO627'],\n",
       " 506: ['HISCO931', 'HISCO871', 'HISCO959'],\n",
       " 507: ['NA'],\n",
       " 508: ['HISCO33', 'HISCO110', 'HISCO331', 'HISCO11'],\n",
       " 509: ['NA'],\n",
       " 510: ['NA'],\n",
       " 511: ['HISCO831'],\n",
       " 512: ['NA'],\n",
       " 513: ['HISCO231', 'HISCO931', 'HISCO23', 'HISCO221', 'HISCO22'],\n",
       " 514: ['HISCO231',\n",
       "  'HISCO21',\n",
       "  'HISCO210',\n",
       "  'HISCO320',\n",
       "  'HISCO32',\n",
       "  'HISCO221',\n",
       "  'HISCO23',\n",
       "  'HISCO22',\n",
       "  'HISCO211'],\n",
       " 515: ['NA'],\n",
       " 516: ['NA'],\n",
       " 517: ['HISCO21', 'HISCO22', 'HISCO210', 'HISCO220'],\n",
       " 518: ['HISCO21', 'HISCO22', 'HISCO210', 'HISCO220'],\n",
       " 519: ['HISCO124',\n",
       "  'HISCO839',\n",
       "  'HISCO12',\n",
       "  'HISCO875',\n",
       "  'HISCO33',\n",
       "  'HISCO22',\n",
       "  'HISCO713',\n",
       "  'HISCO121',\n",
       "  'HISCO71',\n",
       "  'HISCO331'],\n",
       " 520: ['HISCO999', 'HISCO333', 'HISCO33'],\n",
       " 521: ['HISCO893', 'HISCO231', 'HISCO931', 'HISCO221', 'HISCO23', 'HISCO22'],\n",
       " 522: ['NA'],\n",
       " 523: ['NA'],\n",
       " 524: ['NA'],\n",
       " 525: ['HISCO410', 'HISCO430'],\n",
       " 526: ['HISCO410', 'HISCO430'],\n",
       " 527: ['HISCO999', 'HISCO333', 'HISCO33'],\n",
       " 528: ['HISCO839',\n",
       "  'HISCO894',\n",
       "  'HISCO880',\n",
       "  'HISCO161',\n",
       "  'HISCO875',\n",
       "  'HISCO924',\n",
       "  'HISCO892'],\n",
       " 529: ['HISCO999', 'HISCO333', 'HISCO33'],\n",
       " 530: ['HISCO430'],\n",
       " 531: ['HISCO880'],\n",
       " 532: ['HISCO893', 'HISCO130', 'HISCO13', 'HISCO895', 'HISCO410', 'HISCO583'],\n",
       " 533: ['HISCO803', 'HISCO80'],\n",
       " 534: ['HISCO931', 'HISCO875', 'HISCO441', 'HISCO42'],\n",
       " 535: ['HISCO999', 'HISCO333', 'HISCO33'],\n",
       " 536: ['HISCO999', 'HISCO333', 'HISCO33'],\n",
       " 537: ['HISCO871'],\n",
       " 538: ['HISCO24'],\n",
       " 539: ['NA'],\n",
       " 540: ['HISCO21', 'HISCO210'],\n",
       " 541: ['HISCO986',\n",
       "  'HISCO839',\n",
       "  'HISCO331',\n",
       "  'HISCO591',\n",
       "  'HISCO110',\n",
       "  'HISCO33',\n",
       "  'HISCO11'],\n",
       " 542: ['HISCO61'],\n",
       " 543: ['NA'],\n",
       " 544: ['HISCO999', 'HISCO333', 'HISCO33'],\n",
       " 545: ['HISCO30',\n",
       "  'HISCO390',\n",
       "  'HISCO212',\n",
       "  'HISCO21',\n",
       "  'HISCO300',\n",
       "  'HISCO974',\n",
       "  'HISCO397'],\n",
       " 546: ['HISCO430', 'HISCO231', 'HISCO931', 'HISCO221', 'HISCO23', 'HISCO22'],\n",
       " 547: ['NA'],\n",
       " 548: ['NA'],\n",
       " 549: ['NA'],\n",
       " 550: ['HISCO999', 'HISCO333', 'HISCO33'],\n",
       " 551: ['HISCO61'],\n",
       " 552: ['HISCO744', 'HISCO430', 'HISCO21', 'HISCO210', 'HISCO591'],\n",
       " 553: ['NA'],\n",
       " 554: ['NA'],\n",
       " 555: ['NA'],\n",
       " 556: ['HISCO794',\n",
       "  'HISCO430',\n",
       "  'HISCO986',\n",
       "  'HISCO839',\n",
       "  'HISCO79',\n",
       "  'HISCO62',\n",
       "  'HISCO891',\n",
       "  'HISCO591',\n",
       "  'HISCO621',\n",
       "  'HISCO820'],\n",
       " 557: ['HISCO410', 'HISCO451', 'HISCO67'],\n",
       " 558: ['HISCO999', 'HISCO333', 'HISCO33'],\n",
       " 559: ['HISCO430'],\n",
       " 560: ['HISCO75', 'HISCO756'],\n",
       " 561: ['HISCO75', 'HISCO756'],\n",
       " 562: ['NA'],\n",
       " 563: ['NA'],\n",
       " 564: ['HISCO910', 'HISCO410', 'HISCO451', 'HISCO591'],\n",
       " 565: ['HISCO79', 'HISCO410', 'HISCO792'],\n",
       " 566: ['HISCO872'],\n",
       " 567: ['HISCO410'],\n",
       " 568: ['HISCO430'],\n",
       " 569: ['HISCO430'],\n",
       " 570: ['NA'],\n",
       " 571: ['HISCO831'],\n",
       " 572: ['HISCO831'],\n",
       " 573: ['NA'],\n",
       " 574: ['NA'],\n",
       " 575: ['NA'],\n",
       " 576: ['HISCO33', 'HISCO331'],\n",
       " 577: ['HISCO974',\n",
       "  'HISCO747',\n",
       "  'HISCO163',\n",
       "  'HISCO33',\n",
       "  'HISCO999',\n",
       "  'HISCO333',\n",
       "  'HISCO397'],\n",
       " 578: ['NA'],\n",
       " 579: ['NA'],\n",
       " 580: ['NA'],\n",
       " 581: ['NA'],\n",
       " 582: ['NA'],\n",
       " 583: ['NA'],\n",
       " 584: ['HISCO999', 'HISCO333', 'HISCO33'],\n",
       " 585: ['NA'],\n",
       " 586: ['NA'],\n",
       " 587: ['HISCO451', 'HISCO430'],\n",
       " 588: ['HISCO747', 'HISCO72', 'HISCO722', 'HISCO910', 'HISCO999'],\n",
       " 589: ['NA'],\n",
       " 590: ['NA'],\n",
       " 591: ['NA'],\n",
       " 592: ['NA'],\n",
       " 593: ['HISCO842', 'HISCO954'],\n",
       " 594: ['NA'],\n",
       " 595: ['HISCO999', 'HISCO333', 'HISCO33'],\n",
       " 596: ['HISCO430'],\n",
       " 597: ['HISCO430'],\n",
       " 598: ['HISCO410'],\n",
       " 599: ['HISCO999', 'HISCO333', 'HISCO33'],\n",
       " 600: ['HISCO999', 'HISCO333', 'HISCO33'],\n",
       " 601: ['HISCO21', 'HISCO210', 'HISCO430'],\n",
       " 602: ['HISCO22'],\n",
       " 603: ['HISCO999', 'HISCO333', 'HISCO33'],\n",
       " 604: ['HISCO954', 'HISCO832', 'HISCO819'],\n",
       " 605: ['NA'],\n",
       " 606: ['NA'],\n",
       " 607: ['HISCO430'],\n",
       " 608: ['HISCO999', 'HISCO333', 'HISCO33'],\n",
       " 609: ['HISCO30', 'HISCO300', 'HISCO390'],\n",
       " 610: ['HISCO21', 'HISCO451', 'HISCO211', 'HISCO942'],\n",
       " 611: ['HISCO875', 'HISCO591', 'HISCO22', 'HISCO121', 'HISCO12'],\n",
       " 612: ['HISCO22', 'HISCO220'],\n",
       " 613: ['HISCO22', 'HISCO220'],\n",
       " 614: ['NA'],\n",
       " 615: ['NA'],\n",
       " 616: ['HISCO410', 'HISCO776'],\n",
       " 617: ['HISCO999', 'HISCO333', 'HISCO33'],\n",
       " 618: ['NA'],\n",
       " 619: ['NA'],\n",
       " 620: ['NA'],\n",
       " 621: ['HISCO832', 'HISCO802', 'HISCO80', 'HISCO801'],\n",
       " 622: ['HISCO21', 'HISCO210'],\n",
       " 623: ['HISCO21', 'HISCO210'],\n",
       " 624: ['NA'],\n",
       " 625: ['NA'],\n",
       " 626: ['HISCO880'],\n",
       " 627: ['HISCO430', 'HISCO802', 'HISCO21', 'HISCO210', 'HISCO80', 'HISCO801'],\n",
       " 628: ['HISCO901', 'HISCO999', 'HISCO90'],\n",
       " 629: ['HISCO901', 'HISCO999', 'HISCO90'],\n",
       " 630: ['HISCO231', 'HISCO931', 'HISCO23', 'HISCO221', 'HISCO22'],\n",
       " 631: ['NA'],\n",
       " 632: ['NA'],\n",
       " 633: ['HISCO430'],\n",
       " 634: ['HISCO839', 'HISCO841', 'HISCO871'],\n",
       " 635: ['NA'],\n",
       " 636: ['NA'],\n",
       " 637: ['HISCO880'],\n",
       " 638: ['HISCO24'],\n",
       " 639: ['HISCO430'],\n",
       " 640: ['NA'],\n",
       " 641: ['NA'],\n",
       " 642: ['HISCO410', 'HISCO430'],\n",
       " 643: ['HISCO430'],\n",
       " 644: ['HISCO79', 'HISCO791', 'HISCO873'],\n",
       " 645: ['HISCO21', 'HISCO210', 'HISCO849', 'HISCO843', 'HISCO841'],\n",
       " 646: ['HISCO21', 'HISCO210', 'HISCO849', 'HISCO843', 'HISCO841'],\n",
       " 647: ['NA'],\n",
       " 648: ['HISCO779', 'HISCO776', 'HISCO72', 'HISCO841', 'HISCO721'],\n",
       " 649: ['HISCO779', 'HISCO776', 'HISCO72', 'HISCO841', 'HISCO721'],\n",
       " 650: ['HISCO75', 'HISCO842'],\n",
       " 651: ['HISCO75', 'HISCO752'],\n",
       " 652: ['HISCO124', 'HISCO33', 'HISCO22', 'HISCO121', 'HISCO12', 'HISCO331'],\n",
       " 653: ['HISCO124', 'HISCO33', 'HISCO22', 'HISCO121', 'HISCO12', 'HISCO331'],\n",
       " 654: ['HISCO75'],\n",
       " 655: ['NA'],\n",
       " 656: ['HISCO999', 'HISCO333', 'HISCO33'],\n",
       " 657: ['NA'],\n",
       " 658: ['NA'],\n",
       " 659: ['HISCO30', 'HISCO300', 'HISCO390'],\n",
       " 660: ['HISCO21'],\n",
       " 661: ['HISCO30', 'HISCO300', 'HISCO390'],\n",
       " 662: ['HISCO30', 'HISCO300', 'HISCO390'],\n",
       " 663: ['NA'],\n",
       " 664: ['HISCO999', 'HISCO333', 'HISCO33'],\n",
       " 665: ['NA'],\n",
       " 666: ['HISCO410'],\n",
       " 667: ['HISCO21', 'HISCO910', 'HISCO211'],\n",
       " 668: ['HISCO430'],\n",
       " 669: ['NA'],\n",
       " 670: ['HISCO23'],\n",
       " 671: ['HISCO999', 'HISCO333', 'HISCO33'],\n",
       " 672: ['HISCO410', 'HISCO776'],\n",
       " 673: ['HISCO410', 'HISCO776'],\n",
       " 674: ['HISCO391'],\n",
       " 675: ['HISCO841', 'HISCO430'],\n",
       " 676: ['HISCO841', 'HISCO430'],\n",
       " 677: ['NA'],\n",
       " 678: ['NA'],\n",
       " 679: ['HISCO722', 'HISCO999', 'HISCO72'],\n",
       " 680: ['HISCO591'],\n",
       " 681: ['HISCO162'],\n",
       " 682: ['HISCO999', 'HISCO333', 'HISCO33'],\n",
       " 683: ['HISCO30', 'HISCO300', 'HISCO390', 'HISCO831'],\n",
       " 684: ['HISCO391', 'HISCO410'],\n",
       " 685: ['HISCO910', 'HISCO921', 'HISCO926'],\n",
       " 686: ['HISCO22'],\n",
       " 687: ['HISCO430'],\n",
       " 688: ['NA'],\n",
       " 689: ['HISCO391'],\n",
       " 690: ['HISCO21', 'HISCO210'],\n",
       " 691: ['NA'],\n",
       " 692: ['HISCO999'],\n",
       " 693: ['HISCO430'],\n",
       " 694: ['NA'],\n",
       " 695: ['HISCO430'],\n",
       " 696: ['HISCO410'],\n",
       " 697: ['NA'],\n",
       " 698: ['NA'],\n",
       " 699: ['HISCO24'],\n",
       " 700: ['HISCO170', 'HISCO171'],\n",
       " 701: ['HISCO170', 'HISCO171'],\n",
       " 702: ['NA'],\n",
       " 703: ['HISCO841', 'HISCO849', 'HISCO843'],\n",
       " 704: ['HISCO430'],\n",
       " 705: ['HISCO880'],\n",
       " 706: ['HISCO999', 'HISCO333', 'HISCO33'],\n",
       " 707: ['NA'],\n",
       " 708: ['HISCO25', 'HISCO410', 'HISCO11', 'HISCO67'],\n",
       " 709: ['NA'],\n",
       " 710: ['HISCO61'],\n",
       " 711: ['HISCO430'],\n",
       " 712: ['HISCO999', 'HISCO410', 'HISCO79', 'HISCO791'],\n",
       " 713: ['NA'],\n",
       " 714: ['NA'],\n",
       " 715: ['NA'],\n",
       " 716: ['NA'],\n",
       " 717: ['HISCO999', 'HISCO333', 'HISCO33'],\n",
       " 718: ['HISCO410', 'HISCO451', 'HISCO110', 'HISCO11', 'HISCO33', 'HISCO331'],\n",
       " 719: ['HISCO999', 'HISCO333', 'HISCO33', 'HISCO873'],\n",
       " 720: ['NA'],\n",
       " 721: ['HISCO441', 'HISCO21', 'HISCO210', 'HISCO896', 'HISCO873'],\n",
       " 722: ['HISCO441', 'HISCO21', 'HISCO210', 'HISCO896', 'HISCO873'],\n",
       " 723: ['HISCO79', 'HISCO795', 'HISCO834'],\n",
       " 724: ['NA'],\n",
       " 725: ['HISCO999', 'HISCO333', 'HISCO33'],\n",
       " 726: ['HISCO430'],\n",
       " 727: ['HISCO410'],\n",
       " 728: ['HISCO410'],\n",
       " 729: ['HISCO410'],\n",
       " 730: ['HISCO25'],\n",
       " 731: ['NA'],\n",
       " 732: ['HISCO130', 'HISCO13', 'HISCO871', 'HISCO959', 'HISCO931'],\n",
       " 733: ['HISCO432', 'HISCO410'],\n",
       " 734: ['HISCO231', 'HISCO931', 'HISCO23', 'HISCO221', 'HISCO22'],\n",
       " 735: ['NA'],\n",
       " 736: ['HISCO13', 'HISCO139'],\n",
       " 737: ['NA'],\n",
       " 738: ['HISCO999', 'HISCO333', 'HISCO33'],\n",
       " 739: ['HISCO410', 'HISCO451'],\n",
       " 740: ['HISCO410', 'HISCO451'],\n",
       " 741: ['HISCO430'],\n",
       " 742: ['NA'],\n",
       " 743: ['HISCO999', 'HISCO333', 'HISCO33'],\n",
       " 744: ['HISCO410'],\n",
       " 745: ['HISCO30', 'HISCO300', 'HISCO390'],\n",
       " 746: ['NA'],\n",
       " 747: ['HISCO999', 'HISCO333', 'HISCO33'],\n",
       " 748: ['HISCO841', 'HISCO871'],\n",
       " 749: ['HISCO430'],\n",
       " 750: ['HISCO410'],\n",
       " 751: ['NA'],\n",
       " 752: ['HISCO999', 'HISCO333', 'HISCO33'],\n",
       " 753: ['HISCO999', 'HISCO333', 'HISCO33'],\n",
       " 754: ['HISCO880'],\n",
       " 755: ['HISCO53', 'HISCO531', 'HISCO776', 'HISCO984'],\n",
       " 756: ['HISCO430'],\n",
       " 757: ['HISCO430'],\n",
       " 758: ['HISCO873'],\n",
       " 759: ['NA'],\n",
       " 760: ['HISCO21', 'HISCO211'],\n",
       " 761: ['HISCO21', 'HISCO211'],\n",
       " 762: ['HISCO430', 'HISCO231', 'HISCO931', 'HISCO221', 'HISCO23', 'HISCO22'],\n",
       " 763: ['HISCO430', 'HISCO231', 'HISCO931', 'HISCO221', 'HISCO23', 'HISCO22'],\n",
       " 764: ['NA'],\n",
       " 765: ['NA'],\n",
       " 766: ['NA'],\n",
       " 767: ['HISCO999', 'HISCO333', 'HISCO33'],\n",
       " 768: ['HISCO430'],\n",
       " 769: ['HISCO430',\n",
       "  'HISCO984',\n",
       "  'HISCO360',\n",
       "  'HISCO226',\n",
       "  'HISCO22',\n",
       "  'HISCO589',\n",
       "  'HISCO582'],\n",
       " 770: ['HISCO583'],\n",
       " 771: ['HISCO410'],\n",
       " 772: ['NA'],\n",
       " 773: ['HISCO22', 'HISCO33', 'HISCO331'],\n",
       " 774: ['HISCO124', 'HISCO33', 'HISCO22', 'HISCO121', 'HISCO12', 'HISCO331'],\n",
       " 775: ['NA'],\n",
       " 776: ['HISCO999', 'HISCO333', 'HISCO33'],\n",
       " 777: ['NA'],\n",
       " 778: ['HISCO999', 'HISCO333', 'HISCO33'],\n",
       " 779: ['HISCO999', 'HISCO333', 'HISCO33'],\n",
       " 780: ['NA'],\n",
       " 781: ['HISCO430'],\n",
       " 782: ['NA'],\n",
       " 783: ['NA'],\n",
       " 784: ['NA'],\n",
       " 785: ['NA'],\n",
       " 786: ['NA'],\n",
       " 787: ['HISCO360', 'HISCO430'],\n",
       " 788: ['NA'],\n",
       " 789: ['NA'],\n",
       " 790: ['HISCO61'],\n",
       " 791: ['HISCO813'],\n",
       " 792: ['HISCO802',\n",
       "  'HISCO839',\n",
       "  'HISCO72',\n",
       "  'HISCO722',\n",
       "  'HISCO80',\n",
       "  'HISCO801',\n",
       "  'HISCO999'],\n",
       " 793: ['HISCO802',\n",
       "  'HISCO839',\n",
       "  'HISCO72',\n",
       "  'HISCO722',\n",
       "  'HISCO80',\n",
       "  'HISCO801',\n",
       "  'HISCO999'],\n",
       " 794: ['HISCO855'],\n",
       " 795: ['HISCO21', 'HISCO32', 'HISCO210', 'HISCO320'],\n",
       " 796: ['NA'],\n",
       " 797: ['NA'],\n",
       " 798: ['HISCO22', 'HISCO871'],\n",
       " 799: ['HISCO23'],\n",
       " 800: ['HISCO231',\n",
       "  'HISCO931',\n",
       "  'HISCO67',\n",
       "  'HISCO410',\n",
       "  'HISCO591',\n",
       "  'HISCO221',\n",
       "  'HISCO942',\n",
       "  'HISCO22',\n",
       "  'HISCO23',\n",
       "  'HISCO11'],\n",
       " 801: ['NA'],\n",
       " 802: ['HISCO22', 'HISCO220'],\n",
       " 803: ['HISCO842'],\n",
       " 804: ['HISCO79', 'HISCO410', 'HISCO791'],\n",
       " 805: ['HISCO22'],\n",
       " 806: ['HISCO761', 'HISCO76'],\n",
       " 807: ['HISCO21', 'HISCO210', 'HISCO410'],\n",
       " 808: ['HISCO21', 'HISCO210', 'HISCO410'],\n",
       " 809: ['HISCO583', 'HISCO584'],\n",
       " 810: ['NA'],\n",
       " 811: ['HISCO999', 'HISCO333', 'HISCO33'],\n",
       " 812: ['NA'],\n",
       " 813: ['HISCO410'],\n",
       " 814: ['HISCO430'],\n",
       " 815: ['HISCO430'],\n",
       " 816: ['NA'],\n",
       " 817: ['NA'],\n",
       " 818: ['HISCO999', 'HISCO333', 'HISCO33'],\n",
       " 819: ['HISCO793',\n",
       "  'HISCO741',\n",
       "  'HISCO734',\n",
       "  'HISCO79',\n",
       "  'HISCO756',\n",
       "  'HISCO778',\n",
       "  'HISCO901',\n",
       "  'HISCO899',\n",
       "  'HISCO833',\n",
       "  'HISCO410',\n",
       "  'HISCO90',\n",
       "  'HISCO771',\n",
       "  'HISCO75',\n",
       "  'HISCO73',\n",
       "  'HISCO999'],\n",
       " 820: ['HISCO624', 'HISCO62', 'HISCO67', 'HISCO410', 'HISCO11'],\n",
       " 821: ['HISCO984',\n",
       "  'HISCO819',\n",
       "  'HISCO753',\n",
       "  'HISCO360',\n",
       "  'HISCO451',\n",
       "  'HISCO75',\n",
       "  'HISCO589',\n",
       "  'HISCO582'],\n",
       " 822: ['HISCO999', 'HISCO333', 'HISCO33'],\n",
       " 823: ['HISCO999', 'HISCO333', 'HISCO33'],\n",
       " 824: ['HISCO999', 'HISCO333', 'HISCO33'],\n",
       " 825: ['HISCO430'],\n",
       " 826: ['HISCO24'],\n",
       " 827: ['HISCO24'],\n",
       " 828: ['HISCO410', 'HISCO11', 'HISCO67'],\n",
       " 829: ['HISCO842'],\n",
       " 830: ['HISCO231', 'HISCO931', 'HISCO23', 'HISCO221', 'HISCO22'],\n",
       " 831: ['HISCO999', 'HISCO333', 'HISCO33'],\n",
       " 832: ['HISCO410', 'HISCO11', 'HISCO67'],\n",
       " 833: ['NA'],\n",
       " 834: ['HISCO30', 'HISCO291', 'HISCO220', 'HISCO22', 'HISCO443'],\n",
       " 835: ['NA'],\n",
       " 836: ['HISCO21', 'HISCO210', 'HISCO67', 'HISCO410', 'HISCO11'],\n",
       " 837: ['HISCO410'],\n",
       " 838: ['HISCO410'],\n",
       " 839: ['HISCO986', 'HISCO391', 'HISCO33', 'HISCO873', 'HISCO333'],\n",
       " 840: ['HISCO199'],\n",
       " 841: ['NA'],\n",
       " 842: ['HISCO744', 'HISCO410', 'HISCO11', 'HISCO67'],\n",
       " 843: ['HISCO21', 'HISCO210'],\n",
       " 844: ['HISCO61'],\n",
       " 845: ['HISCO432'],\n",
       " 846: ['HISCO999', 'HISCO410', 'HISCO79', 'HISCO791'],\n",
       " 847: ['HISCO999', 'HISCO410', 'HISCO79', 'HISCO791'],\n",
       " 848: ['HISCO430'],\n",
       " 849: ['NA'],\n",
       " 850: ['NA'],\n",
       " 851: ['HISCO21', 'HISCO210', 'HISCO430'],\n",
       " 852: ['NA'],\n",
       " 853: ['NA'],\n",
       " 854: ['HISCO79', 'HISCO410', 'HISCO791'],\n",
       " 855: ['HISCO30', 'HISCO300', 'HISCO390'],\n",
       " 856: ['HISCO895', 'HISCO893', 'HISCO430'],\n",
       " 857: ['NA'],\n",
       " 858: ['HISCO22', 'HISCO430', 'HISCO226'],\n",
       " 859: ['HISCO999', 'HISCO333', 'HISCO33'],\n",
       " 860: ['NA'],\n",
       " 861: ['NA'],\n",
       " 862: ['HISCO831'],\n",
       " 863: ['HISCO152', 'HISCO31'],\n",
       " 864: ['HISCO80', 'HISCO801'],\n",
       " 865: ['HISCO430', 'HISCO802', 'HISCO80', 'HISCO801'],\n",
       " 866: ['NA'],\n",
       " 867: ['HISCO22', 'HISCO430', 'HISCO23'],\n",
       " 868: ['HISCO974',\n",
       "  'HISCO430',\n",
       "  'HISCO747',\n",
       "  'HISCO842',\n",
       "  'HISCO72',\n",
       "  'HISCO857',\n",
       "  'HISCO722',\n",
       "  'HISCO591',\n",
       "  'HISCO23',\n",
       "  'HISCO910',\n",
       "  'HISCO999',\n",
       "  'HISCO397'],\n",
       " 869: ['NA'],\n",
       " 870: ['HISCO430'],\n",
       " 871: ['HISCO430'],\n",
       " 872: ['NA'],\n",
       " 873: ['NA'],\n",
       " 874: ['HISCO803', 'HISCO430', 'HISCO80'],\n",
       " 875: ['HISCO170', 'HISCO171'],\n",
       " 876: ['HISCO170', 'HISCO171'],\n",
       " 877: ['HISCO22', 'HISCO430', 'HISCO871'],\n",
       " 878: ['NA'],\n",
       " 879: ['NA'],\n",
       " 880: ['HISCO72', 'HISCO728'],\n",
       " 881: ['HISCO754', 'HISCO75', 'HISCO430'],\n",
       " 882: ['HISCO901', 'HISCO999', 'HISCO90', 'HISCO747'],\n",
       " 883: ['NA'],\n",
       " 884: ['NA'],\n",
       " 885: ['HISCO231',\n",
       "  'HISCO839',\n",
       "  'HISCO901',\n",
       "  'HISCO931',\n",
       "  'HISCO391',\n",
       "  'HISCO90',\n",
       "  'HISCO221',\n",
       "  'HISCO23',\n",
       "  'HISCO22',\n",
       "  'HISCO999'],\n",
       " 886: ['NA'],\n",
       " 887: ['NA'],\n",
       " 888: ['HISCO231', 'HISCO931', 'HISCO23', 'HISCO221', 'HISCO22'],\n",
       " 889: ['HISCO33', 'HISCO331', 'HISCO430'],\n",
       " 890: ['HISCO22'],\n",
       " 891: ['HISCO432'],\n",
       " 892: ['HISCO22', 'HISCO224', 'HISCO53', 'HISCO531'],\n",
       " 893: ['HISCO430'],\n",
       " 894: ['NA'],\n",
       " 895: ['HISCO231', 'HISCO931', 'HISCO875', 'HISCO221', 'HISCO23', 'HISCO22'],\n",
       " 896: ['HISCO21', 'HISCO754', 'HISCO210', 'HISCO75'],\n",
       " 897: ['NA'],\n",
       " 898: ['HISCO749',\n",
       "  'HISCO872',\n",
       "  'HISCO747',\n",
       "  'HISCO813',\n",
       "  'HISCO613',\n",
       "  'HISCO61',\n",
       "  'HISCO410',\n",
       "  'HISCO360',\n",
       "  'HISCO771',\n",
       "  'HISCO974',\n",
       "  'HISCO742',\n",
       "  'HISCO611',\n",
       "  'HISCO397'],\n",
       " 899: ['HISCO410', 'HISCO880', 'HISCO11', 'HISCO67'],\n",
       " 900: ['HISCO410', 'HISCO33', 'HISCO873', 'HISCO999', 'HISCO333'],\n",
       " 901: ['HISCO410', 'HISCO33', 'HISCO873', 'HISCO999', 'HISCO333'],\n",
       " 902: ['HISCO430',\n",
       "  'HISCO231',\n",
       "  'HISCO21',\n",
       "  'HISCO221',\n",
       "  'HISCO23',\n",
       "  'HISCO22',\n",
       "  'HISCO583',\n",
       "  'HISCO211'],\n",
       " 903: ['NA'],\n",
       " 904: ['NA'],\n",
       " 905: ['HISCO999', 'HISCO333', 'HISCO33'],\n",
       " 906: ['NA'],\n",
       " 907: ['HISCO987', 'HISCO873', 'HISCO747'],\n",
       " 908: ['NA'],\n",
       " 909: ['NA'],\n",
       " 910: ['NA'],\n",
       " 911: ['NA'],\n",
       " 912: ['NA'],\n",
       " 913: ['HISCO430'],\n",
       " 914: ['NA'],\n",
       " 915: ['NA'],\n",
       " 916: ['HISCO974', 'HISCO397'],\n",
       " 917: ['NA'],\n",
       " 918: ['HISCO430'],\n",
       " 919: ['NA'],\n",
       " 920: ['HISCO22'],\n",
       " 921: ['HISCO30', 'HISCO390', 'HISCO300', 'HISCO33', 'HISCO331'],\n",
       " 922: ['NA'],\n",
       " 923: ['NA'],\n",
       " 924: ['NA'],\n",
       " 925: ['HISCO410', 'HISCO24', 'HISCO776', 'HISCO987'],\n",
       " 926: ['HISCO831'],\n",
       " 927: ['NA'],\n",
       " 928: ['HISCO999', 'HISCO333', 'HISCO33'],\n",
       " 929: ['HISCO999', 'HISCO333', 'HISCO33'],\n",
       " 930: ['NA'],\n",
       " 931: ['NA'],\n",
       " 932: ['HISCO62', 'HISCO624', 'HISCO627'],\n",
       " 933: ['NA'],\n",
       " 934: ['HISCO747',\n",
       "  'HISCO231',\n",
       "  'HISCO901',\n",
       "  'HISCO931',\n",
       "  'HISCO391',\n",
       "  'HISCO90',\n",
       "  'HISCO221',\n",
       "  'HISCO23',\n",
       "  'HISCO22',\n",
       "  'HISCO999'],\n",
       " 935: ['NA'],\n",
       " 936: ['NA'],\n",
       " 937: ['HISCO999', 'HISCO333', 'HISCO33'],\n",
       " 938: ['HISCO999', 'HISCO333', 'HISCO33'],\n",
       " 939: ['HISCO430'],\n",
       " 940: ['HISCO744',\n",
       "  'HISCO986',\n",
       "  'HISCO747',\n",
       "  'HISCO833',\n",
       "  'HISCO841',\n",
       "  'HISCO591',\n",
       "  'HISCO873',\n",
       "  'HISCO812'],\n",
       " 941: ['HISCO430',\n",
       "  'HISCO231',\n",
       "  'HISCO839',\n",
       "  'HISCO931',\n",
       "  'HISCO221',\n",
       "  'HISCO23',\n",
       "  'HISCO22'],\n",
       " 942: ['HISCO430',\n",
       "  'HISCO231',\n",
       "  'HISCO839',\n",
       "  'HISCO931',\n",
       "  'HISCO221',\n",
       "  'HISCO23',\n",
       "  'HISCO22'],\n",
       " 943: ['HISCO30', 'HISCO390', 'HISCO300', 'HISCO33', 'HISCO999', 'HISCO333'],\n",
       " 944: ['HISCO62', 'HISCO629'],\n",
       " 945: ['HISCO21', 'HISCO210'],\n",
       " 946: ['HISCO999', 'HISCO333', 'HISCO33'],\n",
       " 947: ['HISCO22'],\n",
       " 948: ['NA'],\n",
       " 949: ['HISCO22'],\n",
       " 950: ['HISCO13', 'HISCO430', 'HISCO133'],\n",
       " 951: ['HISCO779',\n",
       "  'HISCO231',\n",
       "  'HISCO931',\n",
       "  'HISCO391',\n",
       "  'HISCO221',\n",
       "  'HISCO23',\n",
       "  'HISCO22'],\n",
       " 952: ['HISCO22', 'HISCO33', 'HISCO331'],\n",
       " 953: ['HISCO22', 'HISCO33', 'HISCO331'],\n",
       " 954: ['HISCO744',\n",
       "  'HISCO893',\n",
       "  'HISCO747',\n",
       "  'HISCO839',\n",
       "  'HISCO842',\n",
       "  'HISCO231',\n",
       "  'HISCO931',\n",
       "  'HISCO895',\n",
       "  'HISCO391',\n",
       "  'HISCO740',\n",
       "  'HISCO803',\n",
       "  'HISCO33',\n",
       "  'HISCO80',\n",
       "  'HISCO221',\n",
       "  'HISCO22',\n",
       "  'HISCO23',\n",
       "  'HISCO331'],\n",
       " 955: ['HISCO744',\n",
       "  'HISCO893',\n",
       "  'HISCO747',\n",
       "  'HISCO839',\n",
       "  'HISCO842',\n",
       "  'HISCO231',\n",
       "  'HISCO931',\n",
       "  'HISCO895',\n",
       "  'HISCO391',\n",
       "  'HISCO740',\n",
       "  'HISCO803',\n",
       "  'HISCO33',\n",
       "  'HISCO80',\n",
       "  'HISCO221',\n",
       "  'HISCO22',\n",
       "  'HISCO23',\n",
       "  'HISCO331'],\n",
       " 956: ['HISCO22', 'HISCO33', 'HISCO331'],\n",
       " 957: ['HISCO22', 'HISCO33', 'HISCO331'],\n",
       " 958: ['NA'],\n",
       " 959: ['HISCO842', 'HISCO880'],\n",
       " 960: ['NA'],\n",
       " 961: ['NA'],\n",
       " 962: ['HISCO410'],\n",
       " 963: ['HISCO430'],\n",
       " 964: ['HISCO839', 'HISCO30', 'HISCO300', 'HISCO390'],\n",
       " 965: ['HISCO23'],\n",
       " 966: ['HISCO30', 'HISCO300', 'HISCO390'],\n",
       " 967: ['NA'],\n",
       " 968: ['NA'],\n",
       " 969: ['NA'],\n",
       " 970: ['HISCO754', 'HISCO75'],\n",
       " 971: ['NA'],\n",
       " 972: ['HISCO53', 'HISCO531', 'HISCO776'],\n",
       " 973: ['NA'],\n",
       " 974: ['NA'],\n",
       " 975: ['NA'],\n",
       " 976: ['NA'],\n",
       " 977: ['HISCO410'],\n",
       " 978: ['HISCO583'],\n",
       " 979: ['HISCO62', 'HISCO624'],\n",
       " 980: ['HISCO981'],\n",
       " 981: ['HISCO21', 'HISCO210'],\n",
       " 982: ['HISCO22'],\n",
       " 983: ['NA'],\n",
       " 984: ['NA'],\n",
       " 985: ['HISCO984', 'HISCO360', 'HISCO591', 'HISCO589', 'HISCO582'],\n",
       " 986: ['NA'],\n",
       " 987: ['NA'],\n",
       " 988: ['NA'],\n",
       " 989: ['HISCO30', 'HISCO410', 'HISCO300', 'HISCO390'],\n",
       " 990: ['HISCO999', 'HISCO333', 'HISCO33'],\n",
       " 991: ['HISCO151', 'HISCO121', 'HISCO12'],\n",
       " 992: ['NA'],\n",
       " 993: ['NA'],\n",
       " 994: ['HISCO974',\n",
       "  'HISCO231',\n",
       "  'HISCO839',\n",
       "  'HISCO901',\n",
       "  'HISCO931',\n",
       "  'HISCO90',\n",
       "  'HISCO221',\n",
       "  'HISCO873',\n",
       "  'HISCO22',\n",
       "  'HISCO23',\n",
       "  'HISCO999'],\n",
       " 995: ['HISCO22'],\n",
       " 996: ['HISCO893',\n",
       "  'HISCO231',\n",
       "  'HISCO839',\n",
       "  'HISCO23',\n",
       "  'HISCO22',\n",
       "  'HISCO331',\n",
       "  'HISCO747',\n",
       "  'HISCO901',\n",
       "  'HISCO391',\n",
       "  'HISCO552',\n",
       "  'HISCO873',\n",
       "  'HISCO987',\n",
       "  'HISCO42',\n",
       "  'HISCO838',\n",
       "  'HISCO90',\n",
       "  'HISCO999',\n",
       "  'HISCO76',\n",
       "  'HISCO762',\n",
       "  'HISCO895',\n",
       "  'HISCO875',\n",
       "  'HISCO591',\n",
       "  'HISCO33',\n",
       "  'HISCO221',\n",
       "  'HISCO931'],\n",
       " 997: ['NA'],\n",
       " 998: ['HISCO24'],\n",
       " 999: ['HISCO793',\n",
       "  'HISCO741',\n",
       "  'HISCO734',\n",
       "  'HISCO79',\n",
       "  'HISCO756',\n",
       "  'HISCO778',\n",
       "  'HISCO901',\n",
       "  'HISCO899',\n",
       "  'HISCO833',\n",
       "  'HISCO90',\n",
       "  'HISCO771',\n",
       "  'HISCO75',\n",
       "  'HISCO73',\n",
       "  'HISCO999'],\n",
       " ...}"
      ]
     },
     "execution_count": 16,
     "metadata": {},
     "output_type": "execute_result"
    }
   ],
   "source": [
    "# get all occs\n",
    "\n",
    "i_occ_mapping['mapping'] = i_occ_mapping.apply(lambda x:{x['index']:x.census_occupation}, axis = 1)\n",
    "combined_mapping = {}\n",
    "i_occ_mapping['mapping'].apply(lambda x:combined_mapping.update(x))\n",
    "\n",
    "combined_mapping"
   ]
  },
  {
   "cell_type": "code",
   "execution_count": 17,
   "id": "a85a07c0-2ad4-4ecf-8ead-393a995815fa",
   "metadata": {},
   "outputs": [
    {
     "data": {
      "text/plain": [
       "22120"
      ]
     },
     "execution_count": 17,
     "metadata": {},
     "output_type": "execute_result"
    }
   ],
   "source": [
    "len(combined_mapping)"
   ]
  },
  {
   "cell_type": "code",
   "execution_count": 4,
   "id": "fab68570-3b46-4a5c-8925-fa3f74f726c4",
   "metadata": {},
   "outputs": [
    {
     "ename": "NameError",
     "evalue": "name 'combined_mapping' is not defined",
     "output_type": "error",
     "traceback": [
      "\u001b[0;31m---------------------------------------------------------------------------\u001b[0m",
      "\u001b[0;31mNameError\u001b[0m                                 Traceback (most recent call last)",
      "Cell \u001b[0;32mIn[4], line 3\u001b[0m\n\u001b[1;32m      1\u001b[0m \u001b[38;5;28;01mimport\u001b[39;00m \u001b[38;5;21;01mpickle\u001b[39;00m\n\u001b[1;32m      2\u001b[0m \u001b[38;5;28;01mwith\u001b[39;00m \u001b[38;5;28mopen\u001b[39m(\u001b[38;5;124m'\u001b[39m\u001b[38;5;124m../int_data/combined_mapping.pkl\u001b[39m\u001b[38;5;124m'\u001b[39m,\u001b[38;5;124m'\u001b[39m\u001b[38;5;124mwb\u001b[39m\u001b[38;5;124m'\u001b[39m) \u001b[38;5;28;01mas\u001b[39;00m f:\n\u001b[0;32m----> 3\u001b[0m     pickle\u001b[38;5;241m.\u001b[39mdump(combined_mapping, f)\n",
      "\u001b[0;31mNameError\u001b[0m: name 'combined_mapping' is not defined"
     ]
    }
   ],
   "source": [
    "import pickle\n",
    "with open('../int_data/combined_mapping.pkl','wb') as f:\n",
    "    pickle.dump(combined_mapping, f)"
   ]
  },
  {
   "cell_type": "code",
   "execution_count": 5,
   "id": "13734b5a-8a1b-4e60-a43d-dacd047708ae",
   "metadata": {},
   "outputs": [
    {
     "ename": "EOFError",
     "evalue": "Ran out of input",
     "output_type": "error",
     "traceback": [
      "\u001b[0;31m---------------------------------------------------------------------------\u001b[0m",
      "\u001b[0;31mEOFError\u001b[0m                                  Traceback (most recent call last)",
      "Cell \u001b[0;32mIn[5], line 4\u001b[0m\n\u001b[1;32m      1\u001b[0m \u001b[38;5;28;01mimport\u001b[39;00m \u001b[38;5;21;01mpickle\u001b[39;00m\n\u001b[1;32m      3\u001b[0m \u001b[38;5;28;01mwith\u001b[39;00m \u001b[38;5;28mopen\u001b[39m(\u001b[38;5;124m'\u001b[39m\u001b[38;5;124m../int_data/combined_mapping.pkl\u001b[39m\u001b[38;5;124m'\u001b[39m,\u001b[38;5;124m'\u001b[39m\u001b[38;5;124mrb\u001b[39m\u001b[38;5;124m'\u001b[39m) \u001b[38;5;28;01mas\u001b[39;00m f:\n\u001b[0;32m----> 4\u001b[0m     combined_mapping \u001b[38;5;241m=\u001b[39m pickle\u001b[38;5;241m.\u001b[39mload(f)\n",
      "\u001b[0;31mEOFError\u001b[0m: Ran out of input"
     ]
    }
   ],
   "source": [
    "import pickle\n",
    "\n",
    "with open('../int_data/combined_mapping.pkl','rb') as f:\n",
    "    combined_mapping = pickle.load(f)"
   ]
  },
  {
   "cell_type": "code",
   "execution_count": 19,
   "id": "f5e49944-e602-4544-93a8-1393945039af",
   "metadata": {
    "scrolled": true
   },
   "outputs": [
    {
     "data": {
      "text/html": [
       "<div>\n",
       "<style scoped>\n",
       "    .dataframe tbody tr th:only-of-type {\n",
       "        vertical-align: middle;\n",
       "    }\n",
       "\n",
       "    .dataframe tbody tr th {\n",
       "        vertical-align: top;\n",
       "    }\n",
       "\n",
       "    .dataframe thead th {\n",
       "        text-align: right;\n",
       "    }\n",
       "</style>\n",
       "<table border=\"1\" class=\"dataframe\">\n",
       "  <thead>\n",
       "    <tr style=\"text-align: right;\">\n",
       "      <th></th>\n",
       "      <th>HISCO410</th>\n",
       "      <th>HISCO744</th>\n",
       "      <th>HISCO896</th>\n",
       "      <th>HISCO779</th>\n",
       "      <th>HISCO951</th>\n",
       "      <th>HISCO813</th>\n",
       "      <th>HISCO391</th>\n",
       "      <th>HISCO974</th>\n",
       "      <th>HISCO745</th>\n",
       "      <th>HISCO397</th>\n",
       "      <th>...</th>\n",
       "      <th>HISCO922</th>\n",
       "      <th>HISCO961</th>\n",
       "      <th>HISCO972</th>\n",
       "      <th>HISCO452</th>\n",
       "      <th>HISCO755</th>\n",
       "      <th>HISCO641</th>\n",
       "      <th>HISCO772</th>\n",
       "      <th>HISCO815</th>\n",
       "      <th>HISCO902</th>\n",
       "      <th>HISCO395</th>\n",
       "    </tr>\n",
       "  </thead>\n",
       "  <tbody>\n",
       "    <tr>\n",
       "      <th>HISCO410</th>\n",
       "      <td>0</td>\n",
       "      <td>[]</td>\n",
       "      <td>[]</td>\n",
       "      <td>[]</td>\n",
       "      <td>[]</td>\n",
       "      <td>[]</td>\n",
       "      <td>[]</td>\n",
       "      <td>[]</td>\n",
       "      <td>[]</td>\n",
       "      <td>[]</td>\n",
       "      <td>...</td>\n",
       "      <td>[]</td>\n",
       "      <td>[]</td>\n",
       "      <td>[]</td>\n",
       "      <td>[]</td>\n",
       "      <td>[]</td>\n",
       "      <td>[]</td>\n",
       "      <td>[]</td>\n",
       "      <td>[]</td>\n",
       "      <td>[]</td>\n",
       "      <td>[]</td>\n",
       "    </tr>\n",
       "    <tr>\n",
       "      <th>HISCO744</th>\n",
       "      <td>[]</td>\n",
       "      <td>0</td>\n",
       "      <td>[]</td>\n",
       "      <td>[]</td>\n",
       "      <td>[]</td>\n",
       "      <td>[]</td>\n",
       "      <td>[]</td>\n",
       "      <td>[]</td>\n",
       "      <td>[]</td>\n",
       "      <td>[]</td>\n",
       "      <td>...</td>\n",
       "      <td>[]</td>\n",
       "      <td>[]</td>\n",
       "      <td>[]</td>\n",
       "      <td>[]</td>\n",
       "      <td>[]</td>\n",
       "      <td>[]</td>\n",
       "      <td>[]</td>\n",
       "      <td>[]</td>\n",
       "      <td>[]</td>\n",
       "      <td>[]</td>\n",
       "    </tr>\n",
       "    <tr>\n",
       "      <th>HISCO896</th>\n",
       "      <td>[]</td>\n",
       "      <td>[]</td>\n",
       "      <td>0</td>\n",
       "      <td>[]</td>\n",
       "      <td>[]</td>\n",
       "      <td>[]</td>\n",
       "      <td>[]</td>\n",
       "      <td>[]</td>\n",
       "      <td>[]</td>\n",
       "      <td>[]</td>\n",
       "      <td>...</td>\n",
       "      <td>[]</td>\n",
       "      <td>[]</td>\n",
       "      <td>[]</td>\n",
       "      <td>[]</td>\n",
       "      <td>[]</td>\n",
       "      <td>[]</td>\n",
       "      <td>[]</td>\n",
       "      <td>[]</td>\n",
       "      <td>[]</td>\n",
       "      <td>[]</td>\n",
       "    </tr>\n",
       "    <tr>\n",
       "      <th>HISCO779</th>\n",
       "      <td>[]</td>\n",
       "      <td>[]</td>\n",
       "      <td>[]</td>\n",
       "      <td>0</td>\n",
       "      <td>[]</td>\n",
       "      <td>[]</td>\n",
       "      <td>[]</td>\n",
       "      <td>[]</td>\n",
       "      <td>[]</td>\n",
       "      <td>[]</td>\n",
       "      <td>...</td>\n",
       "      <td>[]</td>\n",
       "      <td>[]</td>\n",
       "      <td>[]</td>\n",
       "      <td>[]</td>\n",
       "      <td>[]</td>\n",
       "      <td>[]</td>\n",
       "      <td>[]</td>\n",
       "      <td>[]</td>\n",
       "      <td>[]</td>\n",
       "      <td>[]</td>\n",
       "    </tr>\n",
       "    <tr>\n",
       "      <th>HISCO951</th>\n",
       "      <td>[]</td>\n",
       "      <td>[]</td>\n",
       "      <td>[]</td>\n",
       "      <td>[]</td>\n",
       "      <td>0</td>\n",
       "      <td>[]</td>\n",
       "      <td>[]</td>\n",
       "      <td>[]</td>\n",
       "      <td>[]</td>\n",
       "      <td>[]</td>\n",
       "      <td>...</td>\n",
       "      <td>[]</td>\n",
       "      <td>[]</td>\n",
       "      <td>[]</td>\n",
       "      <td>[]</td>\n",
       "      <td>[]</td>\n",
       "      <td>[]</td>\n",
       "      <td>[]</td>\n",
       "      <td>[]</td>\n",
       "      <td>[]</td>\n",
       "      <td>[]</td>\n",
       "    </tr>\n",
       "    <tr>\n",
       "      <th>...</th>\n",
       "      <td>...</td>\n",
       "      <td>...</td>\n",
       "      <td>...</td>\n",
       "      <td>...</td>\n",
       "      <td>...</td>\n",
       "      <td>...</td>\n",
       "      <td>...</td>\n",
       "      <td>...</td>\n",
       "      <td>...</td>\n",
       "      <td>...</td>\n",
       "      <td>...</td>\n",
       "      <td>...</td>\n",
       "      <td>...</td>\n",
       "      <td>...</td>\n",
       "      <td>...</td>\n",
       "      <td>...</td>\n",
       "      <td>...</td>\n",
       "      <td>...</td>\n",
       "      <td>...</td>\n",
       "      <td>...</td>\n",
       "      <td>...</td>\n",
       "    </tr>\n",
       "    <tr>\n",
       "      <th>HISCO641</th>\n",
       "      <td>[]</td>\n",
       "      <td>[]</td>\n",
       "      <td>[]</td>\n",
       "      <td>[]</td>\n",
       "      <td>[]</td>\n",
       "      <td>[]</td>\n",
       "      <td>[]</td>\n",
       "      <td>[]</td>\n",
       "      <td>[]</td>\n",
       "      <td>[]</td>\n",
       "      <td>...</td>\n",
       "      <td>[]</td>\n",
       "      <td>[]</td>\n",
       "      <td>[]</td>\n",
       "      <td>[]</td>\n",
       "      <td>[]</td>\n",
       "      <td>0</td>\n",
       "      <td>[]</td>\n",
       "      <td>[]</td>\n",
       "      <td>[]</td>\n",
       "      <td>[]</td>\n",
       "    </tr>\n",
       "    <tr>\n",
       "      <th>HISCO772</th>\n",
       "      <td>[]</td>\n",
       "      <td>[]</td>\n",
       "      <td>[]</td>\n",
       "      <td>[]</td>\n",
       "      <td>[]</td>\n",
       "      <td>[]</td>\n",
       "      <td>[]</td>\n",
       "      <td>[]</td>\n",
       "      <td>[]</td>\n",
       "      <td>[]</td>\n",
       "      <td>...</td>\n",
       "      <td>[]</td>\n",
       "      <td>[]</td>\n",
       "      <td>[]</td>\n",
       "      <td>[]</td>\n",
       "      <td>[]</td>\n",
       "      <td>[]</td>\n",
       "      <td>0</td>\n",
       "      <td>[]</td>\n",
       "      <td>[]</td>\n",
       "      <td>[]</td>\n",
       "    </tr>\n",
       "    <tr>\n",
       "      <th>HISCO815</th>\n",
       "      <td>[]</td>\n",
       "      <td>[]</td>\n",
       "      <td>[]</td>\n",
       "      <td>[]</td>\n",
       "      <td>[]</td>\n",
       "      <td>[]</td>\n",
       "      <td>[]</td>\n",
       "      <td>[]</td>\n",
       "      <td>[]</td>\n",
       "      <td>[]</td>\n",
       "      <td>...</td>\n",
       "      <td>[]</td>\n",
       "      <td>[]</td>\n",
       "      <td>[]</td>\n",
       "      <td>[]</td>\n",
       "      <td>[]</td>\n",
       "      <td>[]</td>\n",
       "      <td>[]</td>\n",
       "      <td>0</td>\n",
       "      <td>[]</td>\n",
       "      <td>[]</td>\n",
       "    </tr>\n",
       "    <tr>\n",
       "      <th>HISCO902</th>\n",
       "      <td>[]</td>\n",
       "      <td>[]</td>\n",
       "      <td>[]</td>\n",
       "      <td>[]</td>\n",
       "      <td>[]</td>\n",
       "      <td>[]</td>\n",
       "      <td>[]</td>\n",
       "      <td>[]</td>\n",
       "      <td>[]</td>\n",
       "      <td>[]</td>\n",
       "      <td>...</td>\n",
       "      <td>[]</td>\n",
       "      <td>[]</td>\n",
       "      <td>[]</td>\n",
       "      <td>[]</td>\n",
       "      <td>[]</td>\n",
       "      <td>[]</td>\n",
       "      <td>[]</td>\n",
       "      <td>[]</td>\n",
       "      <td>0</td>\n",
       "      <td>[]</td>\n",
       "    </tr>\n",
       "    <tr>\n",
       "      <th>HISCO395</th>\n",
       "      <td>[]</td>\n",
       "      <td>[]</td>\n",
       "      <td>[]</td>\n",
       "      <td>[]</td>\n",
       "      <td>[]</td>\n",
       "      <td>[]</td>\n",
       "      <td>[]</td>\n",
       "      <td>[]</td>\n",
       "      <td>[]</td>\n",
       "      <td>[]</td>\n",
       "      <td>...</td>\n",
       "      <td>[]</td>\n",
       "      <td>[]</td>\n",
       "      <td>[]</td>\n",
       "      <td>[]</td>\n",
       "      <td>[]</td>\n",
       "      <td>[]</td>\n",
       "      <td>[]</td>\n",
       "      <td>[]</td>\n",
       "      <td>[]</td>\n",
       "      <td>0</td>\n",
       "    </tr>\n",
       "  </tbody>\n",
       "</table>\n",
       "<p>245 rows × 245 columns</p>\n",
       "</div>"
      ],
      "text/plain": [
       "         HISCO410 HISCO744 HISCO896 HISCO779 HISCO951 HISCO813 HISCO391  \\\n",
       "HISCO410        0       []       []       []       []       []       []   \n",
       "HISCO744       []        0       []       []       []       []       []   \n",
       "HISCO896       []       []        0       []       []       []       []   \n",
       "HISCO779       []       []       []        0       []       []       []   \n",
       "HISCO951       []       []       []       []        0       []       []   \n",
       "...           ...      ...      ...      ...      ...      ...      ...   \n",
       "HISCO641       []       []       []       []       []       []       []   \n",
       "HISCO772       []       []       []       []       []       []       []   \n",
       "HISCO815       []       []       []       []       []       []       []   \n",
       "HISCO902       []       []       []       []       []       []       []   \n",
       "HISCO395       []       []       []       []       []       []       []   \n",
       "\n",
       "         HISCO974 HISCO745 HISCO397  ... HISCO922 HISCO961 HISCO972 HISCO452  \\\n",
       "HISCO410       []       []       []  ...       []       []       []       []   \n",
       "HISCO744       []       []       []  ...       []       []       []       []   \n",
       "HISCO896       []       []       []  ...       []       []       []       []   \n",
       "HISCO779       []       []       []  ...       []       []       []       []   \n",
       "HISCO951       []       []       []  ...       []       []       []       []   \n",
       "...           ...      ...      ...  ...      ...      ...      ...      ...   \n",
       "HISCO641       []       []       []  ...       []       []       []       []   \n",
       "HISCO772       []       []       []  ...       []       []       []       []   \n",
       "HISCO815       []       []       []  ...       []       []       []       []   \n",
       "HISCO902       []       []       []  ...       []       []       []       []   \n",
       "HISCO395       []       []       []  ...       []       []       []       []   \n",
       "\n",
       "         HISCO755 HISCO641 HISCO772 HISCO815 HISCO902 HISCO395  \n",
       "HISCO410       []       []       []       []       []       []  \n",
       "HISCO744       []       []       []       []       []       []  \n",
       "HISCO896       []       []       []       []       []       []  \n",
       "HISCO779       []       []       []       []       []       []  \n",
       "HISCO951       []       []       []       []       []       []  \n",
       "...           ...      ...      ...      ...      ...      ...  \n",
       "HISCO641       []        0       []       []       []       []  \n",
       "HISCO772       []       []        0       []       []       []  \n",
       "HISCO815       []       []       []        0       []       []  \n",
       "HISCO902       []       []       []       []        0       []  \n",
       "HISCO395       []       []       []       []       []        0  \n",
       "\n",
       "[245 rows x 245 columns]"
      ]
     },
     "execution_count": 19,
     "metadata": {},
     "output_type": "execute_result"
    }
   ],
   "source": [
    "# create empty occ_space\n",
    "all_occs = data_exploded.census_occupation.unique().tolist()\n",
    "matrix_of_3_dim_empty_lists = [[[] for _ in all_occs] for _ in all_occs] # 245*245*1\n",
    "occ_space = pd.DataFrame(matrix_of_3_dim_empty_lists, index=all_occs, columns=all_occs)\n",
    "\n",
    "# Set the diagonal elements to 0\n",
    "for i in all_occs:\n",
    "    occ_space.at[i, i] = 0\n",
    "occ_space"
   ]
  },
  {
   "cell_type": "code",
   "execution_count": null,
   "id": "f9865301-cafa-4a22-be4f-fefc11157663",
   "metadata": {},
   "outputs": [],
   "source": [
    "import pickle\n",
    "# with open('../int_data/occ_space_empty.pkl','wb') as f:\n",
    "#     pickle.dump(occ_space, f)"
   ]
  },
  {
   "cell_type": "code",
   "execution_count": 6,
   "id": "0aa2038a-26cf-4853-b7d3-05eacff15cb7",
   "metadata": {},
   "outputs": [],
   "source": [
    "import pickle\n",
    "\n",
    "with open('../int_data/occ_space_empty.pkl','rb') as f:\n",
    "    occ_space = pickle.load(f)"
   ]
  },
  {
   "cell_type": "markdown",
   "id": "672515a2-8bfd-4eb8-8be6-9847f1e24d6f",
   "metadata": {},
   "source": [
    "### Populate"
   ]
  },
  {
   "cell_type": "code",
   "execution_count": 13,
   "id": "c8cf9146-6e43-4d38-9900-a5a146a9f76c",
   "metadata": {},
   "outputs": [
    {
     "name": "stdout",
     "output_type": "stream",
     "text": [
      "[0] RAM Usage: 9738.60 MB\n"
     ]
    }
   ],
   "source": [
    "print_ram_usage()"
   ]
  },
  {
   "cell_type": "code",
   "execution_count": 14,
   "id": "d7ae2fac-6665-4c75-8817-4219bf025a90",
   "metadata": {},
   "outputs": [
    {
     "data": {
      "text/html": [
       "<div>\n",
       "<style scoped>\n",
       "    .dataframe tbody tr th:only-of-type {\n",
       "        vertical-align: middle;\n",
       "    }\n",
       "\n",
       "    .dataframe tbody tr th {\n",
       "        vertical-align: top;\n",
       "    }\n",
       "\n",
       "    .dataframe thead th {\n",
       "        text-align: right;\n",
       "    }\n",
       "</style>\n",
       "<table border=\"1\" class=\"dataframe\">\n",
       "  <thead>\n",
       "    <tr style=\"text-align: right;\">\n",
       "      <th></th>\n",
       "      <th>i</th>\n",
       "      <th>j</th>\n",
       "      <th>Value</th>\n",
       "    </tr>\n",
       "  </thead>\n",
       "  <tbody>\n",
       "    <tr>\n",
       "      <th>0</th>\n",
       "      <td>0</td>\n",
       "      <td>1</td>\n",
       "      <td>0.089363</td>\n",
       "    </tr>\n",
       "    <tr>\n",
       "      <th>1</th>\n",
       "      <td>0</td>\n",
       "      <td>2</td>\n",
       "      <td>0.199036</td>\n",
       "    </tr>\n",
       "    <tr>\n",
       "      <th>2</th>\n",
       "      <td>1</td>\n",
       "      <td>2</td>\n",
       "      <td>0.155844</td>\n",
       "    </tr>\n",
       "    <tr>\n",
       "      <th>3</th>\n",
       "      <td>0</td>\n",
       "      <td>3</td>\n",
       "      <td>0.232076</td>\n",
       "    </tr>\n",
       "    <tr>\n",
       "      <th>4</th>\n",
       "      <td>1</td>\n",
       "      <td>3</td>\n",
       "      <td>0.075714</td>\n",
       "    </tr>\n",
       "    <tr>\n",
       "      <th>...</th>\n",
       "      <td>...</td>\n",
       "      <td>...</td>\n",
       "      <td>...</td>\n",
       "    </tr>\n",
       "    <tr>\n",
       "      <th>237733516</th>\n",
       "      <td>22114</td>\n",
       "      <td>22119</td>\n",
       "      <td>0.086242</td>\n",
       "    </tr>\n",
       "    <tr>\n",
       "      <th>237733517</th>\n",
       "      <td>22115</td>\n",
       "      <td>22119</td>\n",
       "      <td>0.088066</td>\n",
       "    </tr>\n",
       "    <tr>\n",
       "      <th>237733518</th>\n",
       "      <td>22116</td>\n",
       "      <td>22119</td>\n",
       "      <td>0.220319</td>\n",
       "    </tr>\n",
       "    <tr>\n",
       "      <th>237733519</th>\n",
       "      <td>22117</td>\n",
       "      <td>22119</td>\n",
       "      <td>0.259408</td>\n",
       "    </tr>\n",
       "    <tr>\n",
       "      <th>237733520</th>\n",
       "      <td>22118</td>\n",
       "      <td>22119</td>\n",
       "      <td>0.200308</td>\n",
       "    </tr>\n",
       "  </tbody>\n",
       "</table>\n",
       "<p>237733521 rows × 3 columns</p>\n",
       "</div>"
      ],
      "text/plain": [
       "               i      j     Value\n",
       "0              0      1  0.089363\n",
       "1              0      2  0.199036\n",
       "2              1      2  0.155844\n",
       "3              0      3  0.232076\n",
       "4              1      3  0.075714\n",
       "...          ...    ...       ...\n",
       "237733516  22114  22119  0.086242\n",
       "237733517  22115  22119  0.088066\n",
       "237733518  22116  22119  0.220319\n",
       "237733519  22117  22119  0.259408\n",
       "237733520  22118  22119  0.200308\n",
       "\n",
       "[237733521 rows x 3 columns]"
      ]
     },
     "execution_count": 14,
     "metadata": {},
     "output_type": "execute_result"
    }
   ],
   "source": [
    "import pickle\n",
    "\n",
    "with open('../int_data/cosine_sim_long.pkl','rb') as f:\n",
    "    cosine_sim_long = pickle.load(f)\n",
    "cosine_sim_long"
   ]
  },
  {
   "cell_type": "code",
   "execution_count": 15,
   "id": "6e904788-5160-4044-ad71-3915fea4c86a",
   "metadata": {
    "scrolled": true
   },
   "outputs": [
    {
     "data": {
      "text/plain": [
       "Value\n",
       "0.074536    61064\n",
       "0.068041    56227\n",
       "0.077152    55254\n",
       "0.059761    55248\n",
       "0.062994    53707\n",
       "            ...  \n",
       "0.252363        1\n",
       "0.291609        1\n",
       "0.104170        1\n",
       "0.271742        1\n",
       "0.303194        1\n",
       "Name: count, Length: 1485579, dtype: int64"
      ]
     },
     "execution_count": 15,
     "metadata": {},
     "output_type": "execute_result"
    }
   ],
   "source": [
    "cosine_sim_long.Value.value_counts()"
   ]
  },
  {
   "cell_type": "code",
   "execution_count": 17,
   "id": "4e10e646-e4c4-453a-9c0d-86715dbdc618",
   "metadata": {
    "scrolled": true
   },
   "outputs": [
    {
     "name": "stdout",
     "output_type": "stream",
     "text": [
      "211400000\n",
      "Processing batch 211400000...\n",
      "211400000 211600000\n"
     ]
    },
    {
     "name": "stderr",
     "output_type": "stream",
     "text": [
      "100%|██████████| 200000/200000 [00:20<00:00, 9712.56it/s] \n"
     ]
    },
    {
     "name": "stdout",
     "output_type": "stream",
     "text": [
      "saved success! batch 211400000\n",
      "Processing batch 211600000...\n",
      "211600000 211800000\n"
     ]
    },
    {
     "name": "stderr",
     "output_type": "stream",
     "text": [
      "100%|██████████| 200000/200000 [00:21<00:00, 9500.85it/s] \n"
     ]
    },
    {
     "name": "stdout",
     "output_type": "stream",
     "text": [
      "saved success! batch 211600000\n",
      "Processing batch 211800000...\n",
      "211800000 212000000\n"
     ]
    },
    {
     "name": "stderr",
     "output_type": "stream",
     "text": [
      "100%|██████████| 200000/200000 [00:21<00:00, 9366.68it/s] \n"
     ]
    },
    {
     "name": "stdout",
     "output_type": "stream",
     "text": [
      "saved success! batch 211800000\n",
      "Processing batch 212000000...\n",
      "212000000 212200000\n"
     ]
    },
    {
     "name": "stderr",
     "output_type": "stream",
     "text": [
      "100%|██████████| 200000/200000 [00:19<00:00, 10141.22it/s]\n"
     ]
    },
    {
     "name": "stdout",
     "output_type": "stream",
     "text": [
      "saved success! batch 212000000\n",
      "Processing batch 212200000...\n",
      "212200000 212400000\n"
     ]
    },
    {
     "name": "stderr",
     "output_type": "stream",
     "text": [
      "100%|██████████| 200000/200000 [00:21<00:00, 9182.95it/s] \n"
     ]
    },
    {
     "name": "stdout",
     "output_type": "stream",
     "text": [
      "saved success! batch 212200000\n",
      "Processing batch 212400000...\n",
      "212400000 212600000\n"
     ]
    },
    {
     "name": "stderr",
     "output_type": "stream",
     "text": [
      "100%|██████████| 200000/200000 [00:20<00:00, 9873.29it/s] \n"
     ]
    },
    {
     "name": "stdout",
     "output_type": "stream",
     "text": [
      "saved success! batch 212400000\n",
      "Processing batch 212600000...\n",
      "212600000 212800000\n"
     ]
    },
    {
     "name": "stderr",
     "output_type": "stream",
     "text": [
      "100%|██████████| 200000/200000 [00:20<00:00, 9863.53it/s] \n"
     ]
    },
    {
     "name": "stdout",
     "output_type": "stream",
     "text": [
      "saved success! batch 212600000\n",
      "Processing batch 212800000...\n",
      "212800000 213000000\n"
     ]
    },
    {
     "name": "stderr",
     "output_type": "stream",
     "text": [
      "100%|██████████| 200000/200000 [00:20<00:00, 9911.36it/s] \n"
     ]
    },
    {
     "name": "stdout",
     "output_type": "stream",
     "text": [
      "saved success! batch 212800000\n",
      "Processing batch 213000000...\n",
      "213000000 213200000\n"
     ]
    },
    {
     "name": "stderr",
     "output_type": "stream",
     "text": [
      "100%|██████████| 200000/200000 [00:20<00:00, 9804.71it/s] \n"
     ]
    },
    {
     "name": "stdout",
     "output_type": "stream",
     "text": [
      "saved success! batch 213000000\n",
      "Processing batch 213200000...\n",
      "213200000 213400000\n"
     ]
    },
    {
     "name": "stderr",
     "output_type": "stream",
     "text": [
      "100%|██████████| 200000/200000 [00:19<00:00, 10139.73it/s]\n"
     ]
    },
    {
     "name": "stdout",
     "output_type": "stream",
     "text": [
      "saved success! batch 213200000\n",
      "Processing batch 213400000...\n",
      "213400000 213600000\n"
     ]
    },
    {
     "name": "stderr",
     "output_type": "stream",
     "text": [
      "100%|██████████| 200000/200000 [00:21<00:00, 9290.25it/s] \n"
     ]
    },
    {
     "name": "stdout",
     "output_type": "stream",
     "text": [
      "saved success! batch 213400000\n",
      "Processing batch 213600000...\n",
      "213600000 213800000\n"
     ]
    },
    {
     "name": "stderr",
     "output_type": "stream",
     "text": [
      "100%|██████████| 200000/200000 [00:20<00:00, 9712.08it/s] \n"
     ]
    },
    {
     "name": "stdout",
     "output_type": "stream",
     "text": [
      "saved success! batch 213600000\n",
      "Processing batch 213800000...\n",
      "213800000 214000000\n"
     ]
    },
    {
     "name": "stderr",
     "output_type": "stream",
     "text": [
      "100%|██████████| 200000/200000 [00:22<00:00, 8801.53it/s] \n"
     ]
    },
    {
     "name": "stdout",
     "output_type": "stream",
     "text": [
      "saved success! batch 213800000\n",
      "Processing batch 214000000...\n",
      "214000000 214200000\n"
     ]
    },
    {
     "name": "stderr",
     "output_type": "stream",
     "text": [
      "100%|██████████| 200000/200000 [00:20<00:00, 9816.78it/s] \n"
     ]
    },
    {
     "name": "stdout",
     "output_type": "stream",
     "text": [
      "saved success! batch 214000000\n",
      "Processing batch 214200000...\n",
      "214200000 214400000\n"
     ]
    },
    {
     "name": "stderr",
     "output_type": "stream",
     "text": [
      "100%|██████████| 200000/200000 [00:22<00:00, 9078.23it/s] \n"
     ]
    },
    {
     "name": "stdout",
     "output_type": "stream",
     "text": [
      "saved success! batch 214200000\n",
      "Processing batch 214400000...\n",
      "214400000 214600000\n"
     ]
    },
    {
     "name": "stderr",
     "output_type": "stream",
     "text": [
      "100%|██████████| 200000/200000 [00:21<00:00, 9434.67it/s] \n"
     ]
    },
    {
     "name": "stdout",
     "output_type": "stream",
     "text": [
      "saved success! batch 214400000\n",
      "Processing batch 214600000...\n",
      "214600000 214800000\n"
     ]
    },
    {
     "name": "stderr",
     "output_type": "stream",
     "text": [
      "100%|██████████| 200000/200000 [00:19<00:00, 10086.08it/s]\n"
     ]
    },
    {
     "name": "stdout",
     "output_type": "stream",
     "text": [
      "saved success! batch 214600000\n",
      "Processing batch 214800000...\n",
      "214800000 215000000\n"
     ]
    },
    {
     "name": "stderr",
     "output_type": "stream",
     "text": [
      "100%|██████████| 200000/200000 [00:20<00:00, 9707.17it/s] \n"
     ]
    },
    {
     "name": "stdout",
     "output_type": "stream",
     "text": [
      "saved success! batch 214800000\n",
      "Processing batch 215000000...\n",
      "215000000 215200000\n"
     ]
    },
    {
     "name": "stderr",
     "output_type": "stream",
     "text": [
      "100%|██████████| 200000/200000 [00:21<00:00, 9476.15it/s] \n"
     ]
    },
    {
     "name": "stdout",
     "output_type": "stream",
     "text": [
      "saved success! batch 215000000\n",
      "Processing batch 215200000...\n",
      "215200000 215400000\n"
     ]
    },
    {
     "name": "stderr",
     "output_type": "stream",
     "text": [
      "100%|██████████| 200000/200000 [00:20<00:00, 9749.47it/s] \n"
     ]
    },
    {
     "name": "stdout",
     "output_type": "stream",
     "text": [
      "saved success! batch 215200000\n",
      "Processing batch 215400000...\n",
      "215400000 215600000\n"
     ]
    },
    {
     "name": "stderr",
     "output_type": "stream",
     "text": [
      "100%|██████████| 200000/200000 [00:21<00:00, 9371.69it/s] \n"
     ]
    },
    {
     "name": "stdout",
     "output_type": "stream",
     "text": [
      "saved success! batch 215400000\n",
      "Processing batch 215600000...\n",
      "215600000 215800000\n"
     ]
    },
    {
     "name": "stderr",
     "output_type": "stream",
     "text": [
      "100%|██████████| 200000/200000 [00:20<00:00, 9890.72it/s] \n"
     ]
    },
    {
     "name": "stdout",
     "output_type": "stream",
     "text": [
      "saved success! batch 215600000\n",
      "Processing batch 215800000...\n",
      "215800000 216000000\n"
     ]
    },
    {
     "name": "stderr",
     "output_type": "stream",
     "text": [
      "100%|██████████| 200000/200000 [00:19<00:00, 10167.76it/s]\n"
     ]
    },
    {
     "name": "stdout",
     "output_type": "stream",
     "text": [
      "saved success! batch 215800000\n",
      "Processing batch 216000000...\n",
      "216000000 216200000\n"
     ]
    },
    {
     "name": "stderr",
     "output_type": "stream",
     "text": [
      "100%|██████████| 200000/200000 [00:19<00:00, 10069.14it/s]\n"
     ]
    },
    {
     "name": "stdout",
     "output_type": "stream",
     "text": [
      "saved success! batch 216000000\n",
      "Processing batch 216200000...\n",
      "216200000 216400000\n"
     ]
    },
    {
     "name": "stderr",
     "output_type": "stream",
     "text": [
      "100%|██████████| 200000/200000 [00:20<00:00, 9780.97it/s] \n"
     ]
    },
    {
     "name": "stdout",
     "output_type": "stream",
     "text": [
      "saved success! batch 216200000\n",
      "Processing batch 216400000...\n",
      "216400000 216600000\n"
     ]
    },
    {
     "name": "stderr",
     "output_type": "stream",
     "text": [
      "100%|██████████| 200000/200000 [00:20<00:00, 9662.69it/s] \n"
     ]
    },
    {
     "name": "stdout",
     "output_type": "stream",
     "text": [
      "saved success! batch 216400000\n",
      "Processing batch 216600000...\n",
      "216600000 216800000\n"
     ]
    },
    {
     "name": "stderr",
     "output_type": "stream",
     "text": [
      "100%|██████████| 200000/200000 [00:20<00:00, 9811.64it/s] \n"
     ]
    },
    {
     "name": "stdout",
     "output_type": "stream",
     "text": [
      "saved success! batch 216600000\n",
      "Processing batch 216800000...\n",
      "216800000 217000000\n"
     ]
    },
    {
     "name": "stderr",
     "output_type": "stream",
     "text": [
      "100%|██████████| 200000/200000 [00:21<00:00, 9298.91it/s] \n"
     ]
    },
    {
     "name": "stdout",
     "output_type": "stream",
     "text": [
      "saved success! batch 216800000\n",
      "Processing batch 217000000...\n",
      "217000000 217200000\n"
     ]
    },
    {
     "name": "stderr",
     "output_type": "stream",
     "text": [
      "100%|██████████| 200000/200000 [00:20<00:00, 9715.49it/s] \n"
     ]
    },
    {
     "name": "stdout",
     "output_type": "stream",
     "text": [
      "saved success! batch 217000000\n",
      "Processing batch 217200000...\n",
      "217200000 217400000\n"
     ]
    },
    {
     "name": "stderr",
     "output_type": "stream",
     "text": [
      "100%|██████████| 200000/200000 [00:21<00:00, 9455.78it/s] \n"
     ]
    },
    {
     "name": "stdout",
     "output_type": "stream",
     "text": [
      "saved success! batch 217200000\n",
      "Processing batch 217400000...\n",
      "217400000 217600000\n"
     ]
    },
    {
     "name": "stderr",
     "output_type": "stream",
     "text": [
      "100%|██████████| 200000/200000 [00:20<00:00, 9996.07it/s] \n"
     ]
    },
    {
     "name": "stdout",
     "output_type": "stream",
     "text": [
      "saved success! batch 217400000\n",
      "Processing batch 217600000...\n",
      "217600000 217800000\n"
     ]
    },
    {
     "name": "stderr",
     "output_type": "stream",
     "text": [
      "100%|██████████| 200000/200000 [00:21<00:00, 9473.12it/s] \n"
     ]
    },
    {
     "name": "stdout",
     "output_type": "stream",
     "text": [
      "saved success! batch 217600000\n",
      "Processing batch 217800000...\n",
      "217800000 218000000\n"
     ]
    },
    {
     "name": "stderr",
     "output_type": "stream",
     "text": [
      "100%|██████████| 200000/200000 [00:20<00:00, 9982.90it/s] \n"
     ]
    },
    {
     "name": "stdout",
     "output_type": "stream",
     "text": [
      "saved success! batch 217800000\n",
      "Processing batch 218000000...\n",
      "218000000 218200000\n"
     ]
    },
    {
     "name": "stderr",
     "output_type": "stream",
     "text": [
      "100%|██████████| 200000/200000 [00:20<00:00, 9719.47it/s] \n"
     ]
    },
    {
     "name": "stdout",
     "output_type": "stream",
     "text": [
      "saved success! batch 218000000\n",
      "Processing batch 218200000...\n",
      "218200000 218400000\n"
     ]
    },
    {
     "name": "stderr",
     "output_type": "stream",
     "text": [
      "100%|██████████| 200000/200000 [00:20<00:00, 9961.75it/s] \n"
     ]
    },
    {
     "name": "stdout",
     "output_type": "stream",
     "text": [
      "saved success! batch 218200000\n",
      "Processing batch 218400000...\n",
      "218400000 218600000\n"
     ]
    },
    {
     "name": "stderr",
     "output_type": "stream",
     "text": [
      "100%|██████████| 200000/200000 [00:20<00:00, 9839.76it/s] \n"
     ]
    },
    {
     "name": "stdout",
     "output_type": "stream",
     "text": [
      "saved success! batch 218400000\n",
      "Processing batch 218600000...\n",
      "218600000 218800000\n"
     ]
    },
    {
     "name": "stderr",
     "output_type": "stream",
     "text": [
      "100%|██████████| 200000/200000 [00:20<00:00, 9825.61it/s] \n"
     ]
    },
    {
     "name": "stdout",
     "output_type": "stream",
     "text": [
      "saved success! batch 218600000\n",
      "Processing batch 218800000...\n",
      "218800000 219000000\n"
     ]
    },
    {
     "name": "stderr",
     "output_type": "stream",
     "text": [
      "100%|██████████| 200000/200000 [00:20<00:00, 9640.10it/s] \n"
     ]
    },
    {
     "name": "stdout",
     "output_type": "stream",
     "text": [
      "saved success! batch 218800000\n",
      "Processing batch 219000000...\n",
      "219000000 219200000\n"
     ]
    },
    {
     "name": "stderr",
     "output_type": "stream",
     "text": [
      "100%|██████████| 200000/200000 [00:20<00:00, 9589.25it/s] \n"
     ]
    },
    {
     "name": "stdout",
     "output_type": "stream",
     "text": [
      "saved success! batch 219000000\n",
      "Processing batch 219200000...\n",
      "219200000 219400000\n"
     ]
    },
    {
     "name": "stderr",
     "output_type": "stream",
     "text": [
      "100%|██████████| 200000/200000 [00:20<00:00, 9803.76it/s] \n"
     ]
    },
    {
     "name": "stdout",
     "output_type": "stream",
     "text": [
      "saved success! batch 219200000\n",
      "Processing batch 219400000...\n",
      "219400000 219600000\n"
     ]
    },
    {
     "name": "stderr",
     "output_type": "stream",
     "text": [
      "100%|██████████| 200000/200000 [00:19<00:00, 10014.49it/s]\n"
     ]
    },
    {
     "name": "stdout",
     "output_type": "stream",
     "text": [
      "saved success! batch 219400000\n",
      "Processing batch 219600000...\n",
      "219600000 219800000\n"
     ]
    },
    {
     "name": "stderr",
     "output_type": "stream",
     "text": [
      "100%|██████████| 200000/200000 [00:20<00:00, 9628.70it/s] \n"
     ]
    },
    {
     "name": "stdout",
     "output_type": "stream",
     "text": [
      "saved success! batch 219600000\n",
      "Processing batch 219800000...\n",
      "219800000 220000000\n"
     ]
    },
    {
     "name": "stderr",
     "output_type": "stream",
     "text": [
      "100%|██████████| 200000/200000 [00:20<00:00, 9769.96it/s] \n"
     ]
    },
    {
     "name": "stdout",
     "output_type": "stream",
     "text": [
      "saved success! batch 219800000\n",
      "Processing batch 220000000...\n",
      "220000000 220200000\n"
     ]
    },
    {
     "name": "stderr",
     "output_type": "stream",
     "text": [
      "100%|██████████| 200000/200000 [00:20<00:00, 9730.21it/s] \n"
     ]
    },
    {
     "name": "stdout",
     "output_type": "stream",
     "text": [
      "saved success! batch 220000000\n",
      "Processing batch 220200000...\n",
      "220200000 220400000\n"
     ]
    },
    {
     "name": "stderr",
     "output_type": "stream",
     "text": [
      "100%|██████████| 200000/200000 [00:20<00:00, 9945.10it/s] \n"
     ]
    },
    {
     "name": "stdout",
     "output_type": "stream",
     "text": [
      "saved success! batch 220200000\n",
      "Processing batch 220400000...\n",
      "220400000 220600000\n"
     ]
    },
    {
     "name": "stderr",
     "output_type": "stream",
     "text": [
      "100%|██████████| 200000/200000 [00:20<00:00, 9894.42it/s] \n"
     ]
    },
    {
     "name": "stdout",
     "output_type": "stream",
     "text": [
      "saved success! batch 220400000\n",
      "Processing batch 220600000...\n",
      "220600000 220800000\n"
     ]
    },
    {
     "name": "stderr",
     "output_type": "stream",
     "text": [
      "100%|██████████| 200000/200000 [00:20<00:00, 9919.54it/s] \n"
     ]
    },
    {
     "name": "stdout",
     "output_type": "stream",
     "text": [
      "saved success! batch 220600000\n",
      "Processing batch 220800000...\n",
      "220800000 221000000\n"
     ]
    },
    {
     "name": "stderr",
     "output_type": "stream",
     "text": [
      "100%|██████████| 200000/200000 [00:20<00:00, 9583.34it/s] \n"
     ]
    },
    {
     "name": "stdout",
     "output_type": "stream",
     "text": [
      "saved success! batch 220800000\n",
      "Processing batch 221000000...\n",
      "221000000 221200000\n"
     ]
    },
    {
     "name": "stderr",
     "output_type": "stream",
     "text": [
      "100%|██████████| 200000/200000 [00:19<00:00, 10033.60it/s]\n"
     ]
    },
    {
     "name": "stdout",
     "output_type": "stream",
     "text": [
      "saved success! batch 221000000\n",
      "Processing batch 221200000...\n",
      "221200000 221400000\n"
     ]
    },
    {
     "name": "stderr",
     "output_type": "stream",
     "text": [
      "100%|██████████| 200000/200000 [00:20<00:00, 9856.97it/s] \n"
     ]
    },
    {
     "name": "stdout",
     "output_type": "stream",
     "text": [
      "saved success! batch 221200000\n",
      "Processing batch 221400000...\n",
      "221400000 221600000\n"
     ]
    },
    {
     "name": "stderr",
     "output_type": "stream",
     "text": [
      "100%|██████████| 200000/200000 [00:20<00:00, 9537.25it/s] \n"
     ]
    },
    {
     "name": "stdout",
     "output_type": "stream",
     "text": [
      "saved success! batch 221400000\n",
      "Processing batch 221600000...\n",
      "221600000 221800000\n"
     ]
    },
    {
     "name": "stderr",
     "output_type": "stream",
     "text": [
      "100%|██████████| 200000/200000 [00:20<00:00, 9667.39it/s] \n"
     ]
    },
    {
     "name": "stdout",
     "output_type": "stream",
     "text": [
      "saved success! batch 221600000\n",
      "Processing batch 221800000...\n",
      "221800000 222000000\n"
     ]
    },
    {
     "name": "stderr",
     "output_type": "stream",
     "text": [
      "100%|██████████| 200000/200000 [00:20<00:00, 9655.31it/s] \n"
     ]
    },
    {
     "name": "stdout",
     "output_type": "stream",
     "text": [
      "saved success! batch 221800000\n",
      "Processing batch 222000000...\n",
      "222000000 222200000\n"
     ]
    },
    {
     "name": "stderr",
     "output_type": "stream",
     "text": [
      "100%|██████████| 200000/200000 [00:21<00:00, 9477.14it/s] \n"
     ]
    },
    {
     "name": "stdout",
     "output_type": "stream",
     "text": [
      "saved success! batch 222000000\n",
      "Processing batch 222200000...\n",
      "222200000 222400000\n"
     ]
    },
    {
     "name": "stderr",
     "output_type": "stream",
     "text": [
      "100%|██████████| 200000/200000 [00:20<00:00, 9838.42it/s] \n"
     ]
    },
    {
     "name": "stdout",
     "output_type": "stream",
     "text": [
      "saved success! batch 222200000\n",
      "Processing batch 222400000...\n",
      "222400000 222600000\n"
     ]
    },
    {
     "name": "stderr",
     "output_type": "stream",
     "text": [
      "100%|██████████| 200000/200000 [00:21<00:00, 9166.51it/s] \n"
     ]
    },
    {
     "name": "stdout",
     "output_type": "stream",
     "text": [
      "saved success! batch 222400000\n",
      "Processing batch 222600000...\n",
      "222600000 222800000\n"
     ]
    },
    {
     "name": "stderr",
     "output_type": "stream",
     "text": [
      "100%|██████████| 200000/200000 [00:22<00:00, 8708.39it/s] \n"
     ]
    },
    {
     "name": "stdout",
     "output_type": "stream",
     "text": [
      "saved success! batch 222600000\n",
      "Processing batch 222800000...\n",
      "222800000 223000000\n"
     ]
    },
    {
     "name": "stderr",
     "output_type": "stream",
     "text": [
      "100%|██████████| 200000/200000 [00:20<00:00, 9671.77it/s] \n"
     ]
    },
    {
     "name": "stdout",
     "output_type": "stream",
     "text": [
      "saved success! batch 222800000\n",
      "Processing batch 223000000...\n",
      "223000000 223200000\n"
     ]
    },
    {
     "name": "stderr",
     "output_type": "stream",
     "text": [
      "100%|██████████| 200000/200000 [00:21<00:00, 9400.04it/s] \n"
     ]
    },
    {
     "name": "stdout",
     "output_type": "stream",
     "text": [
      "saved success! batch 223000000\n",
      "Processing batch 223200000...\n",
      "223200000 223400000\n"
     ]
    },
    {
     "name": "stderr",
     "output_type": "stream",
     "text": [
      "100%|██████████| 200000/200000 [00:19<00:00, 10257.77it/s]\n"
     ]
    },
    {
     "name": "stdout",
     "output_type": "stream",
     "text": [
      "saved success! batch 223200000\n",
      "Processing batch 223400000...\n",
      "223400000 223600000\n"
     ]
    },
    {
     "name": "stderr",
     "output_type": "stream",
     "text": [
      "100%|██████████| 200000/200000 [00:22<00:00, 8982.58it/s] \n"
     ]
    },
    {
     "name": "stdout",
     "output_type": "stream",
     "text": [
      "saved success! batch 223400000\n",
      "Processing batch 223600000...\n",
      "223600000 223800000\n"
     ]
    },
    {
     "name": "stderr",
     "output_type": "stream",
     "text": [
      "100%|██████████| 200000/200000 [00:20<00:00, 9981.93it/s] \n"
     ]
    },
    {
     "name": "stdout",
     "output_type": "stream",
     "text": [
      "saved success! batch 223600000\n",
      "Processing batch 223800000...\n",
      "223800000 224000000\n"
     ]
    },
    {
     "name": "stderr",
     "output_type": "stream",
     "text": [
      "100%|██████████| 200000/200000 [00:20<00:00, 9648.51it/s] \n"
     ]
    },
    {
     "name": "stdout",
     "output_type": "stream",
     "text": [
      "saved success! batch 223800000\n",
      "Processing batch 224000000...\n",
      "224000000 224200000\n"
     ]
    },
    {
     "name": "stderr",
     "output_type": "stream",
     "text": [
      "100%|██████████| 200000/200000 [00:20<00:00, 9903.15it/s] \n"
     ]
    },
    {
     "name": "stdout",
     "output_type": "stream",
     "text": [
      "saved success! batch 224000000\n",
      "Processing batch 224200000...\n",
      "224200000 224400000\n"
     ]
    },
    {
     "name": "stderr",
     "output_type": "stream",
     "text": [
      "100%|██████████| 200000/200000 [00:20<00:00, 9606.69it/s] \n"
     ]
    },
    {
     "name": "stdout",
     "output_type": "stream",
     "text": [
      "saved success! batch 224200000\n",
      "Processing batch 224400000...\n",
      "224400000 224600000\n"
     ]
    },
    {
     "name": "stderr",
     "output_type": "stream",
     "text": [
      "100%|██████████| 200000/200000 [00:20<00:00, 9650.90it/s] \n"
     ]
    },
    {
     "name": "stdout",
     "output_type": "stream",
     "text": [
      "saved success! batch 224400000\n",
      "Processing batch 224600000...\n",
      "224600000 224800000\n"
     ]
    },
    {
     "name": "stderr",
     "output_type": "stream",
     "text": [
      "100%|██████████| 200000/200000 [00:20<00:00, 9893.13it/s] \n"
     ]
    },
    {
     "name": "stdout",
     "output_type": "stream",
     "text": [
      "saved success! batch 224600000\n",
      "Processing batch 224800000...\n",
      "224800000 225000000\n"
     ]
    },
    {
     "name": "stderr",
     "output_type": "stream",
     "text": [
      "100%|██████████| 200000/200000 [00:20<00:00, 9955.89it/s] \n"
     ]
    },
    {
     "name": "stdout",
     "output_type": "stream",
     "text": [
      "saved success! batch 224800000\n",
      "Processing batch 225000000...\n",
      "225000000 225200000\n"
     ]
    },
    {
     "name": "stderr",
     "output_type": "stream",
     "text": [
      "100%|██████████| 200000/200000 [00:20<00:00, 9598.07it/s] \n"
     ]
    },
    {
     "name": "stdout",
     "output_type": "stream",
     "text": [
      "saved success! batch 225000000\n",
      "Processing batch 225200000...\n",
      "225200000 225400000\n"
     ]
    },
    {
     "name": "stderr",
     "output_type": "stream",
     "text": [
      "100%|██████████| 200000/200000 [00:20<00:00, 9966.68it/s] \n"
     ]
    },
    {
     "name": "stdout",
     "output_type": "stream",
     "text": [
      "saved success! batch 225200000\n",
      "Processing batch 225400000...\n",
      "225400000 225600000\n"
     ]
    },
    {
     "name": "stderr",
     "output_type": "stream",
     "text": [
      "100%|██████████| 200000/200000 [00:20<00:00, 9528.93it/s] \n"
     ]
    },
    {
     "name": "stdout",
     "output_type": "stream",
     "text": [
      "saved success! batch 225400000\n",
      "Processing batch 225600000...\n",
      "225600000 225800000\n"
     ]
    },
    {
     "name": "stderr",
     "output_type": "stream",
     "text": [
      "100%|██████████| 200000/200000 [00:20<00:00, 9864.11it/s] \n"
     ]
    },
    {
     "name": "stdout",
     "output_type": "stream",
     "text": [
      "saved success! batch 225600000\n",
      "Processing batch 225800000...\n",
      "225800000 226000000\n"
     ]
    },
    {
     "name": "stderr",
     "output_type": "stream",
     "text": [
      "100%|██████████| 200000/200000 [00:20<00:00, 9973.03it/s] \n"
     ]
    },
    {
     "name": "stdout",
     "output_type": "stream",
     "text": [
      "saved success! batch 225800000\n",
      "Processing batch 226000000...\n",
      "226000000 226200000\n"
     ]
    },
    {
     "name": "stderr",
     "output_type": "stream",
     "text": [
      "100%|██████████| 200000/200000 [00:20<00:00, 9614.00it/s] \n"
     ]
    },
    {
     "name": "stdout",
     "output_type": "stream",
     "text": [
      "saved success! batch 226000000\n",
      "Processing batch 226200000...\n",
      "226200000 226400000\n"
     ]
    },
    {
     "name": "stderr",
     "output_type": "stream",
     "text": [
      "100%|██████████| 200000/200000 [00:21<00:00, 9442.49it/s] \n"
     ]
    },
    {
     "name": "stdout",
     "output_type": "stream",
     "text": [
      "saved success! batch 226200000\n",
      "Processing batch 226400000...\n",
      "226400000 226600000\n"
     ]
    },
    {
     "name": "stderr",
     "output_type": "stream",
     "text": [
      "100%|██████████| 200000/200000 [00:21<00:00, 9380.93it/s] \n"
     ]
    },
    {
     "name": "stdout",
     "output_type": "stream",
     "text": [
      "saved success! batch 226400000\n",
      "Processing batch 226600000...\n",
      "226600000 226800000\n"
     ]
    },
    {
     "name": "stderr",
     "output_type": "stream",
     "text": [
      "100%|██████████| 200000/200000 [00:20<00:00, 9603.57it/s] \n"
     ]
    },
    {
     "name": "stdout",
     "output_type": "stream",
     "text": [
      "saved success! batch 226600000\n",
      "Processing batch 226800000...\n",
      "226800000 227000000\n"
     ]
    },
    {
     "name": "stderr",
     "output_type": "stream",
     "text": [
      "100%|██████████| 200000/200000 [00:20<00:00, 9524.09it/s] \n"
     ]
    },
    {
     "name": "stdout",
     "output_type": "stream",
     "text": [
      "saved success! batch 226800000\n",
      "Processing batch 227000000...\n",
      "227000000 227200000\n"
     ]
    },
    {
     "name": "stderr",
     "output_type": "stream",
     "text": [
      "100%|██████████| 200000/200000 [00:20<00:00, 9573.60it/s] \n"
     ]
    },
    {
     "name": "stdout",
     "output_type": "stream",
     "text": [
      "saved success! batch 227000000\n",
      "Processing batch 227200000...\n",
      "227200000 227400000\n"
     ]
    },
    {
     "name": "stderr",
     "output_type": "stream",
     "text": [
      "100%|██████████| 200000/200000 [00:20<00:00, 9695.31it/s] \n"
     ]
    },
    {
     "name": "stdout",
     "output_type": "stream",
     "text": [
      "saved success! batch 227200000\n",
      "Processing batch 227400000...\n",
      "227400000 227600000\n"
     ]
    },
    {
     "name": "stderr",
     "output_type": "stream",
     "text": [
      "100%|██████████| 200000/200000 [00:21<00:00, 9520.73it/s] \n"
     ]
    },
    {
     "name": "stdout",
     "output_type": "stream",
     "text": [
      "saved success! batch 227400000\n",
      "Processing batch 227600000...\n",
      "227600000 227800000\n"
     ]
    },
    {
     "name": "stderr",
     "output_type": "stream",
     "text": [
      "100%|██████████| 200000/200000 [00:20<00:00, 9873.39it/s] \n"
     ]
    },
    {
     "name": "stdout",
     "output_type": "stream",
     "text": [
      "saved success! batch 227600000\n",
      "Processing batch 227800000...\n",
      "227800000 228000000\n"
     ]
    },
    {
     "name": "stderr",
     "output_type": "stream",
     "text": [
      "100%|██████████| 200000/200000 [00:19<00:00, 10030.70it/s]\n"
     ]
    },
    {
     "name": "stdout",
     "output_type": "stream",
     "text": [
      "saved success! batch 227800000\n",
      "Processing batch 228000000...\n",
      "228000000 228200000\n"
     ]
    },
    {
     "name": "stderr",
     "output_type": "stream",
     "text": [
      "100%|██████████| 200000/200000 [00:21<00:00, 9450.88it/s] \n"
     ]
    },
    {
     "name": "stdout",
     "output_type": "stream",
     "text": [
      "saved success! batch 228000000\n",
      "Processing batch 228200000...\n",
      "228200000 228400000\n"
     ]
    },
    {
     "name": "stderr",
     "output_type": "stream",
     "text": [
      "100%|██████████| 200000/200000 [00:21<00:00, 9393.62it/s] \n"
     ]
    },
    {
     "name": "stdout",
     "output_type": "stream",
     "text": [
      "saved success! batch 228200000\n",
      "Processing batch 228400000...\n",
      "228400000 228600000\n"
     ]
    },
    {
     "name": "stderr",
     "output_type": "stream",
     "text": [
      "100%|██████████| 200000/200000 [00:20<00:00, 9706.95it/s] \n"
     ]
    },
    {
     "name": "stdout",
     "output_type": "stream",
     "text": [
      "saved success! batch 228400000\n",
      "Processing batch 228600000...\n",
      "228600000 228800000\n"
     ]
    },
    {
     "name": "stderr",
     "output_type": "stream",
     "text": [
      "100%|██████████| 200000/200000 [00:20<00:00, 9810.50it/s] \n"
     ]
    },
    {
     "name": "stdout",
     "output_type": "stream",
     "text": [
      "saved success! batch 228600000\n",
      "Processing batch 228800000...\n",
      "228800000 229000000\n"
     ]
    },
    {
     "name": "stderr",
     "output_type": "stream",
     "text": [
      "100%|██████████| 200000/200000 [00:21<00:00, 9434.71it/s] \n"
     ]
    },
    {
     "name": "stdout",
     "output_type": "stream",
     "text": [
      "saved success! batch 228800000\n",
      "Processing batch 229000000...\n",
      "229000000 229200000\n"
     ]
    },
    {
     "name": "stderr",
     "output_type": "stream",
     "text": [
      "100%|██████████| 200000/200000 [00:20<00:00, 9957.73it/s] \n"
     ]
    },
    {
     "name": "stdout",
     "output_type": "stream",
     "text": [
      "saved success! batch 229000000\n",
      "Processing batch 229200000...\n",
      "229200000 229400000\n"
     ]
    },
    {
     "name": "stderr",
     "output_type": "stream",
     "text": [
      "100%|██████████| 200000/200000 [00:21<00:00, 9491.16it/s] \n"
     ]
    },
    {
     "name": "stdout",
     "output_type": "stream",
     "text": [
      "saved success! batch 229200000\n",
      "Processing batch 229400000...\n",
      "229400000 229600000\n"
     ]
    },
    {
     "name": "stderr",
     "output_type": "stream",
     "text": [
      "100%|██████████| 200000/200000 [00:20<00:00, 9685.73it/s] \n"
     ]
    },
    {
     "name": "stdout",
     "output_type": "stream",
     "text": [
      "saved success! batch 229400000\n",
      "Processing batch 229600000...\n",
      "229600000 229800000\n"
     ]
    },
    {
     "name": "stderr",
     "output_type": "stream",
     "text": [
      "100%|██████████| 200000/200000 [00:20<00:00, 9694.73it/s] \n"
     ]
    },
    {
     "name": "stdout",
     "output_type": "stream",
     "text": [
      "saved success! batch 229600000\n",
      "Processing batch 229800000...\n",
      "229800000 230000000\n"
     ]
    },
    {
     "name": "stderr",
     "output_type": "stream",
     "text": [
      "100%|██████████| 200000/200000 [00:19<00:00, 10116.26it/s]\n"
     ]
    },
    {
     "name": "stdout",
     "output_type": "stream",
     "text": [
      "saved success! batch 229800000\n",
      "Processing batch 230000000...\n",
      "230000000 230200000\n"
     ]
    },
    {
     "name": "stderr",
     "output_type": "stream",
     "text": [
      "100%|██████████| 200000/200000 [00:19<00:00, 10040.50it/s]\n"
     ]
    },
    {
     "name": "stdout",
     "output_type": "stream",
     "text": [
      "saved success! batch 230000000\n",
      "Processing batch 230200000...\n",
      "230200000 230400000\n"
     ]
    },
    {
     "name": "stderr",
     "output_type": "stream",
     "text": [
      "100%|██████████| 200000/200000 [00:20<00:00, 9690.64it/s] \n"
     ]
    },
    {
     "name": "stdout",
     "output_type": "stream",
     "text": [
      "saved success! batch 230200000\n",
      "Processing batch 230400000...\n",
      "230400000 230600000\n"
     ]
    },
    {
     "name": "stderr",
     "output_type": "stream",
     "text": [
      "100%|██████████| 200000/200000 [00:19<00:00, 10021.56it/s]\n"
     ]
    },
    {
     "name": "stdout",
     "output_type": "stream",
     "text": [
      "saved success! batch 230400000\n",
      "Processing batch 230600000...\n",
      "230600000 230800000\n"
     ]
    },
    {
     "name": "stderr",
     "output_type": "stream",
     "text": [
      "100%|██████████| 200000/200000 [00:20<00:00, 9727.57it/s] \n"
     ]
    },
    {
     "name": "stdout",
     "output_type": "stream",
     "text": [
      "saved success! batch 230600000\n",
      "Processing batch 230800000...\n",
      "230800000 231000000\n"
     ]
    },
    {
     "name": "stderr",
     "output_type": "stream",
     "text": [
      "100%|██████████| 200000/200000 [00:20<00:00, 9868.17it/s] \n"
     ]
    },
    {
     "name": "stdout",
     "output_type": "stream",
     "text": [
      "saved success! batch 230800000\n",
      "Processing batch 231000000...\n",
      "231000000 231200000\n"
     ]
    },
    {
     "name": "stderr",
     "output_type": "stream",
     "text": [
      "100%|██████████| 200000/200000 [00:20<00:00, 9658.22it/s] \n"
     ]
    },
    {
     "name": "stdout",
     "output_type": "stream",
     "text": [
      "saved success! batch 231000000\n",
      "Processing batch 231200000...\n",
      "231200000 231400000\n"
     ]
    },
    {
     "name": "stderr",
     "output_type": "stream",
     "text": [
      "100%|██████████| 200000/200000 [00:20<00:00, 9957.64it/s] \n"
     ]
    },
    {
     "name": "stdout",
     "output_type": "stream",
     "text": [
      "saved success! batch 231200000\n",
      "Processing batch 231400000...\n",
      "231400000 231600000\n"
     ]
    },
    {
     "name": "stderr",
     "output_type": "stream",
     "text": [
      "100%|██████████| 200000/200000 [00:21<00:00, 9441.34it/s] \n"
     ]
    },
    {
     "name": "stdout",
     "output_type": "stream",
     "text": [
      "saved success! batch 231400000\n",
      "Processing batch 231600000...\n",
      "231600000 231800000\n"
     ]
    },
    {
     "name": "stderr",
     "output_type": "stream",
     "text": [
      "100%|██████████| 200000/200000 [00:20<00:00, 9860.81it/s] \n"
     ]
    },
    {
     "name": "stdout",
     "output_type": "stream",
     "text": [
      "saved success! batch 231600000\n",
      "Processing batch 231800000...\n",
      "231800000 232000000\n"
     ]
    },
    {
     "name": "stderr",
     "output_type": "stream",
     "text": [
      "100%|██████████| 200000/200000 [00:20<00:00, 9688.90it/s] \n"
     ]
    },
    {
     "name": "stdout",
     "output_type": "stream",
     "text": [
      "saved success! batch 231800000\n",
      "Processing batch 232000000...\n",
      "232000000 232200000\n"
     ]
    },
    {
     "name": "stderr",
     "output_type": "stream",
     "text": [
      "100%|██████████| 200000/200000 [00:21<00:00, 9387.42it/s] \n"
     ]
    },
    {
     "name": "stdout",
     "output_type": "stream",
     "text": [
      "saved success! batch 232000000\n",
      "Processing batch 232200000...\n",
      "232200000 232400000\n"
     ]
    },
    {
     "name": "stderr",
     "output_type": "stream",
     "text": [
      "100%|██████████| 200000/200000 [00:20<00:00, 9941.50it/s] \n"
     ]
    },
    {
     "name": "stdout",
     "output_type": "stream",
     "text": [
      "saved success! batch 232200000\n",
      "Processing batch 232400000...\n",
      "232400000 232600000\n"
     ]
    },
    {
     "name": "stderr",
     "output_type": "stream",
     "text": [
      "100%|██████████| 200000/200000 [00:20<00:00, 9595.10it/s] \n"
     ]
    },
    {
     "name": "stdout",
     "output_type": "stream",
     "text": [
      "saved success! batch 232400000\n",
      "Processing batch 232600000...\n",
      "232600000 232800000\n"
     ]
    },
    {
     "name": "stderr",
     "output_type": "stream",
     "text": [
      "100%|██████████| 200000/200000 [00:21<00:00, 9521.14it/s] \n"
     ]
    },
    {
     "name": "stdout",
     "output_type": "stream",
     "text": [
      "saved success! batch 232600000\n",
      "Processing batch 232800000...\n",
      "232800000 233000000\n"
     ]
    },
    {
     "name": "stderr",
     "output_type": "stream",
     "text": [
      "100%|██████████| 200000/200000 [00:20<00:00, 9697.61it/s] \n"
     ]
    },
    {
     "name": "stdout",
     "output_type": "stream",
     "text": [
      "saved success! batch 232800000\n",
      "Processing batch 233000000...\n",
      "233000000 233200000\n"
     ]
    },
    {
     "name": "stderr",
     "output_type": "stream",
     "text": [
      "100%|██████████| 200000/200000 [00:20<00:00, 9789.84it/s] \n"
     ]
    },
    {
     "name": "stdout",
     "output_type": "stream",
     "text": [
      "saved success! batch 233000000\n",
      "Processing batch 233200000...\n",
      "233200000 233400000\n"
     ]
    },
    {
     "name": "stderr",
     "output_type": "stream",
     "text": [
      "100%|██████████| 200000/200000 [00:20<00:00, 9675.71it/s] \n"
     ]
    },
    {
     "name": "stdout",
     "output_type": "stream",
     "text": [
      "saved success! batch 233200000\n",
      "Processing batch 233400000...\n",
      "233400000 233600000\n"
     ]
    },
    {
     "name": "stderr",
     "output_type": "stream",
     "text": [
      "100%|██████████| 200000/200000 [00:20<00:00, 9841.18it/s] \n"
     ]
    },
    {
     "name": "stdout",
     "output_type": "stream",
     "text": [
      "saved success! batch 233400000\n",
      "Processing batch 233600000...\n",
      "233600000 233800000\n"
     ]
    },
    {
     "name": "stderr",
     "output_type": "stream",
     "text": [
      "100%|██████████| 200000/200000 [00:21<00:00, 9445.84it/s] \n"
     ]
    },
    {
     "name": "stdout",
     "output_type": "stream",
     "text": [
      "saved success! batch 233600000\n",
      "Processing batch 233800000...\n",
      "233800000 234000000\n"
     ]
    },
    {
     "name": "stderr",
     "output_type": "stream",
     "text": [
      "100%|██████████| 200000/200000 [00:20<00:00, 9634.64it/s] \n"
     ]
    },
    {
     "name": "stdout",
     "output_type": "stream",
     "text": [
      "saved success! batch 233800000\n",
      "Processing batch 234000000...\n",
      "234000000 234200000\n"
     ]
    },
    {
     "name": "stderr",
     "output_type": "stream",
     "text": [
      "100%|██████████| 200000/200000 [00:20<00:00, 9966.13it/s] \n"
     ]
    },
    {
     "name": "stdout",
     "output_type": "stream",
     "text": [
      "saved success! batch 234000000\n",
      "Processing batch 234200000...\n",
      "234200000 234400000\n"
     ]
    },
    {
     "name": "stderr",
     "output_type": "stream",
     "text": [
      "100%|██████████| 200000/200000 [00:20<00:00, 9711.51it/s] \n"
     ]
    },
    {
     "name": "stdout",
     "output_type": "stream",
     "text": [
      "saved success! batch 234200000\n",
      "Processing batch 234400000...\n",
      "234400000 234600000\n"
     ]
    },
    {
     "name": "stderr",
     "output_type": "stream",
     "text": [
      "100%|██████████| 200000/200000 [00:21<00:00, 9490.46it/s] \n"
     ]
    },
    {
     "name": "stdout",
     "output_type": "stream",
     "text": [
      "saved success! batch 234400000\n",
      "Processing batch 234600000...\n",
      "234600000 234800000\n"
     ]
    },
    {
     "name": "stderr",
     "output_type": "stream",
     "text": [
      "100%|██████████| 200000/200000 [00:20<00:00, 9981.75it/s] \n"
     ]
    },
    {
     "name": "stdout",
     "output_type": "stream",
     "text": [
      "saved success! batch 234600000\n",
      "Processing batch 234800000...\n",
      "234800000 235000000\n"
     ]
    },
    {
     "name": "stderr",
     "output_type": "stream",
     "text": [
      "100%|██████████| 200000/200000 [00:20<00:00, 9893.29it/s] \n"
     ]
    },
    {
     "name": "stdout",
     "output_type": "stream",
     "text": [
      "saved success! batch 234800000\n",
      "Processing batch 235000000...\n",
      "235000000 235200000\n"
     ]
    },
    {
     "name": "stderr",
     "output_type": "stream",
     "text": [
      "100%|██████████| 200000/200000 [00:20<00:00, 9587.28it/s] \n"
     ]
    },
    {
     "name": "stdout",
     "output_type": "stream",
     "text": [
      "saved success! batch 235000000\n",
      "Processing batch 235200000...\n",
      "235200000 235400000\n"
     ]
    },
    {
     "name": "stderr",
     "output_type": "stream",
     "text": [
      "100%|██████████| 200000/200000 [00:19<00:00, 10119.42it/s]\n"
     ]
    },
    {
     "name": "stdout",
     "output_type": "stream",
     "text": [
      "saved success! batch 235200000\n",
      "Processing batch 235400000...\n",
      "235400000 235600000\n"
     ]
    },
    {
     "name": "stderr",
     "output_type": "stream",
     "text": [
      "100%|██████████| 200000/200000 [00:20<00:00, 9599.32it/s] \n"
     ]
    },
    {
     "name": "stdout",
     "output_type": "stream",
     "text": [
      "saved success! batch 235400000\n",
      "Processing batch 235600000...\n",
      "235600000 235800000\n"
     ]
    },
    {
     "name": "stderr",
     "output_type": "stream",
     "text": [
      "100%|██████████| 200000/200000 [00:20<00:00, 9881.87it/s] \n"
     ]
    },
    {
     "name": "stdout",
     "output_type": "stream",
     "text": [
      "saved success! batch 235600000\n",
      "Processing batch 235800000...\n",
      "235800000 236000000\n"
     ]
    },
    {
     "name": "stderr",
     "output_type": "stream",
     "text": [
      "100%|██████████| 200000/200000 [00:20<00:00, 9909.96it/s] \n"
     ]
    },
    {
     "name": "stdout",
     "output_type": "stream",
     "text": [
      "saved success! batch 235800000\n",
      "Processing batch 236000000...\n",
      "236000000 236200000\n"
     ]
    },
    {
     "name": "stderr",
     "output_type": "stream",
     "text": [
      "100%|██████████| 200000/200000 [00:22<00:00, 9013.53it/s] \n"
     ]
    },
    {
     "name": "stdout",
     "output_type": "stream",
     "text": [
      "saved success! batch 236000000\n",
      "Processing batch 236200000...\n",
      "236200000 236400000\n"
     ]
    },
    {
     "name": "stderr",
     "output_type": "stream",
     "text": [
      "100%|██████████| 200000/200000 [00:21<00:00, 9429.99it/s] \n"
     ]
    },
    {
     "name": "stdout",
     "output_type": "stream",
     "text": [
      "saved success! batch 236200000\n",
      "Processing batch 236400000...\n",
      "236400000 236600000\n"
     ]
    },
    {
     "name": "stderr",
     "output_type": "stream",
     "text": [
      "100%|██████████| 200000/200000 [00:20<00:00, 9836.11it/s] \n"
     ]
    },
    {
     "name": "stdout",
     "output_type": "stream",
     "text": [
      "saved success! batch 236400000\n",
      "Processing batch 236600000...\n",
      "236600000 236800000\n"
     ]
    },
    {
     "name": "stderr",
     "output_type": "stream",
     "text": [
      "100%|██████████| 200000/200000 [00:20<00:00, 9549.62it/s] \n"
     ]
    },
    {
     "name": "stdout",
     "output_type": "stream",
     "text": [
      "saved success! batch 236600000\n",
      "Processing batch 236800000...\n",
      "236800000 237000000\n"
     ]
    },
    {
     "name": "stderr",
     "output_type": "stream",
     "text": [
      "100%|██████████| 200000/200000 [00:20<00:00, 9656.00it/s] \n"
     ]
    },
    {
     "name": "stdout",
     "output_type": "stream",
     "text": [
      "saved success! batch 236800000\n",
      "Processing batch 237000000...\n",
      "237000000 237200000\n"
     ]
    },
    {
     "name": "stderr",
     "output_type": "stream",
     "text": [
      "100%|██████████| 200000/200000 [00:20<00:00, 9859.29it/s] \n"
     ]
    },
    {
     "name": "stdout",
     "output_type": "stream",
     "text": [
      "saved success! batch 237000000\n",
      "Processing batch 237200000...\n",
      "237200000 237400000\n"
     ]
    },
    {
     "name": "stderr",
     "output_type": "stream",
     "text": [
      "100%|██████████| 200000/200000 [00:22<00:00, 8932.82it/s] \n"
     ]
    },
    {
     "name": "stdout",
     "output_type": "stream",
     "text": [
      "saved success! batch 237200000\n",
      "Processing batch 237400000...\n",
      "237400000 237600000\n"
     ]
    },
    {
     "name": "stderr",
     "output_type": "stream",
     "text": [
      "100%|██████████| 200000/200000 [00:20<00:00, 9548.98it/s] \n"
     ]
    },
    {
     "name": "stdout",
     "output_type": "stream",
     "text": [
      "saved success! batch 237400000\n",
      "Processing batch 237600000...\n",
      "237600000 237800000\n"
     ]
    },
    {
     "name": "stderr",
     "output_type": "stream",
     "text": [
      "100%|██████████| 133521/133521 [00:11<00:00, 11284.33it/s]\n"
     ]
    },
    {
     "name": "stdout",
     "output_type": "stream",
     "text": [
      "saved success! batch 237600000\n"
     ]
    }
   ],
   "source": [
    "\n",
    "# populate_occ_space(cosine_sim_long.loc[0])\n",
    "import pandas as pd\n",
    "import numpy as np\n",
    "import os\n",
    "from tqdm import tqdm\n",
    "from multiprocessing import Pool, cpu_count\n",
    "import math\n",
    "\n",
    "tqdm.pandas()\n",
    "larger_index = occ_space.columns\n",
    "\n",
    "def populate_occ_space(row):\n",
    "    i = row['i']\n",
    "    j = row['j']\n",
    "    v = row['Value']\n",
    "\n",
    "    index_i = [x for x in combined_mapping.get(i, []) if (x != 'NA' and x != np.nan)]\n",
    "    index_j = [x for x in combined_mapping.get(j, []) if (x != 'NA' and x != np.nan)]\n",
    "\n",
    "    overlap = set(index_i).intersection(set(index_j))\n",
    "\n",
    "    index_i = [x for x in index_i if x not in overlap]\n",
    "    index_j = [x for x in index_j if x not in overlap]\n",
    "\n",
    "    temp_result = {}\n",
    "    for ii in index_i:\n",
    "        for jj in index_j:\n",
    "            if (ii, jj) not in temp_result:\n",
    "                temp_result[(ii, jj)] = []\n",
    "            temp_result[(ii, jj)].append(v)\n",
    "    return temp_result\n",
    "\n",
    "def save_intermediate_results(df, filename, chunk_idx):\n",
    "    df.to_pickle(filename)\n",
    "    print(f\"saved success! batch {chunk_idx}\")\n",
    "\n",
    "def process_chunk(args):\n",
    "    df, chunk_idx, output_dir, batch_size = args\n",
    "    print(f\"Processing batch {chunk_idx}...\")\n",
    "    print(chunk_idx, chunk_idx+batch_size)\n",
    "    chunk = df[chunk_idx: chunk_idx+batch_size]\n",
    "    chunk_results = chunk.progress_apply(populate_occ_space, axis=1)\n",
    "    \n",
    "    combined_results = {}\n",
    "    for result in chunk_results:\n",
    "        for key, values in result.items():\n",
    "            if key not in combined_results:\n",
    "                combined_results[key] = []\n",
    "            combined_results[key].extend(values)\n",
    "    \n",
    "    result_df = pd.DataFrame(index=larger_index, columns=larger_index)\n",
    "    for (ii, jj), values in combined_results.items():\n",
    "        result_df.at[ii, jj] = values\n",
    "    # print(result_df)\n",
    "    # Save intermediate result\n",
    "    save_intermediate_results(result_df, os.path.join(output_dir, f\"occ_space_chunk_{chunk_idx}_{chunk_idx+batch_size}.pkl\"), chunk_idx)\n",
    "\n",
    "def run_parallel_processing(df, output_dir, batch_size):\n",
    "    if not os.path.exists(output_dir):\n",
    "        os.makedirs(output_dir)\n",
    "\n",
    "    # Determine starting index by checking existing files in the output directory\n",
    "    existing_files = [f for f in os.listdir(output_dir) if f.endswith('.pkl')]\n",
    "    start_idx = max([int(f.split('_')[-1].split('.')[0]) for f in existing_files], default=0)\n",
    "    print(start_idx)\n",
    "    \n",
    "        \n",
    "    # chunks = [df[i:i + batch_size] for i in range(0, len(df), batch_size)]\n",
    "    for i in range(start_idx, len(df), batch_size):\n",
    "        process_chunk((cosine_sim_long, i, output_dir, batch_size))\n",
    "\n",
    "# def process_chunk(args):\n",
    "#     df, chunk_idx, output_dir, batch_size = args\n",
    "#     print(f\"Processing batch {chunk_idx}...\")\n",
    "#     chunk = df[chunk_idx: chunk_idx+batch_size]\n",
    "#     chunk_results = chunk.progress_apply(populate_occ_space, axis=1)\n",
    "    \n",
    "#     combined_results = {}\n",
    "#     for result in chunk_results:\n",
    "#         for key, values in result.items():\n",
    "#             if key not in combined_results:\n",
    "#                 combined_results[key] = []\n",
    "#             combined_results[key].extend(values)\n",
    "    \n",
    "#     result_df = pd.DataFrame(index=larger_index, columns=larger_index)\n",
    "#     for (ii, jj), values in combined_results.items():\n",
    "#         result_df.at[ii, jj] = values\n",
    "\n",
    "#     # Save intermediate result\n",
    "#     save_intermediate_results(result_df, os.path.join(output_dir, f\"occ_space_chunk_{chunk_idx}_{chunk_idx+batch_size}.pkl\"), chunk_idx)\n",
    "\n",
    "# def run_parallel_processing(df, output_dir, batch_size):\n",
    "#     if not os.path.exists(output_dir):\n",
    "#         os.makedirs(output_dir)\n",
    "\n",
    "#     # Determine starting index by checking existing files in the output directory\n",
    "#     existing_files = [f for f in os.listdir(output_dir) if f.endswith('.pkl')]\n",
    "#     start_idx = max([int(f.split('_')[-1].split('.')[0]) for f in existing_files], default=0)\n",
    "#     print(f\"Starting from index: {start_idx}\")\n",
    "\n",
    "#     # Prepare arguments for each chunk\n",
    "#     chunks = [(df, i, output_dir, batch_size) for i in range(start_idx, len(df), batch_size)]\n",
    "    \n",
    "#     # Process chunks in parallel\n",
    "#     with Pool(cpu_count()-2) as pool:\n",
    "#         pool.map(process_chunk, chunks)\n",
    "        \n",
    "output_dir = \"../int_data/occ_space_chunks\"\n",
    "# Run parallel processing and save intermediate results\n",
    "batch_size = 200000  # Customize batch size as needed\n",
    "run_parallel_processing(cosine_sim_long, \"../int_data/occ_space_chunks\", batch_size)\n"
   ]
  },
  {
   "cell_type": "code",
   "execution_count": null,
   "id": "69fd389a-9bb2-4de6-bd7f-e0fe22a69181",
   "metadata": {},
   "outputs": [
    {
     "name": "stdout",
     "output_type": "stream",
     "text": [
      "[0] RAM Usage: 23393.35 MB\n"
     ]
    }
   ],
   "source": [
    "start_idx = 211400000 \n",
    "chunks = [(cosine_sim_long, i, output_dir, batch_size) for i in range(start_idx, len(cosine_sim_long), batch_size)]\n",
    "print_ram_usage()\n",
    "# Process chunks in parallel\n",
    "with Pool(2) as pool:\n",
    "    pool.map(process_chunk, chunks)"
   ]
  },
  {
   "cell_type": "code",
   "execution_count": 59,
   "id": "1a4aa59c-cfd5-4773-92bc-ed24f80b6016",
   "metadata": {},
   "outputs": [
    {
     "name": "stdout",
     "output_type": "stream",
     "text": [
      "Processing batch 0...\n",
      "0 200000\n"
     ]
    },
    {
     "name": "stderr",
     "output_type": "stream",
     "text": [
      "100%|██████████| 200000/200000 [00:21<00:00, 9493.19it/s] \n"
     ]
    },
    {
     "name": "stdout",
     "output_type": "stream",
     "text": [
      "saved success! batch 0\n"
     ]
    }
   ],
   "source": [
    "# run_parallel_processing(cosine_sim_long, \"../int_data/occ_space_chunks\", batch_size)\n",
    "process_chunk((cosine_sim_long, 0, output_dir, batch_size))"
   ]
  },
  {
   "cell_type": "code",
   "execution_count": 60,
   "id": "604cf7bd-038a-456c-9df8-f14ef4711729",
   "metadata": {},
   "outputs": [
    {
     "name": "stdout",
     "output_type": "stream",
     "text": [
      "[0] RAM Usage: 34111.42 MB\n"
     ]
    },
    {
     "data": {
      "text/plain": [
       "(None, 32)"
      ]
     },
     "execution_count": 60,
     "metadata": {},
     "output_type": "execute_result"
    }
   ],
   "source": [
    "gc.collect()\n",
    "print_ram_usage(), cpu_count()"
   ]
  },
  {
   "cell_type": "code",
   "execution_count": null,
   "id": "32c55290-78d7-4fc2-86fa-6e47ed6cce0d",
   "metadata": {},
   "outputs": [],
   "source": []
  },
  {
   "cell_type": "code",
   "execution_count": null,
   "id": "94e7131d-c844-426b-b3d0-a0293b272ec0",
   "metadata": {},
   "outputs": [],
   "source": [
    "import pickle\n",
    "with open('../int_data/occ_space_populated.pkl','wb') as f:\n",
    "    pickle.dump(cosine_sim_long,f)"
   ]
  },
  {
   "cell_type": "code",
   "execution_count": 5,
   "id": "b01df8ae-0c34-4f9c-b4fd-8d911b94eaa9",
   "metadata": {},
   "outputs": [
    {
     "ename": "FileNotFoundError",
     "evalue": "[Errno 2] No such file or directory: '../int_data/occ_space.pkl'",
     "output_type": "error",
     "traceback": [
      "\u001b[0;31m---------------------------------------------------------------------------\u001b[0m",
      "\u001b[0;31mFileNotFoundError\u001b[0m                         Traceback (most recent call last)",
      "Cell \u001b[0;32mIn[5], line 3\u001b[0m\n\u001b[1;32m      1\u001b[0m \u001b[38;5;28;01mimport\u001b[39;00m \u001b[38;5;21;01mpickle\u001b[39;00m\n\u001b[0;32m----> 3\u001b[0m \u001b[38;5;28;01mwith\u001b[39;00m \u001b[38;5;28mopen\u001b[39m(\u001b[38;5;124m'\u001b[39m\u001b[38;5;124m../int_data/occ_space.pkl\u001b[39m\u001b[38;5;124m'\u001b[39m,\u001b[38;5;124m'\u001b[39m\u001b[38;5;124mrb\u001b[39m\u001b[38;5;124m'\u001b[39m) \u001b[38;5;28;01mas\u001b[39;00m f:\n\u001b[1;32m      4\u001b[0m     occ_space_populated \u001b[38;5;241m=\u001b[39m pickle\u001b[38;5;241m.\u001b[39mload(f)\n",
      "File \u001b[0;32m/opt/apps/hand/miniconda/23.5.2/lib/python3.11/site-packages/IPython/core/interactiveshell.py:286\u001b[0m, in \u001b[0;36m_modified_open\u001b[0;34m(file, *args, **kwargs)\u001b[0m\n\u001b[1;32m    279\u001b[0m \u001b[38;5;28;01mif\u001b[39;00m file \u001b[38;5;129;01min\u001b[39;00m {\u001b[38;5;241m0\u001b[39m, \u001b[38;5;241m1\u001b[39m, \u001b[38;5;241m2\u001b[39m}:\n\u001b[1;32m    280\u001b[0m     \u001b[38;5;28;01mraise\u001b[39;00m \u001b[38;5;167;01mValueError\u001b[39;00m(\n\u001b[1;32m    281\u001b[0m         \u001b[38;5;124mf\u001b[39m\u001b[38;5;124m\"\u001b[39m\u001b[38;5;124mIPython won\u001b[39m\u001b[38;5;124m'\u001b[39m\u001b[38;5;124mt let you open fd=\u001b[39m\u001b[38;5;132;01m{\u001b[39;00mfile\u001b[38;5;132;01m}\u001b[39;00m\u001b[38;5;124m by default \u001b[39m\u001b[38;5;124m\"\u001b[39m\n\u001b[1;32m    282\u001b[0m         \u001b[38;5;124m\"\u001b[39m\u001b[38;5;124mas it is likely to crash IPython. If you know what you are doing, \u001b[39m\u001b[38;5;124m\"\u001b[39m\n\u001b[1;32m    283\u001b[0m         \u001b[38;5;124m\"\u001b[39m\u001b[38;5;124myou can use builtins\u001b[39m\u001b[38;5;124m'\u001b[39m\u001b[38;5;124m open.\u001b[39m\u001b[38;5;124m\"\u001b[39m\n\u001b[1;32m    284\u001b[0m     )\n\u001b[0;32m--> 286\u001b[0m \u001b[38;5;28;01mreturn\u001b[39;00m io_open(file, \u001b[38;5;241m*\u001b[39margs, \u001b[38;5;241m*\u001b[39m\u001b[38;5;241m*\u001b[39mkwargs)\n",
      "\u001b[0;31mFileNotFoundError\u001b[0m: [Errno 2] No such file or directory: '../int_data/occ_space.pkl'"
     ]
    }
   ],
   "source": [
    "import pickle\n",
    "\n",
    "with open('../int_data/occ_space.pkl','rb') as f:\n",
    "    occ_space_populated = pickle.load(f)"
   ]
  },
  {
   "cell_type": "code",
   "execution_count": null,
   "id": "c3a68ea5-626d-4d5a-b953-67fa6649de38",
   "metadata": {},
   "outputs": [],
   "source": [
    "# \n",
    "occ_space_populated = occ_space_populated.applymap(lambda x: np.mean(x) if x else 0)\n"
   ]
  },
  {
   "cell_type": "markdown",
   "id": "c4c43921-f8c0-4d22-91be-f5cc836c90c7",
   "metadata": {},
   "source": [
    "### Concatenate"
   ]
  },
  {
   "cell_type": "code",
   "execution_count": 19,
   "id": "de442da0-7dbf-43ad-bbd7-c58d60aa68c1",
   "metadata": {},
   "outputs": [
    {
     "name": "stdout",
     "output_type": "stream",
     "text": [
      "          HISCO410  HISCO744  HISCO896  HISCO779  HISCO951  HISCO813  \\\n",
      "HISCO410       0.0  0.087692  0.080716  0.071001  0.080445  0.088636   \n",
      "HISCO744       0.0  0.000000  0.093546  0.079812  0.089370  0.096322   \n",
      "HISCO896       0.0  0.000000  0.000000  0.077624  0.082793  0.088782   \n",
      "HISCO779       0.0  0.000000  0.000000  0.000000  0.073686  0.073348   \n",
      "HISCO951       0.0  0.000000  0.000000  0.000000  0.000000  0.093294   \n",
      "...            ...       ...       ...       ...       ...       ...   \n",
      "HISCO641       0.0  0.000000  0.000000  0.000000  0.000000  0.000000   \n",
      "HISCO772       0.0  0.000000  0.000000  0.000000  0.000000  0.000000   \n",
      "HISCO815       0.0  0.000000  0.000000  0.000000  0.000000  0.000000   \n",
      "HISCO902       0.0  0.000000  0.000000  0.000000  0.000000  0.000000   \n",
      "HISCO395       0.0  0.000000  0.000000  0.000000  0.000000  0.000000   \n",
      "\n",
      "          HISCO391  HISCO974  HISCO745  HISCO397  ...  HISCO922  HISCO961  \\\n",
      "HISCO410  0.088448  0.081975  0.059460  0.081573  ...  0.116356  0.078152   \n",
      "HISCO744  0.096029  0.091596  0.074614  0.091199  ...  0.129578  0.093310   \n",
      "HISCO896  0.092466  0.083189  0.079883  0.082854  ...  0.111464  0.083643   \n",
      "HISCO779  0.079596  0.070709  0.000000  0.070376  ...  0.100839  0.071322   \n",
      "HISCO951  0.089965  0.087319  0.069641  0.086966  ...  0.123042  0.087891   \n",
      "...            ...       ...       ...       ...  ...       ...       ...   \n",
      "HISCO641  0.000000  0.000000  0.000000  0.000000  ...  0.000000  0.000000   \n",
      "HISCO772  0.000000  0.000000  0.000000  0.000000  ...  0.000000  0.000000   \n",
      "HISCO815  0.000000  0.000000  0.000000  0.000000  ...  0.000000  0.000000   \n",
      "HISCO902  0.000000  0.000000  0.000000  0.000000  ...  0.000000  0.000000   \n",
      "HISCO395  0.000000  0.000000  0.000000  0.000000  ...  0.000000  0.000000   \n",
      "\n",
      "          HISCO972  HISCO452  HISCO755  HISCO641  HISCO772  HISCO815  \\\n",
      "HISCO410  0.078876  0.000000  0.105819  0.083773  0.077286  0.070594   \n",
      "HISCO744  0.085479  0.064589  0.119439  0.088364  0.076658  0.081745   \n",
      "HISCO896  0.072785  0.065351  0.101110  0.077854  0.070261  0.082233   \n",
      "HISCO779  0.063817  0.064235  0.074594  0.070563  0.064560  0.077842   \n",
      "HISCO951  0.086144  0.064799  0.114031  0.088687  0.084358  0.079296   \n",
      "...            ...       ...       ...       ...       ...       ...   \n",
      "HISCO641  0.000000  0.000000  0.000000  0.000000  0.072658  0.059716   \n",
      "HISCO772  0.000000  0.000000  0.000000  0.000000  0.000000  0.063253   \n",
      "HISCO815  0.000000  0.000000  0.000000  0.000000  0.000000  0.000000   \n",
      "HISCO902  0.000000  0.000000  0.000000  0.000000  0.000000  0.000000   \n",
      "HISCO395  0.000000  0.000000  0.000000  0.000000  0.000000  0.000000   \n",
      "\n",
      "          HISCO902  HISCO395  \n",
      "HISCO410  0.090649  0.095481  \n",
      "HISCO744  0.108401  0.101629  \n",
      "HISCO896  0.098912  0.086527  \n",
      "HISCO779  0.082357  0.073617  \n",
      "HISCO951  0.093627  0.094784  \n",
      "...            ...       ...  \n",
      "HISCO641  0.118930  0.130270  \n",
      "HISCO772  0.125353  0.135554  \n",
      "HISCO815  0.127855  0.069130  \n",
      "HISCO902  0.000000  0.118733  \n",
      "HISCO395  0.000000  0.000000  \n",
      "\n",
      "[245 rows x 245 columns]\n"
     ]
    },
    {
     "data": {
      "text/html": [
       "<div>\n",
       "<style scoped>\n",
       "    .dataframe tbody tr th:only-of-type {\n",
       "        vertical-align: middle;\n",
       "    }\n",
       "\n",
       "    .dataframe tbody tr th {\n",
       "        vertical-align: top;\n",
       "    }\n",
       "\n",
       "    .dataframe thead th {\n",
       "        text-align: right;\n",
       "    }\n",
       "</style>\n",
       "<table border=\"1\" class=\"dataframe\">\n",
       "  <thead>\n",
       "    <tr style=\"text-align: right;\">\n",
       "      <th></th>\n",
       "      <th>occ_i</th>\n",
       "      <th>occ_j</th>\n",
       "      <th>Value</th>\n",
       "    </tr>\n",
       "  </thead>\n",
       "  <tbody>\n",
       "    <tr>\n",
       "      <th>0</th>\n",
       "      <td>HISCO410</td>\n",
       "      <td>HISCO744</td>\n",
       "      <td>0.087692</td>\n",
       "    </tr>\n",
       "    <tr>\n",
       "      <th>1</th>\n",
       "      <td>HISCO410</td>\n",
       "      <td>HISCO896</td>\n",
       "      <td>0.080716</td>\n",
       "    </tr>\n",
       "    <tr>\n",
       "      <th>2</th>\n",
       "      <td>HISCO744</td>\n",
       "      <td>HISCO896</td>\n",
       "      <td>0.093546</td>\n",
       "    </tr>\n",
       "    <tr>\n",
       "      <th>3</th>\n",
       "      <td>HISCO410</td>\n",
       "      <td>HISCO779</td>\n",
       "      <td>0.071001</td>\n",
       "    </tr>\n",
       "    <tr>\n",
       "      <th>4</th>\n",
       "      <td>HISCO744</td>\n",
       "      <td>HISCO779</td>\n",
       "      <td>0.079812</td>\n",
       "    </tr>\n",
       "    <tr>\n",
       "      <th>...</th>\n",
       "      <td>...</td>\n",
       "      <td>...</td>\n",
       "      <td>...</td>\n",
       "    </tr>\n",
       "    <tr>\n",
       "      <th>29672</th>\n",
       "      <td>HISCO755</td>\n",
       "      <td>HISCO395</td>\n",
       "      <td>0.134695</td>\n",
       "    </tr>\n",
       "    <tr>\n",
       "      <th>29673</th>\n",
       "      <td>HISCO641</td>\n",
       "      <td>HISCO395</td>\n",
       "      <td>0.130270</td>\n",
       "    </tr>\n",
       "    <tr>\n",
       "      <th>29674</th>\n",
       "      <td>HISCO772</td>\n",
       "      <td>HISCO395</td>\n",
       "      <td>0.135554</td>\n",
       "    </tr>\n",
       "    <tr>\n",
       "      <th>29675</th>\n",
       "      <td>HISCO815</td>\n",
       "      <td>HISCO395</td>\n",
       "      <td>0.069130</td>\n",
       "    </tr>\n",
       "    <tr>\n",
       "      <th>29676</th>\n",
       "      <td>HISCO902</td>\n",
       "      <td>HISCO395</td>\n",
       "      <td>0.118733</td>\n",
       "    </tr>\n",
       "  </tbody>\n",
       "</table>\n",
       "<p>29677 rows × 3 columns</p>\n",
       "</div>"
      ],
      "text/plain": [
       "          occ_i     occ_j     Value\n",
       "0      HISCO410  HISCO744  0.087692\n",
       "1      HISCO410  HISCO896  0.080716\n",
       "2      HISCO744  HISCO896  0.093546\n",
       "3      HISCO410  HISCO779  0.071001\n",
       "4      HISCO744  HISCO779  0.079812\n",
       "...         ...       ...       ...\n",
       "29672  HISCO755  HISCO395  0.134695\n",
       "29673  HISCO641  HISCO395  0.130270\n",
       "29674  HISCO772  HISCO395  0.135554\n",
       "29675  HISCO815  HISCO395  0.069130\n",
       "29676  HISCO902  HISCO395  0.118733\n",
       "\n",
       "[29677 rows x 3 columns]"
      ]
     },
     "execution_count": 19,
     "metadata": {},
     "output_type": "execute_result"
    }
   ],
   "source": [
    "import os\n",
    "import pandas as pd\n",
    "import numpy as np\n",
    "\n",
    "# Assuming larger_index is already defined\n",
    "larger_index = occ_space.columns\n",
    "\n",
    "def read_intermediate_results(directory):\n",
    "    all_files = [os.path.join(directory, f) for f in os.listdir(directory) if f.endswith('.pkl')]\n",
    "    dataframes = [pd.read_pickle(file) for file in all_files]\n",
    "    return dataframes\n",
    "\n",
    "def combine_results(dataframes, larger_index):\n",
    "    final_matrix = pd.DataFrame([[[] for _ in range(len(larger_index))] for _ in range(len(larger_index))],\n",
    "                                index=larger_index, columns=larger_index)\n",
    "    \n",
    "    for df in dataframes:\n",
    "        for i in df.index:\n",
    "            for j in df.columns:\n",
    "                if isinstance(df.at[i, j], list):\n",
    "                    final_matrix.at[i, j].extend(df.at[i, j])\n",
    "                    final_matrix.at[j, i].extend(df.at[i, j])\n",
    "    # TO-DO: cuurent time complexity O(N * N), could reduce to (N * N /2) by storing visited indexes and columns and populating only the upper triangle\n",
    "    \n",
    "    return final_matrix\n",
    "\n",
    "def compute_mean_matrix(final_matrix):\n",
    "    mean_matrix = final_matrix.applymap(lambda x: np.mean(x) if x else 0)\n",
    "    return mean_matrix\n",
    "\n",
    "def post_process_mean_matrix(mean_matrix):\n",
    "    # Eliminate lower triangle\n",
    "    for i in range(mean_matrix.shape[0]):\n",
    "        for j in range(i + 1, mean_matrix.shape[1]):\n",
    "            mean_matrix.iat[j, i] = 0\n",
    "    \n",
    "    return mean_matrix\n",
    "\n",
    "def melt_to_long_table(matrix):\n",
    "    long_table = matrix.reset_index().melt(id_vars=['index'], var_name='Column', value_name='Value')\n",
    "    long_table = long_table[long_table['Value'] != 0].reset_index(drop = True).rename(columns = {'index': 'occ_i', 'Column':'occ_j'})  # Remove zero values if necessary\n",
    "    return long_table\n",
    "\n",
    "# Read the intermediate results\n",
    "# dataframes = read_intermediate_results(\"../int_data/occ_space_chunks\")\n",
    "\n",
    "# # Combine the results into the final matrix\n",
    "# final_matrix = combine_results(dataframes, larger_index)\n",
    "\n",
    "# # Compute the mean matrix\n",
    "# mean_matrix = compute_mean_matrix(final_matrix)\n",
    "\n",
    "# # Post-process to eliminate the lower triangle\n",
    "# mean_matrix = post_process_mean_matrix(mean_matrix)\n",
    "\n",
    "# Optional: Melt to long table\n",
    "long_table = melt_to_long_table(mean_matrix)\n",
    "\n",
    "# Print to verify the mean matrix\n",
    "print(mean_matrix)\n",
    "\n",
    "# Print to verify the long table\n",
    "long_table\n"
   ]
  },
  {
   "cell_type": "code",
   "execution_count": 27,
   "id": "3abb8fbf-8253-4eea-8359-31f8839e520a",
   "metadata": {},
   "outputs": [],
   "source": [
    "# mean_matrix.to_csv('../final_data/mean_matrix_245_245.csv', index = False)\n",
    "# long_table.to_csv('../final_data/long_table_29677.csv', index = False)"
   ]
  },
  {
   "cell_type": "code",
   "execution_count": 24,
   "id": "5dc6ac8d-1719-47d8-b1e6-5c1032283478",
   "metadata": {},
   "outputs": [],
   "source": [
    "# Check if the matrix is upper triangular\n",
    "is_upper_triangular = np.allclose(mean_matrix.values, np.triu(mean_matrix.values))\n",
    "\n",
    "# Print the result\n",
    "print(\"Is the matrix upper triangular?\", is_upper_triangular)\n",
    "mean_matrix\n",
    "# unique values and distribution\n",
    "long_table.occ_i.nunique(), long_table.occ_j.nunique(), long_table.Value.hist(bins = 100)"
   ]
  },
  {
   "cell_type": "code",
   "execution_count": 28,
   "id": "fb7b1540-7f64-4f21-911b-93fd1aa3ab5a",
   "metadata": {},
   "outputs": [
    {
     "data": {
      "image/png": "[encoded data removed]",
      "text/plain": [
       "<Figure size 1000x600 with 1 Axes>"
      ]
     },
     "metadata": {},
     "output_type": "display_data"
    },
    {
     "name": "stdout",
     "output_type": "stream",
     "text": [
      "Unique occ_i: 244\n",
      "Unique occ_j: 244\n",
      "Histogram saved as value_histogram.png\n"
     ]
    }
   ],
   "source": [
    "# .save(\"../figs_tabs/value_dist.png\")\n",
    "import pandas as pd\n",
    "import matplotlib.pyplot as plt\n",
    "\n",
    "# Assuming long_table is your DataFrame\n",
    "# Compute the unique counts\n",
    "occ_i_unique = long_table.occ_i.nunique()\n",
    "occ_j_unique = long_table.occ_j.nunique()\n",
    "\n",
    "# Plot and save the histogram for Value column\n",
    "plt.figure(figsize=(10, 6))\n",
    "plt.hist(long_table['Value'], bins=100, edgecolor='k')\n",
    "plt.title('Histogram of Values')\n",
    "plt.xlabel('Value')\n",
    "plt.ylabel('Frequency')\n",
    "plt.grid(True)\n",
    "plt.show()\n",
    "plt.savefig('../figs_tabs/value_dist.png')\n",
    "plt.close()\n",
    "\n",
    "\n",
    "print(f\"Unique occ_i: {occ_i_unique}\")\n",
    "print(f\"Unique occ_j: {occ_j_unique}\")\n",
    "print(\"Histogram saved as value_histogram.png\")\n"
   ]
  },
  {
   "cell_type": "code",
   "execution_count": 10,
   "id": "e2b88624-4515-4a43-8393-fad1523500c0",
   "metadata": {},
   "outputs": [
    {
     "name": "stdout",
     "output_type": "stream",
     "text": [
      "1189\n"
     ]
    }
   ],
   "source": [
    "!ls -lha ../int_data/occ_space_chunks/occ_space_chunk* | wc -l"
   ]
  },
  {
   "cell_type": "markdown",
   "id": "fe868a25-1350-4982-8088-156438effc8d",
   "metadata": {},
   "source": [
    "# Start (depcrecated)"
   ]
  },
  {
   "cell_type": "code",
   "execution_count": 27,
   "id": "b308b3ed-d618-4540-9716-82866b9c6247",
   "metadata": {},
   "outputs": [
    {
     "ename": "KeyboardInterrupt",
     "evalue": "",
     "output_type": "error",
     "traceback": [
      "\u001b[0;31m---------------------------------------------------------------------------\u001b[0m",
      "\u001b[0;31mKeyboardInterrupt\u001b[0m                         Traceback (most recent call last)",
      "File \u001b[0;32m<timed exec>:16\u001b[0m\n",
      "File \u001b[0;32m<timed exec>:16\u001b[0m, in \u001b[0;36m<listcomp>\u001b[0;34m(.0)\u001b[0m\n",
      "\u001b[0;31mKeyboardInterrupt\u001b[0m: "
     ]
    }
   ],
   "source": [
    "# %%time\n",
    "# # 14.1 s for 2000 * 2000\n",
    "# import numpy as np\n",
    "# import pandas as pd\n",
    "\n",
    "# # Number of unique i and j indices\n",
    "# n = 20000\n",
    "\n",
    "# # Generate random similarity values for the full matrix\n",
    "# values = np.random.rand(n, n)\n",
    "\n",
    "# # Create a DataFrame with all (i, j) pairs\n",
    "# data = {\n",
    "#     'i': np.repeat(np.arange(n), n),\n",
    "#     'j': np.tile(np.arange(n), n),\n",
    "#     'Value': values.flatten(),\n",
    "#     'patent_id_i': [f'GB{np.random.randint(100000000, 999999999)}' for _ in range(n*n)],\n",
    "#     'patent_id_j': [f'GB{np.random.randint(100000000, 999999999)}' for _ in range(n*n)]\n",
    "# }\n",
    "\n",
    "# df = pd.DataFrame(data)\n"
   ]
  },
  {
   "cell_type": "code",
   "execution_count": 18,
   "id": "1f92d197-1d42-47cb-8a28-b88561226c11",
   "metadata": {},
   "outputs": [
    {
     "ename": "NameError",
     "evalue": "name 'df' is not defined",
     "output_type": "error",
     "traceback": [
      "\u001b[0;31m---------------------------------------------------------------------------\u001b[0m",
      "\u001b[0;31mNameError\u001b[0m                                 Traceback (most recent call last)",
      "Cell \u001b[0;32mIn[18], line 3\u001b[0m\n\u001b[1;32m      1\u001b[0m \u001b[38;5;66;03m# %%time\u001b[39;00m\n\u001b[1;32m      2\u001b[0m \u001b[38;5;66;03m# # Convert to NumPy array\u001b[39;00m\n\u001b[0;32m----> 3\u001b[0m cosine_sim_long \u001b[38;5;241m=\u001b[39m df[[\u001b[38;5;124m'\u001b[39m\u001b[38;5;124mi\u001b[39m\u001b[38;5;124m'\u001b[39m, \u001b[38;5;124m'\u001b[39m\u001b[38;5;124mj\u001b[39m\u001b[38;5;124m'\u001b[39m, \u001b[38;5;124m'\u001b[39m\u001b[38;5;124mValue\u001b[39m\u001b[38;5;124m'\u001b[39m]]\u001b[38;5;241m.\u001b[39mto_numpy()\n",
      "\u001b[0;31mNameError\u001b[0m: name 'df' is not defined"
     ]
    }
   ],
   "source": [
    "# %%time\n",
    "# # Convert to NumPy array\n",
    "# cosine_sim_long = df[['i', 'j', 'Value']].to_numpy()"
   ]
  },
  {
   "cell_type": "code",
   "execution_count": 19,
   "id": "920ba3cb-119d-45ec-8dee-07fe2d610eab",
   "metadata": {},
   "outputs": [
    {
     "name": "stdout",
     "output_type": "stream",
     "text": [
      "CPU times: user 18.9 s, sys: 18.1 s, total: 37 s\n",
      "Wall time: 36.9 s\n"
     ]
    }
   ],
   "source": [
    "%%time\n",
    "# Convert to NumPy array\n",
    "cosine_sim_long = cosine_sim_long[['i', 'j', 'Value']].to_numpy()"
   ]
  },
  {
   "cell_type": "code",
   "execution_count": 20,
   "id": "8c311017-7ebb-45f2-a625-f1b562daf6da",
   "metadata": {},
   "outputs": [
    {
     "name": "stdout",
     "output_type": "stream",
     "text": [
      "[0] RAM Usage: 97111.00 MB\n",
      "CPU times: user 22.3 s, sys: 9.39 s, total: 31.7 s\n",
      "Wall time: 31.7 s\n"
     ]
    }
   ],
   "source": [
    "%%time\n",
    "\n",
    "# Get the upper triangle (i < j)\n",
    "upper = cosine_sim_long[cosine_sim_long[:, 0] < cosine_sim_long[:, 1]]\n",
    "\n",
    "# Get the lower triangle (i > j)\n",
    "lower = cosine_sim_long[cosine_sim_long[:, 0] > cosine_sim_long[:, 1]]\n",
    "\n",
    "# Flip i and j in the lower triangle\n",
    "lower_flipped = lower.copy()\n",
    "lower_flipped[:, [0, 1]] = lower_flipped[:, [1, 0]]\n",
    "print_ram_usage()"
   ]
  },
  {
   "cell_type": "code",
   "execution_count": 21,
   "id": "d80ed518-76fa-44f4-9dde-26e59badbbae",
   "metadata": {},
   "outputs": [
    {
     "name": "stdout",
     "output_type": "stream",
     "text": [
      "[0] RAM Usage: 108309.55 MB\n",
      "CPU times: user 4.22 s, sys: 5.54 s, total: 9.77 s\n",
      "Wall time: 9.73 s\n"
     ]
    }
   ],
   "source": [
    "%%time\n",
    "# Combine the triangles\n",
    "combined = np.concatenate((upper, lower_flipped), axis=0)\n",
    "\n",
    "# Sum the values of the combined triangles by (i, j)\n",
    "# Create a DataFrame for easier aggregation\n",
    "combined_df = pd.DataFrame(combined, columns=['i', 'j', 'Value'])\n",
    "print_ram_usage()\n"
   ]
  },
  {
   "cell_type": "code",
   "execution_count": 22,
   "id": "04233b9c-ae2d-4bfa-b1ac-0fe66c436a94",
   "metadata": {},
   "outputs": [
    {
     "data": {
      "text/plain": [
       "((244636140, 3), (244636140, 3))"
      ]
     },
     "execution_count": 22,
     "metadata": {},
     "output_type": "execute_result"
    }
   ],
   "source": [
    "upper.shape, lower.shape"
   ]
  },
  {
   "cell_type": "code",
   "execution_count": 23,
   "id": "2a6549c7-73e7-4777-86e1-283f0a8ea4f2",
   "metadata": {},
   "outputs": [
    {
     "name": "stdout",
     "output_type": "stream",
     "text": [
      "[0] RAM Usage: 121435.66 MB\n",
      "CPU times: user 3min 33s, sys: 24.2 s, total: 3min 57s\n",
      "Wall time: 3min 57s\n"
     ]
    },
    {
     "data": {
      "text/html": [
       "<div>\n",
       "<style scoped>\n",
       "    .dataframe tbody tr th:only-of-type {\n",
       "        vertical-align: middle;\n",
       "    }\n",
       "\n",
       "    .dataframe tbody tr th {\n",
       "        vertical-align: top;\n",
       "    }\n",
       "\n",
       "    .dataframe thead th {\n",
       "        text-align: right;\n",
       "    }\n",
       "</style>\n",
       "<table border=\"1\" class=\"dataframe\">\n",
       "  <thead>\n",
       "    <tr style=\"text-align: right;\">\n",
       "      <th></th>\n",
       "      <th>i</th>\n",
       "      <th>j</th>\n",
       "      <th>Value</th>\n",
       "    </tr>\n",
       "  </thead>\n",
       "  <tbody>\n",
       "    <tr>\n",
       "      <th>0</th>\n",
       "      <td>0</td>\n",
       "      <td>1</td>\n",
       "      <td>0.178727</td>\n",
       "    </tr>\n",
       "    <tr>\n",
       "      <th>1</th>\n",
       "      <td>0</td>\n",
       "      <td>2</td>\n",
       "      <td>0.398073</td>\n",
       "    </tr>\n",
       "    <tr>\n",
       "      <th>2</th>\n",
       "      <td>0</td>\n",
       "      <td>3</td>\n",
       "      <td>0.464152</td>\n",
       "    </tr>\n",
       "    <tr>\n",
       "      <th>3</th>\n",
       "      <td>0</td>\n",
       "      <td>4</td>\n",
       "      <td>0.103452</td>\n",
       "    </tr>\n",
       "    <tr>\n",
       "      <th>4</th>\n",
       "      <td>0</td>\n",
       "      <td>5</td>\n",
       "      <td>0.045775</td>\n",
       "    </tr>\n",
       "    <tr>\n",
       "      <th>...</th>\n",
       "      <td>...</td>\n",
       "      <td>...</td>\n",
       "      <td>...</td>\n",
       "    </tr>\n",
       "    <tr>\n",
       "      <th>244636135</th>\n",
       "      <td>22116</td>\n",
       "      <td>22118</td>\n",
       "      <td>0.389079</td>\n",
       "    </tr>\n",
       "    <tr>\n",
       "      <th>244636136</th>\n",
       "      <td>22116</td>\n",
       "      <td>22119</td>\n",
       "      <td>0.440638</td>\n",
       "    </tr>\n",
       "    <tr>\n",
       "      <th>244636137</th>\n",
       "      <td>22117</td>\n",
       "      <td>22118</td>\n",
       "      <td>0.452911</td>\n",
       "    </tr>\n",
       "    <tr>\n",
       "      <th>244636138</th>\n",
       "      <td>22117</td>\n",
       "      <td>22119</td>\n",
       "      <td>0.518816</td>\n",
       "    </tr>\n",
       "    <tr>\n",
       "      <th>244636139</th>\n",
       "      <td>22118</td>\n",
       "      <td>22119</td>\n",
       "      <td>0.400617</td>\n",
       "    </tr>\n",
       "  </tbody>\n",
       "</table>\n",
       "<p>244636140 rows × 3 columns</p>\n",
       "</div>"
      ],
      "text/plain": [
       "               i      j     Value\n",
       "0              0      1  0.178727\n",
       "1              0      2  0.398073\n",
       "2              0      3  0.464152\n",
       "3              0      4  0.103452\n",
       "4              0      5  0.045775\n",
       "...          ...    ...       ...\n",
       "244636135  22116  22118  0.389079\n",
       "244636136  22116  22119  0.440638\n",
       "244636137  22117  22118  0.452911\n",
       "244636138  22117  22119  0.518816\n",
       "244636139  22118  22119  0.400617\n",
       "\n",
       "[244636140 rows x 3 columns]"
      ]
     },
     "execution_count": 23,
     "metadata": {},
     "output_type": "execute_result"
    }
   ],
   "source": [
    "%%time\n",
    "\n",
    "# Group by (i, j) and sum the 'Value' column\n",
    "result_df = combined_df.groupby(['i', 'j'], as_index=False).sum()\n",
    "print_ram_usage()\n",
    "result_df"
   ]
  },
  {
   "cell_type": "code",
   "execution_count": 24,
   "id": "5f1dfb16-6edb-4b3f-9906-6fa4a6d06bde",
   "metadata": {},
   "outputs": [
    {
     "name": "stdout",
     "output_type": "stream",
     "text": [
      "[0] RAM Usage: 121435.66 MB\n"
     ]
    }
   ],
   "source": [
    "print_ram_usage()\n"
   ]
  },
  {
   "cell_type": "code",
   "execution_count": 25,
   "id": "b6d31a28-bf8b-48ac-a3aa-bc7d099c7422",
   "metadata": {},
   "outputs": [
    {
     "ename": "NameError",
     "evalue": "name 'n' is not defined",
     "output_type": "error",
     "traceback": [
      "\u001b[0;31m---------------------------------------------------------------------------\u001b[0m",
      "\u001b[0;31mNameError\u001b[0m                                 Traceback (most recent call last)",
      "Cell \u001b[0;32mIn[25], line 9\u001b[0m\n\u001b[1;32m      6\u001b[0m values \u001b[38;5;241m=\u001b[39m combined[:, \u001b[38;5;241m2\u001b[39m]\n\u001b[1;32m      8\u001b[0m \u001b[38;5;66;03m# Create an empty matrix for the summed values\u001b[39;00m\n\u001b[0;32m----> 9\u001b[0m summed_values \u001b[38;5;241m=\u001b[39m np\u001b[38;5;241m.\u001b[39mzeros((n, n))\n\u001b[1;32m     11\u001b[0m \u001b[38;5;66;03m# Sum the values into the matrix\u001b[39;00m\n\u001b[1;32m     12\u001b[0m \u001b[38;5;28;01mfor\u001b[39;00m k \u001b[38;5;129;01min\u001b[39;00m \u001b[38;5;28mrange\u001b[39m(combined\u001b[38;5;241m.\u001b[39mshape[\u001b[38;5;241m0\u001b[39m]):\n",
      "\u001b[0;31mNameError\u001b[0m: name 'n' is not defined"
     ]
    }
   ],
   "source": [
    "# Combine the triangles\n",
    "combined = np.vstack((upper, lower_flipped))\n",
    "\n",
    "# Using NumPy to sum values for (i, j) pairs efficiently\n",
    "ij = combined[:, :2].astype(int)\n",
    "values = combined[:, 2]\n",
    "\n",
    "# Create an empty matrix for the summed values\n",
    "summed_values = np.zeros((n, n))\n",
    "\n",
    "# Sum the values into the matrix\n",
    "for k in range(combined.shape[0]):\n",
    "    i, j = ij[k]\n",
    "    summed_values[i, j] += values[k]\n",
    "\n",
    "# Convert the matrix to a DataFrame if needed\n",
    "result_df = pd.DataFrame(summed_values)\n",
    "\n",
    "# Display the result\n",
    "print(result_df)"
   ]
  },
  {
   "cell_type": "code",
   "execution_count": null,
   "id": "f6356fbf-d70b-43d0-9b96-f9b5974f991c",
   "metadata": {},
   "outputs": [],
   "source": [
    "# import pickle\n",
    "\n",
    "# with open('../int_data/result_df.pkl','wb') as f:\n",
    "#     pickle.dump(result_df, f)"
   ]
  },
  {
   "cell_type": "code",
   "execution_count": null,
   "id": "534189a1-311d-4857-b29e-8dfaf38ae60a",
   "metadata": {},
   "outputs": [],
   "source": [
    "import pickle\n",
    "\n",
    "with open('../int_data/result_df.pkl','rb') as f:\n",
    "    result_df = pickle.load(f)"
   ]
  },
  {
   "cell_type": "code",
   "execution_count": 26,
   "id": "2cf8345a-3b2c-479c-8c9a-bdb9013826e7",
   "metadata": {},
   "outputs": [
    {
     "data": {
      "text/html": [
       "<div>\n",
       "<style scoped>\n",
       "    .dataframe tbody tr th:only-of-type {\n",
       "        vertical-align: middle;\n",
       "    }\n",
       "\n",
       "    .dataframe tbody tr th {\n",
       "        vertical-align: top;\n",
       "    }\n",
       "\n",
       "    .dataframe thead th {\n",
       "        text-align: right;\n",
       "    }\n",
       "</style>\n",
       "<table border=\"1\" class=\"dataframe\">\n",
       "  <thead>\n",
       "    <tr style=\"text-align: right;\">\n",
       "      <th></th>\n",
       "      <th>i</th>\n",
       "      <th>j</th>\n",
       "      <th>Value</th>\n",
       "    </tr>\n",
       "  </thead>\n",
       "  <tbody>\n",
       "    <tr>\n",
       "      <th>0</th>\n",
       "      <td>0</td>\n",
       "      <td>1</td>\n",
       "      <td>0.178727</td>\n",
       "    </tr>\n",
       "    <tr>\n",
       "      <th>1</th>\n",
       "      <td>0</td>\n",
       "      <td>2</td>\n",
       "      <td>0.398073</td>\n",
       "    </tr>\n",
       "    <tr>\n",
       "      <th>2</th>\n",
       "      <td>0</td>\n",
       "      <td>3</td>\n",
       "      <td>0.464152</td>\n",
       "    </tr>\n",
       "    <tr>\n",
       "      <th>3</th>\n",
       "      <td>0</td>\n",
       "      <td>4</td>\n",
       "      <td>0.103452</td>\n",
       "    </tr>\n",
       "    <tr>\n",
       "      <th>4</th>\n",
       "      <td>0</td>\n",
       "      <td>5</td>\n",
       "      <td>0.045775</td>\n",
       "    </tr>\n",
       "    <tr>\n",
       "      <th>...</th>\n",
       "      <td>...</td>\n",
       "      <td>...</td>\n",
       "      <td>...</td>\n",
       "    </tr>\n",
       "    <tr>\n",
       "      <th>244636135</th>\n",
       "      <td>22116</td>\n",
       "      <td>22118</td>\n",
       "      <td>0.389079</td>\n",
       "    </tr>\n",
       "    <tr>\n",
       "      <th>244636136</th>\n",
       "      <td>22116</td>\n",
       "      <td>22119</td>\n",
       "      <td>0.440638</td>\n",
       "    </tr>\n",
       "    <tr>\n",
       "      <th>244636137</th>\n",
       "      <td>22117</td>\n",
       "      <td>22118</td>\n",
       "      <td>0.452911</td>\n",
       "    </tr>\n",
       "    <tr>\n",
       "      <th>244636138</th>\n",
       "      <td>22117</td>\n",
       "      <td>22119</td>\n",
       "      <td>0.518816</td>\n",
       "    </tr>\n",
       "    <tr>\n",
       "      <th>244636139</th>\n",
       "      <td>22118</td>\n",
       "      <td>22119</td>\n",
       "      <td>0.400617</td>\n",
       "    </tr>\n",
       "  </tbody>\n",
       "</table>\n",
       "<p>244636140 rows × 3 columns</p>\n",
       "</div>"
      ],
      "text/plain": [
       "               i      j     Value\n",
       "0              0      1  0.178727\n",
       "1              0      2  0.398073\n",
       "2              0      3  0.464152\n",
       "3              0      4  0.103452\n",
       "4              0      5  0.045775\n",
       "...          ...    ...       ...\n",
       "244636135  22116  22118  0.389079\n",
       "244636136  22116  22119  0.440638\n",
       "244636137  22117  22118  0.452911\n",
       "244636138  22117  22119  0.518816\n",
       "244636139  22118  22119  0.400617\n",
       "\n",
       "[244636140 rows x 3 columns]"
      ]
     },
     "execution_count": 26,
     "metadata": {},
     "output_type": "execute_result"
    }
   ],
   "source": [
    "result_df"
   ]
  },
  {
   "cell_type": "code",
   "execution_count": 9,
   "id": "ea5fcb1c-7281-4eaa-b714-54b1357737df",
   "metadata": {},
   "outputs": [
    {
     "name": "stdout",
     "output_type": "stream",
     "text": [
      "[0] RAM Usage: 11325.62 MB\n"
     ]
    },
    {
     "name": "stderr",
     "output_type": "stream",
     "text": [
      "\n",
      "KeyboardInterrupt\n",
      "\n"
     ]
    }
   ],
   "source": [
    "%%time\n",
    "print_ram_usage()\n",
    "\n",
    "result_df['patent_id_i'] = result_df['i'].apply(lambda x:tab_i[x])\n",
    "print_ram_usage()\n",
    "\n",
    "result_df['patent_id_j'] = result_df['j'].apply(lambda x:tab_j[x])\n",
    "print_ram_usage()\n",
    "\n",
    "# result_df = pd.merge(left = result_df, right = cosine_sim_long[['j', 'patent_id_j']], left_on = 'j', right_on = 'j')"
   ]
  },
  {
   "cell_type": "code",
   "execution_count": 47,
   "id": "146c339e-e42f-41fd-8a84-05b87ec93af4",
   "metadata": {},
   "outputs": [
    {
     "data": {
      "text/plain": [
       "(i              object\n",
       " j              object\n",
       " Value          object\n",
       " patent_id_i    object\n",
       " patent_id_j    object\n",
       " dtype: object,\n",
       " float)"
      ]
     },
     "execution_count": 47,
     "metadata": {},
     "output_type": "execute_result"
    }
   ],
   "source": [
    "result_df.dtypes, type(result_df.Value.iloc[0])"
   ]
  },
  {
   "cell_type": "code",
   "execution_count": 51,
   "id": "d04cf6f3-3e7f-451e-9a82-3b42dff335fb",
   "metadata": {},
   "outputs": [
    {
     "data": {
      "text/plain": [
       "(0, 0)"
      ]
     },
     "execution_count": 51,
     "metadata": {},
     "output_type": "execute_result"
    }
   ],
   "source": [
    "result_df.patent_id_i.isnull().sum(), result_df.patent_id_j.isnull().sum()"
   ]
  },
  {
   "cell_type": "code",
   "execution_count": 48,
   "id": "e32eee06-0ab6-4c8f-be2e-0025dcb9da97",
   "metadata": {},
   "outputs": [],
   "source": [
    "# result_df.to_csv('../final_data/result_22120.csv', index = False)"
   ]
  },
  {
   "cell_type": "code",
   "execution_count": null,
   "id": "372635ca-62fa-4e18-afb1-8dd7179f243b",
   "metadata": {},
   "outputs": [],
   "source": []
  },
  {
   "cell_type": "markdown",
   "id": "cf0fe522-e7c4-4a54-8d08-26ac0c7ad31c",
   "metadata": {},
   "source": [
    "# Aggregation on occupation"
   ]
  },
  {
   "cell_type": "code",
   "execution_count": 2,
   "id": "5d2ca8e3-0b7f-4556-b893-8237731b1744",
   "metadata": {},
   "outputs": [],
   "source": [
    "import pandas as pd\n",
    "# result_df = pd.read_csv('../final_data/result_22120.csv')\n",
    "result_df = pd.read_feather('../final_data/result_22120.feather')"
   ]
  },
  {
   "cell_type": "code",
   "execution_count": 3,
   "id": "e7cf8234-1a79-4538-9dfa-40f93be7b62c",
   "metadata": {},
   "outputs": [
    {
     "data": {
      "text/html": [
       "<div>\n",
       "<style scoped>\n",
       "    .dataframe tbody tr th:only-of-type {\n",
       "        vertical-align: middle;\n",
       "    }\n",
       "\n",
       "    .dataframe tbody tr th {\n",
       "        vertical-align: top;\n",
       "    }\n",
       "\n",
       "    .dataframe thead th {\n",
       "        text-align: right;\n",
       "    }\n",
       "</style>\n",
       "<table border=\"1\" class=\"dataframe\">\n",
       "  <thead>\n",
       "    <tr style=\"text-align: right;\">\n",
       "      <th></th>\n",
       "      <th>i</th>\n",
       "      <th>j</th>\n",
       "      <th>Value</th>\n",
       "      <th>patent_id_i</th>\n",
       "      <th>patent_id_j</th>\n",
       "    </tr>\n",
       "  </thead>\n",
       "  <tbody>\n",
       "    <tr>\n",
       "      <th>0</th>\n",
       "      <td>0</td>\n",
       "      <td>1</td>\n",
       "      <td>0.178727</td>\n",
       "      <td>GB187303416</td>\n",
       "      <td>GB187600824</td>\n",
       "    </tr>\n",
       "    <tr>\n",
       "      <th>1</th>\n",
       "      <td>0</td>\n",
       "      <td>2</td>\n",
       "      <td>0.398073</td>\n",
       "      <td>GB187303416</td>\n",
       "      <td>GB187601544</td>\n",
       "    </tr>\n",
       "    <tr>\n",
       "      <th>2</th>\n",
       "      <td>0</td>\n",
       "      <td>3</td>\n",
       "      <td>0.464152</td>\n",
       "      <td>GB187303416</td>\n",
       "      <td>GB188204200</td>\n",
       "    </tr>\n",
       "    <tr>\n",
       "      <th>3</th>\n",
       "      <td>0</td>\n",
       "      <td>4</td>\n",
       "      <td>0.103452</td>\n",
       "      <td>GB187303416</td>\n",
       "      <td>GB188803213</td>\n",
       "    </tr>\n",
       "    <tr>\n",
       "      <th>4</th>\n",
       "      <td>0</td>\n",
       "      <td>5</td>\n",
       "      <td>0.045775</td>\n",
       "      <td>GB187303416</td>\n",
       "      <td>GB188905132</td>\n",
       "    </tr>\n",
       "    <tr>\n",
       "      <th>...</th>\n",
       "      <td>...</td>\n",
       "      <td>...</td>\n",
       "      <td>...</td>\n",
       "      <td>...</td>\n",
       "      <td>...</td>\n",
       "    </tr>\n",
       "    <tr>\n",
       "      <th>244636135</th>\n",
       "      <td>22116</td>\n",
       "      <td>22118</td>\n",
       "      <td>0.389079</td>\n",
       "      <td>GB191213037</td>\n",
       "      <td>GB191217939</td>\n",
       "    </tr>\n",
       "    <tr>\n",
       "      <th>244636136</th>\n",
       "      <td>22116</td>\n",
       "      <td>22119</td>\n",
       "      <td>0.440638</td>\n",
       "      <td>GB191213037</td>\n",
       "      <td>GB191220302</td>\n",
       "    </tr>\n",
       "    <tr>\n",
       "      <th>244636137</th>\n",
       "      <td>22117</td>\n",
       "      <td>22118</td>\n",
       "      <td>0.452911</td>\n",
       "      <td>GB191213039</td>\n",
       "      <td>GB191217939</td>\n",
       "    </tr>\n",
       "    <tr>\n",
       "      <th>244636138</th>\n",
       "      <td>22117</td>\n",
       "      <td>22119</td>\n",
       "      <td>0.518816</td>\n",
       "      <td>GB191213039</td>\n",
       "      <td>GB191220302</td>\n",
       "    </tr>\n",
       "    <tr>\n",
       "      <th>244636139</th>\n",
       "      <td>22118</td>\n",
       "      <td>22119</td>\n",
       "      <td>0.400617</td>\n",
       "      <td>GB191217939</td>\n",
       "      <td>GB191220302</td>\n",
       "    </tr>\n",
       "  </tbody>\n",
       "</table>\n",
       "<p>244636140 rows × 5 columns</p>\n",
       "</div>"
      ],
      "text/plain": [
       "               i      j     Value  patent_id_i  patent_id_j\n",
       "0              0      1  0.178727  GB187303416  GB187600824\n",
       "1              0      2  0.398073  GB187303416  GB187601544\n",
       "2              0      3  0.464152  GB187303416  GB188204200\n",
       "3              0      4  0.103452  GB187303416  GB188803213\n",
       "4              0      5  0.045775  GB187303416  GB188905132\n",
       "...          ...    ...       ...          ...          ...\n",
       "244636135  22116  22118  0.389079  GB191213037  GB191217939\n",
       "244636136  22116  22119  0.440638  GB191213037  GB191220302\n",
       "244636137  22117  22118  0.452911  GB191213039  GB191217939\n",
       "244636138  22117  22119  0.518816  GB191213039  GB191220302\n",
       "244636139  22118  22119  0.400617  GB191217939  GB191220302\n",
       "\n",
       "[244636140 rows x 5 columns]"
      ]
     },
     "execution_count": 3,
     "metadata": {},
     "output_type": "execute_result"
    }
   ],
   "source": [
    "result_df"
   ]
  },
  {
   "cell_type": "markdown",
   "id": "e44e2bb6-92bd-4d9f-9483-949809332c82",
   "metadata": {},
   "source": [
    "## Exploding Input_patent_matrix to get OCC_SPACE (unique non-na occs)"
   ]
  },
  {
   "cell_type": "code",
   "execution_count": 4,
   "id": "021e8f1a-6bfa-4118-820a-8aa8d847adb5",
   "metadata": {},
   "outputs": [],
   "source": [
    "data = pd.read_csv('../int_data/Input_patent_matrix.csv')\n",
    "data['strcount'] = data['description'].str.split().str.len()\n",
    "# Filter the data based on the word count\n",
    "# Too long or too short patents are filtered\n",
    "data = data[(data['strcount'] > 10) & (data['strcount'] <= 500)].reset_index(drop = True)\n",
    "data = data[['i', 'occupation.x']].rename(columns = {\"occupation.x\":\"census_occupation\"})\n",
    "\n",
    "# str -> list\n",
    "data_explode_pre = data\n",
    "import re\n",
    "# To split a string by both \", \" and \"; \"\n",
    "\n",
    "data_explode_pre.census_occupation = data_explode_pre.census_occupation.apply(lambda x: re.split(r', |; ', x.strip().strip(',')))\n",
    "# data_explode_pre.census_occupation = data_explode_pre.census_occupation.apply(lambda x:x.strip().strip(',').split(', '))"
   ]
  },
  {
   "cell_type": "code",
   "execution_count": 5,
   "id": "3a9c0d2c-f1b0-4b7f-a286-2757c8167890",
   "metadata": {},
   "outputs": [
    {
     "data": {
      "text/html": [
       "<div>\n",
       "<style scoped>\n",
       "    .dataframe tbody tr th:only-of-type {\n",
       "        vertical-align: middle;\n",
       "    }\n",
       "\n",
       "    .dataframe tbody tr th {\n",
       "        vertical-align: top;\n",
       "    }\n",
       "\n",
       "    .dataframe thead th {\n",
       "        text-align: right;\n",
       "    }\n",
       "</style>\n",
       "<table border=\"1\" class=\"dataframe\">\n",
       "  <thead>\n",
       "    <tr style=\"text-align: right;\">\n",
       "      <th></th>\n",
       "      <th>i</th>\n",
       "      <th>census_occupation</th>\n",
       "    </tr>\n",
       "  </thead>\n",
       "  <tbody>\n",
       "    <tr>\n",
       "      <th>0</th>\n",
       "      <td>GB187303416</td>\n",
       "      <td>[HISCO410, HISCO744, HISCO896]</td>\n",
       "    </tr>\n",
       "    <tr>\n",
       "      <th>1</th>\n",
       "      <td>GB187600824</td>\n",
       "      <td>[HISCO779, HISCO951, HISCO813, HISCO896, HISCO...</td>\n",
       "    </tr>\n",
       "    <tr>\n",
       "      <th>2</th>\n",
       "      <td>GB187601544</td>\n",
       "      <td>[HISCO999, HISCO974, HISCO90, HISCO24, HISCO90...</td>\n",
       "    </tr>\n",
       "    <tr>\n",
       "      <th>3</th>\n",
       "      <td>GB188204200</td>\n",
       "      <td>[HISCO949, HISCO443, HISCO161, HISCO799, HISCO...</td>\n",
       "    </tr>\n",
       "    <tr>\n",
       "      <th>4</th>\n",
       "      <td>GB188803213</td>\n",
       "      <td>[HISCO777]</td>\n",
       "    </tr>\n",
       "    <tr>\n",
       "      <th>...</th>\n",
       "      <td>...</td>\n",
       "      <td>...</td>\n",
       "    </tr>\n",
       "    <tr>\n",
       "      <th>22115</th>\n",
       "      <td>GB191211210</td>\n",
       "      <td>[NA]</td>\n",
       "    </tr>\n",
       "    <tr>\n",
       "      <th>22116</th>\n",
       "      <td>GB191213037</td>\n",
       "      <td>[HISCO333, HISCO999, HISCO999, HISCO33, HISCO333]</td>\n",
       "    </tr>\n",
       "    <tr>\n",
       "      <th>22117</th>\n",
       "      <td>GB191213039</td>\n",
       "      <td>[HISCO333, HISCO999, HISCO999, HISCO33, HISCO333]</td>\n",
       "    </tr>\n",
       "    <tr>\n",
       "      <th>22118</th>\n",
       "      <td>GB191217939</td>\n",
       "      <td>[HISCO333, HISCO999, HISCO999, HISCO33, HISCO333]</td>\n",
       "    </tr>\n",
       "    <tr>\n",
       "      <th>22119</th>\n",
       "      <td>GB191220302</td>\n",
       "      <td>[HISCO21, HISCO210]</td>\n",
       "    </tr>\n",
       "  </tbody>\n",
       "</table>\n",
       "<p>22120 rows × 2 columns</p>\n",
       "</div>"
      ],
      "text/plain": [
       "                 i                                  census_occupation\n",
       "0      GB187303416                     [HISCO410, HISCO744, HISCO896]\n",
       "1      GB187600824  [HISCO779, HISCO951, HISCO813, HISCO896, HISCO...\n",
       "2      GB187601544  [HISCO999, HISCO974, HISCO90, HISCO24, HISCO90...\n",
       "3      GB188204200  [HISCO949, HISCO443, HISCO161, HISCO799, HISCO...\n",
       "4      GB188803213                                         [HISCO777]\n",
       "...            ...                                                ...\n",
       "22115  GB191211210                                               [NA]\n",
       "22116  GB191213037  [HISCO333, HISCO999, HISCO999, HISCO33, HISCO333]\n",
       "22117  GB191213039  [HISCO333, HISCO999, HISCO999, HISCO33, HISCO333]\n",
       "22118  GB191217939  [HISCO333, HISCO999, HISCO999, HISCO33, HISCO333]\n",
       "22119  GB191220302                                [HISCO21, HISCO210]\n",
       "\n",
       "[22120 rows x 2 columns]"
      ]
     },
     "execution_count": 5,
     "metadata": {},
     "output_type": "execute_result"
    }
   ],
   "source": [
    "data_explode_pre"
   ]
  },
  {
   "cell_type": "code",
   "execution_count": 6,
   "id": "a5200332-7d27-48b5-add8-183f7c6490eb",
   "metadata": {},
   "outputs": [
    {
     "data": {
      "text/plain": [
       "'HISCO410'"
      ]
     },
     "execution_count": 6,
     "metadata": {},
     "output_type": "execute_result"
    }
   ],
   "source": [
    "data_explode_pre.census_occupation[0][0]"
   ]
  },
  {
   "cell_type": "code",
   "execution_count": 7,
   "id": "8e9f39a2-e530-4989-88a0-7501ed0719f0",
   "metadata": {},
   "outputs": [
    {
     "data": {
      "text/html": [
       "<div>\n",
       "<style scoped>\n",
       "    .dataframe tbody tr th:only-of-type {\n",
       "        vertical-align: middle;\n",
       "    }\n",
       "\n",
       "    .dataframe tbody tr th {\n",
       "        vertical-align: top;\n",
       "    }\n",
       "\n",
       "    .dataframe thead th {\n",
       "        text-align: right;\n",
       "    }\n",
       "</style>\n",
       "<table border=\"1\" class=\"dataframe\">\n",
       "  <thead>\n",
       "    <tr style=\"text-align: right;\">\n",
       "      <th></th>\n",
       "      <th>i</th>\n",
       "      <th>census_occupation</th>\n",
       "    </tr>\n",
       "  </thead>\n",
       "  <tbody>\n",
       "    <tr>\n",
       "      <th>0</th>\n",
       "      <td>GB187303416</td>\n",
       "      <td>HISCO410</td>\n",
       "    </tr>\n",
       "    <tr>\n",
       "      <th>1</th>\n",
       "      <td>GB187303416</td>\n",
       "      <td>HISCO744</td>\n",
       "    </tr>\n",
       "    <tr>\n",
       "      <th>2</th>\n",
       "      <td>GB187303416</td>\n",
       "      <td>HISCO896</td>\n",
       "    </tr>\n",
       "    <tr>\n",
       "      <th>3</th>\n",
       "      <td>GB187600824</td>\n",
       "      <td>HISCO779</td>\n",
       "    </tr>\n",
       "    <tr>\n",
       "      <th>4</th>\n",
       "      <td>GB187600824</td>\n",
       "      <td>HISCO951</td>\n",
       "    </tr>\n",
       "    <tr>\n",
       "      <th>...</th>\n",
       "      <td>...</td>\n",
       "      <td>...</td>\n",
       "    </tr>\n",
       "    <tr>\n",
       "      <th>82481</th>\n",
       "      <td>GB191217939</td>\n",
       "      <td>HISCO999</td>\n",
       "    </tr>\n",
       "    <tr>\n",
       "      <th>82482</th>\n",
       "      <td>GB191217939</td>\n",
       "      <td>HISCO33</td>\n",
       "    </tr>\n",
       "    <tr>\n",
       "      <th>82483</th>\n",
       "      <td>GB191217939</td>\n",
       "      <td>HISCO333</td>\n",
       "    </tr>\n",
       "    <tr>\n",
       "      <th>82484</th>\n",
       "      <td>GB191220302</td>\n",
       "      <td>HISCO21</td>\n",
       "    </tr>\n",
       "    <tr>\n",
       "      <th>82485</th>\n",
       "      <td>GB191220302</td>\n",
       "      <td>HISCO210</td>\n",
       "    </tr>\n",
       "  </tbody>\n",
       "</table>\n",
       "<p>82486 rows × 2 columns</p>\n",
       "</div>"
      ],
      "text/plain": [
       "                 i census_occupation\n",
       "0      GB187303416          HISCO410\n",
       "1      GB187303416          HISCO744\n",
       "2      GB187303416          HISCO896\n",
       "3      GB187600824          HISCO779\n",
       "4      GB187600824          HISCO951\n",
       "...            ...               ...\n",
       "82481  GB191217939          HISCO999\n",
       "82482  GB191217939           HISCO33\n",
       "82483  GB191217939          HISCO333\n",
       "82484  GB191220302           HISCO21\n",
       "82485  GB191220302          HISCO210\n",
       "\n",
       "[82486 rows x 2 columns]"
      ]
     },
     "execution_count": 7,
     "metadata": {},
     "output_type": "execute_result"
    }
   ],
   "source": [
    "data_exploded = data_explode_pre.explode('census_occupation').reset_index(drop = True)\n",
    "data_exploded"
   ]
  },
  {
   "cell_type": "code",
   "execution_count": 8,
   "id": "01dab01d-25a5-49f4-95b7-62038b30cc9d",
   "metadata": {},
   "outputs": [
    {
     "data": {
      "text/html": [
       "<div>\n",
       "<style scoped>\n",
       "    .dataframe tbody tr th:only-of-type {\n",
       "        vertical-align: middle;\n",
       "    }\n",
       "\n",
       "    .dataframe tbody tr th {\n",
       "        vertical-align: top;\n",
       "    }\n",
       "\n",
       "    .dataframe thead th {\n",
       "        text-align: right;\n",
       "    }\n",
       "</style>\n",
       "<table border=\"1\" class=\"dataframe\">\n",
       "  <thead>\n",
       "    <tr style=\"text-align: right;\">\n",
       "      <th></th>\n",
       "      <th>i</th>\n",
       "      <th>census_occupation</th>\n",
       "    </tr>\n",
       "  </thead>\n",
       "  <tbody>\n",
       "    <tr>\n",
       "      <th>0</th>\n",
       "      <td>GB187303416</td>\n",
       "      <td>HISCO410</td>\n",
       "    </tr>\n",
       "    <tr>\n",
       "      <th>1</th>\n",
       "      <td>GB187303416</td>\n",
       "      <td>HISCO744</td>\n",
       "    </tr>\n",
       "    <tr>\n",
       "      <th>2</th>\n",
       "      <td>GB187303416</td>\n",
       "      <td>HISCO896</td>\n",
       "    </tr>\n",
       "    <tr>\n",
       "      <th>3</th>\n",
       "      <td>GB187600824</td>\n",
       "      <td>HISCO779</td>\n",
       "    </tr>\n",
       "    <tr>\n",
       "      <th>4</th>\n",
       "      <td>GB187600824</td>\n",
       "      <td>HISCO951</td>\n",
       "    </tr>\n",
       "    <tr>\n",
       "      <th>...</th>\n",
       "      <td>...</td>\n",
       "      <td>...</td>\n",
       "    </tr>\n",
       "    <tr>\n",
       "      <th>75038</th>\n",
       "      <td>GB191217939</td>\n",
       "      <td>HISCO999</td>\n",
       "    </tr>\n",
       "    <tr>\n",
       "      <th>75039</th>\n",
       "      <td>GB191217939</td>\n",
       "      <td>HISCO33</td>\n",
       "    </tr>\n",
       "    <tr>\n",
       "      <th>75040</th>\n",
       "      <td>GB191217939</td>\n",
       "      <td>HISCO333</td>\n",
       "    </tr>\n",
       "    <tr>\n",
       "      <th>75041</th>\n",
       "      <td>GB191220302</td>\n",
       "      <td>HISCO21</td>\n",
       "    </tr>\n",
       "    <tr>\n",
       "      <th>75042</th>\n",
       "      <td>GB191220302</td>\n",
       "      <td>HISCO210</td>\n",
       "    </tr>\n",
       "  </tbody>\n",
       "</table>\n",
       "<p>75043 rows × 2 columns</p>\n",
       "</div>"
      ],
      "text/plain": [
       "                 i census_occupation\n",
       "0      GB187303416          HISCO410\n",
       "1      GB187303416          HISCO744\n",
       "2      GB187303416          HISCO896\n",
       "3      GB187600824          HISCO779\n",
       "4      GB187600824          HISCO951\n",
       "...            ...               ...\n",
       "75038  GB191217939          HISCO999\n",
       "75039  GB191217939           HISCO33\n",
       "75040  GB191217939          HISCO333\n",
       "75041  GB191220302           HISCO21\n",
       "75042  GB191220302          HISCO210\n",
       "\n",
       "[75043 rows x 2 columns]"
      ]
     },
     "execution_count": 8,
     "metadata": {},
     "output_type": "execute_result"
    }
   ],
   "source": [
    "data_exploded = data_exploded[data_exploded.census_occupation != 'NA'].reset_index(drop = True)\n",
    "data_exploded"
   ]
  },
  {
   "cell_type": "code",
   "execution_count": 9,
   "id": "2410828f-ec96-414a-b3d5-a8fbd73d12e3",
   "metadata": {},
   "outputs": [],
   "source": [
    "# data_exploded.census_occupation.nunique(), data_exploded.i.nunique(), data_exploded.census_occupation.count_values()"
   ]
  },
  {
   "cell_type": "code",
   "execution_count": 10,
   "id": "2e991203-3ad4-4e6d-bf28-26d8ce918338",
   "metadata": {},
   "outputs": [
    {
     "name": "stderr",
     "output_type": "stream",
     "text": [
      "/tmp/ipykernel_12628/166653217.py:2: UserWarning: Pandas doesn't allow columns to be created via a new attribute name - see https://pandas.pydata.org/pandas-docs/stable/indexing.html#attribute-access\n",
      "  data_exploded.len_census_occupation = data_exploded.census_occupation.apply(len)\n"
     ]
    },
    {
     "data": {
      "text/plain": [
       "census_occupation\n",
       "8    58260\n",
       "7    16783\n",
       "Name: count, dtype: int64"
      ]
     },
     "execution_count": 10,
     "metadata": {},
     "output_type": "execute_result"
    }
   ],
   "source": [
    "# All levels exploded?\n",
    "data_exploded.len_census_occupation = data_exploded.census_occupation.apply(len)\n",
    "data_exploded.len_census_occupation.value_counts()\n",
    "# correct"
   ]
  },
  {
   "cell_type": "markdown",
   "id": "38f2cde6-0fae-4cda-a24a-68a769b5166d",
   "metadata": {},
   "source": [
    "## create dictionary for looking up"
   ]
  },
  {
   "cell_type": "code",
   "execution_count": 98,
   "id": "a396eb7d-6dfd-4fe7-931f-8f834cae5de2",
   "metadata": {},
   "outputs": [],
   "source": [
    "# data_exploded.groupby('census_occupation').agg(lambda x:list(x))\n"
   ]
  },
  {
   "cell_type": "markdown",
   "id": "35e2854a-aefc-4407-bc27-3698fea7176c",
   "metadata": {},
   "source": [
    "## Aggregation"
   ]
  },
  {
   "cell_type": "code",
   "execution_count": 10,
   "id": "49e8a175-c803-4bec-8184-46264788ed38",
   "metadata": {},
   "outputs": [
    {
     "data": {
      "text/html": [
       "<div>\n",
       "<style scoped>\n",
       "    .dataframe tbody tr th:only-of-type {\n",
       "        vertical-align: middle;\n",
       "    }\n",
       "\n",
       "    .dataframe tbody tr th {\n",
       "        vertical-align: top;\n",
       "    }\n",
       "\n",
       "    .dataframe thead th {\n",
       "        text-align: right;\n",
       "    }\n",
       "</style>\n",
       "<table border=\"1\" class=\"dataframe\">\n",
       "  <thead>\n",
       "    <tr style=\"text-align: right;\">\n",
       "      <th></th>\n",
       "      <th>i</th>\n",
       "      <th>census_occupation</th>\n",
       "    </tr>\n",
       "  </thead>\n",
       "  <tbody>\n",
       "    <tr>\n",
       "      <th>0</th>\n",
       "      <td>GB187303416</td>\n",
       "      <td>[HISCO410, HISCO744, HISCO896]</td>\n",
       "    </tr>\n",
       "    <tr>\n",
       "      <th>1</th>\n",
       "      <td>GB187600824</td>\n",
       "      <td>[HISCO779, HISCO951, HISCO813, HISCO896, HISCO...</td>\n",
       "    </tr>\n",
       "    <tr>\n",
       "      <th>2</th>\n",
       "      <td>GB187601544</td>\n",
       "      <td>[HISCO999, HISCO974, HISCO90, HISCO24, HISCO90...</td>\n",
       "    </tr>\n",
       "    <tr>\n",
       "      <th>3</th>\n",
       "      <td>GB187901073</td>\n",
       "      <td>[HISCO410, HISCO80, HISCO744, HISCO999, HISCO8...</td>\n",
       "    </tr>\n",
       "    <tr>\n",
       "      <th>4</th>\n",
       "      <td>GB187901073</td>\n",
       "      <td>[HISCO410, HISCO80, HISCO744, HISCO999, HISCO8...</td>\n",
       "    </tr>\n",
       "    <tr>\n",
       "      <th>...</th>\n",
       "      <td>...</td>\n",
       "      <td>...</td>\n",
       "    </tr>\n",
       "    <tr>\n",
       "      <th>22139</th>\n",
       "      <td>GB191211210</td>\n",
       "      <td>[NA]</td>\n",
       "    </tr>\n",
       "    <tr>\n",
       "      <th>22140</th>\n",
       "      <td>GB191213037</td>\n",
       "      <td>[HISCO333, HISCO999, HISCO999, HISCO33, HISCO333]</td>\n",
       "    </tr>\n",
       "    <tr>\n",
       "      <th>22141</th>\n",
       "      <td>GB191213039</td>\n",
       "      <td>[HISCO333, HISCO999, HISCO999, HISCO33, HISCO333]</td>\n",
       "    </tr>\n",
       "    <tr>\n",
       "      <th>22142</th>\n",
       "      <td>GB191217939</td>\n",
       "      <td>[HISCO333, HISCO999, HISCO999, HISCO33, HISCO333]</td>\n",
       "    </tr>\n",
       "    <tr>\n",
       "      <th>22143</th>\n",
       "      <td>GB191220302</td>\n",
       "      <td>[HISCO21, HISCO210]</td>\n",
       "    </tr>\n",
       "  </tbody>\n",
       "</table>\n",
       "<p>22144 rows × 2 columns</p>\n",
       "</div>"
      ],
      "text/plain": [
       "                 i                                  census_occupation\n",
       "0      GB187303416                     [HISCO410, HISCO744, HISCO896]\n",
       "1      GB187600824  [HISCO779, HISCO951, HISCO813, HISCO896, HISCO...\n",
       "2      GB187601544  [HISCO999, HISCO974, HISCO90, HISCO24, HISCO90...\n",
       "3      GB187901073  [HISCO410, HISCO80, HISCO744, HISCO999, HISCO8...\n",
       "4      GB187901073  [HISCO410, HISCO80, HISCO744, HISCO999, HISCO8...\n",
       "...            ...                                                ...\n",
       "22139  GB191211210                                               [NA]\n",
       "22140  GB191213037  [HISCO333, HISCO999, HISCO999, HISCO33, HISCO333]\n",
       "22141  GB191213039  [HISCO333, HISCO999, HISCO999, HISCO33, HISCO333]\n",
       "22142  GB191217939  [HISCO333, HISCO999, HISCO999, HISCO33, HISCO333]\n",
       "22143  GB191220302                                [HISCO21, HISCO210]\n",
       "\n",
       "[22144 rows x 2 columns]"
      ]
     },
     "execution_count": 10,
     "metadata": {},
     "output_type": "execute_result"
    }
   ],
   "source": [
    "data"
   ]
  },
  {
   "cell_type": "code",
   "execution_count": 11,
   "id": "261a22e7-c558-42b1-ab69-c6ae97625167",
   "metadata": {},
   "outputs": [
    {
     "data": {
      "text/html": [
       "<div>\n",
       "<style scoped>\n",
       "    .dataframe tbody tr th:only-of-type {\n",
       "        vertical-align: middle;\n",
       "    }\n",
       "\n",
       "    .dataframe tbody tr th {\n",
       "        vertical-align: top;\n",
       "    }\n",
       "\n",
       "    .dataframe thead th {\n",
       "        text-align: right;\n",
       "    }\n",
       "</style>\n",
       "<table border=\"1\" class=\"dataframe\">\n",
       "  <thead>\n",
       "    <tr style=\"text-align: right;\">\n",
       "      <th></th>\n",
       "      <th>i</th>\n",
       "      <th>j</th>\n",
       "      <th>Value</th>\n",
       "      <th>patent_id_i</th>\n",
       "      <th>patent_id_j</th>\n",
       "    </tr>\n",
       "  </thead>\n",
       "  <tbody>\n",
       "    <tr>\n",
       "      <th>0</th>\n",
       "      <td>0</td>\n",
       "      <td>1</td>\n",
       "      <td>0.178727</td>\n",
       "      <td>GB187303416</td>\n",
       "      <td>GB187600824</td>\n",
       "    </tr>\n",
       "    <tr>\n",
       "      <th>1</th>\n",
       "      <td>0</td>\n",
       "      <td>2</td>\n",
       "      <td>0.398073</td>\n",
       "      <td>GB187303416</td>\n",
       "      <td>GB187601544</td>\n",
       "    </tr>\n",
       "    <tr>\n",
       "      <th>2</th>\n",
       "      <td>0</td>\n",
       "      <td>3</td>\n",
       "      <td>0.464152</td>\n",
       "      <td>GB187303416</td>\n",
       "      <td>GB188204200</td>\n",
       "    </tr>\n",
       "    <tr>\n",
       "      <th>3</th>\n",
       "      <td>0</td>\n",
       "      <td>4</td>\n",
       "      <td>0.103452</td>\n",
       "      <td>GB187303416</td>\n",
       "      <td>GB188803213</td>\n",
       "    </tr>\n",
       "    <tr>\n",
       "      <th>4</th>\n",
       "      <td>0</td>\n",
       "      <td>5</td>\n",
       "      <td>0.045775</td>\n",
       "      <td>GB187303416</td>\n",
       "      <td>GB188905132</td>\n",
       "    </tr>\n",
       "    <tr>\n",
       "      <th>...</th>\n",
       "      <td>...</td>\n",
       "      <td>...</td>\n",
       "      <td>...</td>\n",
       "      <td>...</td>\n",
       "      <td>...</td>\n",
       "    </tr>\n",
       "    <tr>\n",
       "      <th>244636135</th>\n",
       "      <td>22116</td>\n",
       "      <td>22118</td>\n",
       "      <td>0.389079</td>\n",
       "      <td>GB191213037</td>\n",
       "      <td>GB191217939</td>\n",
       "    </tr>\n",
       "    <tr>\n",
       "      <th>244636136</th>\n",
       "      <td>22116</td>\n",
       "      <td>22119</td>\n",
       "      <td>0.440638</td>\n",
       "      <td>GB191213037</td>\n",
       "      <td>GB191220302</td>\n",
       "    </tr>\n",
       "    <tr>\n",
       "      <th>244636137</th>\n",
       "      <td>22117</td>\n",
       "      <td>22118</td>\n",
       "      <td>0.452911</td>\n",
       "      <td>GB191213039</td>\n",
       "      <td>GB191217939</td>\n",
       "    </tr>\n",
       "    <tr>\n",
       "      <th>244636138</th>\n",
       "      <td>22117</td>\n",
       "      <td>22119</td>\n",
       "      <td>0.518816</td>\n",
       "      <td>GB191213039</td>\n",
       "      <td>GB191220302</td>\n",
       "    </tr>\n",
       "    <tr>\n",
       "      <th>244636139</th>\n",
       "      <td>22118</td>\n",
       "      <td>22119</td>\n",
       "      <td>0.400617</td>\n",
       "      <td>GB191217939</td>\n",
       "      <td>GB191220302</td>\n",
       "    </tr>\n",
       "  </tbody>\n",
       "</table>\n",
       "<p>244636140 rows × 5 columns</p>\n",
       "</div>"
      ],
      "text/plain": [
       "               i      j     Value  patent_id_i  patent_id_j\n",
       "0              0      1  0.178727  GB187303416  GB187600824\n",
       "1              0      2  0.398073  GB187303416  GB187601544\n",
       "2              0      3  0.464152  GB187303416  GB188204200\n",
       "3              0      4  0.103452  GB187303416  GB188803213\n",
       "4              0      5  0.045775  GB187303416  GB188905132\n",
       "...          ...    ...       ...          ...          ...\n",
       "244636135  22116  22118  0.389079  GB191213037  GB191217939\n",
       "244636136  22116  22119  0.440638  GB191213037  GB191220302\n",
       "244636137  22117  22118  0.452911  GB191213039  GB191217939\n",
       "244636138  22117  22119  0.518816  GB191213039  GB191220302\n",
       "244636139  22118  22119  0.400617  GB191217939  GB191220302\n",
       "\n",
       "[244636140 rows x 5 columns]"
      ]
     },
     "execution_count": 11,
     "metadata": {},
     "output_type": "execute_result"
    }
   ],
   "source": [
    "result_df"
   ]
  },
  {
   "cell_type": "code",
   "execution_count": 12,
   "id": "6c0ded43-3c68-4f59-a063-612a92be5fdf",
   "metadata": {},
   "outputs": [
    {
     "ename": "NameError",
     "evalue": "name 'result_df_bak' is not defined",
     "output_type": "error",
     "traceback": [
      "\u001b[0;31m---------------------------------------------------------------------------\u001b[0m",
      "\u001b[0;31mNameError\u001b[0m                                 Traceback (most recent call last)",
      "Cell \u001b[0;32mIn[12], line 3\u001b[0m\n\u001b[1;32m      1\u001b[0m \u001b[38;5;66;03m# result_df_bak = result_df\u001b[39;00m\n\u001b[1;32m      2\u001b[0m \u001b[38;5;66;03m# result_df = result_df_bak.head(10000000)\u001b[39;00m\n\u001b[0;32m----> 3\u001b[0m result_df \u001b[38;5;241m=\u001b[39m result_df_bak\n",
      "\u001b[0;31mNameError\u001b[0m: name 'result_df_bak' is not defined"
     ]
    }
   ],
   "source": [
    "# result_df_bak = result_df\n",
    "# result_df = result_df_bak.head(10000000)\n",
    "# result_df = result_df_bak"
   ]
  },
  {
   "cell_type": "code",
   "execution_count": null,
   "id": "8e38ec78-7193-4d34-9f9b-353e04b955bd",
   "metadata": {},
   "outputs": [
    {
     "name": "stdout",
     "output_type": "stream",
     "text": [
      "CPU times: user 2 µs, sys: 2 µs, total: 4 µs\n",
      "Wall time: 7.39 µs\n",
      "[1] RAM Usage: 9703.96 MB\n"
     ]
    }
   ],
   "source": [
    "%time\n",
    "import numpy as np\n",
    "import pandas as pd\n",
    "\n",
    "# Step 1: Prepare necessary numpy arrays\n",
    "value_array = result_df['Value'].values\n",
    "patent_id_i_array = result_df['patent_id_i'].values\n",
    "patent_id_j_array = result_df['patent_id_j'].values\n",
    "census_occupation_array = data_exploded['census_occupation'].values\n",
    "i_array = data_exploded['i'].values\n",
    "print_ram_usage(1)\n",
    "\n",
    "# Step 2: Merge result_df with data_exploded using numpy\n",
    "def merge_with_numpy(value_array, patent_id_array, i_array, census_occupation_array):\n",
    "    sort_idx = np.argsort(i_array)\n",
    "    sorted_i = i_array[sort_idx]\n",
    "    sorted_census_occupation = census_occupation_array[sort_idx]\n",
    "\n",
    "    merged_values = []\n",
    "    merged_census_occupations = []\n",
    "\n",
    "    for patent_id, value in zip(patent_id_array, value_array):\n",
    "        idx = np.searchsorted(sorted_i, patent_id)\n",
    "        if idx < len(sorted_i) and sorted_i[idx] == patent_id:\n",
    "            merged_values.append(value)\n",
    "            merged_census_occupations.append(sorted_census_occupation[idx])\n",
    "\n",
    "    return np.array(merged_values), np.array(merged_census_occupations)\n",
    "\n",
    "values_i, census_occupations_i = merge_with_numpy(value_array, patent_id_i_array, i_array, census_occupation_array)\n",
    "values_j, census_occupations_j = merge_with_numpy(value_array, patent_id_j_array, i_array, census_occupation_array)\n",
    "print_ram_usage(2)\n",
    "\n",
    "# Step 3: Combine results and drop NA\n",
    "combined_values = np.concatenate([values_i, values_j])\n",
    "combined_census_occupations = np.concatenate([census_occupations_i, census_occupations_j])\n",
    "\n",
    "valid_idx = ~pd.isnull(combined_census_occupations)\n",
    "combined_values = combined_values[valid_idx]\n",
    "combined_census_occupations = combined_census_occupations[valid_idx]\n",
    "print_ram_usage(3)\n",
    "\n",
    "# Step 4: Group by census_occupation and compute the means using numpy\n",
    "unique_occupations, inverse_idx = np.unique(combined_census_occupations, return_inverse=True)\n",
    "sum_values = np.zeros(len(unique_occupations))\n",
    "count_values = np.zeros(len(unique_occupations))\n",
    "np.add.at(sum_values, inverse_idx, combined_values)\n",
    "np.add.at(count_values, inverse_idx, 1)\n",
    "mean_values = sum_values / count_values\n",
    "\n",
    "aggregated_df = pd.DataFrame({'census_occupation': unique_occupations, 'Value': mean_values})\n",
    "print_ram_usage(4)\n",
    "\n",
    "# Step 5: Prepare pairwise combinations\n",
    "occupations = data_exploded['census_occupation'].dropna().unique()\n",
    "pairwise_combinations = pd.MultiIndex.from_product([occupations, occupations], names=['occupation_1', 'occupation_2']).to_frame(index=False)\n",
    "pairwise_combinations = pairwise_combinations[pairwise_combinations.occupation_1 != pairwise_combinations.occupation_2]\n",
    "print_ram_usage(5)\n",
    "\n",
    "# Step 6: Merge pairwise_combinations with aggregated_df\n",
    "aggregated_pairs = pd.merge(pairwise_combinations, aggregated_df, left_on='occupation_1', right_on='census_occupation', how='left').fillna(0)\n",
    "aggregated_pairs = pd.merge(aggregated_pairs, aggregated_df, left_on='occupation_2', right_on='census_occupation', how='left').fillna(0)\n",
    "print_ram_usage(6)\n",
    "\n",
    "# Step 7: Calculate the combined value for each pair\n",
    "aggregated_pairs['Combined_Value'] = (aggregated_pairs['Value_x'] + aggregated_pairs['Value_y']) / 2\n",
    "print_ram_usage(7)\n",
    "\n",
    "# Step 8: Drop intermediate columns\n",
    "aggregated_pairs = aggregated_pairs[['occupation_1', 'occupation_2', 'Combined_Value']]\n",
    "print_ram_usage(8)\n",
    "aggregated_pairs"
   ]
  },
  {
   "cell_type": "code",
   "execution_count": null,
   "id": "f66b086c-dbbb-40bf-9f8f-b52347549c47",
   "metadata": {},
   "outputs": [],
   "source": [
    "combined_values, len(combined_values)"
   ]
  },
  {
   "cell_type": "code",
   "execution_count": null,
   "id": "78de7e9c-8b11-4aeb-9316-33becc7b7844",
   "metadata": {},
   "outputs": [],
   "source": [
    "combined_census_occupations, len(combined_census_occupations)"
   ]
  },
  {
   "cell_type": "code",
   "execution_count": null,
   "id": "a8d14e48-42bb-4881-ac1f-ec2ef6f777f9",
   "metadata": {},
   "outputs": [],
   "source": [
    "aggregated_pairs.Combined_Value.value_counts()"
   ]
  },
  {
   "cell_type": "code",
   "execution_count": null,
   "id": "23196cff-ea46-41ce-a314-ad150a30c591",
   "metadata": {},
   "outputs": [],
   "source": [
    "aggregated_pairs[aggregated_pairs.occupation_1 == aggregated_pairs.occupation_2]"
   ]
  },
  {
   "cell_type": "code",
   "execution_count": null,
   "id": "a74a9898-8175-4c12-8955-5c87f315c339",
   "metadata": {},
   "outputs": [],
   "source": [
    "aggregated_pairs.to_feather('../final_data/agg_occ.feather')"
   ]
  },
  {
   "cell_type": "code",
   "execution_count": null,
   "id": "ed6e8c36-088d-48e8-ac2b-b839e8dcf3fe",
   "metadata": {},
   "outputs": [],
   "source": [
    "merged_df_j"
   ]
  },
  {
   "cell_type": "code",
   "execution_count": null,
   "id": "eebd571c-31ab-4a3d-a979-ccb23939852e",
   "metadata": {},
   "outputs": [],
   "source": [
    "aggregated_pairs"
   ]
  },
  {
   "cell_type": "code",
   "execution_count": null,
   "id": "23f53513-f816-47d3-9c57-9332f730aff4",
   "metadata": {},
   "outputs": [],
   "source": [
    "result_df_ij.len_patent_id_j_occ = result_df_ij.patent_id_j_occ.apply(len)\n",
    "result_df_ij.len_patent_id_i_occ = result_df_ij.patent_id_i_occ.apply(len)\n",
    "result_df_ij.len_patent_id_j_occ.value_counts(), result_df_ij.len_patent_id_i_occ.value_counts(), result_df_ij.patent_id_i.value_counts(), result_df_ij.patent_id_j.value_counts(), "
   ]
  },
  {
   "cell_type": "code",
   "execution_count": null,
   "id": "bc62f371-54b0-4826-823a-22ab3b205ccb",
   "metadata": {},
   "outputs": [],
   "source": [
    "aggregated_pairs"
   ]
  },
  {
   "cell_type": "code",
   "execution_count": null,
   "id": "abb73c60-5bf6-4ce3-9ad7-b99afabc8eb8",
   "metadata": {},
   "outputs": [],
   "source": [
    "result_df['patent_id_j_occ'] = pd.merge()\n",
    "\n",
    "# merge\n",
    "\n",
    "# find outer union of occs of id_i and id_j\n",
    "\n",
    "# agg by occupations, and get (245 * 245 = ) 60,025 entries\n"
   ]
  },
  {
   "cell_type": "code",
   "execution_count": null,
   "id": "c6e42223-6c9e-4861-ab28-e81985a1bf04",
   "metadata": {},
   "outputs": [],
   "source": [
    "result_df = pd.merge(result_df, data_exploded, )"
   ]
  },
  {
   "cell_type": "code",
   "execution_count": null,
   "id": "cb6c908d-4302-4b4e-8176-1fe779ee1dff",
   "metadata": {},
   "outputs": [],
   "source": [
    "# result_df.to_feather('../final_data/result_22120.feather')"
   ]
  },
  {
   "cell_type": "code",
   "execution_count": null,
   "id": "159366c2-47e2-418f-8479-9eb2c74508c7",
   "metadata": {},
   "outputs": [],
   "source": [
    "# TODO: aggregation on industry, occupation.y -> \"census_occupation\"\n",
    "# Step 2:\n",
    "# US census, patent data"
   ]
  },
  {
   "cell_type": "code",
   "execution_count": null,
   "id": "987e558f-3a76-44f0-bc24-8103f8600246",
   "metadata": {},
   "outputs": [],
   "source": []
  },
  {
   "cell_type": "code",
   "execution_count": null,
   "id": "5240fa00-361f-49b4-ae70-3991dc6ebf9c",
   "metadata": {},
   "outputs": [],
   "source": [
    "import pandas as pd\n",
    "result_df = pd.read_feather('../final_data/result_22120.feather')"
   ]
  },
  {
   "cell_type": "code",
   "execution_count": null,
   "id": "b3692eda-97d6-4e6f-8a05-95a42d9ad243",
   "metadata": {},
   "outputs": [],
   "source": [
    "result_df"
   ]
  },
  {
   "cell_type": "code",
   "execution_count": null,
   "id": "a1403d22-c991-4ee7-b94b-933efea89677",
   "metadata": {},
   "outputs": [],
   "source": []
  }
 ],
 "metadata": {
  "kernelspec": {
   "display_name": "Python 3 (ipykernel)",
   "language": "python",
   "name": "python3"
  },
  "language_info": {
   "codemirror_mode": {
    "name": "ipython",
    "version": 3
   },
   "file_extension": ".py",
   "mimetype": "text/x-python",
   "name": "python",
   "nbconvert_exporter": "python",
   "pygments_lexer": "ipython3",
   "version": "3.11.4"
  }
 },
 "nbformat": 4,
 "nbformat_minor": 5
}
